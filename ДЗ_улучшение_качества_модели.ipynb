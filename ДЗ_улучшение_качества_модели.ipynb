{
  "cells": [
    {
      "cell_type": "markdown",
      "metadata": {
        "id": "Co3gOtHCqEb1"
      },
      "source": [
        "В домашнем задании нужно решить задачу классификации наличия болезни сердца у пациентов наиболее эффективно. Данные для обучения моделей необходимо загрузить самостоятельно с сайта. Целевая переменная – наличие болезни сердца (HeartDisease). Она принимает значения 0 или 1 в зависимости от отсутствия или наличия болезни соответственно. Подробное описание признаков можно прочесть в описании датасета на сайте. Для выполнения работы не обязательно вникать в медицинские показатели."
      ]
    },
    {
      "cell_type": "code",
      "execution_count": null,
      "metadata": {
        "id": "Rn__q8cGBTGW"
      },
      "outputs": [],
      "source": [
        "import pandas as pd\n",
        "import numpy as np"
      ]
    },
    {
      "cell_type": "code",
      "execution_count": null,
      "metadata": {
        "id": "CBHAvaWIFspS"
      },
      "outputs": [],
      "source": [
        "from sklearn.model_selection import train_test_split"
      ]
    },
    {
      "cell_type": "markdown",
      "metadata": {
        "id": "wfGljCV3qOfj"
      },
      "source": [
        "# 1.Получите данные и загрузите их в рабочую среду. (Jupyter Notebook или другую)"
      ]
    },
    {
      "cell_type": "code",
      "execution_count": null,
      "metadata": {
        "id": "MkYXcbMaz0m5"
      },
      "outputs": [],
      "source": [
        "data = pd.read_csv('heart.csv')"
      ]
    },
    {
      "cell_type": "code",
      "execution_count": null,
      "metadata": {
        "colab": {
          "base_uri": "https://localhost:8080/",
          "height": 81
        },
        "id": "5dfSehsC1Mtb",
        "outputId": "0007dd41-2667-4db7-cf41-d570290d51cf"
      },
      "outputs": [
        {
          "output_type": "execute_result",
          "data": {
            "text/plain": [
              "   Age Sex ChestPainType  RestingBP  Cholesterol  FastingBS RestingECG  MaxHR  \\\n",
              "0   40   M           ATA        140          289          0     Normal    172   \n",
              "\n",
              "  ExerciseAngina  Oldpeak ST_Slope  HeartDisease  \n",
              "0              N      0.0       Up             0  "
            ],
            "text/html": [
              "\n",
              "  <div id=\"df-ae01fe63-5b94-4e78-9950-6e46d397046c\">\n",
              "    <div class=\"colab-df-container\">\n",
              "      <div>\n",
              "<style scoped>\n",
              "    .dataframe tbody tr th:only-of-type {\n",
              "        vertical-align: middle;\n",
              "    }\n",
              "\n",
              "    .dataframe tbody tr th {\n",
              "        vertical-align: top;\n",
              "    }\n",
              "\n",
              "    .dataframe thead th {\n",
              "        text-align: right;\n",
              "    }\n",
              "</style>\n",
              "<table border=\"1\" class=\"dataframe\">\n",
              "  <thead>\n",
              "    <tr style=\"text-align: right;\">\n",
              "      <th></th>\n",
              "      <th>Age</th>\n",
              "      <th>Sex</th>\n",
              "      <th>ChestPainType</th>\n",
              "      <th>RestingBP</th>\n",
              "      <th>Cholesterol</th>\n",
              "      <th>FastingBS</th>\n",
              "      <th>RestingECG</th>\n",
              "      <th>MaxHR</th>\n",
              "      <th>ExerciseAngina</th>\n",
              "      <th>Oldpeak</th>\n",
              "      <th>ST_Slope</th>\n",
              "      <th>HeartDisease</th>\n",
              "    </tr>\n",
              "  </thead>\n",
              "  <tbody>\n",
              "    <tr>\n",
              "      <th>0</th>\n",
              "      <td>40</td>\n",
              "      <td>M</td>\n",
              "      <td>ATA</td>\n",
              "      <td>140</td>\n",
              "      <td>289</td>\n",
              "      <td>0</td>\n",
              "      <td>Normal</td>\n",
              "      <td>172</td>\n",
              "      <td>N</td>\n",
              "      <td>0.0</td>\n",
              "      <td>Up</td>\n",
              "      <td>0</td>\n",
              "    </tr>\n",
              "  </tbody>\n",
              "</table>\n",
              "</div>\n",
              "      <button class=\"colab-df-convert\" onclick=\"convertToInteractive('df-ae01fe63-5b94-4e78-9950-6e46d397046c')\"\n",
              "              title=\"Convert this dataframe to an interactive table.\"\n",
              "              style=\"display:none;\">\n",
              "        \n",
              "  <svg xmlns=\"http://www.w3.org/2000/svg\" height=\"24px\"viewBox=\"0 0 24 24\"\n",
              "       width=\"24px\">\n",
              "    <path d=\"M0 0h24v24H0V0z\" fill=\"none\"/>\n",
              "    <path d=\"M18.56 5.44l.94 2.06.94-2.06 2.06-.94-2.06-.94-.94-2.06-.94 2.06-2.06.94zm-11 1L8.5 8.5l.94-2.06 2.06-.94-2.06-.94L8.5 2.5l-.94 2.06-2.06.94zm10 10l.94 2.06.94-2.06 2.06-.94-2.06-.94-.94-2.06-.94 2.06-2.06.94z\"/><path d=\"M17.41 7.96l-1.37-1.37c-.4-.4-.92-.59-1.43-.59-.52 0-1.04.2-1.43.59L10.3 9.45l-7.72 7.72c-.78.78-.78 2.05 0 2.83L4 21.41c.39.39.9.59 1.41.59.51 0 1.02-.2 1.41-.59l7.78-7.78 2.81-2.81c.8-.78.8-2.07 0-2.86zM5.41 20L4 18.59l7.72-7.72 1.47 1.35L5.41 20z\"/>\n",
              "  </svg>\n",
              "      </button>\n",
              "      \n",
              "  <style>\n",
              "    .colab-df-container {\n",
              "      display:flex;\n",
              "      flex-wrap:wrap;\n",
              "      gap: 12px;\n",
              "    }\n",
              "\n",
              "    .colab-df-convert {\n",
              "      background-color: #E8F0FE;\n",
              "      border: none;\n",
              "      border-radius: 50%;\n",
              "      cursor: pointer;\n",
              "      display: none;\n",
              "      fill: #1967D2;\n",
              "      height: 32px;\n",
              "      padding: 0 0 0 0;\n",
              "      width: 32px;\n",
              "    }\n",
              "\n",
              "    .colab-df-convert:hover {\n",
              "      background-color: #E2EBFA;\n",
              "      box-shadow: 0px 1px 2px rgba(60, 64, 67, 0.3), 0px 1px 3px 1px rgba(60, 64, 67, 0.15);\n",
              "      fill: #174EA6;\n",
              "    }\n",
              "\n",
              "    [theme=dark] .colab-df-convert {\n",
              "      background-color: #3B4455;\n",
              "      fill: #D2E3FC;\n",
              "    }\n",
              "\n",
              "    [theme=dark] .colab-df-convert:hover {\n",
              "      background-color: #434B5C;\n",
              "      box-shadow: 0px 1px 3px 1px rgba(0, 0, 0, 0.15);\n",
              "      filter: drop-shadow(0px 1px 2px rgba(0, 0, 0, 0.3));\n",
              "      fill: #FFFFFF;\n",
              "    }\n",
              "  </style>\n",
              "\n",
              "      <script>\n",
              "        const buttonEl =\n",
              "          document.querySelector('#df-ae01fe63-5b94-4e78-9950-6e46d397046c button.colab-df-convert');\n",
              "        buttonEl.style.display =\n",
              "          google.colab.kernel.accessAllowed ? 'block' : 'none';\n",
              "\n",
              "        async function convertToInteractive(key) {\n",
              "          const element = document.querySelector('#df-ae01fe63-5b94-4e78-9950-6e46d397046c');\n",
              "          const dataTable =\n",
              "            await google.colab.kernel.invokeFunction('convertToInteractive',\n",
              "                                                     [key], {});\n",
              "          if (!dataTable) return;\n",
              "\n",
              "          const docLinkHtml = 'Like what you see? Visit the ' +\n",
              "            '<a target=\"_blank\" href=https://colab.research.google.com/notebooks/data_table.ipynb>data table notebook</a>'\n",
              "            + ' to learn more about interactive tables.';\n",
              "          element.innerHTML = '';\n",
              "          dataTable['output_type'] = 'display_data';\n",
              "          await google.colab.output.renderOutput(dataTable, element);\n",
              "          const docLink = document.createElement('div');\n",
              "          docLink.innerHTML = docLinkHtml;\n",
              "          element.appendChild(docLink);\n",
              "        }\n",
              "      </script>\n",
              "    </div>\n",
              "  </div>\n",
              "  "
            ]
          },
          "metadata": {},
          "execution_count": 198
        }
      ],
      "source": [
        "data.head(1)"
      ]
    },
    {
      "cell_type": "markdown",
      "metadata": {
        "id": "xapYrnT2qRZg"
      },
      "source": [
        "# 2.Подготовьте датасет к обучению моделей: a) Категориальные переменные переведите в цифровые значения. Можно использовать pd.get_dummies, preprocessing.LabelEncoder. Старайтесь не использовать для этой задачи циклы."
      ]
    },
    {
      "cell_type": "code",
      "execution_count": null,
      "metadata": {
        "colab": {
          "base_uri": "https://localhost:8080/"
        },
        "id": "EfJ3gX8tmTCa",
        "outputId": "c9144d12-4673-423b-faa8-ebdb5848e674"
      },
      "outputs": [
        {
          "output_type": "stream",
          "name": "stdout",
          "text": [
            "<class 'pandas.core.frame.DataFrame'>\n",
            "RangeIndex: 918 entries, 0 to 917\n",
            "Data columns (total 12 columns):\n",
            " #   Column          Non-Null Count  Dtype  \n",
            "---  ------          --------------  -----  \n",
            " 0   Age             918 non-null    int64  \n",
            " 1   Sex             918 non-null    object \n",
            " 2   ChestPainType   918 non-null    object \n",
            " 3   RestingBP       918 non-null    int64  \n",
            " 4   Cholesterol     918 non-null    int64  \n",
            " 5   FastingBS       918 non-null    int64  \n",
            " 6   RestingECG      918 non-null    object \n",
            " 7   MaxHR           918 non-null    int64  \n",
            " 8   ExerciseAngina  918 non-null    object \n",
            " 9   Oldpeak         918 non-null    float64\n",
            " 10  ST_Slope        918 non-null    object \n",
            " 11  HeartDisease    918 non-null    int64  \n",
            "dtypes: float64(1), int64(6), object(5)\n",
            "memory usage: 86.2+ KB\n"
          ]
        }
      ],
      "source": [
        "data.info()"
      ]
    },
    {
      "cell_type": "code",
      "execution_count": null,
      "metadata": {
        "colab": {
          "base_uri": "https://localhost:8080/"
        },
        "id": "JtrfDy-DpqWo",
        "outputId": "b71df82c-79ea-4999-b93b-7382f655e809"
      },
      "outputs": [
        {
          "output_type": "execute_result",
          "data": {
            "text/plain": [
              "(2, array([0, 1]))"
            ]
          },
          "metadata": {},
          "execution_count": 200
        }
      ],
      "source": [
        "data['FastingBS'].nunique(), data['FastingBS'].unique()"
      ]
    },
    {
      "cell_type": "code",
      "execution_count": null,
      "metadata": {
        "colab": {
          "base_uri": "https://localhost:8080/"
        },
        "id": "KbjYshGaguCW",
        "outputId": "51ecc3d4-f5ec-4c82-b79f-1dcd1f22040c"
      },
      "outputs": [
        {
          "output_type": "execute_result",
          "data": {
            "text/plain": [
              "(2, array([0, 1]))"
            ]
          },
          "metadata": {},
          "execution_count": 201
        }
      ],
      "source": [
        "data['HeartDisease'].nunique(), data['HeartDisease'].unique()"
      ]
    },
    {
      "cell_type": "code",
      "execution_count": null,
      "metadata": {
        "colab": {
          "base_uri": "https://localhost:8080/"
        },
        "id": "8Vw1XfjFms8p",
        "outputId": "c817e370-8220-437e-b0d0-871518c35a13"
      },
      "outputs": [
        {
          "output_type": "execute_result",
          "data": {
            "text/plain": [
              "['Sex', 'ChestPainType', 'RestingECG', 'ExerciseAngina', 'ST_Slope']"
            ]
          },
          "metadata": {},
          "execution_count": 202
        }
      ],
      "source": [
        "categorials = list(data.dtypes[data.dtypes == object].index)\n",
        "categorials"
      ]
    },
    {
      "cell_type": "code",
      "execution_count": null,
      "metadata": {
        "colab": {
          "base_uri": "https://localhost:8080/"
        },
        "id": "WTVIFEgUmzGP",
        "outputId": "7609bfc9-f79a-4349-debf-4d098237f820"
      },
      "outputs": [
        {
          "output_type": "execute_result",
          "data": {
            "text/plain": [
              "Sex               2\n",
              "ChestPainType     4\n",
              "RestingECG        3\n",
              "ExerciseAngina    2\n",
              "ST_Slope          3\n",
              "dtype: int64"
            ]
          },
          "metadata": {},
          "execution_count": 203
        }
      ],
      "source": [
        "categorials_nunique = data[categorials].nunique()\n",
        "categorials_nunique"
      ]
    },
    {
      "cell_type": "code",
      "execution_count": null,
      "metadata": {
        "id": "ZwmOH_E6nmM2"
      },
      "outputs": [],
      "source": [
        "dummy_data = pd.get_dummies(data[categorials], columns=categorials)"
      ]
    },
    {
      "cell_type": "code",
      "execution_count": null,
      "metadata": {
        "colab": {
          "base_uri": "https://localhost:8080/"
        },
        "id": "zQRjITIpn-jS",
        "outputId": "cab1cda2-ef8b-48b7-b79f-6fec033b2b32"
      },
      "outputs": [
        {
          "output_type": "execute_result",
          "data": {
            "text/plain": [
              "(918, 14)"
            ]
          },
          "metadata": {},
          "execution_count": 205
        }
      ],
      "source": [
        "dummy_data.shape"
      ]
    },
    {
      "cell_type": "code",
      "execution_count": null,
      "metadata": {
        "colab": {
          "base_uri": "https://localhost:8080/"
        },
        "id": "zD_c9talkuzc",
        "outputId": "4cca3b91-6e8f-417f-b0a3-a95dc788c3a5"
      },
      "outputs": [
        {
          "output_type": "stream",
          "name": "stdout",
          "text": [
            "<class 'pandas.core.frame.DataFrame'>\n",
            "RangeIndex: 918 entries, 0 to 917\n",
            "Data columns (total 14 columns):\n",
            " #   Column             Non-Null Count  Dtype\n",
            "---  ------             --------------  -----\n",
            " 0   Sex_F              918 non-null    uint8\n",
            " 1   Sex_M              918 non-null    uint8\n",
            " 2   ChestPainType_ASY  918 non-null    uint8\n",
            " 3   ChestPainType_ATA  918 non-null    uint8\n",
            " 4   ChestPainType_NAP  918 non-null    uint8\n",
            " 5   ChestPainType_TA   918 non-null    uint8\n",
            " 6   RestingECG_LVH     918 non-null    uint8\n",
            " 7   RestingECG_Normal  918 non-null    uint8\n",
            " 8   RestingECG_ST      918 non-null    uint8\n",
            " 9   ExerciseAngina_N   918 non-null    uint8\n",
            " 10  ExerciseAngina_Y   918 non-null    uint8\n",
            " 11  ST_Slope_Down      918 non-null    uint8\n",
            " 12  ST_Slope_Flat      918 non-null    uint8\n",
            " 13  ST_Slope_Up        918 non-null    uint8\n",
            "dtypes: uint8(14)\n",
            "memory usage: 12.7 KB\n"
          ]
        }
      ],
      "source": [
        "dummy_data.info()"
      ]
    },
    {
      "cell_type": "code",
      "execution_count": null,
      "metadata": {
        "colab": {
          "base_uri": "https://localhost:8080/"
        },
        "id": "qPQNDdchkXsl",
        "outputId": "6e50a2c2-7f18-4d88-b515-176ef96fce0c"
      },
      "outputs": [
        {
          "output_type": "execute_result",
          "data": {
            "text/plain": [
              "   Sex_F  Sex_M  ExerciseAngina_N  ExerciseAngina_Y\n",
              "0      0      1                 1                 0"
            ],
            "text/html": [
              "\n",
              "  <div id=\"df-5fd3ca5e-93a9-4dc6-a074-3708b99134cb\">\n",
              "    <div class=\"colab-df-container\">\n",
              "      <div>\n",
              "<style scoped>\n",
              "    .dataframe tbody tr th:only-of-type {\n",
              "        vertical-align: middle;\n",
              "    }\n",
              "\n",
              "    .dataframe tbody tr th {\n",
              "        vertical-align: top;\n",
              "    }\n",
              "\n",
              "    .dataframe thead th {\n",
              "        text-align: right;\n",
              "    }\n",
              "</style>\n",
              "<table border=\"1\" class=\"dataframe\">\n",
              "  <thead>\n",
              "    <tr style=\"text-align: right;\">\n",
              "      <th></th>\n",
              "      <th>Sex_F</th>\n",
              "      <th>Sex_M</th>\n",
              "      <th>ExerciseAngina_N</th>\n",
              "      <th>ExerciseAngina_Y</th>\n",
              "    </tr>\n",
              "  </thead>\n",
              "  <tbody>\n",
              "    <tr>\n",
              "      <th>0</th>\n",
              "      <td>0</td>\n",
              "      <td>1</td>\n",
              "      <td>1</td>\n",
              "      <td>0</td>\n",
              "    </tr>\n",
              "  </tbody>\n",
              "</table>\n",
              "</div>\n",
              "      <button class=\"colab-df-convert\" onclick=\"convertToInteractive('df-5fd3ca5e-93a9-4dc6-a074-3708b99134cb')\"\n",
              "              title=\"Convert this dataframe to an interactive table.\"\n",
              "              style=\"display:none;\">\n",
              "        \n",
              "  <svg xmlns=\"http://www.w3.org/2000/svg\" height=\"24px\"viewBox=\"0 0 24 24\"\n",
              "       width=\"24px\">\n",
              "    <path d=\"M0 0h24v24H0V0z\" fill=\"none\"/>\n",
              "    <path d=\"M18.56 5.44l.94 2.06.94-2.06 2.06-.94-2.06-.94-.94-2.06-.94 2.06-2.06.94zm-11 1L8.5 8.5l.94-2.06 2.06-.94-2.06-.94L8.5 2.5l-.94 2.06-2.06.94zm10 10l.94 2.06.94-2.06 2.06-.94-2.06-.94-.94-2.06-.94 2.06-2.06.94z\"/><path d=\"M17.41 7.96l-1.37-1.37c-.4-.4-.92-.59-1.43-.59-.52 0-1.04.2-1.43.59L10.3 9.45l-7.72 7.72c-.78.78-.78 2.05 0 2.83L4 21.41c.39.39.9.59 1.41.59.51 0 1.02-.2 1.41-.59l7.78-7.78 2.81-2.81c.8-.78.8-2.07 0-2.86zM5.41 20L4 18.59l7.72-7.72 1.47 1.35L5.41 20z\"/>\n",
              "  </svg>\n",
              "      </button>\n",
              "      \n",
              "  <style>\n",
              "    .colab-df-container {\n",
              "      display:flex;\n",
              "      flex-wrap:wrap;\n",
              "      gap: 12px;\n",
              "    }\n",
              "\n",
              "    .colab-df-convert {\n",
              "      background-color: #E8F0FE;\n",
              "      border: none;\n",
              "      border-radius: 50%;\n",
              "      cursor: pointer;\n",
              "      display: none;\n",
              "      fill: #1967D2;\n",
              "      height: 32px;\n",
              "      padding: 0 0 0 0;\n",
              "      width: 32px;\n",
              "    }\n",
              "\n",
              "    .colab-df-convert:hover {\n",
              "      background-color: #E2EBFA;\n",
              "      box-shadow: 0px 1px 2px rgba(60, 64, 67, 0.3), 0px 1px 3px 1px rgba(60, 64, 67, 0.15);\n",
              "      fill: #174EA6;\n",
              "    }\n",
              "\n",
              "    [theme=dark] .colab-df-convert {\n",
              "      background-color: #3B4455;\n",
              "      fill: #D2E3FC;\n",
              "    }\n",
              "\n",
              "    [theme=dark] .colab-df-convert:hover {\n",
              "      background-color: #434B5C;\n",
              "      box-shadow: 0px 1px 3px 1px rgba(0, 0, 0, 0.15);\n",
              "      filter: drop-shadow(0px 1px 2px rgba(0, 0, 0, 0.3));\n",
              "      fill: #FFFFFF;\n",
              "    }\n",
              "  </style>\n",
              "\n",
              "      <script>\n",
              "        const buttonEl =\n",
              "          document.querySelector('#df-5fd3ca5e-93a9-4dc6-a074-3708b99134cb button.colab-df-convert');\n",
              "        buttonEl.style.display =\n",
              "          google.colab.kernel.accessAllowed ? 'block' : 'none';\n",
              "\n",
              "        async function convertToInteractive(key) {\n",
              "          const element = document.querySelector('#df-5fd3ca5e-93a9-4dc6-a074-3708b99134cb');\n",
              "          const dataTable =\n",
              "            await google.colab.kernel.invokeFunction('convertToInteractive',\n",
              "                                                     [key], {});\n",
              "          if (!dataTable) return;\n",
              "\n",
              "          const docLinkHtml = 'Like what you see? Visit the ' +\n",
              "            '<a target=\"_blank\" href=https://colab.research.google.com/notebooks/data_table.ipynb>data table notebook</a>'\n",
              "            + ' to learn more about interactive tables.';\n",
              "          element.innerHTML = '';\n",
              "          dataTable['output_type'] = 'display_data';\n",
              "          await google.colab.output.renderOutput(dataTable, element);\n",
              "          const docLink = document.createElement('div');\n",
              "          docLink.innerHTML = docLinkHtml;\n",
              "          element.appendChild(docLink);\n",
              "        }\n",
              "      </script>\n",
              "    </div>\n",
              "  </div>\n",
              "  "
            ]
          },
          "metadata": {},
          "execution_count": 207
        }
      ],
      "source": [
        "dummy_data[['Sex_F','Sex_M', 'ExerciseAngina_N', 'ExerciseAngina_Y']].head(1)"
      ]
    },
    {
      "cell_type": "code",
      "execution_count": null,
      "metadata": {
        "id": "MI-cHNfYmNh2"
      },
      "outputs": [],
      "source": [
        "dummy_data=dummy_data.drop(['Sex_F', 'ExerciseAngina_N'], axis=1)"
      ]
    },
    {
      "cell_type": "code",
      "execution_count": null,
      "metadata": {
        "colab": {
          "base_uri": "https://localhost:8080/"
        },
        "id": "7UaWT1wokNo5",
        "outputId": "733d0d32-c60e-4998-c45d-6f33653cfe6f"
      },
      "outputs": [
        {
          "output_type": "execute_result",
          "data": {
            "text/plain": [
              "   Sex_M  ChestPainType_ASY  ChestPainType_ATA  ChestPainType_NAP  \\\n",
              "0      1                  0                  1                  0   \n",
              "\n",
              "   ChestPainType_TA  RestingECG_LVH  RestingECG_Normal  RestingECG_ST  \\\n",
              "0                 0               0                  1              0   \n",
              "\n",
              "   ExerciseAngina_Y  ST_Slope_Down  ST_Slope_Flat  ST_Slope_Up  \n",
              "0                 0              0              0            1  "
            ],
            "text/html": [
              "\n",
              "  <div id=\"df-0f34496d-e01c-47ae-8cdb-5f0953997466\">\n",
              "    <div class=\"colab-df-container\">\n",
              "      <div>\n",
              "<style scoped>\n",
              "    .dataframe tbody tr th:only-of-type {\n",
              "        vertical-align: middle;\n",
              "    }\n",
              "\n",
              "    .dataframe tbody tr th {\n",
              "        vertical-align: top;\n",
              "    }\n",
              "\n",
              "    .dataframe thead th {\n",
              "        text-align: right;\n",
              "    }\n",
              "</style>\n",
              "<table border=\"1\" class=\"dataframe\">\n",
              "  <thead>\n",
              "    <tr style=\"text-align: right;\">\n",
              "      <th></th>\n",
              "      <th>Sex_M</th>\n",
              "      <th>ChestPainType_ASY</th>\n",
              "      <th>ChestPainType_ATA</th>\n",
              "      <th>ChestPainType_NAP</th>\n",
              "      <th>ChestPainType_TA</th>\n",
              "      <th>RestingECG_LVH</th>\n",
              "      <th>RestingECG_Normal</th>\n",
              "      <th>RestingECG_ST</th>\n",
              "      <th>ExerciseAngina_Y</th>\n",
              "      <th>ST_Slope_Down</th>\n",
              "      <th>ST_Slope_Flat</th>\n",
              "      <th>ST_Slope_Up</th>\n",
              "    </tr>\n",
              "  </thead>\n",
              "  <tbody>\n",
              "    <tr>\n",
              "      <th>0</th>\n",
              "      <td>1</td>\n",
              "      <td>0</td>\n",
              "      <td>1</td>\n",
              "      <td>0</td>\n",
              "      <td>0</td>\n",
              "      <td>0</td>\n",
              "      <td>1</td>\n",
              "      <td>0</td>\n",
              "      <td>0</td>\n",
              "      <td>0</td>\n",
              "      <td>0</td>\n",
              "      <td>1</td>\n",
              "    </tr>\n",
              "  </tbody>\n",
              "</table>\n",
              "</div>\n",
              "      <button class=\"colab-df-convert\" onclick=\"convertToInteractive('df-0f34496d-e01c-47ae-8cdb-5f0953997466')\"\n",
              "              title=\"Convert this dataframe to an interactive table.\"\n",
              "              style=\"display:none;\">\n",
              "        \n",
              "  <svg xmlns=\"http://www.w3.org/2000/svg\" height=\"24px\"viewBox=\"0 0 24 24\"\n",
              "       width=\"24px\">\n",
              "    <path d=\"M0 0h24v24H0V0z\" fill=\"none\"/>\n",
              "    <path d=\"M18.56 5.44l.94 2.06.94-2.06 2.06-.94-2.06-.94-.94-2.06-.94 2.06-2.06.94zm-11 1L8.5 8.5l.94-2.06 2.06-.94-2.06-.94L8.5 2.5l-.94 2.06-2.06.94zm10 10l.94 2.06.94-2.06 2.06-.94-2.06-.94-.94-2.06-.94 2.06-2.06.94z\"/><path d=\"M17.41 7.96l-1.37-1.37c-.4-.4-.92-.59-1.43-.59-.52 0-1.04.2-1.43.59L10.3 9.45l-7.72 7.72c-.78.78-.78 2.05 0 2.83L4 21.41c.39.39.9.59 1.41.59.51 0 1.02-.2 1.41-.59l7.78-7.78 2.81-2.81c.8-.78.8-2.07 0-2.86zM5.41 20L4 18.59l7.72-7.72 1.47 1.35L5.41 20z\"/>\n",
              "  </svg>\n",
              "      </button>\n",
              "      \n",
              "  <style>\n",
              "    .colab-df-container {\n",
              "      display:flex;\n",
              "      flex-wrap:wrap;\n",
              "      gap: 12px;\n",
              "    }\n",
              "\n",
              "    .colab-df-convert {\n",
              "      background-color: #E8F0FE;\n",
              "      border: none;\n",
              "      border-radius: 50%;\n",
              "      cursor: pointer;\n",
              "      display: none;\n",
              "      fill: #1967D2;\n",
              "      height: 32px;\n",
              "      padding: 0 0 0 0;\n",
              "      width: 32px;\n",
              "    }\n",
              "\n",
              "    .colab-df-convert:hover {\n",
              "      background-color: #E2EBFA;\n",
              "      box-shadow: 0px 1px 2px rgba(60, 64, 67, 0.3), 0px 1px 3px 1px rgba(60, 64, 67, 0.15);\n",
              "      fill: #174EA6;\n",
              "    }\n",
              "\n",
              "    [theme=dark] .colab-df-convert {\n",
              "      background-color: #3B4455;\n",
              "      fill: #D2E3FC;\n",
              "    }\n",
              "\n",
              "    [theme=dark] .colab-df-convert:hover {\n",
              "      background-color: #434B5C;\n",
              "      box-shadow: 0px 1px 3px 1px rgba(0, 0, 0, 0.15);\n",
              "      filter: drop-shadow(0px 1px 2px rgba(0, 0, 0, 0.3));\n",
              "      fill: #FFFFFF;\n",
              "    }\n",
              "  </style>\n",
              "\n",
              "      <script>\n",
              "        const buttonEl =\n",
              "          document.querySelector('#df-0f34496d-e01c-47ae-8cdb-5f0953997466 button.colab-df-convert');\n",
              "        buttonEl.style.display =\n",
              "          google.colab.kernel.accessAllowed ? 'block' : 'none';\n",
              "\n",
              "        async function convertToInteractive(key) {\n",
              "          const element = document.querySelector('#df-0f34496d-e01c-47ae-8cdb-5f0953997466');\n",
              "          const dataTable =\n",
              "            await google.colab.kernel.invokeFunction('convertToInteractive',\n",
              "                                                     [key], {});\n",
              "          if (!dataTable) return;\n",
              "\n",
              "          const docLinkHtml = 'Like what you see? Visit the ' +\n",
              "            '<a target=\"_blank\" href=https://colab.research.google.com/notebooks/data_table.ipynb>data table notebook</a>'\n",
              "            + ' to learn more about interactive tables.';\n",
              "          element.innerHTML = '';\n",
              "          dataTable['output_type'] = 'display_data';\n",
              "          await google.colab.output.renderOutput(dataTable, element);\n",
              "          const docLink = document.createElement('div');\n",
              "          docLink.innerHTML = docLinkHtml;\n",
              "          element.appendChild(docLink);\n",
              "        }\n",
              "      </script>\n",
              "    </div>\n",
              "  </div>\n",
              "  "
            ]
          },
          "metadata": {},
          "execution_count": 209
        }
      ],
      "source": [
        "dummy_data.head(1)"
      ]
    },
    {
      "cell_type": "code",
      "execution_count": null,
      "metadata": {
        "colab": {
          "base_uri": "https://localhost:8080/"
        },
        "id": "uxhKzWbvmYuW",
        "outputId": "5a1fe19d-9508-4f0e-c8c9-b0bb512b5f28"
      },
      "outputs": [
        {
          "output_type": "execute_result",
          "data": {
            "text/plain": [
              "Age               0\n",
              "Sex               0\n",
              "ChestPainType     0\n",
              "RestingBP         0\n",
              "Cholesterol       0\n",
              "FastingBS         0\n",
              "RestingECG        0\n",
              "MaxHR             0\n",
              "ExerciseAngina    0\n",
              "Oldpeak           0\n",
              "ST_Slope          0\n",
              "HeartDisease      0\n",
              "dtype: int64"
            ]
          },
          "metadata": {},
          "execution_count": 210
        }
      ],
      "source": [
        "data.isna().sum()"
      ]
    },
    {
      "cell_type": "code",
      "execution_count": null,
      "metadata": {
        "id": "Ym8QnGbzz0m-"
      },
      "outputs": [],
      "source": [
        "#отфильтруем непрерывные признаки\n",
        "integer = [f for f in data if f not in (categorials + ['HeartDisease','FastingBS'])]"
      ]
    },
    {
      "cell_type": "code",
      "execution_count": null,
      "metadata": {
        "colab": {
          "base_uri": "https://localhost:8080/"
        },
        "id": "icHLxtTEpSoC",
        "outputId": "5603c6b2-c3bf-4d2f-8346-797a7ddf02ee"
      },
      "outputs": [
        {
          "output_type": "execute_result",
          "data": {
            "text/plain": [
              "['Age', 'RestingBP', 'Cholesterol', 'MaxHR', 'Oldpeak']"
            ]
          },
          "metadata": {},
          "execution_count": 212
        }
      ],
      "source": [
        "integer"
      ]
    },
    {
      "cell_type": "code",
      "execution_count": null,
      "metadata": {
        "colab": {
          "base_uri": "https://localhost:8080/"
        },
        "id": "YUAtQex3pqep",
        "outputId": "af5376ad-3eff-4114-fa61-79f54262f93d"
      },
      "outputs": [
        {
          "output_type": "execute_result",
          "data": {
            "text/plain": [
              "   Age  RestingBP  Cholesterol  MaxHR  Oldpeak  Sex_M  ChestPainType_ASY  \\\n",
              "0   40        140          289    172      0.0      1                  0   \n",
              "\n",
              "   ChestPainType_ATA  ChestPainType_NAP  ChestPainType_TA  RestingECG_LVH  \\\n",
              "0                  1                  0                 0               0   \n",
              "\n",
              "   RestingECG_Normal  RestingECG_ST  ExerciseAngina_Y  ST_Slope_Down  \\\n",
              "0                  1              0                 0              0   \n",
              "\n",
              "   ST_Slope_Flat  ST_Slope_Up  FastingBS  HeartDisease  \n",
              "0              0            1          0             0  "
            ],
            "text/html": [
              "\n",
              "  <div id=\"df-7d3a299d-3098-4782-9bd4-dd97b167a6e9\">\n",
              "    <div class=\"colab-df-container\">\n",
              "      <div>\n",
              "<style scoped>\n",
              "    .dataframe tbody tr th:only-of-type {\n",
              "        vertical-align: middle;\n",
              "    }\n",
              "\n",
              "    .dataframe tbody tr th {\n",
              "        vertical-align: top;\n",
              "    }\n",
              "\n",
              "    .dataframe thead th {\n",
              "        text-align: right;\n",
              "    }\n",
              "</style>\n",
              "<table border=\"1\" class=\"dataframe\">\n",
              "  <thead>\n",
              "    <tr style=\"text-align: right;\">\n",
              "      <th></th>\n",
              "      <th>Age</th>\n",
              "      <th>RestingBP</th>\n",
              "      <th>Cholesterol</th>\n",
              "      <th>MaxHR</th>\n",
              "      <th>Oldpeak</th>\n",
              "      <th>Sex_M</th>\n",
              "      <th>ChestPainType_ASY</th>\n",
              "      <th>ChestPainType_ATA</th>\n",
              "      <th>ChestPainType_NAP</th>\n",
              "      <th>ChestPainType_TA</th>\n",
              "      <th>RestingECG_LVH</th>\n",
              "      <th>RestingECG_Normal</th>\n",
              "      <th>RestingECG_ST</th>\n",
              "      <th>ExerciseAngina_Y</th>\n",
              "      <th>ST_Slope_Down</th>\n",
              "      <th>ST_Slope_Flat</th>\n",
              "      <th>ST_Slope_Up</th>\n",
              "      <th>FastingBS</th>\n",
              "      <th>HeartDisease</th>\n",
              "    </tr>\n",
              "  </thead>\n",
              "  <tbody>\n",
              "    <tr>\n",
              "      <th>0</th>\n",
              "      <td>40</td>\n",
              "      <td>140</td>\n",
              "      <td>289</td>\n",
              "      <td>172</td>\n",
              "      <td>0.0</td>\n",
              "      <td>1</td>\n",
              "      <td>0</td>\n",
              "      <td>1</td>\n",
              "      <td>0</td>\n",
              "      <td>0</td>\n",
              "      <td>0</td>\n",
              "      <td>1</td>\n",
              "      <td>0</td>\n",
              "      <td>0</td>\n",
              "      <td>0</td>\n",
              "      <td>0</td>\n",
              "      <td>1</td>\n",
              "      <td>0</td>\n",
              "      <td>0</td>\n",
              "    </tr>\n",
              "  </tbody>\n",
              "</table>\n",
              "</div>\n",
              "      <button class=\"colab-df-convert\" onclick=\"convertToInteractive('df-7d3a299d-3098-4782-9bd4-dd97b167a6e9')\"\n",
              "              title=\"Convert this dataframe to an interactive table.\"\n",
              "              style=\"display:none;\">\n",
              "        \n",
              "  <svg xmlns=\"http://www.w3.org/2000/svg\" height=\"24px\"viewBox=\"0 0 24 24\"\n",
              "       width=\"24px\">\n",
              "    <path d=\"M0 0h24v24H0V0z\" fill=\"none\"/>\n",
              "    <path d=\"M18.56 5.44l.94 2.06.94-2.06 2.06-.94-2.06-.94-.94-2.06-.94 2.06-2.06.94zm-11 1L8.5 8.5l.94-2.06 2.06-.94-2.06-.94L8.5 2.5l-.94 2.06-2.06.94zm10 10l.94 2.06.94-2.06 2.06-.94-2.06-.94-.94-2.06-.94 2.06-2.06.94z\"/><path d=\"M17.41 7.96l-1.37-1.37c-.4-.4-.92-.59-1.43-.59-.52 0-1.04.2-1.43.59L10.3 9.45l-7.72 7.72c-.78.78-.78 2.05 0 2.83L4 21.41c.39.39.9.59 1.41.59.51 0 1.02-.2 1.41-.59l7.78-7.78 2.81-2.81c.8-.78.8-2.07 0-2.86zM5.41 20L4 18.59l7.72-7.72 1.47 1.35L5.41 20z\"/>\n",
              "  </svg>\n",
              "      </button>\n",
              "      \n",
              "  <style>\n",
              "    .colab-df-container {\n",
              "      display:flex;\n",
              "      flex-wrap:wrap;\n",
              "      gap: 12px;\n",
              "    }\n",
              "\n",
              "    .colab-df-convert {\n",
              "      background-color: #E8F0FE;\n",
              "      border: none;\n",
              "      border-radius: 50%;\n",
              "      cursor: pointer;\n",
              "      display: none;\n",
              "      fill: #1967D2;\n",
              "      height: 32px;\n",
              "      padding: 0 0 0 0;\n",
              "      width: 32px;\n",
              "    }\n",
              "\n",
              "    .colab-df-convert:hover {\n",
              "      background-color: #E2EBFA;\n",
              "      box-shadow: 0px 1px 2px rgba(60, 64, 67, 0.3), 0px 1px 3px 1px rgba(60, 64, 67, 0.15);\n",
              "      fill: #174EA6;\n",
              "    }\n",
              "\n",
              "    [theme=dark] .colab-df-convert {\n",
              "      background-color: #3B4455;\n",
              "      fill: #D2E3FC;\n",
              "    }\n",
              "\n",
              "    [theme=dark] .colab-df-convert:hover {\n",
              "      background-color: #434B5C;\n",
              "      box-shadow: 0px 1px 3px 1px rgba(0, 0, 0, 0.15);\n",
              "      filter: drop-shadow(0px 1px 2px rgba(0, 0, 0, 0.3));\n",
              "      fill: #FFFFFF;\n",
              "    }\n",
              "  </style>\n",
              "\n",
              "      <script>\n",
              "        const buttonEl =\n",
              "          document.querySelector('#df-7d3a299d-3098-4782-9bd4-dd97b167a6e9 button.colab-df-convert');\n",
              "        buttonEl.style.display =\n",
              "          google.colab.kernel.accessAllowed ? 'block' : 'none';\n",
              "\n",
              "        async function convertToInteractive(key) {\n",
              "          const element = document.querySelector('#df-7d3a299d-3098-4782-9bd4-dd97b167a6e9');\n",
              "          const dataTable =\n",
              "            await google.colab.kernel.invokeFunction('convertToInteractive',\n",
              "                                                     [key], {});\n",
              "          if (!dataTable) return;\n",
              "\n",
              "          const docLinkHtml = 'Like what you see? Visit the ' +\n",
              "            '<a target=\"_blank\" href=https://colab.research.google.com/notebooks/data_table.ipynb>data table notebook</a>'\n",
              "            + ' to learn more about interactive tables.';\n",
              "          element.innerHTML = '';\n",
              "          dataTable['output_type'] = 'display_data';\n",
              "          await google.colab.output.renderOutput(dataTable, element);\n",
              "          const docLink = document.createElement('div');\n",
              "          docLink.innerHTML = docLinkHtml;\n",
              "          element.appendChild(docLink);\n",
              "        }\n",
              "      </script>\n",
              "    </div>\n",
              "  </div>\n",
              "  "
            ]
          },
          "metadata": {},
          "execution_count": 213
        }
      ],
      "source": [
        "data_ = pd.concat([data[integer], dummy_data,data['FastingBS'],data['HeartDisease']], axis=1)\n",
        "data_.head(1)"
      ]
    },
    {
      "cell_type": "code",
      "execution_count": null,
      "metadata": {
        "colab": {
          "base_uri": "https://localhost:8080/"
        },
        "id": "wIFhKRGxqKko",
        "outputId": "afea4336-420e-4ca9-aa5b-4860038cd5b4"
      },
      "outputs": [
        {
          "output_type": "stream",
          "name": "stdout",
          "text": [
            "<class 'pandas.core.frame.DataFrame'>\n",
            "RangeIndex: 918 entries, 0 to 917\n",
            "Data columns (total 19 columns):\n",
            " #   Column             Non-Null Count  Dtype  \n",
            "---  ------             --------------  -----  \n",
            " 0   Age                918 non-null    int64  \n",
            " 1   RestingBP          918 non-null    int64  \n",
            " 2   Cholesterol        918 non-null    int64  \n",
            " 3   MaxHR              918 non-null    int64  \n",
            " 4   Oldpeak            918 non-null    float64\n",
            " 5   Sex_M              918 non-null    uint8  \n",
            " 6   ChestPainType_ASY  918 non-null    uint8  \n",
            " 7   ChestPainType_ATA  918 non-null    uint8  \n",
            " 8   ChestPainType_NAP  918 non-null    uint8  \n",
            " 9   ChestPainType_TA   918 non-null    uint8  \n",
            " 10  RestingECG_LVH     918 non-null    uint8  \n",
            " 11  RestingECG_Normal  918 non-null    uint8  \n",
            " 12  RestingECG_ST      918 non-null    uint8  \n",
            " 13  ExerciseAngina_Y   918 non-null    uint8  \n",
            " 14  ST_Slope_Down      918 non-null    uint8  \n",
            " 15  ST_Slope_Flat      918 non-null    uint8  \n",
            " 16  ST_Slope_Up        918 non-null    uint8  \n",
            " 17  FastingBS          918 non-null    int64  \n",
            " 18  HeartDisease       918 non-null    int64  \n",
            "dtypes: float64(1), int64(6), uint8(12)\n",
            "memory usage: 61.1 KB\n"
          ]
        }
      ],
      "source": [
        "data_.info()"
      ]
    },
    {
      "cell_type": "markdown",
      "metadata": {
        "id": "86ix1SHFqakQ"
      },
      "source": [
        "# 3.Разделите выборку на обучающее и тестовое подмножество. 80% данных оставить на обучающее множество, 20% на тестовое."
      ]
    },
    {
      "cell_type": "code",
      "execution_count": null,
      "metadata": {
        "id": "xzI_TYo69KIy"
      },
      "outputs": [],
      "source": [
        "X=data_.drop(columns='HeartDisease')"
      ]
    },
    {
      "cell_type": "code",
      "execution_count": null,
      "metadata": {
        "id": "H1Xx8xsk9R2H"
      },
      "outputs": [],
      "source": [
        "y=data_['HeartDisease']"
      ]
    },
    {
      "cell_type": "code",
      "execution_count": null,
      "metadata": {
        "colab": {
          "base_uri": "https://localhost:8080/"
        },
        "id": "h9DLerD294zS",
        "outputId": "792d8c39-c527-4268-f3e2-ca24bf3b8062"
      },
      "outputs": [
        {
          "output_type": "execute_result",
          "data": {
            "text/plain": [
              "1    508\n",
              "0    410\n",
              "Name: HeartDisease, dtype: int64"
            ]
          },
          "metadata": {},
          "execution_count": 217
        }
      ],
      "source": [
        "y.value_counts() # смотрим сбалансированность данных"
      ]
    },
    {
      "cell_type": "code",
      "execution_count": null,
      "metadata": {
        "colab": {
          "base_uri": "https://localhost:8080/"
        },
        "id": "Cat7NGyi-Mjq",
        "outputId": "487ef9e6-29ca-4d37-b871-df26c4254b9a"
      },
      "outputs": [
        {
          "output_type": "execute_result",
          "data": {
            "text/plain": [
              "((734, 18), (184, 18))"
            ]
          },
          "metadata": {},
          "execution_count": 218
        }
      ],
      "source": [
        "X_train, X_test, y_train, y_test = train_test_split(X,\n",
        "                                                    y,\n",
        "                                                    test_size=0.2,\n",
        "                                                    #stratify=y,\n",
        "                                                    random_state=42)\n",
        "X_train.shape, X_test.shape"
      ]
    },
    {
      "cell_type": "markdown",
      "metadata": {
        "id": "AnQ6trPuqeoU"
      },
      "source": [
        "# 4.Обучите модель логистической регрессии с параметрами по умолчанию."
      ]
    },
    {
      "cell_type": "code",
      "execution_count": null,
      "metadata": {
        "ExecuteTime": {
          "end_time": "2018-12-03T08:12:59.237602Z",
          "start_time": "2018-12-03T08:12:59.230122Z"
        },
        "id": "Du2xZYOtIWeJ"
      },
      "outputs": [],
      "source": [
        "from sklearn.preprocessing import StandardScaler\n",
        "\n",
        "#sc = StandardScaler()\n",
        "#X_train = sc.fit_transform(X_train)\n",
        "#X_test = sc.transform(X_test)"
      ]
    },
    {
      "cell_type": "code",
      "execution_count": null,
      "metadata": {
        "id": "DmeCpWTlGyGg"
      },
      "outputs": [],
      "source": [
        "from sklearn.linear_model import LogisticRegression"
      ]
    },
    {
      "cell_type": "code",
      "execution_count": null,
      "metadata": {
        "id": "XtUhVZDvqKxz"
      },
      "outputs": [],
      "source": [
        "model=LogisticRegression().fit(X_train, y_train)"
      ]
    },
    {
      "cell_type": "markdown",
      "metadata": {
        "id": "o7WQisjYqkD8"
      },
      "source": [
        "# 5.Подсчитайте основные метрики модели. Используйте следующие метрики и функцию: cross_validate(…, cv=10, scoring=['accuracy','recall','precision','f1'])"
      ]
    },
    {
      "cell_type": "code",
      "execution_count": null,
      "metadata": {
        "id": "P7jNRhBHK8OV"
      },
      "outputs": [],
      "source": [
        "from sklearn.model_selection import cross_validate"
      ]
    },
    {
      "cell_type": "code",
      "execution_count": null,
      "metadata": {
        "id": "8-GI3H9RZDWO"
      },
      "outputs": [],
      "source": [
        "metr=cross_validate(model, X_train, y_train, cv=10,scoring=['accuracy','recall','precision','f1'])"
      ]
    },
    {
      "cell_type": "code",
      "execution_count": null,
      "metadata": {
        "id": "7YA2jgc7ZKxG"
      },
      "outputs": [],
      "source": [
        "df=pd.DataFrame(metr)"
      ]
    },
    {
      "cell_type": "code",
      "execution_count": null,
      "metadata": {
        "colab": {
          "base_uri": "https://localhost:8080/",
          "height": 363
        },
        "id": "5_2qSDlxYF_Y",
        "outputId": "2b69a6b7-88b4-4d56-ecfe-7d07bc0db803"
      },
      "outputs": [
        {
          "output_type": "execute_result",
          "data": {
            "text/plain": [
              "   fit_time  score_time  test_accuracy  test_recall  test_precision   test_f1\n",
              "0  0.050594    0.012326       0.932432     0.925000        0.948718  0.936709\n",
              "1  0.047025    0.010417       0.878378     0.875000        0.897436  0.886076\n",
              "2  0.048717    0.013859       0.891892     0.875000        0.921053  0.897436\n",
              "3  0.077655    0.008926       0.851351     0.902439        0.840909  0.870588\n",
              "4  0.045341    0.006366       0.863014     0.900000        0.857143  0.878049\n",
              "5  0.021488    0.006137       0.890411     0.925000        0.880952  0.902439\n",
              "6  0.022194    0.006077       0.767123     0.825000        0.767442  0.795181\n",
              "7  0.021732    0.006028       0.876712     0.900000        0.878049  0.888889\n",
              "8  0.021216    0.006132       0.890411     0.950000        0.863636  0.904762\n",
              "9  0.030702    0.006143       0.821918     0.875000        0.813953  0.843373"
            ],
            "text/html": [
              "\n",
              "  <div id=\"df-97b7693e-070b-431c-a645-8789838ebbc6\">\n",
              "    <div class=\"colab-df-container\">\n",
              "      <div>\n",
              "<style scoped>\n",
              "    .dataframe tbody tr th:only-of-type {\n",
              "        vertical-align: middle;\n",
              "    }\n",
              "\n",
              "    .dataframe tbody tr th {\n",
              "        vertical-align: top;\n",
              "    }\n",
              "\n",
              "    .dataframe thead th {\n",
              "        text-align: right;\n",
              "    }\n",
              "</style>\n",
              "<table border=\"1\" class=\"dataframe\">\n",
              "  <thead>\n",
              "    <tr style=\"text-align: right;\">\n",
              "      <th></th>\n",
              "      <th>fit_time</th>\n",
              "      <th>score_time</th>\n",
              "      <th>test_accuracy</th>\n",
              "      <th>test_recall</th>\n",
              "      <th>test_precision</th>\n",
              "      <th>test_f1</th>\n",
              "    </tr>\n",
              "  </thead>\n",
              "  <tbody>\n",
              "    <tr>\n",
              "      <th>0</th>\n",
              "      <td>0.050594</td>\n",
              "      <td>0.012326</td>\n",
              "      <td>0.932432</td>\n",
              "      <td>0.925000</td>\n",
              "      <td>0.948718</td>\n",
              "      <td>0.936709</td>\n",
              "    </tr>\n",
              "    <tr>\n",
              "      <th>1</th>\n",
              "      <td>0.047025</td>\n",
              "      <td>0.010417</td>\n",
              "      <td>0.878378</td>\n",
              "      <td>0.875000</td>\n",
              "      <td>0.897436</td>\n",
              "      <td>0.886076</td>\n",
              "    </tr>\n",
              "    <tr>\n",
              "      <th>2</th>\n",
              "      <td>0.048717</td>\n",
              "      <td>0.013859</td>\n",
              "      <td>0.891892</td>\n",
              "      <td>0.875000</td>\n",
              "      <td>0.921053</td>\n",
              "      <td>0.897436</td>\n",
              "    </tr>\n",
              "    <tr>\n",
              "      <th>3</th>\n",
              "      <td>0.077655</td>\n",
              "      <td>0.008926</td>\n",
              "      <td>0.851351</td>\n",
              "      <td>0.902439</td>\n",
              "      <td>0.840909</td>\n",
              "      <td>0.870588</td>\n",
              "    </tr>\n",
              "    <tr>\n",
              "      <th>4</th>\n",
              "      <td>0.045341</td>\n",
              "      <td>0.006366</td>\n",
              "      <td>0.863014</td>\n",
              "      <td>0.900000</td>\n",
              "      <td>0.857143</td>\n",
              "      <td>0.878049</td>\n",
              "    </tr>\n",
              "    <tr>\n",
              "      <th>5</th>\n",
              "      <td>0.021488</td>\n",
              "      <td>0.006137</td>\n",
              "      <td>0.890411</td>\n",
              "      <td>0.925000</td>\n",
              "      <td>0.880952</td>\n",
              "      <td>0.902439</td>\n",
              "    </tr>\n",
              "    <tr>\n",
              "      <th>6</th>\n",
              "      <td>0.022194</td>\n",
              "      <td>0.006077</td>\n",
              "      <td>0.767123</td>\n",
              "      <td>0.825000</td>\n",
              "      <td>0.767442</td>\n",
              "      <td>0.795181</td>\n",
              "    </tr>\n",
              "    <tr>\n",
              "      <th>7</th>\n",
              "      <td>0.021732</td>\n",
              "      <td>0.006028</td>\n",
              "      <td>0.876712</td>\n",
              "      <td>0.900000</td>\n",
              "      <td>0.878049</td>\n",
              "      <td>0.888889</td>\n",
              "    </tr>\n",
              "    <tr>\n",
              "      <th>8</th>\n",
              "      <td>0.021216</td>\n",
              "      <td>0.006132</td>\n",
              "      <td>0.890411</td>\n",
              "      <td>0.950000</td>\n",
              "      <td>0.863636</td>\n",
              "      <td>0.904762</td>\n",
              "    </tr>\n",
              "    <tr>\n",
              "      <th>9</th>\n",
              "      <td>0.030702</td>\n",
              "      <td>0.006143</td>\n",
              "      <td>0.821918</td>\n",
              "      <td>0.875000</td>\n",
              "      <td>0.813953</td>\n",
              "      <td>0.843373</td>\n",
              "    </tr>\n",
              "  </tbody>\n",
              "</table>\n",
              "</div>\n",
              "      <button class=\"colab-df-convert\" onclick=\"convertToInteractive('df-97b7693e-070b-431c-a645-8789838ebbc6')\"\n",
              "              title=\"Convert this dataframe to an interactive table.\"\n",
              "              style=\"display:none;\">\n",
              "        \n",
              "  <svg xmlns=\"http://www.w3.org/2000/svg\" height=\"24px\"viewBox=\"0 0 24 24\"\n",
              "       width=\"24px\">\n",
              "    <path d=\"M0 0h24v24H0V0z\" fill=\"none\"/>\n",
              "    <path d=\"M18.56 5.44l.94 2.06.94-2.06 2.06-.94-2.06-.94-.94-2.06-.94 2.06-2.06.94zm-11 1L8.5 8.5l.94-2.06 2.06-.94-2.06-.94L8.5 2.5l-.94 2.06-2.06.94zm10 10l.94 2.06.94-2.06 2.06-.94-2.06-.94-.94-2.06-.94 2.06-2.06.94z\"/><path d=\"M17.41 7.96l-1.37-1.37c-.4-.4-.92-.59-1.43-.59-.52 0-1.04.2-1.43.59L10.3 9.45l-7.72 7.72c-.78.78-.78 2.05 0 2.83L4 21.41c.39.39.9.59 1.41.59.51 0 1.02-.2 1.41-.59l7.78-7.78 2.81-2.81c.8-.78.8-2.07 0-2.86zM5.41 20L4 18.59l7.72-7.72 1.47 1.35L5.41 20z\"/>\n",
              "  </svg>\n",
              "      </button>\n",
              "      \n",
              "  <style>\n",
              "    .colab-df-container {\n",
              "      display:flex;\n",
              "      flex-wrap:wrap;\n",
              "      gap: 12px;\n",
              "    }\n",
              "\n",
              "    .colab-df-convert {\n",
              "      background-color: #E8F0FE;\n",
              "      border: none;\n",
              "      border-radius: 50%;\n",
              "      cursor: pointer;\n",
              "      display: none;\n",
              "      fill: #1967D2;\n",
              "      height: 32px;\n",
              "      padding: 0 0 0 0;\n",
              "      width: 32px;\n",
              "    }\n",
              "\n",
              "    .colab-df-convert:hover {\n",
              "      background-color: #E2EBFA;\n",
              "      box-shadow: 0px 1px 2px rgba(60, 64, 67, 0.3), 0px 1px 3px 1px rgba(60, 64, 67, 0.15);\n",
              "      fill: #174EA6;\n",
              "    }\n",
              "\n",
              "    [theme=dark] .colab-df-convert {\n",
              "      background-color: #3B4455;\n",
              "      fill: #D2E3FC;\n",
              "    }\n",
              "\n",
              "    [theme=dark] .colab-df-convert:hover {\n",
              "      background-color: #434B5C;\n",
              "      box-shadow: 0px 1px 3px 1px rgba(0, 0, 0, 0.15);\n",
              "      filter: drop-shadow(0px 1px 2px rgba(0, 0, 0, 0.3));\n",
              "      fill: #FFFFFF;\n",
              "    }\n",
              "  </style>\n",
              "\n",
              "      <script>\n",
              "        const buttonEl =\n",
              "          document.querySelector('#df-97b7693e-070b-431c-a645-8789838ebbc6 button.colab-df-convert');\n",
              "        buttonEl.style.display =\n",
              "          google.colab.kernel.accessAllowed ? 'block' : 'none';\n",
              "\n",
              "        async function convertToInteractive(key) {\n",
              "          const element = document.querySelector('#df-97b7693e-070b-431c-a645-8789838ebbc6');\n",
              "          const dataTable =\n",
              "            await google.colab.kernel.invokeFunction('convertToInteractive',\n",
              "                                                     [key], {});\n",
              "          if (!dataTable) return;\n",
              "\n",
              "          const docLinkHtml = 'Like what you see? Visit the ' +\n",
              "            '<a target=\"_blank\" href=https://colab.research.google.com/notebooks/data_table.ipynb>data table notebook</a>'\n",
              "            + ' to learn more about interactive tables.';\n",
              "          element.innerHTML = '';\n",
              "          dataTable['output_type'] = 'display_data';\n",
              "          await google.colab.output.renderOutput(dataTable, element);\n",
              "          const docLink = document.createElement('div');\n",
              "          docLink.innerHTML = docLinkHtml;\n",
              "          element.appendChild(docLink);\n",
              "        }\n",
              "      </script>\n",
              "    </div>\n",
              "  </div>\n",
              "  "
            ]
          },
          "metadata": {},
          "execution_count": 223
        }
      ],
      "source": [
        "df"
      ]
    },
    {
      "cell_type": "markdown",
      "metadata": {
        "id": "iZ1ERZQaYfLk"
      },
      "source": [
        "Видно, что в метриках между сгибов в cross_validate есть значительные различия, это может указывать на чрезмерную подгонку к определенным сгибам."
      ]
    },
    {
      "cell_type": "code",
      "execution_count": null,
      "metadata": {
        "id": "bBiO2HQrJznV",
        "colab": {
          "base_uri": "https://localhost:8080/",
          "height": 238
        },
        "outputId": "9aa20dd2-41fc-43a9-bb5b-0f7b4fdadd0b"
      },
      "outputs": [
        {
          "output_type": "execute_result",
          "data": {
            "text/plain": [
              "                Validate_model\n",
              "fit_time              0.038666\n",
              "score_time            0.008241\n",
              "test_accuracy         0.866364\n",
              "test_recall           0.895244\n",
              "test_precision        0.866929\n",
              "test_f1               0.880350"
            ],
            "text/html": [
              "\n",
              "  <div id=\"df-1a17c2a3-345e-4329-8f6e-63b1a5421ee3\">\n",
              "    <div class=\"colab-df-container\">\n",
              "      <div>\n",
              "<style scoped>\n",
              "    .dataframe tbody tr th:only-of-type {\n",
              "        vertical-align: middle;\n",
              "    }\n",
              "\n",
              "    .dataframe tbody tr th {\n",
              "        vertical-align: top;\n",
              "    }\n",
              "\n",
              "    .dataframe thead th {\n",
              "        text-align: right;\n",
              "    }\n",
              "</style>\n",
              "<table border=\"1\" class=\"dataframe\">\n",
              "  <thead>\n",
              "    <tr style=\"text-align: right;\">\n",
              "      <th></th>\n",
              "      <th>Validate_model</th>\n",
              "    </tr>\n",
              "  </thead>\n",
              "  <tbody>\n",
              "    <tr>\n",
              "      <th>fit_time</th>\n",
              "      <td>0.038666</td>\n",
              "    </tr>\n",
              "    <tr>\n",
              "      <th>score_time</th>\n",
              "      <td>0.008241</td>\n",
              "    </tr>\n",
              "    <tr>\n",
              "      <th>test_accuracy</th>\n",
              "      <td>0.866364</td>\n",
              "    </tr>\n",
              "    <tr>\n",
              "      <th>test_recall</th>\n",
              "      <td>0.895244</td>\n",
              "    </tr>\n",
              "    <tr>\n",
              "      <th>test_precision</th>\n",
              "      <td>0.866929</td>\n",
              "    </tr>\n",
              "    <tr>\n",
              "      <th>test_f1</th>\n",
              "      <td>0.880350</td>\n",
              "    </tr>\n",
              "  </tbody>\n",
              "</table>\n",
              "</div>\n",
              "      <button class=\"colab-df-convert\" onclick=\"convertToInteractive('df-1a17c2a3-345e-4329-8f6e-63b1a5421ee3')\"\n",
              "              title=\"Convert this dataframe to an interactive table.\"\n",
              "              style=\"display:none;\">\n",
              "        \n",
              "  <svg xmlns=\"http://www.w3.org/2000/svg\" height=\"24px\"viewBox=\"0 0 24 24\"\n",
              "       width=\"24px\">\n",
              "    <path d=\"M0 0h24v24H0V0z\" fill=\"none\"/>\n",
              "    <path d=\"M18.56 5.44l.94 2.06.94-2.06 2.06-.94-2.06-.94-.94-2.06-.94 2.06-2.06.94zm-11 1L8.5 8.5l.94-2.06 2.06-.94-2.06-.94L8.5 2.5l-.94 2.06-2.06.94zm10 10l.94 2.06.94-2.06 2.06-.94-2.06-.94-.94-2.06-.94 2.06-2.06.94z\"/><path d=\"M17.41 7.96l-1.37-1.37c-.4-.4-.92-.59-1.43-.59-.52 0-1.04.2-1.43.59L10.3 9.45l-7.72 7.72c-.78.78-.78 2.05 0 2.83L4 21.41c.39.39.9.59 1.41.59.51 0 1.02-.2 1.41-.59l7.78-7.78 2.81-2.81c.8-.78.8-2.07 0-2.86zM5.41 20L4 18.59l7.72-7.72 1.47 1.35L5.41 20z\"/>\n",
              "  </svg>\n",
              "      </button>\n",
              "      \n",
              "  <style>\n",
              "    .colab-df-container {\n",
              "      display:flex;\n",
              "      flex-wrap:wrap;\n",
              "      gap: 12px;\n",
              "    }\n",
              "\n",
              "    .colab-df-convert {\n",
              "      background-color: #E8F0FE;\n",
              "      border: none;\n",
              "      border-radius: 50%;\n",
              "      cursor: pointer;\n",
              "      display: none;\n",
              "      fill: #1967D2;\n",
              "      height: 32px;\n",
              "      padding: 0 0 0 0;\n",
              "      width: 32px;\n",
              "    }\n",
              "\n",
              "    .colab-df-convert:hover {\n",
              "      background-color: #E2EBFA;\n",
              "      box-shadow: 0px 1px 2px rgba(60, 64, 67, 0.3), 0px 1px 3px 1px rgba(60, 64, 67, 0.15);\n",
              "      fill: #174EA6;\n",
              "    }\n",
              "\n",
              "    [theme=dark] .colab-df-convert {\n",
              "      background-color: #3B4455;\n",
              "      fill: #D2E3FC;\n",
              "    }\n",
              "\n",
              "    [theme=dark] .colab-df-convert:hover {\n",
              "      background-color: #434B5C;\n",
              "      box-shadow: 0px 1px 3px 1px rgba(0, 0, 0, 0.15);\n",
              "      filter: drop-shadow(0px 1px 2px rgba(0, 0, 0, 0.3));\n",
              "      fill: #FFFFFF;\n",
              "    }\n",
              "  </style>\n",
              "\n",
              "      <script>\n",
              "        const buttonEl =\n",
              "          document.querySelector('#df-1a17c2a3-345e-4329-8f6e-63b1a5421ee3 button.colab-df-convert');\n",
              "        buttonEl.style.display =\n",
              "          google.colab.kernel.accessAllowed ? 'block' : 'none';\n",
              "\n",
              "        async function convertToInteractive(key) {\n",
              "          const element = document.querySelector('#df-1a17c2a3-345e-4329-8f6e-63b1a5421ee3');\n",
              "          const dataTable =\n",
              "            await google.colab.kernel.invokeFunction('convertToInteractive',\n",
              "                                                     [key], {});\n",
              "          if (!dataTable) return;\n",
              "\n",
              "          const docLinkHtml = 'Like what you see? Visit the ' +\n",
              "            '<a target=\"_blank\" href=https://colab.research.google.com/notebooks/data_table.ipynb>data table notebook</a>'\n",
              "            + ' to learn more about interactive tables.';\n",
              "          element.innerHTML = '';\n",
              "          dataTable['output_type'] = 'display_data';\n",
              "          await google.colab.output.renderOutput(dataTable, element);\n",
              "          const docLink = document.createElement('div');\n",
              "          docLink.innerHTML = docLinkHtml;\n",
              "          element.appendChild(docLink);\n",
              "        }\n",
              "      </script>\n",
              "    </div>\n",
              "  </div>\n",
              "  "
            ]
          },
          "metadata": {},
          "execution_count": 224
        }
      ],
      "source": [
        "metr=df.agg('mean')\n",
        "metr = pd.Series(metr, name='Validate_model')\n",
        "df=pd.DataFrame(metr)\n",
        "df"
      ]
    },
    {
      "cell_type": "code",
      "execution_count": null,
      "metadata": {
        "id": "1skr-Ef7A6ki"
      },
      "outputs": [],
      "source": [
        "pred = model.predict(X_test)"
      ]
    },
    {
      "cell_type": "code",
      "execution_count": null,
      "metadata": {
        "id": "Vib1ywbIBN8H"
      },
      "outputs": [],
      "source": [
        "from sklearn.metrics import classification_report"
      ]
    },
    {
      "cell_type": "code",
      "execution_count": null,
      "metadata": {
        "colab": {
          "base_uri": "https://localhost:8080/"
        },
        "id": "0PRoS6WELzkb",
        "outputId": "3e3a248c-335d-4249-c118-00994885a419"
      },
      "outputs": [
        {
          "output_type": "execute_result",
          "data": {
            "text/plain": [
              "(precision    0.859517\n",
              " recall       0.864971\n",
              " f1-score     0.861575\n",
              " Name: macro avg, dtype: float64, support    0.86413\n",
              " Name: accuracy, dtype: float64)"
            ]
          },
          "metadata": {},
          "execution_count": 226
        }
      ],
      "source": [
        "report = classification_report(y_test, pred, output_dict=True)\n",
        "df1 = pd.DataFrame(report)\n",
        "df1[0:3]['macro avg'], df1[3:]['accuracy'] # используем макро-усреднение, важно распознавать все классы"
      ]
    },
    {
      "cell_type": "markdown",
      "metadata": {
        "id": "MBhFsR62ZRFn"
      },
      "source": [
        "Средние значения валидационных метрик показывают результат чуть лучше, чем метрики тестовой выборки."
      ]
    },
    {
      "cell_type": "markdown",
      "metadata": {
        "id": "LN9ZLgqdqqyI"
      },
      "source": [
        "# 6.Оптимизируйте 3-4 параметра модели:"
      ]
    },
    {
      "cell_type": "markdown",
      "metadata": {
        "id": "VuKWKsRlOc59"
      },
      "source": [
        "## a) Используйте GridSearchCV."
      ]
    },
    {
      "cell_type": "code",
      "execution_count": null,
      "metadata": {
        "id": "qbGqoxZDOZfm"
      },
      "outputs": [],
      "source": [
        "from sklearn.model_selection import GridSearchCV"
      ]
    },
    {
      "cell_type": "code",
      "execution_count": null,
      "metadata": {
        "id": "t8FhAgVA4-xm"
      },
      "outputs": [],
      "source": [
        "parameters = ({'C': np.linspace(0, 10, 5),              #обратная сила регуляризации\n",
        "               'penalty': ['l1', 'l2', 'elasticnet', 'none'],     # штраф\n",
        "               'solver': ['newton-cg', 'lbfgs', 'liblinear', 'sag', 'saga']  # алгоритм для использования в задаче оптимизации\n",
        "              })"
      ]
    },
    {
      "cell_type": "code",
      "execution_count": null,
      "metadata": {
        "colab": {
          "base_uri": "https://localhost:8080/"
        },
        "id": "jGTCZi-nIWd4",
        "outputId": "00aabced-60c7-44d8-d82d-d4ea93717fb2"
      },
      "outputs": [
        {
          "output_type": "stream",
          "name": "stdout",
          "text": [
            "{'C': array([ 0. ,  2.5,  5. ,  7.5, 10. ]), 'penalty': ['l1', 'l2', 'elasticnet', 'none'], 'solver': ['newton-cg', 'lbfgs', 'liblinear', 'sag', 'saga']}\n"
          ]
        }
      ],
      "source": [
        "param_grid = parameters\n",
        "print(param_grid)"
      ]
    },
    {
      "cell_type": "code",
      "execution_count": null,
      "metadata": {
        "id": "wEcAowbhIWd5"
      },
      "outputs": [],
      "source": [
        "grid = GridSearchCV(model, param_grid, cv=10, scoring='accuracy', n_jobs=-1)"
      ]
    },
    {
      "cell_type": "code",
      "execution_count": null,
      "metadata": {
        "id": "O96LuwP0IWd6",
        "colab": {
          "base_uri": "https://localhost:8080/",
          "height": 152
        },
        "outputId": "ead9e511-23a3-4cdc-a949-b9282d03d0ee"
      },
      "outputs": [
        {
          "output_type": "stream",
          "name": "stdout",
          "text": [
            "CPU times: user 583 ms, sys: 40.5 ms, total: 623 ms\n",
            "Wall time: 15.8 s\n"
          ]
        },
        {
          "output_type": "execute_result",
          "data": {
            "text/plain": [
              "GridSearchCV(cv=10, estimator=LogisticRegression(), n_jobs=-1,\n",
              "             param_grid={'C': array([ 0. ,  2.5,  5. ,  7.5, 10. ]),\n",
              "                         'penalty': ['l1', 'l2', 'elasticnet', 'none'],\n",
              "                         'solver': ['newton-cg', 'lbfgs', 'liblinear', 'sag',\n",
              "                                    'saga']},\n",
              "             scoring='accuracy')"
            ],
            "text/html": [
              "<style>#sk-container-id-3 {color: black;background-color: white;}#sk-container-id-3 pre{padding: 0;}#sk-container-id-3 div.sk-toggleable {background-color: white;}#sk-container-id-3 label.sk-toggleable__label {cursor: pointer;display: block;width: 100%;margin-bottom: 0;padding: 0.3em;box-sizing: border-box;text-align: center;}#sk-container-id-3 label.sk-toggleable__label-arrow:before {content: \"▸\";float: left;margin-right: 0.25em;color: #696969;}#sk-container-id-3 label.sk-toggleable__label-arrow:hover:before {color: black;}#sk-container-id-3 div.sk-estimator:hover label.sk-toggleable__label-arrow:before {color: black;}#sk-container-id-3 div.sk-toggleable__content {max-height: 0;max-width: 0;overflow: hidden;text-align: left;background-color: #f0f8ff;}#sk-container-id-3 div.sk-toggleable__content pre {margin: 0.2em;color: black;border-radius: 0.25em;background-color: #f0f8ff;}#sk-container-id-3 input.sk-toggleable__control:checked~div.sk-toggleable__content {max-height: 200px;max-width: 100%;overflow: auto;}#sk-container-id-3 input.sk-toggleable__control:checked~label.sk-toggleable__label-arrow:before {content: \"▾\";}#sk-container-id-3 div.sk-estimator input.sk-toggleable__control:checked~label.sk-toggleable__label {background-color: #d4ebff;}#sk-container-id-3 div.sk-label input.sk-toggleable__control:checked~label.sk-toggleable__label {background-color: #d4ebff;}#sk-container-id-3 input.sk-hidden--visually {border: 0;clip: rect(1px 1px 1px 1px);clip: rect(1px, 1px, 1px, 1px);height: 1px;margin: -1px;overflow: hidden;padding: 0;position: absolute;width: 1px;}#sk-container-id-3 div.sk-estimator {font-family: monospace;background-color: #f0f8ff;border: 1px dotted black;border-radius: 0.25em;box-sizing: border-box;margin-bottom: 0.5em;}#sk-container-id-3 div.sk-estimator:hover {background-color: #d4ebff;}#sk-container-id-3 div.sk-parallel-item::after {content: \"\";width: 100%;border-bottom: 1px solid gray;flex-grow: 1;}#sk-container-id-3 div.sk-label:hover label.sk-toggleable__label {background-color: #d4ebff;}#sk-container-id-3 div.sk-serial::before {content: \"\";position: absolute;border-left: 1px solid gray;box-sizing: border-box;top: 0;bottom: 0;left: 50%;z-index: 0;}#sk-container-id-3 div.sk-serial {display: flex;flex-direction: column;align-items: center;background-color: white;padding-right: 0.2em;padding-left: 0.2em;position: relative;}#sk-container-id-3 div.sk-item {position: relative;z-index: 1;}#sk-container-id-3 div.sk-parallel {display: flex;align-items: stretch;justify-content: center;background-color: white;position: relative;}#sk-container-id-3 div.sk-item::before, #sk-container-id-3 div.sk-parallel-item::before {content: \"\";position: absolute;border-left: 1px solid gray;box-sizing: border-box;top: 0;bottom: 0;left: 50%;z-index: -1;}#sk-container-id-3 div.sk-parallel-item {display: flex;flex-direction: column;z-index: 1;position: relative;background-color: white;}#sk-container-id-3 div.sk-parallel-item:first-child::after {align-self: flex-end;width: 50%;}#sk-container-id-3 div.sk-parallel-item:last-child::after {align-self: flex-start;width: 50%;}#sk-container-id-3 div.sk-parallel-item:only-child::after {width: 0;}#sk-container-id-3 div.sk-dashed-wrapped {border: 1px dashed gray;margin: 0 0.4em 0.5em 0.4em;box-sizing: border-box;padding-bottom: 0.4em;background-color: white;}#sk-container-id-3 div.sk-label label {font-family: monospace;font-weight: bold;display: inline-block;line-height: 1.2em;}#sk-container-id-3 div.sk-label-container {text-align: center;}#sk-container-id-3 div.sk-container {/* jupyter's `normalize.less` sets `[hidden] { display: none; }` but bootstrap.min.css set `[hidden] { display: none !important; }` so we also need the `!important` here to be able to override the default hidden behavior on the sphinx rendered scikit-learn.org. See: https://github.com/scikit-learn/scikit-learn/issues/21755 */display: inline-block !important;position: relative;}#sk-container-id-3 div.sk-text-repr-fallback {display: none;}</style><div id=\"sk-container-id-3\" class=\"sk-top-container\"><div class=\"sk-text-repr-fallback\"><pre>GridSearchCV(cv=10, estimator=LogisticRegression(), n_jobs=-1,\n",
              "             param_grid={&#x27;C&#x27;: array([ 0. ,  2.5,  5. ,  7.5, 10. ]),\n",
              "                         &#x27;penalty&#x27;: [&#x27;l1&#x27;, &#x27;l2&#x27;, &#x27;elasticnet&#x27;, &#x27;none&#x27;],\n",
              "                         &#x27;solver&#x27;: [&#x27;newton-cg&#x27;, &#x27;lbfgs&#x27;, &#x27;liblinear&#x27;, &#x27;sag&#x27;,\n",
              "                                    &#x27;saga&#x27;]},\n",
              "             scoring=&#x27;accuracy&#x27;)</pre><b>In a Jupyter environment, please rerun this cell to show the HTML representation or trust the notebook. <br />On GitHub, the HTML representation is unable to render, please try loading this page with nbviewer.org.</b></div><div class=\"sk-container\" hidden><div class=\"sk-item sk-dashed-wrapped\"><div class=\"sk-label-container\"><div class=\"sk-label sk-toggleable\"><input class=\"sk-toggleable__control sk-hidden--visually\" id=\"sk-estimator-id-7\" type=\"checkbox\" ><label for=\"sk-estimator-id-7\" class=\"sk-toggleable__label sk-toggleable__label-arrow\">GridSearchCV</label><div class=\"sk-toggleable__content\"><pre>GridSearchCV(cv=10, estimator=LogisticRegression(), n_jobs=-1,\n",
              "             param_grid={&#x27;C&#x27;: array([ 0. ,  2.5,  5. ,  7.5, 10. ]),\n",
              "                         &#x27;penalty&#x27;: [&#x27;l1&#x27;, &#x27;l2&#x27;, &#x27;elasticnet&#x27;, &#x27;none&#x27;],\n",
              "                         &#x27;solver&#x27;: [&#x27;newton-cg&#x27;, &#x27;lbfgs&#x27;, &#x27;liblinear&#x27;, &#x27;sag&#x27;,\n",
              "                                    &#x27;saga&#x27;]},\n",
              "             scoring=&#x27;accuracy&#x27;)</pre></div></div></div><div class=\"sk-parallel\"><div class=\"sk-parallel-item\"><div class=\"sk-item\"><div class=\"sk-label-container\"><div class=\"sk-label sk-toggleable\"><input class=\"sk-toggleable__control sk-hidden--visually\" id=\"sk-estimator-id-8\" type=\"checkbox\" ><label for=\"sk-estimator-id-8\" class=\"sk-toggleable__label sk-toggleable__label-arrow\">estimator: LogisticRegression</label><div class=\"sk-toggleable__content\"><pre>LogisticRegression()</pre></div></div></div><div class=\"sk-serial\"><div class=\"sk-item\"><div class=\"sk-estimator sk-toggleable\"><input class=\"sk-toggleable__control sk-hidden--visually\" id=\"sk-estimator-id-9\" type=\"checkbox\" ><label for=\"sk-estimator-id-9\" class=\"sk-toggleable__label sk-toggleable__label-arrow\">LogisticRegression</label><div class=\"sk-toggleable__content\"><pre>LogisticRegression()</pre></div></div></div></div></div></div></div></div></div></div>"
            ]
          },
          "metadata": {},
          "execution_count": 231
        }
      ],
      "source": [
        "%%time\n",
        "grid.fit(X_train, y_train)"
      ]
    },
    {
      "cell_type": "code",
      "execution_count": null,
      "metadata": {
        "colab": {
          "base_uri": "https://localhost:8080/",
          "height": 1000
        },
        "id": "aWLKkR2CIWd7",
        "outputId": "2ef9fbe6-7d27-4004-8abc-c6a46f12d4ff"
      },
      "outputs": [
        {
          "output_type": "execute_result",
          "data": {
            "text/plain": [
              "    mean_fit_time  std_fit_time  mean_score_time  std_score_time param_C  \\\n",
              "0        0.001017      0.000143         0.000000        0.000000     0.0   \n",
              "1        0.001805      0.002513         0.000000        0.000000     0.0   \n",
              "2        0.000896      0.000077         0.000000        0.000000     0.0   \n",
              "3        0.001606      0.001598         0.000000        0.000000     0.0   \n",
              "4        0.001782      0.002732         0.000000        0.000000     0.0   \n",
              "..            ...           ...              ...             ...     ...   \n",
              "95       0.042208      0.004758         0.002678        0.000144    10.0   \n",
              "96       0.027936      0.001479         0.002920        0.000467    10.0   \n",
              "97       0.000974      0.000158         0.000000        0.000000    10.0   \n",
              "98       0.028841      0.002345         0.002892        0.001223    10.0   \n",
              "99       0.029111      0.004303         0.002414        0.000576    10.0   \n",
              "\n",
              "   param_penalty param_solver  \\\n",
              "0             l1    newton-cg   \n",
              "1             l1        lbfgs   \n",
              "2             l1    liblinear   \n",
              "3             l1          sag   \n",
              "4             l1         saga   \n",
              "..           ...          ...   \n",
              "95          none    newton-cg   \n",
              "96          none        lbfgs   \n",
              "97          none    liblinear   \n",
              "98          none          sag   \n",
              "99          none         saga   \n",
              "\n",
              "                                               params  split0_test_score  \\\n",
              "0   {'C': 0.0, 'penalty': 'l1', 'solver': 'newton-...                NaN   \n",
              "1      {'C': 0.0, 'penalty': 'l1', 'solver': 'lbfgs'}                NaN   \n",
              "2   {'C': 0.0, 'penalty': 'l1', 'solver': 'libline...                NaN   \n",
              "3        {'C': 0.0, 'penalty': 'l1', 'solver': 'sag'}                NaN   \n",
              "4       {'C': 0.0, 'penalty': 'l1', 'solver': 'saga'}                NaN   \n",
              "..                                                ...                ...   \n",
              "95  {'C': 10.0, 'penalty': 'none', 'solver': 'newt...           0.918919   \n",
              "96  {'C': 10.0, 'penalty': 'none', 'solver': 'lbfgs'}           0.932432   \n",
              "97  {'C': 10.0, 'penalty': 'none', 'solver': 'libl...                NaN   \n",
              "98    {'C': 10.0, 'penalty': 'none', 'solver': 'sag'}           0.797297   \n",
              "99   {'C': 10.0, 'penalty': 'none', 'solver': 'saga'}           0.770270   \n",
              "\n",
              "    split1_test_score  ...  split3_test_score  split4_test_score  \\\n",
              "0                 NaN  ...                NaN                NaN   \n",
              "1                 NaN  ...                NaN                NaN   \n",
              "2                 NaN  ...                NaN                NaN   \n",
              "3                 NaN  ...                NaN                NaN   \n",
              "4                 NaN  ...                NaN                NaN   \n",
              "..                ...  ...                ...                ...   \n",
              "95           0.878378  ...           0.864865           0.821918   \n",
              "96           0.878378  ...           0.864865           0.849315   \n",
              "97                NaN  ...                NaN                NaN   \n",
              "98           0.824324  ...           0.716216           0.712329   \n",
              "99           0.810811  ...           0.729730           0.698630   \n",
              "\n",
              "    split5_test_score  split6_test_score  split7_test_score  \\\n",
              "0                 NaN                NaN                NaN   \n",
              "1                 NaN                NaN                NaN   \n",
              "2                 NaN                NaN                NaN   \n",
              "3                 NaN                NaN                NaN   \n",
              "4                 NaN                NaN                NaN   \n",
              "..                ...                ...                ...   \n",
              "95           0.876712           0.794521           0.876712   \n",
              "96           0.876712           0.780822           0.863014   \n",
              "97                NaN                NaN                NaN   \n",
              "98           0.698630           0.712329           0.726027   \n",
              "99           0.698630           0.726027           0.712329   \n",
              "\n",
              "    split8_test_score  split9_test_score  mean_test_score  std_test_score  \\\n",
              "0                 NaN                NaN              NaN             NaN   \n",
              "1                 NaN                NaN              NaN             NaN   \n",
              "2                 NaN                NaN              NaN             NaN   \n",
              "3                 NaN                NaN              NaN             NaN   \n",
              "4                 NaN                NaN              NaN             NaN   \n",
              "..                ...                ...              ...             ...   \n",
              "95           0.890411           0.835616         0.864994        0.035237   \n",
              "96           0.876712           0.849315         0.866346        0.036452   \n",
              "97                NaN                NaN              NaN             NaN   \n",
              "98           0.808219           0.726027         0.749167        0.043957   \n",
              "99           0.767123           0.726027         0.738282        0.033663   \n",
              "\n",
              "    rank_test_score  \n",
              "0                45  \n",
              "1                45  \n",
              "2                45  \n",
              "3                45  \n",
              "4                45  \n",
              "..              ...  \n",
              "95               13  \n",
              "96                8  \n",
              "97               45  \n",
              "98               25  \n",
              "99               33  \n",
              "\n",
              "[100 rows x 21 columns]"
            ],
            "text/html": [
              "\n",
              "  <div id=\"df-cd4a1066-ef5c-47a7-bf4e-cd4ecf80baca\">\n",
              "    <div class=\"colab-df-container\">\n",
              "      <div>\n",
              "<style scoped>\n",
              "    .dataframe tbody tr th:only-of-type {\n",
              "        vertical-align: middle;\n",
              "    }\n",
              "\n",
              "    .dataframe tbody tr th {\n",
              "        vertical-align: top;\n",
              "    }\n",
              "\n",
              "    .dataframe thead th {\n",
              "        text-align: right;\n",
              "    }\n",
              "</style>\n",
              "<table border=\"1\" class=\"dataframe\">\n",
              "  <thead>\n",
              "    <tr style=\"text-align: right;\">\n",
              "      <th></th>\n",
              "      <th>mean_fit_time</th>\n",
              "      <th>std_fit_time</th>\n",
              "      <th>mean_score_time</th>\n",
              "      <th>std_score_time</th>\n",
              "      <th>param_C</th>\n",
              "      <th>param_penalty</th>\n",
              "      <th>param_solver</th>\n",
              "      <th>params</th>\n",
              "      <th>split0_test_score</th>\n",
              "      <th>split1_test_score</th>\n",
              "      <th>...</th>\n",
              "      <th>split3_test_score</th>\n",
              "      <th>split4_test_score</th>\n",
              "      <th>split5_test_score</th>\n",
              "      <th>split6_test_score</th>\n",
              "      <th>split7_test_score</th>\n",
              "      <th>split8_test_score</th>\n",
              "      <th>split9_test_score</th>\n",
              "      <th>mean_test_score</th>\n",
              "      <th>std_test_score</th>\n",
              "      <th>rank_test_score</th>\n",
              "    </tr>\n",
              "  </thead>\n",
              "  <tbody>\n",
              "    <tr>\n",
              "      <th>0</th>\n",
              "      <td>0.001017</td>\n",
              "      <td>0.000143</td>\n",
              "      <td>0.000000</td>\n",
              "      <td>0.000000</td>\n",
              "      <td>0.0</td>\n",
              "      <td>l1</td>\n",
              "      <td>newton-cg</td>\n",
              "      <td>{'C': 0.0, 'penalty': 'l1', 'solver': 'newton-...</td>\n",
              "      <td>NaN</td>\n",
              "      <td>NaN</td>\n",
              "      <td>...</td>\n",
              "      <td>NaN</td>\n",
              "      <td>NaN</td>\n",
              "      <td>NaN</td>\n",
              "      <td>NaN</td>\n",
              "      <td>NaN</td>\n",
              "      <td>NaN</td>\n",
              "      <td>NaN</td>\n",
              "      <td>NaN</td>\n",
              "      <td>NaN</td>\n",
              "      <td>45</td>\n",
              "    </tr>\n",
              "    <tr>\n",
              "      <th>1</th>\n",
              "      <td>0.001805</td>\n",
              "      <td>0.002513</td>\n",
              "      <td>0.000000</td>\n",
              "      <td>0.000000</td>\n",
              "      <td>0.0</td>\n",
              "      <td>l1</td>\n",
              "      <td>lbfgs</td>\n",
              "      <td>{'C': 0.0, 'penalty': 'l1', 'solver': 'lbfgs'}</td>\n",
              "      <td>NaN</td>\n",
              "      <td>NaN</td>\n",
              "      <td>...</td>\n",
              "      <td>NaN</td>\n",
              "      <td>NaN</td>\n",
              "      <td>NaN</td>\n",
              "      <td>NaN</td>\n",
              "      <td>NaN</td>\n",
              "      <td>NaN</td>\n",
              "      <td>NaN</td>\n",
              "      <td>NaN</td>\n",
              "      <td>NaN</td>\n",
              "      <td>45</td>\n",
              "    </tr>\n",
              "    <tr>\n",
              "      <th>2</th>\n",
              "      <td>0.000896</td>\n",
              "      <td>0.000077</td>\n",
              "      <td>0.000000</td>\n",
              "      <td>0.000000</td>\n",
              "      <td>0.0</td>\n",
              "      <td>l1</td>\n",
              "      <td>liblinear</td>\n",
              "      <td>{'C': 0.0, 'penalty': 'l1', 'solver': 'libline...</td>\n",
              "      <td>NaN</td>\n",
              "      <td>NaN</td>\n",
              "      <td>...</td>\n",
              "      <td>NaN</td>\n",
              "      <td>NaN</td>\n",
              "      <td>NaN</td>\n",
              "      <td>NaN</td>\n",
              "      <td>NaN</td>\n",
              "      <td>NaN</td>\n",
              "      <td>NaN</td>\n",
              "      <td>NaN</td>\n",
              "      <td>NaN</td>\n",
              "      <td>45</td>\n",
              "    </tr>\n",
              "    <tr>\n",
              "      <th>3</th>\n",
              "      <td>0.001606</td>\n",
              "      <td>0.001598</td>\n",
              "      <td>0.000000</td>\n",
              "      <td>0.000000</td>\n",
              "      <td>0.0</td>\n",
              "      <td>l1</td>\n",
              "      <td>sag</td>\n",
              "      <td>{'C': 0.0, 'penalty': 'l1', 'solver': 'sag'}</td>\n",
              "      <td>NaN</td>\n",
              "      <td>NaN</td>\n",
              "      <td>...</td>\n",
              "      <td>NaN</td>\n",
              "      <td>NaN</td>\n",
              "      <td>NaN</td>\n",
              "      <td>NaN</td>\n",
              "      <td>NaN</td>\n",
              "      <td>NaN</td>\n",
              "      <td>NaN</td>\n",
              "      <td>NaN</td>\n",
              "      <td>NaN</td>\n",
              "      <td>45</td>\n",
              "    </tr>\n",
              "    <tr>\n",
              "      <th>4</th>\n",
              "      <td>0.001782</td>\n",
              "      <td>0.002732</td>\n",
              "      <td>0.000000</td>\n",
              "      <td>0.000000</td>\n",
              "      <td>0.0</td>\n",
              "      <td>l1</td>\n",
              "      <td>saga</td>\n",
              "      <td>{'C': 0.0, 'penalty': 'l1', 'solver': 'saga'}</td>\n",
              "      <td>NaN</td>\n",
              "      <td>NaN</td>\n",
              "      <td>...</td>\n",
              "      <td>NaN</td>\n",
              "      <td>NaN</td>\n",
              "      <td>NaN</td>\n",
              "      <td>NaN</td>\n",
              "      <td>NaN</td>\n",
              "      <td>NaN</td>\n",
              "      <td>NaN</td>\n",
              "      <td>NaN</td>\n",
              "      <td>NaN</td>\n",
              "      <td>45</td>\n",
              "    </tr>\n",
              "    <tr>\n",
              "      <th>...</th>\n",
              "      <td>...</td>\n",
              "      <td>...</td>\n",
              "      <td>...</td>\n",
              "      <td>...</td>\n",
              "      <td>...</td>\n",
              "      <td>...</td>\n",
              "      <td>...</td>\n",
              "      <td>...</td>\n",
              "      <td>...</td>\n",
              "      <td>...</td>\n",
              "      <td>...</td>\n",
              "      <td>...</td>\n",
              "      <td>...</td>\n",
              "      <td>...</td>\n",
              "      <td>...</td>\n",
              "      <td>...</td>\n",
              "      <td>...</td>\n",
              "      <td>...</td>\n",
              "      <td>...</td>\n",
              "      <td>...</td>\n",
              "      <td>...</td>\n",
              "    </tr>\n",
              "    <tr>\n",
              "      <th>95</th>\n",
              "      <td>0.042208</td>\n",
              "      <td>0.004758</td>\n",
              "      <td>0.002678</td>\n",
              "      <td>0.000144</td>\n",
              "      <td>10.0</td>\n",
              "      <td>none</td>\n",
              "      <td>newton-cg</td>\n",
              "      <td>{'C': 10.0, 'penalty': 'none', 'solver': 'newt...</td>\n",
              "      <td>0.918919</td>\n",
              "      <td>0.878378</td>\n",
              "      <td>...</td>\n",
              "      <td>0.864865</td>\n",
              "      <td>0.821918</td>\n",
              "      <td>0.876712</td>\n",
              "      <td>0.794521</td>\n",
              "      <td>0.876712</td>\n",
              "      <td>0.890411</td>\n",
              "      <td>0.835616</td>\n",
              "      <td>0.864994</td>\n",
              "      <td>0.035237</td>\n",
              "      <td>13</td>\n",
              "    </tr>\n",
              "    <tr>\n",
              "      <th>96</th>\n",
              "      <td>0.027936</td>\n",
              "      <td>0.001479</td>\n",
              "      <td>0.002920</td>\n",
              "      <td>0.000467</td>\n",
              "      <td>10.0</td>\n",
              "      <td>none</td>\n",
              "      <td>lbfgs</td>\n",
              "      <td>{'C': 10.0, 'penalty': 'none', 'solver': 'lbfgs'}</td>\n",
              "      <td>0.932432</td>\n",
              "      <td>0.878378</td>\n",
              "      <td>...</td>\n",
              "      <td>0.864865</td>\n",
              "      <td>0.849315</td>\n",
              "      <td>0.876712</td>\n",
              "      <td>0.780822</td>\n",
              "      <td>0.863014</td>\n",
              "      <td>0.876712</td>\n",
              "      <td>0.849315</td>\n",
              "      <td>0.866346</td>\n",
              "      <td>0.036452</td>\n",
              "      <td>8</td>\n",
              "    </tr>\n",
              "    <tr>\n",
              "      <th>97</th>\n",
              "      <td>0.000974</td>\n",
              "      <td>0.000158</td>\n",
              "      <td>0.000000</td>\n",
              "      <td>0.000000</td>\n",
              "      <td>10.0</td>\n",
              "      <td>none</td>\n",
              "      <td>liblinear</td>\n",
              "      <td>{'C': 10.0, 'penalty': 'none', 'solver': 'libl...</td>\n",
              "      <td>NaN</td>\n",
              "      <td>NaN</td>\n",
              "      <td>...</td>\n",
              "      <td>NaN</td>\n",
              "      <td>NaN</td>\n",
              "      <td>NaN</td>\n",
              "      <td>NaN</td>\n",
              "      <td>NaN</td>\n",
              "      <td>NaN</td>\n",
              "      <td>NaN</td>\n",
              "      <td>NaN</td>\n",
              "      <td>NaN</td>\n",
              "      <td>45</td>\n",
              "    </tr>\n",
              "    <tr>\n",
              "      <th>98</th>\n",
              "      <td>0.028841</td>\n",
              "      <td>0.002345</td>\n",
              "      <td>0.002892</td>\n",
              "      <td>0.001223</td>\n",
              "      <td>10.0</td>\n",
              "      <td>none</td>\n",
              "      <td>sag</td>\n",
              "      <td>{'C': 10.0, 'penalty': 'none', 'solver': 'sag'}</td>\n",
              "      <td>0.797297</td>\n",
              "      <td>0.824324</td>\n",
              "      <td>...</td>\n",
              "      <td>0.716216</td>\n",
              "      <td>0.712329</td>\n",
              "      <td>0.698630</td>\n",
              "      <td>0.712329</td>\n",
              "      <td>0.726027</td>\n",
              "      <td>0.808219</td>\n",
              "      <td>0.726027</td>\n",
              "      <td>0.749167</td>\n",
              "      <td>0.043957</td>\n",
              "      <td>25</td>\n",
              "    </tr>\n",
              "    <tr>\n",
              "      <th>99</th>\n",
              "      <td>0.029111</td>\n",
              "      <td>0.004303</td>\n",
              "      <td>0.002414</td>\n",
              "      <td>0.000576</td>\n",
              "      <td>10.0</td>\n",
              "      <td>none</td>\n",
              "      <td>saga</td>\n",
              "      <td>{'C': 10.0, 'penalty': 'none', 'solver': 'saga'}</td>\n",
              "      <td>0.770270</td>\n",
              "      <td>0.810811</td>\n",
              "      <td>...</td>\n",
              "      <td>0.729730</td>\n",
              "      <td>0.698630</td>\n",
              "      <td>0.698630</td>\n",
              "      <td>0.726027</td>\n",
              "      <td>0.712329</td>\n",
              "      <td>0.767123</td>\n",
              "      <td>0.726027</td>\n",
              "      <td>0.738282</td>\n",
              "      <td>0.033663</td>\n",
              "      <td>33</td>\n",
              "    </tr>\n",
              "  </tbody>\n",
              "</table>\n",
              "<p>100 rows × 21 columns</p>\n",
              "</div>\n",
              "      <button class=\"colab-df-convert\" onclick=\"convertToInteractive('df-cd4a1066-ef5c-47a7-bf4e-cd4ecf80baca')\"\n",
              "              title=\"Convert this dataframe to an interactive table.\"\n",
              "              style=\"display:none;\">\n",
              "        \n",
              "  <svg xmlns=\"http://www.w3.org/2000/svg\" height=\"24px\"viewBox=\"0 0 24 24\"\n",
              "       width=\"24px\">\n",
              "    <path d=\"M0 0h24v24H0V0z\" fill=\"none\"/>\n",
              "    <path d=\"M18.56 5.44l.94 2.06.94-2.06 2.06-.94-2.06-.94-.94-2.06-.94 2.06-2.06.94zm-11 1L8.5 8.5l.94-2.06 2.06-.94-2.06-.94L8.5 2.5l-.94 2.06-2.06.94zm10 10l.94 2.06.94-2.06 2.06-.94-2.06-.94-.94-2.06-.94 2.06-2.06.94z\"/><path d=\"M17.41 7.96l-1.37-1.37c-.4-.4-.92-.59-1.43-.59-.52 0-1.04.2-1.43.59L10.3 9.45l-7.72 7.72c-.78.78-.78 2.05 0 2.83L4 21.41c.39.39.9.59 1.41.59.51 0 1.02-.2 1.41-.59l7.78-7.78 2.81-2.81c.8-.78.8-2.07 0-2.86zM5.41 20L4 18.59l7.72-7.72 1.47 1.35L5.41 20z\"/>\n",
              "  </svg>\n",
              "      </button>\n",
              "      \n",
              "  <style>\n",
              "    .colab-df-container {\n",
              "      display:flex;\n",
              "      flex-wrap:wrap;\n",
              "      gap: 12px;\n",
              "    }\n",
              "\n",
              "    .colab-df-convert {\n",
              "      background-color: #E8F0FE;\n",
              "      border: none;\n",
              "      border-radius: 50%;\n",
              "      cursor: pointer;\n",
              "      display: none;\n",
              "      fill: #1967D2;\n",
              "      height: 32px;\n",
              "      padding: 0 0 0 0;\n",
              "      width: 32px;\n",
              "    }\n",
              "\n",
              "    .colab-df-convert:hover {\n",
              "      background-color: #E2EBFA;\n",
              "      box-shadow: 0px 1px 2px rgba(60, 64, 67, 0.3), 0px 1px 3px 1px rgba(60, 64, 67, 0.15);\n",
              "      fill: #174EA6;\n",
              "    }\n",
              "\n",
              "    [theme=dark] .colab-df-convert {\n",
              "      background-color: #3B4455;\n",
              "      fill: #D2E3FC;\n",
              "    }\n",
              "\n",
              "    [theme=dark] .colab-df-convert:hover {\n",
              "      background-color: #434B5C;\n",
              "      box-shadow: 0px 1px 3px 1px rgba(0, 0, 0, 0.15);\n",
              "      filter: drop-shadow(0px 1px 2px rgba(0, 0, 0, 0.3));\n",
              "      fill: #FFFFFF;\n",
              "    }\n",
              "  </style>\n",
              "\n",
              "      <script>\n",
              "        const buttonEl =\n",
              "          document.querySelector('#df-cd4a1066-ef5c-47a7-bf4e-cd4ecf80baca button.colab-df-convert');\n",
              "        buttonEl.style.display =\n",
              "          google.colab.kernel.accessAllowed ? 'block' : 'none';\n",
              "\n",
              "        async function convertToInteractive(key) {\n",
              "          const element = document.querySelector('#df-cd4a1066-ef5c-47a7-bf4e-cd4ecf80baca');\n",
              "          const dataTable =\n",
              "            await google.colab.kernel.invokeFunction('convertToInteractive',\n",
              "                                                     [key], {});\n",
              "          if (!dataTable) return;\n",
              "\n",
              "          const docLinkHtml = 'Like what you see? Visit the ' +\n",
              "            '<a target=\"_blank\" href=https://colab.research.google.com/notebooks/data_table.ipynb>data table notebook</a>'\n",
              "            + ' to learn more about interactive tables.';\n",
              "          element.innerHTML = '';\n",
              "          dataTable['output_type'] = 'display_data';\n",
              "          await google.colab.output.renderOutput(dataTable, element);\n",
              "          const docLink = document.createElement('div');\n",
              "          docLink.innerHTML = docLinkHtml;\n",
              "          element.appendChild(docLink);\n",
              "        }\n",
              "      </script>\n",
              "    </div>\n",
              "  </div>\n",
              "  "
            ]
          },
          "metadata": {},
          "execution_count": 232
        }
      ],
      "source": [
        "pd.DataFrame(grid.cv_results_)"
      ]
    },
    {
      "cell_type": "code",
      "execution_count": null,
      "metadata": {
        "colab": {
          "base_uri": "https://localhost:8080/"
        },
        "id": "n-mXOxwBIWd9",
        "outputId": "a2cdd840-6423-409d-95f7-d3b74907c3e8"
      },
      "outputs": [
        {
          "output_type": "stream",
          "name": "stdout",
          "text": [
            "0.8704553868937429\n",
            "{'C': 5.0, 'penalty': 'l2', 'solver': 'liblinear'}\n",
            "LogisticRegression(C=5.0, solver='liblinear')\n"
          ]
        }
      ],
      "source": [
        "# Single best score achieved across all params (k)\n",
        "print(grid.best_score_)\n",
        "\n",
        "# Dictionary containing the parameters (k) used to generate that score\n",
        "print(grid.best_params_)\n",
        "\n",
        "# Actual model object fit with those best parameters\n",
        "# Shows default parameters that we did not specify\n",
        "print(grid.best_estimator_)"
      ]
    },
    {
      "cell_type": "code",
      "execution_count": null,
      "metadata": {
        "colab": {
          "base_uri": "https://localhost:8080/"
        },
        "id": "il-YkokCNsuH",
        "outputId": "a39497ed-627f-4976-8697-58c2f5971d78"
      },
      "outputs": [
        {
          "output_type": "execute_result",
          "data": {
            "text/plain": [
              "(100, 21)"
            ]
          },
          "metadata": {},
          "execution_count": 234
        }
      ],
      "source": [
        "pd.DataFrame(grid.cv_results_).shape # обучалось 100 моделей"
      ]
    },
    {
      "cell_type": "markdown",
      "metadata": {
        "id": "D9PlfRZkOifE"
      },
      "source": [
        "## b) Используйте RandomizedSearchCV."
      ]
    },
    {
      "cell_type": "code",
      "execution_count": null,
      "metadata": {
        "id": "hr1O28ww_Rk0"
      },
      "outputs": [],
      "source": [
        "from sklearn.model_selection import RandomizedSearchCV"
      ]
    },
    {
      "cell_type": "code",
      "execution_count": null,
      "metadata": {
        "id": "qgE_vQmy_bLb"
      },
      "outputs": [],
      "source": [
        "grid_Random = RandomizedSearchCV(model, param_grid,cv=10, scoring='accuracy',random_state=42)"
      ]
    },
    {
      "cell_type": "code",
      "execution_count": null,
      "metadata": {
        "id": "fYtXsvq8_9qh",
        "colab": {
          "base_uri": "https://localhost:8080/",
          "height": 118
        },
        "outputId": "53b0fd9b-1522-4fd4-913b-9456230e8e49"
      },
      "outputs": [
        {
          "output_type": "execute_result",
          "data": {
            "text/plain": [
              "RandomizedSearchCV(cv=10, estimator=LogisticRegression(),\n",
              "                   param_distributions={'C': array([ 0. ,  2.5,  5. ,  7.5, 10. ]),\n",
              "                                        'penalty': ['l1', 'l2', 'elasticnet',\n",
              "                                                    'none'],\n",
              "                                        'solver': ['newton-cg', 'lbfgs',\n",
              "                                                   'liblinear', 'sag',\n",
              "                                                   'saga']},\n",
              "                   random_state=42, scoring='accuracy')"
            ],
            "text/html": [
              "<style>#sk-container-id-4 {color: black;background-color: white;}#sk-container-id-4 pre{padding: 0;}#sk-container-id-4 div.sk-toggleable {background-color: white;}#sk-container-id-4 label.sk-toggleable__label {cursor: pointer;display: block;width: 100%;margin-bottom: 0;padding: 0.3em;box-sizing: border-box;text-align: center;}#sk-container-id-4 label.sk-toggleable__label-arrow:before {content: \"▸\";float: left;margin-right: 0.25em;color: #696969;}#sk-container-id-4 label.sk-toggleable__label-arrow:hover:before {color: black;}#sk-container-id-4 div.sk-estimator:hover label.sk-toggleable__label-arrow:before {color: black;}#sk-container-id-4 div.sk-toggleable__content {max-height: 0;max-width: 0;overflow: hidden;text-align: left;background-color: #f0f8ff;}#sk-container-id-4 div.sk-toggleable__content pre {margin: 0.2em;color: black;border-radius: 0.25em;background-color: #f0f8ff;}#sk-container-id-4 input.sk-toggleable__control:checked~div.sk-toggleable__content {max-height: 200px;max-width: 100%;overflow: auto;}#sk-container-id-4 input.sk-toggleable__control:checked~label.sk-toggleable__label-arrow:before {content: \"▾\";}#sk-container-id-4 div.sk-estimator input.sk-toggleable__control:checked~label.sk-toggleable__label {background-color: #d4ebff;}#sk-container-id-4 div.sk-label input.sk-toggleable__control:checked~label.sk-toggleable__label {background-color: #d4ebff;}#sk-container-id-4 input.sk-hidden--visually {border: 0;clip: rect(1px 1px 1px 1px);clip: rect(1px, 1px, 1px, 1px);height: 1px;margin: -1px;overflow: hidden;padding: 0;position: absolute;width: 1px;}#sk-container-id-4 div.sk-estimator {font-family: monospace;background-color: #f0f8ff;border: 1px dotted black;border-radius: 0.25em;box-sizing: border-box;margin-bottom: 0.5em;}#sk-container-id-4 div.sk-estimator:hover {background-color: #d4ebff;}#sk-container-id-4 div.sk-parallel-item::after {content: \"\";width: 100%;border-bottom: 1px solid gray;flex-grow: 1;}#sk-container-id-4 div.sk-label:hover label.sk-toggleable__label {background-color: #d4ebff;}#sk-container-id-4 div.sk-serial::before {content: \"\";position: absolute;border-left: 1px solid gray;box-sizing: border-box;top: 0;bottom: 0;left: 50%;z-index: 0;}#sk-container-id-4 div.sk-serial {display: flex;flex-direction: column;align-items: center;background-color: white;padding-right: 0.2em;padding-left: 0.2em;position: relative;}#sk-container-id-4 div.sk-item {position: relative;z-index: 1;}#sk-container-id-4 div.sk-parallel {display: flex;align-items: stretch;justify-content: center;background-color: white;position: relative;}#sk-container-id-4 div.sk-item::before, #sk-container-id-4 div.sk-parallel-item::before {content: \"\";position: absolute;border-left: 1px solid gray;box-sizing: border-box;top: 0;bottom: 0;left: 50%;z-index: -1;}#sk-container-id-4 div.sk-parallel-item {display: flex;flex-direction: column;z-index: 1;position: relative;background-color: white;}#sk-container-id-4 div.sk-parallel-item:first-child::after {align-self: flex-end;width: 50%;}#sk-container-id-4 div.sk-parallel-item:last-child::after {align-self: flex-start;width: 50%;}#sk-container-id-4 div.sk-parallel-item:only-child::after {width: 0;}#sk-container-id-4 div.sk-dashed-wrapped {border: 1px dashed gray;margin: 0 0.4em 0.5em 0.4em;box-sizing: border-box;padding-bottom: 0.4em;background-color: white;}#sk-container-id-4 div.sk-label label {font-family: monospace;font-weight: bold;display: inline-block;line-height: 1.2em;}#sk-container-id-4 div.sk-label-container {text-align: center;}#sk-container-id-4 div.sk-container {/* jupyter's `normalize.less` sets `[hidden] { display: none; }` but bootstrap.min.css set `[hidden] { display: none !important; }` so we also need the `!important` here to be able to override the default hidden behavior on the sphinx rendered scikit-learn.org. See: https://github.com/scikit-learn/scikit-learn/issues/21755 */display: inline-block !important;position: relative;}#sk-container-id-4 div.sk-text-repr-fallback {display: none;}</style><div id=\"sk-container-id-4\" class=\"sk-top-container\"><div class=\"sk-text-repr-fallback\"><pre>RandomizedSearchCV(cv=10, estimator=LogisticRegression(),\n",
              "                   param_distributions={&#x27;C&#x27;: array([ 0. ,  2.5,  5. ,  7.5, 10. ]),\n",
              "                                        &#x27;penalty&#x27;: [&#x27;l1&#x27;, &#x27;l2&#x27;, &#x27;elasticnet&#x27;,\n",
              "                                                    &#x27;none&#x27;],\n",
              "                                        &#x27;solver&#x27;: [&#x27;newton-cg&#x27;, &#x27;lbfgs&#x27;,\n",
              "                                                   &#x27;liblinear&#x27;, &#x27;sag&#x27;,\n",
              "                                                   &#x27;saga&#x27;]},\n",
              "                   random_state=42, scoring=&#x27;accuracy&#x27;)</pre><b>In a Jupyter environment, please rerun this cell to show the HTML representation or trust the notebook. <br />On GitHub, the HTML representation is unable to render, please try loading this page with nbviewer.org.</b></div><div class=\"sk-container\" hidden><div class=\"sk-item sk-dashed-wrapped\"><div class=\"sk-label-container\"><div class=\"sk-label sk-toggleable\"><input class=\"sk-toggleable__control sk-hidden--visually\" id=\"sk-estimator-id-10\" type=\"checkbox\" ><label for=\"sk-estimator-id-10\" class=\"sk-toggleable__label sk-toggleable__label-arrow\">RandomizedSearchCV</label><div class=\"sk-toggleable__content\"><pre>RandomizedSearchCV(cv=10, estimator=LogisticRegression(),\n",
              "                   param_distributions={&#x27;C&#x27;: array([ 0. ,  2.5,  5. ,  7.5, 10. ]),\n",
              "                                        &#x27;penalty&#x27;: [&#x27;l1&#x27;, &#x27;l2&#x27;, &#x27;elasticnet&#x27;,\n",
              "                                                    &#x27;none&#x27;],\n",
              "                                        &#x27;solver&#x27;: [&#x27;newton-cg&#x27;, &#x27;lbfgs&#x27;,\n",
              "                                                   &#x27;liblinear&#x27;, &#x27;sag&#x27;,\n",
              "                                                   &#x27;saga&#x27;]},\n",
              "                   random_state=42, scoring=&#x27;accuracy&#x27;)</pre></div></div></div><div class=\"sk-parallel\"><div class=\"sk-parallel-item\"><div class=\"sk-item\"><div class=\"sk-label-container\"><div class=\"sk-label sk-toggleable\"><input class=\"sk-toggleable__control sk-hidden--visually\" id=\"sk-estimator-id-11\" type=\"checkbox\" ><label for=\"sk-estimator-id-11\" class=\"sk-toggleable__label sk-toggleable__label-arrow\">estimator: LogisticRegression</label><div class=\"sk-toggleable__content\"><pre>LogisticRegression()</pre></div></div></div><div class=\"sk-serial\"><div class=\"sk-item\"><div class=\"sk-estimator sk-toggleable\"><input class=\"sk-toggleable__control sk-hidden--visually\" id=\"sk-estimator-id-12\" type=\"checkbox\" ><label for=\"sk-estimator-id-12\" class=\"sk-toggleable__label sk-toggleable__label-arrow\">LogisticRegression</label><div class=\"sk-toggleable__content\"><pre>LogisticRegression()</pre></div></div></div></div></div></div></div></div></div></div>"
            ]
          },
          "metadata": {},
          "execution_count": 237
        }
      ],
      "source": [
        "grid_Random.fit(X_train, y_train)"
      ]
    },
    {
      "cell_type": "code",
      "execution_count": null,
      "metadata": {
        "colab": {
          "base_uri": "https://localhost:8080/"
        },
        "id": "dWaB7sVfAiD_",
        "outputId": "0f55cbe7-ecd8-4064-9d28-c9e30d4ff9bf"
      },
      "outputs": [
        {
          "output_type": "stream",
          "name": "stdout",
          "text": [
            "0.8649944465012958\n",
            "{'solver': 'newton-cg', 'penalty': 'l2', 'C': 5.0}\n",
            "LogisticRegression(C=5.0, solver='newton-cg')\n"
          ]
        }
      ],
      "source": [
        "# Single best score achieved across all params (k)\n",
        "print(grid_Random.best_score_)\n",
        "\n",
        "# Dictionary containing the parameters (k) used to generate that score\n",
        "print(grid_Random.best_params_)\n",
        "\n",
        "# Actual model object fit with those best parameters\n",
        "# Shows default parameters that we did not specify\n",
        "print(grid_Random.best_estimator_)"
      ]
    },
    {
      "cell_type": "code",
      "execution_count": null,
      "metadata": {
        "colab": {
          "base_uri": "https://localhost:8080/"
        },
        "id": "aFF9L8aoAiEG",
        "outputId": "e0f2fc9a-f4a1-43cd-e0d3-c3cb02853356"
      },
      "outputs": [
        {
          "output_type": "execute_result",
          "data": {
            "text/plain": [
              "(10, 21)"
            ]
          },
          "metadata": {},
          "execution_count": 239
        }
      ],
      "source": [
        "pd.DataFrame(grid_Random.cv_results_).shape # обучалось 10 моделей"
      ]
    },
    {
      "cell_type": "markdown",
      "metadata": {
        "id": "tYBDQM-5OoOy"
      },
      "source": [
        "## c) *Добавьте в п. 6b 2-5 моделей классификации и вариации их параметров."
      ]
    },
    {
      "cell_type": "code",
      "execution_count": null,
      "metadata": {
        "id": "p-dXN-9WPJOd"
      },
      "outputs": [],
      "source": [
        "from sklearn.svm import SVC\n",
        "from sklearn.ensemble import RandomForestClassifier\n",
        "from sklearn.tree import DecisionTreeClassifier\n",
        "\n",
        "from tqdm import tqdm"
      ]
    },
    {
      "cell_type": "code",
      "execution_count": null,
      "metadata": {
        "id": "HuQ_Hhu0QqZj"
      },
      "outputs": [],
      "source": [
        "import warnings\n",
        "warnings.filterwarnings('ignore')"
      ]
    },
    {
      "cell_type": "code",
      "execution_count": null,
      "metadata": {
        "id": "KV3tMjDyI8Ck"
      },
      "outputs": [],
      "source": [
        "from sklearn.neighbors import KNeighborsClassifier"
      ]
    },
    {
      "cell_type": "code",
      "execution_count": null,
      "metadata": {
        "id": "F3ycyeU-N72v"
      },
      "outputs": [],
      "source": [
        "models=[\n",
        "      {'name':'Lr',\"model\": LogisticRegression(),\n",
        "       'params':\n",
        "              {'C':np.linspace(0, 10, 5),\n",
        "                'penalty':['l1', 'l2', 'elasticnet', 'none'],\n",
        "                'solver':['newton-cg', 'lbfgs', 'liblinear', 'sag', 'saga']\n",
        "              }\n",
        "      },\n",
        "      {'name':'SVC',\"model\": SVC(),\n",
        "       'params':\n",
        "              {'C': np.linspace(0, 10, 5),\n",
        "               'kernel':['linear', 'poly', 'rbf', 'sigmoid'],\n",
        "               'degree':[1,2,3,5]\n",
        "               }\n",
        "       },\n",
        "      {'name':'RF',\"model\": RandomForestClassifier(random_state=42),\n",
        "       'params':\n",
        "              {'n_estimators':[10,25,50,100,150,200],\n",
        "               'criterion':['gini', 'entropy'],\n",
        "               'max_depth':[3,5,7,9,11],\n",
        "               'min_samples_leaf':[1,2,3,5]\n",
        "               }\n",
        "       },\n",
        "      {'name':'KNN',\"model\": KNeighborsClassifier(),\n",
        "       'params':\n",
        "              {'n_neighbors':list(range(1,30)),\n",
        "               'weights': ['uniform', 'distance'],\n",
        "               'p':[1,2,3],\n",
        "               'metric':['euclidean', 'minkowski']\n",
        "               }\n",
        "       },\n",
        "      {'name':'DT',\"model\": DecisionTreeClassifier(random_state=42),\n",
        "       'params':\n",
        "              {'criterion':['gini', 'entropy'],\n",
        "               'max_depth':[3,5,7,9,11],\n",
        "               'min_samples_split':[2,3,4,5,7,9],\n",
        "               'min_samples_leaf':[1,2,3,5]\n",
        "               }\n",
        "       }\n",
        "]"
      ]
    },
    {
      "cell_type": "code",
      "execution_count": null,
      "metadata": {
        "colab": {
          "base_uri": "https://localhost:8080/"
        },
        "id": "PVzI1N5HP3Ah",
        "outputId": "b274d829-bc4a-4c28-b795-69213ee562f8"
      },
      "outputs": [
        {
          "output_type": "stream",
          "name": "stderr",
          "text": [
            "100%|██████████| 5/5 [01:19<00:00, 15.95s/it]"
          ]
        },
        {
          "output_type": "stream",
          "name": "stdout",
          "text": [
            "CPU times: user 1min 20s, sys: 803 ms, total: 1min 21s\n",
            "Wall time: 1min 19s\n"
          ]
        },
        {
          "output_type": "stream",
          "name": "stderr",
          "text": [
            "\n"
          ]
        }
      ],
      "source": [
        "%%time\n",
        "\n",
        "\n",
        "res = []\n",
        "for v in tqdm(models):\n",
        "    res.append((v['name'], RandomizedSearchCV(v['model'], v['params'],cv=10, random_state=42).fit(X_train, y_train)))"
      ]
    },
    {
      "cell_type": "code",
      "execution_count": null,
      "metadata": {
        "colab": {
          "base_uri": "https://localhost:8080/"
        },
        "id": "Y0YHFkQGQi7w",
        "outputId": "4a1accec-d4ad-4736-df3f-43df30d10246"
      },
      "outputs": [
        {
          "output_type": "stream",
          "name": "stdout",
          "text": [
            "Lr 0.8649944465012958 {'solver': 'newton-cg', 'penalty': 'l2', 'C': 5.0}\n",
            "SVC 0.8676971492039985 {'kernel': 'linear', 'degree': 5, 'C': 2.5}\n",
            "RF 0.8718252499074417 {'n_estimators': 150, 'min_samples_leaf': 1, 'max_depth': 7, 'criterion': 'entropy'}\n",
            "KNN 0.7286560533135875 {'weights': 'uniform', 'p': 2, 'n_neighbors': 9, 'metric': 'minkowski'}\n",
            "DT 0.8404850055534986 {'min_samples_split': 9, 'min_samples_leaf': 5, 'max_depth': 3, 'criterion': 'entropy'}\n"
          ]
        }
      ],
      "source": [
        "for r in res:\n",
        "    print(r[0], r[1].best_score_, r[1].best_params_)"
      ]
    },
    {
      "cell_type": "markdown",
      "source": [
        "Лучший результат у модели RandomForestClassifier"
      ],
      "metadata": {
        "id": "zunCCnTjRati"
      }
    },
    {
      "cell_type": "markdown",
      "metadata": {
        "id": "GKtNNROdOsRP"
      },
      "source": [
        "## d) Повторите п. 5 после каждого итогового изменения параметров."
      ]
    },
    {
      "cell_type": "markdown",
      "source": [
        "### модель по п.6.а"
      ],
      "metadata": {
        "id": "wCXC7tBYe_Vp"
      }
    },
    {
      "cell_type": "code",
      "execution_count": null,
      "metadata": {
        "id": "Ym4fbSbFyWjJ"
      },
      "outputs": [],
      "source": [
        "model_1=LogisticRegression(C=5.0,penalty='l2',solver='liblinear').fit(X_train, y_train)"
      ]
    },
    {
      "cell_type": "code",
      "source": [
        "metr_1=cross_validate(model_1, X_train, y_train, cv=10,scoring=['accuracy','recall','precision','f1'])"
      ],
      "metadata": {
        "id": "fP94Jsq4fJVr"
      },
      "execution_count": null,
      "outputs": []
    },
    {
      "cell_type": "code",
      "source": [
        "df_1=pd.DataFrame(metr_1)\n",
        "df_1"
      ],
      "metadata": {
        "colab": {
          "base_uri": "https://localhost:8080/",
          "height": 363
        },
        "id": "YGTB__jtfVia",
        "outputId": "87e1444f-ae5c-4bdc-fbed-a273970ce58a"
      },
      "execution_count": null,
      "outputs": [
        {
          "output_type": "execute_result",
          "data": {
            "text/plain": [
              "   fit_time  score_time  test_accuracy  test_recall  test_precision   test_f1\n",
              "0  0.007003    0.005146       0.932432     0.925000        0.948718  0.936709\n",
              "1  0.004483    0.004256       0.878378     0.875000        0.897436  0.886076\n",
              "2  0.004260    0.004211       0.891892     0.875000        0.921053  0.897436\n",
              "3  0.004131    0.008831       0.864865     0.902439        0.860465  0.880952\n",
              "4  0.006601    0.004424       0.849315     0.875000        0.853659  0.864198\n",
              "5  0.004187    0.004203       0.890411     0.925000        0.880952  0.902439\n",
              "6  0.003947    0.004175       0.794521     0.850000        0.790698  0.819277\n",
              "7  0.004266    0.004236       0.876712     0.900000        0.878049  0.888889\n",
              "8  0.004049    0.004883       0.890411     0.950000        0.863636  0.904762\n",
              "9  0.005331    0.004330       0.835616     0.900000        0.818182  0.857143"
            ],
            "text/html": [
              "\n",
              "  <div id=\"df-28847dec-9eb3-41ec-b257-db360361824e\">\n",
              "    <div class=\"colab-df-container\">\n",
              "      <div>\n",
              "<style scoped>\n",
              "    .dataframe tbody tr th:only-of-type {\n",
              "        vertical-align: middle;\n",
              "    }\n",
              "\n",
              "    .dataframe tbody tr th {\n",
              "        vertical-align: top;\n",
              "    }\n",
              "\n",
              "    .dataframe thead th {\n",
              "        text-align: right;\n",
              "    }\n",
              "</style>\n",
              "<table border=\"1\" class=\"dataframe\">\n",
              "  <thead>\n",
              "    <tr style=\"text-align: right;\">\n",
              "      <th></th>\n",
              "      <th>fit_time</th>\n",
              "      <th>score_time</th>\n",
              "      <th>test_accuracy</th>\n",
              "      <th>test_recall</th>\n",
              "      <th>test_precision</th>\n",
              "      <th>test_f1</th>\n",
              "    </tr>\n",
              "  </thead>\n",
              "  <tbody>\n",
              "    <tr>\n",
              "      <th>0</th>\n",
              "      <td>0.007003</td>\n",
              "      <td>0.005146</td>\n",
              "      <td>0.932432</td>\n",
              "      <td>0.925000</td>\n",
              "      <td>0.948718</td>\n",
              "      <td>0.936709</td>\n",
              "    </tr>\n",
              "    <tr>\n",
              "      <th>1</th>\n",
              "      <td>0.004483</td>\n",
              "      <td>0.004256</td>\n",
              "      <td>0.878378</td>\n",
              "      <td>0.875000</td>\n",
              "      <td>0.897436</td>\n",
              "      <td>0.886076</td>\n",
              "    </tr>\n",
              "    <tr>\n",
              "      <th>2</th>\n",
              "      <td>0.004260</td>\n",
              "      <td>0.004211</td>\n",
              "      <td>0.891892</td>\n",
              "      <td>0.875000</td>\n",
              "      <td>0.921053</td>\n",
              "      <td>0.897436</td>\n",
              "    </tr>\n",
              "    <tr>\n",
              "      <th>3</th>\n",
              "      <td>0.004131</td>\n",
              "      <td>0.008831</td>\n",
              "      <td>0.864865</td>\n",
              "      <td>0.902439</td>\n",
              "      <td>0.860465</td>\n",
              "      <td>0.880952</td>\n",
              "    </tr>\n",
              "    <tr>\n",
              "      <th>4</th>\n",
              "      <td>0.006601</td>\n",
              "      <td>0.004424</td>\n",
              "      <td>0.849315</td>\n",
              "      <td>0.875000</td>\n",
              "      <td>0.853659</td>\n",
              "      <td>0.864198</td>\n",
              "    </tr>\n",
              "    <tr>\n",
              "      <th>5</th>\n",
              "      <td>0.004187</td>\n",
              "      <td>0.004203</td>\n",
              "      <td>0.890411</td>\n",
              "      <td>0.925000</td>\n",
              "      <td>0.880952</td>\n",
              "      <td>0.902439</td>\n",
              "    </tr>\n",
              "    <tr>\n",
              "      <th>6</th>\n",
              "      <td>0.003947</td>\n",
              "      <td>0.004175</td>\n",
              "      <td>0.794521</td>\n",
              "      <td>0.850000</td>\n",
              "      <td>0.790698</td>\n",
              "      <td>0.819277</td>\n",
              "    </tr>\n",
              "    <tr>\n",
              "      <th>7</th>\n",
              "      <td>0.004266</td>\n",
              "      <td>0.004236</td>\n",
              "      <td>0.876712</td>\n",
              "      <td>0.900000</td>\n",
              "      <td>0.878049</td>\n",
              "      <td>0.888889</td>\n",
              "    </tr>\n",
              "    <tr>\n",
              "      <th>8</th>\n",
              "      <td>0.004049</td>\n",
              "      <td>0.004883</td>\n",
              "      <td>0.890411</td>\n",
              "      <td>0.950000</td>\n",
              "      <td>0.863636</td>\n",
              "      <td>0.904762</td>\n",
              "    </tr>\n",
              "    <tr>\n",
              "      <th>9</th>\n",
              "      <td>0.005331</td>\n",
              "      <td>0.004330</td>\n",
              "      <td>0.835616</td>\n",
              "      <td>0.900000</td>\n",
              "      <td>0.818182</td>\n",
              "      <td>0.857143</td>\n",
              "    </tr>\n",
              "  </tbody>\n",
              "</table>\n",
              "</div>\n",
              "      <button class=\"colab-df-convert\" onclick=\"convertToInteractive('df-28847dec-9eb3-41ec-b257-db360361824e')\"\n",
              "              title=\"Convert this dataframe to an interactive table.\"\n",
              "              style=\"display:none;\">\n",
              "        \n",
              "  <svg xmlns=\"http://www.w3.org/2000/svg\" height=\"24px\"viewBox=\"0 0 24 24\"\n",
              "       width=\"24px\">\n",
              "    <path d=\"M0 0h24v24H0V0z\" fill=\"none\"/>\n",
              "    <path d=\"M18.56 5.44l.94 2.06.94-2.06 2.06-.94-2.06-.94-.94-2.06-.94 2.06-2.06.94zm-11 1L8.5 8.5l.94-2.06 2.06-.94-2.06-.94L8.5 2.5l-.94 2.06-2.06.94zm10 10l.94 2.06.94-2.06 2.06-.94-2.06-.94-.94-2.06-.94 2.06-2.06.94z\"/><path d=\"M17.41 7.96l-1.37-1.37c-.4-.4-.92-.59-1.43-.59-.52 0-1.04.2-1.43.59L10.3 9.45l-7.72 7.72c-.78.78-.78 2.05 0 2.83L4 21.41c.39.39.9.59 1.41.59.51 0 1.02-.2 1.41-.59l7.78-7.78 2.81-2.81c.8-.78.8-2.07 0-2.86zM5.41 20L4 18.59l7.72-7.72 1.47 1.35L5.41 20z\"/>\n",
              "  </svg>\n",
              "      </button>\n",
              "      \n",
              "  <style>\n",
              "    .colab-df-container {\n",
              "      display:flex;\n",
              "      flex-wrap:wrap;\n",
              "      gap: 12px;\n",
              "    }\n",
              "\n",
              "    .colab-df-convert {\n",
              "      background-color: #E8F0FE;\n",
              "      border: none;\n",
              "      border-radius: 50%;\n",
              "      cursor: pointer;\n",
              "      display: none;\n",
              "      fill: #1967D2;\n",
              "      height: 32px;\n",
              "      padding: 0 0 0 0;\n",
              "      width: 32px;\n",
              "    }\n",
              "\n",
              "    .colab-df-convert:hover {\n",
              "      background-color: #E2EBFA;\n",
              "      box-shadow: 0px 1px 2px rgba(60, 64, 67, 0.3), 0px 1px 3px 1px rgba(60, 64, 67, 0.15);\n",
              "      fill: #174EA6;\n",
              "    }\n",
              "\n",
              "    [theme=dark] .colab-df-convert {\n",
              "      background-color: #3B4455;\n",
              "      fill: #D2E3FC;\n",
              "    }\n",
              "\n",
              "    [theme=dark] .colab-df-convert:hover {\n",
              "      background-color: #434B5C;\n",
              "      box-shadow: 0px 1px 3px 1px rgba(0, 0, 0, 0.15);\n",
              "      filter: drop-shadow(0px 1px 2px rgba(0, 0, 0, 0.3));\n",
              "      fill: #FFFFFF;\n",
              "    }\n",
              "  </style>\n",
              "\n",
              "      <script>\n",
              "        const buttonEl =\n",
              "          document.querySelector('#df-28847dec-9eb3-41ec-b257-db360361824e button.colab-df-convert');\n",
              "        buttonEl.style.display =\n",
              "          google.colab.kernel.accessAllowed ? 'block' : 'none';\n",
              "\n",
              "        async function convertToInteractive(key) {\n",
              "          const element = document.querySelector('#df-28847dec-9eb3-41ec-b257-db360361824e');\n",
              "          const dataTable =\n",
              "            await google.colab.kernel.invokeFunction('convertToInteractive',\n",
              "                                                     [key], {});\n",
              "          if (!dataTable) return;\n",
              "\n",
              "          const docLinkHtml = 'Like what you see? Visit the ' +\n",
              "            '<a target=\"_blank\" href=https://colab.research.google.com/notebooks/data_table.ipynb>data table notebook</a>'\n",
              "            + ' to learn more about interactive tables.';\n",
              "          element.innerHTML = '';\n",
              "          dataTable['output_type'] = 'display_data';\n",
              "          await google.colab.output.renderOutput(dataTable, element);\n",
              "          const docLink = document.createElement('div');\n",
              "          docLink.innerHTML = docLinkHtml;\n",
              "          element.appendChild(docLink);\n",
              "        }\n",
              "      </script>\n",
              "    </div>\n",
              "  </div>\n",
              "  "
            ]
          },
          "metadata": {},
          "execution_count": 248
        }
      ]
    },
    {
      "cell_type": "markdown",
      "metadata": {
        "id": "XP1X4BuvVGAU"
      },
      "source": [
        "Видно, что в метриках между сгибов в cross_validate есть значительные различия, это может указывать на чрезмерную подгонку к определенным сгибам."
      ]
    },
    {
      "cell_type": "code",
      "execution_count": null,
      "metadata": {
        "colab": {
          "base_uri": "https://localhost:8080/",
          "height": 238
        },
        "outputId": "a0bdb11d-dcb0-413d-dc1e-d20ad8030557",
        "id": "JtRnr-lmVGAV"
      },
      "outputs": [
        {
          "output_type": "execute_result",
          "data": {
            "text/plain": [
              "                Validate_model_1\n",
              "fit_time                0.004826\n",
              "score_time              0.004870\n",
              "test_accuracy           0.870455\n",
              "test_recall             0.897744\n",
              "test_precision          0.871285\n",
              "test_f1                 0.883788"
            ],
            "text/html": [
              "\n",
              "  <div id=\"df-c22e2de9-18bc-48dc-bf59-e7b02bd6bb75\">\n",
              "    <div class=\"colab-df-container\">\n",
              "      <div>\n",
              "<style scoped>\n",
              "    .dataframe tbody tr th:only-of-type {\n",
              "        vertical-align: middle;\n",
              "    }\n",
              "\n",
              "    .dataframe tbody tr th {\n",
              "        vertical-align: top;\n",
              "    }\n",
              "\n",
              "    .dataframe thead th {\n",
              "        text-align: right;\n",
              "    }\n",
              "</style>\n",
              "<table border=\"1\" class=\"dataframe\">\n",
              "  <thead>\n",
              "    <tr style=\"text-align: right;\">\n",
              "      <th></th>\n",
              "      <th>Validate_model_1</th>\n",
              "    </tr>\n",
              "  </thead>\n",
              "  <tbody>\n",
              "    <tr>\n",
              "      <th>fit_time</th>\n",
              "      <td>0.004826</td>\n",
              "    </tr>\n",
              "    <tr>\n",
              "      <th>score_time</th>\n",
              "      <td>0.004870</td>\n",
              "    </tr>\n",
              "    <tr>\n",
              "      <th>test_accuracy</th>\n",
              "      <td>0.870455</td>\n",
              "    </tr>\n",
              "    <tr>\n",
              "      <th>test_recall</th>\n",
              "      <td>0.897744</td>\n",
              "    </tr>\n",
              "    <tr>\n",
              "      <th>test_precision</th>\n",
              "      <td>0.871285</td>\n",
              "    </tr>\n",
              "    <tr>\n",
              "      <th>test_f1</th>\n",
              "      <td>0.883788</td>\n",
              "    </tr>\n",
              "  </tbody>\n",
              "</table>\n",
              "</div>\n",
              "      <button class=\"colab-df-convert\" onclick=\"convertToInteractive('df-c22e2de9-18bc-48dc-bf59-e7b02bd6bb75')\"\n",
              "              title=\"Convert this dataframe to an interactive table.\"\n",
              "              style=\"display:none;\">\n",
              "        \n",
              "  <svg xmlns=\"http://www.w3.org/2000/svg\" height=\"24px\"viewBox=\"0 0 24 24\"\n",
              "       width=\"24px\">\n",
              "    <path d=\"M0 0h24v24H0V0z\" fill=\"none\"/>\n",
              "    <path d=\"M18.56 5.44l.94 2.06.94-2.06 2.06-.94-2.06-.94-.94-2.06-.94 2.06-2.06.94zm-11 1L8.5 8.5l.94-2.06 2.06-.94-2.06-.94L8.5 2.5l-.94 2.06-2.06.94zm10 10l.94 2.06.94-2.06 2.06-.94-2.06-.94-.94-2.06-.94 2.06-2.06.94z\"/><path d=\"M17.41 7.96l-1.37-1.37c-.4-.4-.92-.59-1.43-.59-.52 0-1.04.2-1.43.59L10.3 9.45l-7.72 7.72c-.78.78-.78 2.05 0 2.83L4 21.41c.39.39.9.59 1.41.59.51 0 1.02-.2 1.41-.59l7.78-7.78 2.81-2.81c.8-.78.8-2.07 0-2.86zM5.41 20L4 18.59l7.72-7.72 1.47 1.35L5.41 20z\"/>\n",
              "  </svg>\n",
              "      </button>\n",
              "      \n",
              "  <style>\n",
              "    .colab-df-container {\n",
              "      display:flex;\n",
              "      flex-wrap:wrap;\n",
              "      gap: 12px;\n",
              "    }\n",
              "\n",
              "    .colab-df-convert {\n",
              "      background-color: #E8F0FE;\n",
              "      border: none;\n",
              "      border-radius: 50%;\n",
              "      cursor: pointer;\n",
              "      display: none;\n",
              "      fill: #1967D2;\n",
              "      height: 32px;\n",
              "      padding: 0 0 0 0;\n",
              "      width: 32px;\n",
              "    }\n",
              "\n",
              "    .colab-df-convert:hover {\n",
              "      background-color: #E2EBFA;\n",
              "      box-shadow: 0px 1px 2px rgba(60, 64, 67, 0.3), 0px 1px 3px 1px rgba(60, 64, 67, 0.15);\n",
              "      fill: #174EA6;\n",
              "    }\n",
              "\n",
              "    [theme=dark] .colab-df-convert {\n",
              "      background-color: #3B4455;\n",
              "      fill: #D2E3FC;\n",
              "    }\n",
              "\n",
              "    [theme=dark] .colab-df-convert:hover {\n",
              "      background-color: #434B5C;\n",
              "      box-shadow: 0px 1px 3px 1px rgba(0, 0, 0, 0.15);\n",
              "      filter: drop-shadow(0px 1px 2px rgba(0, 0, 0, 0.3));\n",
              "      fill: #FFFFFF;\n",
              "    }\n",
              "  </style>\n",
              "\n",
              "      <script>\n",
              "        const buttonEl =\n",
              "          document.querySelector('#df-c22e2de9-18bc-48dc-bf59-e7b02bd6bb75 button.colab-df-convert');\n",
              "        buttonEl.style.display =\n",
              "          google.colab.kernel.accessAllowed ? 'block' : 'none';\n",
              "\n",
              "        async function convertToInteractive(key) {\n",
              "          const element = document.querySelector('#df-c22e2de9-18bc-48dc-bf59-e7b02bd6bb75');\n",
              "          const dataTable =\n",
              "            await google.colab.kernel.invokeFunction('convertToInteractive',\n",
              "                                                     [key], {});\n",
              "          if (!dataTable) return;\n",
              "\n",
              "          const docLinkHtml = 'Like what you see? Visit the ' +\n",
              "            '<a target=\"_blank\" href=https://colab.research.google.com/notebooks/data_table.ipynb>data table notebook</a>'\n",
              "            + ' to learn more about interactive tables.';\n",
              "          element.innerHTML = '';\n",
              "          dataTable['output_type'] = 'display_data';\n",
              "          await google.colab.output.renderOutput(dataTable, element);\n",
              "          const docLink = document.createElement('div');\n",
              "          docLink.innerHTML = docLinkHtml;\n",
              "          element.appendChild(docLink);\n",
              "        }\n",
              "      </script>\n",
              "    </div>\n",
              "  </div>\n",
              "  "
            ]
          },
          "metadata": {},
          "execution_count": 249
        }
      ],
      "source": [
        "metr_1=df_1.agg('mean')\n",
        "metr_1 = pd.Series(metr_1, name='Validate_model_1')\n",
        "df_1=pd.DataFrame(metr_1)\n",
        "df_1"
      ]
    },
    {
      "cell_type": "code",
      "execution_count": null,
      "metadata": {
        "id": "t5Dvpk_LVGAY"
      },
      "outputs": [],
      "source": [
        "pred_1 = model_1.predict(X_test)"
      ]
    },
    {
      "cell_type": "code",
      "execution_count": null,
      "metadata": {
        "colab": {
          "base_uri": "https://localhost:8080/"
        },
        "outputId": "669dbc50-e341-4546-8f3d-f60fff16709a",
        "id": "hFvz6iHwVGAZ"
      },
      "outputs": [
        {
          "output_type": "execute_result",
          "data": {
            "text/plain": [
              "(precision    0.848810\n",
              " recall       0.855626\n",
              " f1-score     0.850932\n",
              " Name: macro avg, dtype: float64, support    0.853261\n",
              " Name: accuracy, dtype: float64)"
            ]
          },
          "metadata": {},
          "execution_count": 251
        }
      ],
      "source": [
        "report_1 = classification_report(y_test, pred_1, output_dict=True)\n",
        "df1_1 = pd.DataFrame(report_1)\n",
        "df1_1[0:3]['macro avg'], df1_1[3:]['accuracy'] # используем макро-усреднение, важно распознавать все классы"
      ]
    },
    {
      "cell_type": "markdown",
      "metadata": {
        "id": "yR6lCW0uVGAa"
      },
      "source": [
        "Средние значения валидационных метрик показывают результат лучше, чем метрики тестовой выборки. Это указывает на переобучение модели."
      ]
    },
    {
      "cell_type": "markdown",
      "source": [
        "### модель по п.6.b"
      ],
      "metadata": {
        "id": "uhjuWIBqhFqc"
      }
    },
    {
      "cell_type": "code",
      "execution_count": null,
      "metadata": {
        "id": "QL7daenOhFqd"
      },
      "outputs": [],
      "source": [
        "model_2=LogisticRegression(C=5.0,penalty='l2',solver='newton-cg').fit(X_train, y_train)"
      ]
    },
    {
      "cell_type": "code",
      "source": [
        "metr_2=cross_validate(model_2, X_train, y_train, cv=10,scoring=['accuracy','recall','precision','f1'])\n",
        "df_2=pd.DataFrame(metr_2)\n",
        "df_2"
      ],
      "metadata": {
        "colab": {
          "base_uri": "https://localhost:8080/",
          "height": 363
        },
        "id": "A8Q93rv6hFqf",
        "outputId": "dbc16caa-9e0c-445a-df7a-cea1fda48303"
      },
      "execution_count": null,
      "outputs": [
        {
          "output_type": "execute_result",
          "data": {
            "text/plain": [
              "   fit_time  score_time  test_accuracy  test_recall  test_precision   test_f1\n",
              "0  0.056760    0.006348       0.918919     0.925000        0.925000  0.925000\n",
              "1  0.041474    0.007237       0.878378     0.875000        0.897436  0.886076\n",
              "2  0.041660    0.006234       0.891892     0.875000        0.921053  0.897436\n",
              "3  0.036098    0.006292       0.864865     0.902439        0.860465  0.880952\n",
              "4  0.042690    0.006260       0.821918     0.875000        0.813953  0.843373\n",
              "5  0.036364    0.006234       0.876712     0.900000        0.878049  0.888889\n",
              "6  0.037412    0.006168       0.794521     0.850000        0.790698  0.819277\n",
              "7  0.036917    0.005825       0.876712     0.900000        0.878049  0.888889\n",
              "8  0.034362    0.005532       0.890411     0.950000        0.863636  0.904762\n",
              "9  0.040087    0.006446       0.835616     0.900000        0.818182  0.857143"
            ],
            "text/html": [
              "\n",
              "  <div id=\"df-7497db94-481c-4035-a237-54cbc6232d5b\">\n",
              "    <div class=\"colab-df-container\">\n",
              "      <div>\n",
              "<style scoped>\n",
              "    .dataframe tbody tr th:only-of-type {\n",
              "        vertical-align: middle;\n",
              "    }\n",
              "\n",
              "    .dataframe tbody tr th {\n",
              "        vertical-align: top;\n",
              "    }\n",
              "\n",
              "    .dataframe thead th {\n",
              "        text-align: right;\n",
              "    }\n",
              "</style>\n",
              "<table border=\"1\" class=\"dataframe\">\n",
              "  <thead>\n",
              "    <tr style=\"text-align: right;\">\n",
              "      <th></th>\n",
              "      <th>fit_time</th>\n",
              "      <th>score_time</th>\n",
              "      <th>test_accuracy</th>\n",
              "      <th>test_recall</th>\n",
              "      <th>test_precision</th>\n",
              "      <th>test_f1</th>\n",
              "    </tr>\n",
              "  </thead>\n",
              "  <tbody>\n",
              "    <tr>\n",
              "      <th>0</th>\n",
              "      <td>0.056760</td>\n",
              "      <td>0.006348</td>\n",
              "      <td>0.918919</td>\n",
              "      <td>0.925000</td>\n",
              "      <td>0.925000</td>\n",
              "      <td>0.925000</td>\n",
              "    </tr>\n",
              "    <tr>\n",
              "      <th>1</th>\n",
              "      <td>0.041474</td>\n",
              "      <td>0.007237</td>\n",
              "      <td>0.878378</td>\n",
              "      <td>0.875000</td>\n",
              "      <td>0.897436</td>\n",
              "      <td>0.886076</td>\n",
              "    </tr>\n",
              "    <tr>\n",
              "      <th>2</th>\n",
              "      <td>0.041660</td>\n",
              "      <td>0.006234</td>\n",
              "      <td>0.891892</td>\n",
              "      <td>0.875000</td>\n",
              "      <td>0.921053</td>\n",
              "      <td>0.897436</td>\n",
              "    </tr>\n",
              "    <tr>\n",
              "      <th>3</th>\n",
              "      <td>0.036098</td>\n",
              "      <td>0.006292</td>\n",
              "      <td>0.864865</td>\n",
              "      <td>0.902439</td>\n",
              "      <td>0.860465</td>\n",
              "      <td>0.880952</td>\n",
              "    </tr>\n",
              "    <tr>\n",
              "      <th>4</th>\n",
              "      <td>0.042690</td>\n",
              "      <td>0.006260</td>\n",
              "      <td>0.821918</td>\n",
              "      <td>0.875000</td>\n",
              "      <td>0.813953</td>\n",
              "      <td>0.843373</td>\n",
              "    </tr>\n",
              "    <tr>\n",
              "      <th>5</th>\n",
              "      <td>0.036364</td>\n",
              "      <td>0.006234</td>\n",
              "      <td>0.876712</td>\n",
              "      <td>0.900000</td>\n",
              "      <td>0.878049</td>\n",
              "      <td>0.888889</td>\n",
              "    </tr>\n",
              "    <tr>\n",
              "      <th>6</th>\n",
              "      <td>0.037412</td>\n",
              "      <td>0.006168</td>\n",
              "      <td>0.794521</td>\n",
              "      <td>0.850000</td>\n",
              "      <td>0.790698</td>\n",
              "      <td>0.819277</td>\n",
              "    </tr>\n",
              "    <tr>\n",
              "      <th>7</th>\n",
              "      <td>0.036917</td>\n",
              "      <td>0.005825</td>\n",
              "      <td>0.876712</td>\n",
              "      <td>0.900000</td>\n",
              "      <td>0.878049</td>\n",
              "      <td>0.888889</td>\n",
              "    </tr>\n",
              "    <tr>\n",
              "      <th>8</th>\n",
              "      <td>0.034362</td>\n",
              "      <td>0.005532</td>\n",
              "      <td>0.890411</td>\n",
              "      <td>0.950000</td>\n",
              "      <td>0.863636</td>\n",
              "      <td>0.904762</td>\n",
              "    </tr>\n",
              "    <tr>\n",
              "      <th>9</th>\n",
              "      <td>0.040087</td>\n",
              "      <td>0.006446</td>\n",
              "      <td>0.835616</td>\n",
              "      <td>0.900000</td>\n",
              "      <td>0.818182</td>\n",
              "      <td>0.857143</td>\n",
              "    </tr>\n",
              "  </tbody>\n",
              "</table>\n",
              "</div>\n",
              "      <button class=\"colab-df-convert\" onclick=\"convertToInteractive('df-7497db94-481c-4035-a237-54cbc6232d5b')\"\n",
              "              title=\"Convert this dataframe to an interactive table.\"\n",
              "              style=\"display:none;\">\n",
              "        \n",
              "  <svg xmlns=\"http://www.w3.org/2000/svg\" height=\"24px\"viewBox=\"0 0 24 24\"\n",
              "       width=\"24px\">\n",
              "    <path d=\"M0 0h24v24H0V0z\" fill=\"none\"/>\n",
              "    <path d=\"M18.56 5.44l.94 2.06.94-2.06 2.06-.94-2.06-.94-.94-2.06-.94 2.06-2.06.94zm-11 1L8.5 8.5l.94-2.06 2.06-.94-2.06-.94L8.5 2.5l-.94 2.06-2.06.94zm10 10l.94 2.06.94-2.06 2.06-.94-2.06-.94-.94-2.06-.94 2.06-2.06.94z\"/><path d=\"M17.41 7.96l-1.37-1.37c-.4-.4-.92-.59-1.43-.59-.52 0-1.04.2-1.43.59L10.3 9.45l-7.72 7.72c-.78.78-.78 2.05 0 2.83L4 21.41c.39.39.9.59 1.41.59.51 0 1.02-.2 1.41-.59l7.78-7.78 2.81-2.81c.8-.78.8-2.07 0-2.86zM5.41 20L4 18.59l7.72-7.72 1.47 1.35L5.41 20z\"/>\n",
              "  </svg>\n",
              "      </button>\n",
              "      \n",
              "  <style>\n",
              "    .colab-df-container {\n",
              "      display:flex;\n",
              "      flex-wrap:wrap;\n",
              "      gap: 12px;\n",
              "    }\n",
              "\n",
              "    .colab-df-convert {\n",
              "      background-color: #E8F0FE;\n",
              "      border: none;\n",
              "      border-radius: 50%;\n",
              "      cursor: pointer;\n",
              "      display: none;\n",
              "      fill: #1967D2;\n",
              "      height: 32px;\n",
              "      padding: 0 0 0 0;\n",
              "      width: 32px;\n",
              "    }\n",
              "\n",
              "    .colab-df-convert:hover {\n",
              "      background-color: #E2EBFA;\n",
              "      box-shadow: 0px 1px 2px rgba(60, 64, 67, 0.3), 0px 1px 3px 1px rgba(60, 64, 67, 0.15);\n",
              "      fill: #174EA6;\n",
              "    }\n",
              "\n",
              "    [theme=dark] .colab-df-convert {\n",
              "      background-color: #3B4455;\n",
              "      fill: #D2E3FC;\n",
              "    }\n",
              "\n",
              "    [theme=dark] .colab-df-convert:hover {\n",
              "      background-color: #434B5C;\n",
              "      box-shadow: 0px 1px 3px 1px rgba(0, 0, 0, 0.15);\n",
              "      filter: drop-shadow(0px 1px 2px rgba(0, 0, 0, 0.3));\n",
              "      fill: #FFFFFF;\n",
              "    }\n",
              "  </style>\n",
              "\n",
              "      <script>\n",
              "        const buttonEl =\n",
              "          document.querySelector('#df-7497db94-481c-4035-a237-54cbc6232d5b button.colab-df-convert');\n",
              "        buttonEl.style.display =\n",
              "          google.colab.kernel.accessAllowed ? 'block' : 'none';\n",
              "\n",
              "        async function convertToInteractive(key) {\n",
              "          const element = document.querySelector('#df-7497db94-481c-4035-a237-54cbc6232d5b');\n",
              "          const dataTable =\n",
              "            await google.colab.kernel.invokeFunction('convertToInteractive',\n",
              "                                                     [key], {});\n",
              "          if (!dataTable) return;\n",
              "\n",
              "          const docLinkHtml = 'Like what you see? Visit the ' +\n",
              "            '<a target=\"_blank\" href=https://colab.research.google.com/notebooks/data_table.ipynb>data table notebook</a>'\n",
              "            + ' to learn more about interactive tables.';\n",
              "          element.innerHTML = '';\n",
              "          dataTable['output_type'] = 'display_data';\n",
              "          await google.colab.output.renderOutput(dataTable, element);\n",
              "          const docLink = document.createElement('div');\n",
              "          docLink.innerHTML = docLinkHtml;\n",
              "          element.appendChild(docLink);\n",
              "        }\n",
              "      </script>\n",
              "    </div>\n",
              "  </div>\n",
              "  "
            ]
          },
          "metadata": {},
          "execution_count": 253
        }
      ]
    },
    {
      "cell_type": "markdown",
      "metadata": {
        "id": "epQ7VTmwhFqh"
      },
      "source": [
        "Видно, что в метриках между сгибов в cross_validate есть значительные различия, это может указывать на чрезмерную подгонку к определенным сгибам."
      ]
    },
    {
      "cell_type": "code",
      "execution_count": null,
      "metadata": {
        "colab": {
          "base_uri": "https://localhost:8080/",
          "height": 238
        },
        "outputId": "97ee0cd6-a597-424b-d6cd-495c67c5d7d3",
        "id": "2ZSQz0Y5hFqi"
      },
      "outputs": [
        {
          "output_type": "execute_result",
          "data": {
            "text/plain": [
              "                Validate_model_2\n",
              "fit_time                0.040382\n",
              "score_time              0.006258\n",
              "test_accuracy           0.864994\n",
              "test_recall             0.895244\n",
              "test_precision          0.864652\n",
              "test_f1                 0.879180"
            ],
            "text/html": [
              "\n",
              "  <div id=\"df-668abae6-05e0-432c-a7e0-2cbd664fc5f8\">\n",
              "    <div class=\"colab-df-container\">\n",
              "      <div>\n",
              "<style scoped>\n",
              "    .dataframe tbody tr th:only-of-type {\n",
              "        vertical-align: middle;\n",
              "    }\n",
              "\n",
              "    .dataframe tbody tr th {\n",
              "        vertical-align: top;\n",
              "    }\n",
              "\n",
              "    .dataframe thead th {\n",
              "        text-align: right;\n",
              "    }\n",
              "</style>\n",
              "<table border=\"1\" class=\"dataframe\">\n",
              "  <thead>\n",
              "    <tr style=\"text-align: right;\">\n",
              "      <th></th>\n",
              "      <th>Validate_model_2</th>\n",
              "    </tr>\n",
              "  </thead>\n",
              "  <tbody>\n",
              "    <tr>\n",
              "      <th>fit_time</th>\n",
              "      <td>0.040382</td>\n",
              "    </tr>\n",
              "    <tr>\n",
              "      <th>score_time</th>\n",
              "      <td>0.006258</td>\n",
              "    </tr>\n",
              "    <tr>\n",
              "      <th>test_accuracy</th>\n",
              "      <td>0.864994</td>\n",
              "    </tr>\n",
              "    <tr>\n",
              "      <th>test_recall</th>\n",
              "      <td>0.895244</td>\n",
              "    </tr>\n",
              "    <tr>\n",
              "      <th>test_precision</th>\n",
              "      <td>0.864652</td>\n",
              "    </tr>\n",
              "    <tr>\n",
              "      <th>test_f1</th>\n",
              "      <td>0.879180</td>\n",
              "    </tr>\n",
              "  </tbody>\n",
              "</table>\n",
              "</div>\n",
              "      <button class=\"colab-df-convert\" onclick=\"convertToInteractive('df-668abae6-05e0-432c-a7e0-2cbd664fc5f8')\"\n",
              "              title=\"Convert this dataframe to an interactive table.\"\n",
              "              style=\"display:none;\">\n",
              "        \n",
              "  <svg xmlns=\"http://www.w3.org/2000/svg\" height=\"24px\"viewBox=\"0 0 24 24\"\n",
              "       width=\"24px\">\n",
              "    <path d=\"M0 0h24v24H0V0z\" fill=\"none\"/>\n",
              "    <path d=\"M18.56 5.44l.94 2.06.94-2.06 2.06-.94-2.06-.94-.94-2.06-.94 2.06-2.06.94zm-11 1L8.5 8.5l.94-2.06 2.06-.94-2.06-.94L8.5 2.5l-.94 2.06-2.06.94zm10 10l.94 2.06.94-2.06 2.06-.94-2.06-.94-.94-2.06-.94 2.06-2.06.94z\"/><path d=\"M17.41 7.96l-1.37-1.37c-.4-.4-.92-.59-1.43-.59-.52 0-1.04.2-1.43.59L10.3 9.45l-7.72 7.72c-.78.78-.78 2.05 0 2.83L4 21.41c.39.39.9.59 1.41.59.51 0 1.02-.2 1.41-.59l7.78-7.78 2.81-2.81c.8-.78.8-2.07 0-2.86zM5.41 20L4 18.59l7.72-7.72 1.47 1.35L5.41 20z\"/>\n",
              "  </svg>\n",
              "      </button>\n",
              "      \n",
              "  <style>\n",
              "    .colab-df-container {\n",
              "      display:flex;\n",
              "      flex-wrap:wrap;\n",
              "      gap: 12px;\n",
              "    }\n",
              "\n",
              "    .colab-df-convert {\n",
              "      background-color: #E8F0FE;\n",
              "      border: none;\n",
              "      border-radius: 50%;\n",
              "      cursor: pointer;\n",
              "      display: none;\n",
              "      fill: #1967D2;\n",
              "      height: 32px;\n",
              "      padding: 0 0 0 0;\n",
              "      width: 32px;\n",
              "    }\n",
              "\n",
              "    .colab-df-convert:hover {\n",
              "      background-color: #E2EBFA;\n",
              "      box-shadow: 0px 1px 2px rgba(60, 64, 67, 0.3), 0px 1px 3px 1px rgba(60, 64, 67, 0.15);\n",
              "      fill: #174EA6;\n",
              "    }\n",
              "\n",
              "    [theme=dark] .colab-df-convert {\n",
              "      background-color: #3B4455;\n",
              "      fill: #D2E3FC;\n",
              "    }\n",
              "\n",
              "    [theme=dark] .colab-df-convert:hover {\n",
              "      background-color: #434B5C;\n",
              "      box-shadow: 0px 1px 3px 1px rgba(0, 0, 0, 0.15);\n",
              "      filter: drop-shadow(0px 1px 2px rgba(0, 0, 0, 0.3));\n",
              "      fill: #FFFFFF;\n",
              "    }\n",
              "  </style>\n",
              "\n",
              "      <script>\n",
              "        const buttonEl =\n",
              "          document.querySelector('#df-668abae6-05e0-432c-a7e0-2cbd664fc5f8 button.colab-df-convert');\n",
              "        buttonEl.style.display =\n",
              "          google.colab.kernel.accessAllowed ? 'block' : 'none';\n",
              "\n",
              "        async function convertToInteractive(key) {\n",
              "          const element = document.querySelector('#df-668abae6-05e0-432c-a7e0-2cbd664fc5f8');\n",
              "          const dataTable =\n",
              "            await google.colab.kernel.invokeFunction('convertToInteractive',\n",
              "                                                     [key], {});\n",
              "          if (!dataTable) return;\n",
              "\n",
              "          const docLinkHtml = 'Like what you see? Visit the ' +\n",
              "            '<a target=\"_blank\" href=https://colab.research.google.com/notebooks/data_table.ipynb>data table notebook</a>'\n",
              "            + ' to learn more about interactive tables.';\n",
              "          element.innerHTML = '';\n",
              "          dataTable['output_type'] = 'display_data';\n",
              "          await google.colab.output.renderOutput(dataTable, element);\n",
              "          const docLink = document.createElement('div');\n",
              "          docLink.innerHTML = docLinkHtml;\n",
              "          element.appendChild(docLink);\n",
              "        }\n",
              "      </script>\n",
              "    </div>\n",
              "  </div>\n",
              "  "
            ]
          },
          "metadata": {},
          "execution_count": 254
        }
      ],
      "source": [
        "metr_2=df_2.agg('mean')\n",
        "metr_2 = pd.Series(metr_2, name='Validate_model_2')\n",
        "df_2=pd.DataFrame(metr_2)\n",
        "df_2"
      ]
    },
    {
      "cell_type": "code",
      "execution_count": null,
      "metadata": {
        "id": "1Irqp6v8hFqj"
      },
      "outputs": [],
      "source": [
        "pred_2 = model_2.predict(X_test)"
      ]
    },
    {
      "cell_type": "code",
      "execution_count": null,
      "metadata": {
        "colab": {
          "base_uri": "https://localhost:8080/"
        },
        "outputId": "299f78fb-f155-4642-a422-47b5a51ed8dd",
        "id": "_qTf4U11hFql"
      },
      "outputs": [
        {
          "output_type": "execute_result",
          "data": {
            "text/plain": [
              "(precision    0.848810\n",
              " recall       0.855626\n",
              " f1-score     0.850932\n",
              " Name: macro avg, dtype: float64, support    0.853261\n",
              " Name: accuracy, dtype: float64)"
            ]
          },
          "metadata": {},
          "execution_count": 256
        }
      ],
      "source": [
        "report_2 = classification_report(y_test, pred_2, output_dict=True)\n",
        "df1_2 = pd.DataFrame(report_2)\n",
        "df1_2[0:3]['macro avg'], df1_2[3:]['accuracy'] # используем макро-усреднение, важно распознавать все классы"
      ]
    },
    {
      "cell_type": "markdown",
      "metadata": {
        "id": "ig51f1-bhFqm"
      },
      "source": [
        "Средние значения валидационных метрик показывают результат лучше, чем метрики тестовой выборки. Это указывает на переобучение модели."
      ]
    },
    {
      "cell_type": "markdown",
      "source": [
        "### модель по п.6.с"
      ],
      "metadata": {
        "id": "aUzOaqyOcGW5"
      }
    },
    {
      "cell_type": "code",
      "source": [
        "model_3=RandomForestClassifier(random_state=42,n_estimators=150, min_samples_leaf=1, max_depth=7, criterion='entropy').fit(X_train, y_train)"
      ],
      "metadata": {
        "id": "bRVJgPyNcQdE"
      },
      "execution_count": null,
      "outputs": []
    },
    {
      "cell_type": "code",
      "source": [
        "metr_3=cross_validate(model_3, X_train, y_train, cv=10,scoring=['accuracy','recall','precision','f1'])\n",
        "df_3=pd.DataFrame(metr_3)\n",
        "df_3"
      ],
      "metadata": {
        "colab": {
          "base_uri": "https://localhost:8080/",
          "height": 363
        },
        "outputId": "30788a85-e1ca-4e17-fc41-65bbbb51e49e",
        "id": "mpFZRrZvcGW7"
      },
      "execution_count": null,
      "outputs": [
        {
          "output_type": "execute_result",
          "data": {
            "text/plain": [
              "   fit_time  score_time  test_accuracy  test_recall  test_precision   test_f1\n",
              "0  0.251760    0.017321       0.878378     0.925000        0.860465  0.891566\n",
              "1  0.245805    0.018099       0.891892     0.875000        0.921053  0.897436\n",
              "2  0.260056    0.023937       0.905405     0.900000        0.923077  0.911392\n",
              "3  0.250213    0.018622       0.891892     0.926829        0.883721  0.904762\n",
              "4  0.242110    0.019094       0.849315     0.925000        0.822222  0.870588\n",
              "5  0.241831    0.018104       0.890411     0.925000        0.880952  0.902439\n",
              "6  0.244687    0.018540       0.808219     0.900000        0.782609  0.837209\n",
              "7  0.253965    0.018932       0.876712     0.900000        0.878049  0.888889\n",
              "8  0.250987    0.017555       0.876712     0.950000        0.844444  0.894118\n",
              "9  0.238986    0.017612       0.849315     0.925000        0.822222  0.870588"
            ],
            "text/html": [
              "\n",
              "  <div id=\"df-3febdaee-3efd-4b92-ade8-26c08a6af81a\">\n",
              "    <div class=\"colab-df-container\">\n",
              "      <div>\n",
              "<style scoped>\n",
              "    .dataframe tbody tr th:only-of-type {\n",
              "        vertical-align: middle;\n",
              "    }\n",
              "\n",
              "    .dataframe tbody tr th {\n",
              "        vertical-align: top;\n",
              "    }\n",
              "\n",
              "    .dataframe thead th {\n",
              "        text-align: right;\n",
              "    }\n",
              "</style>\n",
              "<table border=\"1\" class=\"dataframe\">\n",
              "  <thead>\n",
              "    <tr style=\"text-align: right;\">\n",
              "      <th></th>\n",
              "      <th>fit_time</th>\n",
              "      <th>score_time</th>\n",
              "      <th>test_accuracy</th>\n",
              "      <th>test_recall</th>\n",
              "      <th>test_precision</th>\n",
              "      <th>test_f1</th>\n",
              "    </tr>\n",
              "  </thead>\n",
              "  <tbody>\n",
              "    <tr>\n",
              "      <th>0</th>\n",
              "      <td>0.251760</td>\n",
              "      <td>0.017321</td>\n",
              "      <td>0.878378</td>\n",
              "      <td>0.925000</td>\n",
              "      <td>0.860465</td>\n",
              "      <td>0.891566</td>\n",
              "    </tr>\n",
              "    <tr>\n",
              "      <th>1</th>\n",
              "      <td>0.245805</td>\n",
              "      <td>0.018099</td>\n",
              "      <td>0.891892</td>\n",
              "      <td>0.875000</td>\n",
              "      <td>0.921053</td>\n",
              "      <td>0.897436</td>\n",
              "    </tr>\n",
              "    <tr>\n",
              "      <th>2</th>\n",
              "      <td>0.260056</td>\n",
              "      <td>0.023937</td>\n",
              "      <td>0.905405</td>\n",
              "      <td>0.900000</td>\n",
              "      <td>0.923077</td>\n",
              "      <td>0.911392</td>\n",
              "    </tr>\n",
              "    <tr>\n",
              "      <th>3</th>\n",
              "      <td>0.250213</td>\n",
              "      <td>0.018622</td>\n",
              "      <td>0.891892</td>\n",
              "      <td>0.926829</td>\n",
              "      <td>0.883721</td>\n",
              "      <td>0.904762</td>\n",
              "    </tr>\n",
              "    <tr>\n",
              "      <th>4</th>\n",
              "      <td>0.242110</td>\n",
              "      <td>0.019094</td>\n",
              "      <td>0.849315</td>\n",
              "      <td>0.925000</td>\n",
              "      <td>0.822222</td>\n",
              "      <td>0.870588</td>\n",
              "    </tr>\n",
              "    <tr>\n",
              "      <th>5</th>\n",
              "      <td>0.241831</td>\n",
              "      <td>0.018104</td>\n",
              "      <td>0.890411</td>\n",
              "      <td>0.925000</td>\n",
              "      <td>0.880952</td>\n",
              "      <td>0.902439</td>\n",
              "    </tr>\n",
              "    <tr>\n",
              "      <th>6</th>\n",
              "      <td>0.244687</td>\n",
              "      <td>0.018540</td>\n",
              "      <td>0.808219</td>\n",
              "      <td>0.900000</td>\n",
              "      <td>0.782609</td>\n",
              "      <td>0.837209</td>\n",
              "    </tr>\n",
              "    <tr>\n",
              "      <th>7</th>\n",
              "      <td>0.253965</td>\n",
              "      <td>0.018932</td>\n",
              "      <td>0.876712</td>\n",
              "      <td>0.900000</td>\n",
              "      <td>0.878049</td>\n",
              "      <td>0.888889</td>\n",
              "    </tr>\n",
              "    <tr>\n",
              "      <th>8</th>\n",
              "      <td>0.250987</td>\n",
              "      <td>0.017555</td>\n",
              "      <td>0.876712</td>\n",
              "      <td>0.950000</td>\n",
              "      <td>0.844444</td>\n",
              "      <td>0.894118</td>\n",
              "    </tr>\n",
              "    <tr>\n",
              "      <th>9</th>\n",
              "      <td>0.238986</td>\n",
              "      <td>0.017612</td>\n",
              "      <td>0.849315</td>\n",
              "      <td>0.925000</td>\n",
              "      <td>0.822222</td>\n",
              "      <td>0.870588</td>\n",
              "    </tr>\n",
              "  </tbody>\n",
              "</table>\n",
              "</div>\n",
              "      <button class=\"colab-df-convert\" onclick=\"convertToInteractive('df-3febdaee-3efd-4b92-ade8-26c08a6af81a')\"\n",
              "              title=\"Convert this dataframe to an interactive table.\"\n",
              "              style=\"display:none;\">\n",
              "        \n",
              "  <svg xmlns=\"http://www.w3.org/2000/svg\" height=\"24px\"viewBox=\"0 0 24 24\"\n",
              "       width=\"24px\">\n",
              "    <path d=\"M0 0h24v24H0V0z\" fill=\"none\"/>\n",
              "    <path d=\"M18.56 5.44l.94 2.06.94-2.06 2.06-.94-2.06-.94-.94-2.06-.94 2.06-2.06.94zm-11 1L8.5 8.5l.94-2.06 2.06-.94-2.06-.94L8.5 2.5l-.94 2.06-2.06.94zm10 10l.94 2.06.94-2.06 2.06-.94-2.06-.94-.94-2.06-.94 2.06-2.06.94z\"/><path d=\"M17.41 7.96l-1.37-1.37c-.4-.4-.92-.59-1.43-.59-.52 0-1.04.2-1.43.59L10.3 9.45l-7.72 7.72c-.78.78-.78 2.05 0 2.83L4 21.41c.39.39.9.59 1.41.59.51 0 1.02-.2 1.41-.59l7.78-7.78 2.81-2.81c.8-.78.8-2.07 0-2.86zM5.41 20L4 18.59l7.72-7.72 1.47 1.35L5.41 20z\"/>\n",
              "  </svg>\n",
              "      </button>\n",
              "      \n",
              "  <style>\n",
              "    .colab-df-container {\n",
              "      display:flex;\n",
              "      flex-wrap:wrap;\n",
              "      gap: 12px;\n",
              "    }\n",
              "\n",
              "    .colab-df-convert {\n",
              "      background-color: #E8F0FE;\n",
              "      border: none;\n",
              "      border-radius: 50%;\n",
              "      cursor: pointer;\n",
              "      display: none;\n",
              "      fill: #1967D2;\n",
              "      height: 32px;\n",
              "      padding: 0 0 0 0;\n",
              "      width: 32px;\n",
              "    }\n",
              "\n",
              "    .colab-df-convert:hover {\n",
              "      background-color: #E2EBFA;\n",
              "      box-shadow: 0px 1px 2px rgba(60, 64, 67, 0.3), 0px 1px 3px 1px rgba(60, 64, 67, 0.15);\n",
              "      fill: #174EA6;\n",
              "    }\n",
              "\n",
              "    [theme=dark] .colab-df-convert {\n",
              "      background-color: #3B4455;\n",
              "      fill: #D2E3FC;\n",
              "    }\n",
              "\n",
              "    [theme=dark] .colab-df-convert:hover {\n",
              "      background-color: #434B5C;\n",
              "      box-shadow: 0px 1px 3px 1px rgba(0, 0, 0, 0.15);\n",
              "      filter: drop-shadow(0px 1px 2px rgba(0, 0, 0, 0.3));\n",
              "      fill: #FFFFFF;\n",
              "    }\n",
              "  </style>\n",
              "\n",
              "      <script>\n",
              "        const buttonEl =\n",
              "          document.querySelector('#df-3febdaee-3efd-4b92-ade8-26c08a6af81a button.colab-df-convert');\n",
              "        buttonEl.style.display =\n",
              "          google.colab.kernel.accessAllowed ? 'block' : 'none';\n",
              "\n",
              "        async function convertToInteractive(key) {\n",
              "          const element = document.querySelector('#df-3febdaee-3efd-4b92-ade8-26c08a6af81a');\n",
              "          const dataTable =\n",
              "            await google.colab.kernel.invokeFunction('convertToInteractive',\n",
              "                                                     [key], {});\n",
              "          if (!dataTable) return;\n",
              "\n",
              "          const docLinkHtml = 'Like what you see? Visit the ' +\n",
              "            '<a target=\"_blank\" href=https://colab.research.google.com/notebooks/data_table.ipynb>data table notebook</a>'\n",
              "            + ' to learn more about interactive tables.';\n",
              "          element.innerHTML = '';\n",
              "          dataTable['output_type'] = 'display_data';\n",
              "          await google.colab.output.renderOutput(dataTable, element);\n",
              "          const docLink = document.createElement('div');\n",
              "          docLink.innerHTML = docLinkHtml;\n",
              "          element.appendChild(docLink);\n",
              "        }\n",
              "      </script>\n",
              "    </div>\n",
              "  </div>\n",
              "  "
            ]
          },
          "metadata": {},
          "execution_count": 258
        }
      ]
    },
    {
      "cell_type": "markdown",
      "metadata": {
        "id": "BJ_OqhovcGW9"
      },
      "source": [
        "В этом варианте в метриках между сгибов в cross_validate меньше различий по сравнению с предыдущими вариантами."
      ]
    },
    {
      "cell_type": "code",
      "execution_count": null,
      "metadata": {
        "colab": {
          "base_uri": "https://localhost:8080/",
          "height": 238
        },
        "outputId": "4f3060e8-16de-49df-ff91-b578b831a7e4",
        "id": "YcXuQ5p7cGW-"
      },
      "outputs": [
        {
          "output_type": "execute_result",
          "data": {
            "text/plain": [
              "                Validate_model_3\n",
              "fit_time                0.248040\n",
              "score_time              0.018782\n",
              "test_accuracy           0.871825\n",
              "test_recall             0.915183\n",
              "test_precision          0.861881\n",
              "test_f1                 0.886899"
            ],
            "text/html": [
              "\n",
              "  <div id=\"df-58253c4f-ca05-40bb-9e54-7268d3acad9d\">\n",
              "    <div class=\"colab-df-container\">\n",
              "      <div>\n",
              "<style scoped>\n",
              "    .dataframe tbody tr th:only-of-type {\n",
              "        vertical-align: middle;\n",
              "    }\n",
              "\n",
              "    .dataframe tbody tr th {\n",
              "        vertical-align: top;\n",
              "    }\n",
              "\n",
              "    .dataframe thead th {\n",
              "        text-align: right;\n",
              "    }\n",
              "</style>\n",
              "<table border=\"1\" class=\"dataframe\">\n",
              "  <thead>\n",
              "    <tr style=\"text-align: right;\">\n",
              "      <th></th>\n",
              "      <th>Validate_model_3</th>\n",
              "    </tr>\n",
              "  </thead>\n",
              "  <tbody>\n",
              "    <tr>\n",
              "      <th>fit_time</th>\n",
              "      <td>0.248040</td>\n",
              "    </tr>\n",
              "    <tr>\n",
              "      <th>score_time</th>\n",
              "      <td>0.018782</td>\n",
              "    </tr>\n",
              "    <tr>\n",
              "      <th>test_accuracy</th>\n",
              "      <td>0.871825</td>\n",
              "    </tr>\n",
              "    <tr>\n",
              "      <th>test_recall</th>\n",
              "      <td>0.915183</td>\n",
              "    </tr>\n",
              "    <tr>\n",
              "      <th>test_precision</th>\n",
              "      <td>0.861881</td>\n",
              "    </tr>\n",
              "    <tr>\n",
              "      <th>test_f1</th>\n",
              "      <td>0.886899</td>\n",
              "    </tr>\n",
              "  </tbody>\n",
              "</table>\n",
              "</div>\n",
              "      <button class=\"colab-df-convert\" onclick=\"convertToInteractive('df-58253c4f-ca05-40bb-9e54-7268d3acad9d')\"\n",
              "              title=\"Convert this dataframe to an interactive table.\"\n",
              "              style=\"display:none;\">\n",
              "        \n",
              "  <svg xmlns=\"http://www.w3.org/2000/svg\" height=\"24px\"viewBox=\"0 0 24 24\"\n",
              "       width=\"24px\">\n",
              "    <path d=\"M0 0h24v24H0V0z\" fill=\"none\"/>\n",
              "    <path d=\"M18.56 5.44l.94 2.06.94-2.06 2.06-.94-2.06-.94-.94-2.06-.94 2.06-2.06.94zm-11 1L8.5 8.5l.94-2.06 2.06-.94-2.06-.94L8.5 2.5l-.94 2.06-2.06.94zm10 10l.94 2.06.94-2.06 2.06-.94-2.06-.94-.94-2.06-.94 2.06-2.06.94z\"/><path d=\"M17.41 7.96l-1.37-1.37c-.4-.4-.92-.59-1.43-.59-.52 0-1.04.2-1.43.59L10.3 9.45l-7.72 7.72c-.78.78-.78 2.05 0 2.83L4 21.41c.39.39.9.59 1.41.59.51 0 1.02-.2 1.41-.59l7.78-7.78 2.81-2.81c.8-.78.8-2.07 0-2.86zM5.41 20L4 18.59l7.72-7.72 1.47 1.35L5.41 20z\"/>\n",
              "  </svg>\n",
              "      </button>\n",
              "      \n",
              "  <style>\n",
              "    .colab-df-container {\n",
              "      display:flex;\n",
              "      flex-wrap:wrap;\n",
              "      gap: 12px;\n",
              "    }\n",
              "\n",
              "    .colab-df-convert {\n",
              "      background-color: #E8F0FE;\n",
              "      border: none;\n",
              "      border-radius: 50%;\n",
              "      cursor: pointer;\n",
              "      display: none;\n",
              "      fill: #1967D2;\n",
              "      height: 32px;\n",
              "      padding: 0 0 0 0;\n",
              "      width: 32px;\n",
              "    }\n",
              "\n",
              "    .colab-df-convert:hover {\n",
              "      background-color: #E2EBFA;\n",
              "      box-shadow: 0px 1px 2px rgba(60, 64, 67, 0.3), 0px 1px 3px 1px rgba(60, 64, 67, 0.15);\n",
              "      fill: #174EA6;\n",
              "    }\n",
              "\n",
              "    [theme=dark] .colab-df-convert {\n",
              "      background-color: #3B4455;\n",
              "      fill: #D2E3FC;\n",
              "    }\n",
              "\n",
              "    [theme=dark] .colab-df-convert:hover {\n",
              "      background-color: #434B5C;\n",
              "      box-shadow: 0px 1px 3px 1px rgba(0, 0, 0, 0.15);\n",
              "      filter: drop-shadow(0px 1px 2px rgba(0, 0, 0, 0.3));\n",
              "      fill: #FFFFFF;\n",
              "    }\n",
              "  </style>\n",
              "\n",
              "      <script>\n",
              "        const buttonEl =\n",
              "          document.querySelector('#df-58253c4f-ca05-40bb-9e54-7268d3acad9d button.colab-df-convert');\n",
              "        buttonEl.style.display =\n",
              "          google.colab.kernel.accessAllowed ? 'block' : 'none';\n",
              "\n",
              "        async function convertToInteractive(key) {\n",
              "          const element = document.querySelector('#df-58253c4f-ca05-40bb-9e54-7268d3acad9d');\n",
              "          const dataTable =\n",
              "            await google.colab.kernel.invokeFunction('convertToInteractive',\n",
              "                                                     [key], {});\n",
              "          if (!dataTable) return;\n",
              "\n",
              "          const docLinkHtml = 'Like what you see? Visit the ' +\n",
              "            '<a target=\"_blank\" href=https://colab.research.google.com/notebooks/data_table.ipynb>data table notebook</a>'\n",
              "            + ' to learn more about interactive tables.';\n",
              "          element.innerHTML = '';\n",
              "          dataTable['output_type'] = 'display_data';\n",
              "          await google.colab.output.renderOutput(dataTable, element);\n",
              "          const docLink = document.createElement('div');\n",
              "          docLink.innerHTML = docLinkHtml;\n",
              "          element.appendChild(docLink);\n",
              "        }\n",
              "      </script>\n",
              "    </div>\n",
              "  </div>\n",
              "  "
            ]
          },
          "metadata": {},
          "execution_count": 259
        }
      ],
      "source": [
        "metr_3=df_3.agg('mean')\n",
        "metr_3 = pd.Series(metr_3, name='Validate_model_3')\n",
        "df_3=pd.DataFrame(metr_3)\n",
        "df_3"
      ]
    },
    {
      "cell_type": "code",
      "execution_count": null,
      "metadata": {
        "id": "7K5rwdX7cGW_"
      },
      "outputs": [],
      "source": [
        "pred_3 = model_3.predict(X_test)"
      ]
    },
    {
      "cell_type": "code",
      "execution_count": null,
      "metadata": {
        "colab": {
          "base_uri": "https://localhost:8080/"
        },
        "outputId": "fc324b97-aeff-4436-a076-a17722ed527b",
        "id": "PaB153jvcGXA"
      },
      "outputs": [
        {
          "output_type": "execute_result",
          "data": {
            "text/plain": [
              "(precision    0.882317\n",
              " recall       0.883663\n",
              " f1-score     0.882962\n",
              " Name: macro avg, dtype: float64, support    0.88587\n",
              " Name: accuracy, dtype: float64)"
            ]
          },
          "metadata": {},
          "execution_count": 261
        }
      ],
      "source": [
        "report_3 = classification_report(y_test, pred_3, output_dict=True)\n",
        "df1_3 = pd.DataFrame(report_3)\n",
        "df1_3[0:3]['macro avg'], df1_3[3:]['accuracy'] # используем макро-усреднение, важно распознавать все классы"
      ]
    },
    {
      "cell_type": "markdown",
      "metadata": {
        "id": "dzi6QA10cGXB"
      },
      "source": [
        "Средние значения валидационных метрик показывают результат чуть хуже, чем метрики тестовой выборки."
      ]
    },
    {
      "cell_type": "markdown",
      "metadata": {
        "id": "w_ylDtJKq5aM"
      },
      "source": [
        "# Сформулируйте выводы по проделанной работе: a) Сравните метрики построенных моделей. b) *Сравните с полученными результатами в домашнем задании по теме «Ансамблирование»."
      ]
    },
    {
      "cell_type": "markdown",
      "source": [
        "## a) Сравните метрики построенных моделей."
      ],
      "metadata": {
        "id": "u_K4CGeCD_ej"
      }
    },
    {
      "cell_type": "code",
      "source": [
        "df_concat = pd.concat([df, df_1, df_2,df_3], axis=1)\n",
        "test=pd.Series(df1[3:]['accuracy'], name='Test_model')\n",
        "test=pd.DataFrame(test)\n",
        "test_1=pd.Series(df1_1[3:]['accuracy'], name='Test_model_1')\n",
        "test_1=pd.DataFrame(test_1)\n",
        "test_2=pd.Series(df1_2[3:]['accuracy'], name='Test_model_2')\n",
        "test_2=pd.DataFrame(test_2)\n",
        "test_3=pd.Series(df1_3[3:]['accuracy'], name='Test_model_3')\n",
        "test_3=pd.DataFrame(test_3)\n",
        "test_concat = pd.concat([test, test_1, test_2,test_3], axis=1)\n",
        "test_concat.rename(index={'support': 'accuracy'},inplace=True)"
      ],
      "metadata": {
        "id": "HaleyOcBeZn7"
      },
      "execution_count": null,
      "outputs": []
    },
    {
      "cell_type": "code",
      "source": [
        "df_concat"
      ],
      "metadata": {
        "colab": {
          "base_uri": "https://localhost:8080/",
          "height": 238
        },
        "id": "OXXDxWQQruvo",
        "outputId": "e890bc66-d8d8-42a4-837d-06eca6e13480"
      },
      "execution_count": null,
      "outputs": [
        {
          "output_type": "execute_result",
          "data": {
            "text/plain": [
              "                Validate_model  Validate_model_1  Validate_model_2  \\\n",
              "fit_time              0.038666          0.004826          0.040382   \n",
              "score_time            0.008241          0.004870          0.006258   \n",
              "test_accuracy         0.866364          0.870455          0.864994   \n",
              "test_recall           0.895244          0.897744          0.895244   \n",
              "test_precision        0.866929          0.871285          0.864652   \n",
              "test_f1               0.880350          0.883788          0.879180   \n",
              "\n",
              "                Validate_model_3  \n",
              "fit_time                0.248040  \n",
              "score_time              0.018782  \n",
              "test_accuracy           0.871825  \n",
              "test_recall             0.915183  \n",
              "test_precision          0.861881  \n",
              "test_f1                 0.886899  "
            ],
            "text/html": [
              "\n",
              "  <div id=\"df-1ec7c170-a9e1-48fc-9edc-bfc8218d373d\">\n",
              "    <div class=\"colab-df-container\">\n",
              "      <div>\n",
              "<style scoped>\n",
              "    .dataframe tbody tr th:only-of-type {\n",
              "        vertical-align: middle;\n",
              "    }\n",
              "\n",
              "    .dataframe tbody tr th {\n",
              "        vertical-align: top;\n",
              "    }\n",
              "\n",
              "    .dataframe thead th {\n",
              "        text-align: right;\n",
              "    }\n",
              "</style>\n",
              "<table border=\"1\" class=\"dataframe\">\n",
              "  <thead>\n",
              "    <tr style=\"text-align: right;\">\n",
              "      <th></th>\n",
              "      <th>Validate_model</th>\n",
              "      <th>Validate_model_1</th>\n",
              "      <th>Validate_model_2</th>\n",
              "      <th>Validate_model_3</th>\n",
              "    </tr>\n",
              "  </thead>\n",
              "  <tbody>\n",
              "    <tr>\n",
              "      <th>fit_time</th>\n",
              "      <td>0.038666</td>\n",
              "      <td>0.004826</td>\n",
              "      <td>0.040382</td>\n",
              "      <td>0.248040</td>\n",
              "    </tr>\n",
              "    <tr>\n",
              "      <th>score_time</th>\n",
              "      <td>0.008241</td>\n",
              "      <td>0.004870</td>\n",
              "      <td>0.006258</td>\n",
              "      <td>0.018782</td>\n",
              "    </tr>\n",
              "    <tr>\n",
              "      <th>test_accuracy</th>\n",
              "      <td>0.866364</td>\n",
              "      <td>0.870455</td>\n",
              "      <td>0.864994</td>\n",
              "      <td>0.871825</td>\n",
              "    </tr>\n",
              "    <tr>\n",
              "      <th>test_recall</th>\n",
              "      <td>0.895244</td>\n",
              "      <td>0.897744</td>\n",
              "      <td>0.895244</td>\n",
              "      <td>0.915183</td>\n",
              "    </tr>\n",
              "    <tr>\n",
              "      <th>test_precision</th>\n",
              "      <td>0.866929</td>\n",
              "      <td>0.871285</td>\n",
              "      <td>0.864652</td>\n",
              "      <td>0.861881</td>\n",
              "    </tr>\n",
              "    <tr>\n",
              "      <th>test_f1</th>\n",
              "      <td>0.880350</td>\n",
              "      <td>0.883788</td>\n",
              "      <td>0.879180</td>\n",
              "      <td>0.886899</td>\n",
              "    </tr>\n",
              "  </tbody>\n",
              "</table>\n",
              "</div>\n",
              "      <button class=\"colab-df-convert\" onclick=\"convertToInteractive('df-1ec7c170-a9e1-48fc-9edc-bfc8218d373d')\"\n",
              "              title=\"Convert this dataframe to an interactive table.\"\n",
              "              style=\"display:none;\">\n",
              "        \n",
              "  <svg xmlns=\"http://www.w3.org/2000/svg\" height=\"24px\"viewBox=\"0 0 24 24\"\n",
              "       width=\"24px\">\n",
              "    <path d=\"M0 0h24v24H0V0z\" fill=\"none\"/>\n",
              "    <path d=\"M18.56 5.44l.94 2.06.94-2.06 2.06-.94-2.06-.94-.94-2.06-.94 2.06-2.06.94zm-11 1L8.5 8.5l.94-2.06 2.06-.94-2.06-.94L8.5 2.5l-.94 2.06-2.06.94zm10 10l.94 2.06.94-2.06 2.06-.94-2.06-.94-.94-2.06-.94 2.06-2.06.94z\"/><path d=\"M17.41 7.96l-1.37-1.37c-.4-.4-.92-.59-1.43-.59-.52 0-1.04.2-1.43.59L10.3 9.45l-7.72 7.72c-.78.78-.78 2.05 0 2.83L4 21.41c.39.39.9.59 1.41.59.51 0 1.02-.2 1.41-.59l7.78-7.78 2.81-2.81c.8-.78.8-2.07 0-2.86zM5.41 20L4 18.59l7.72-7.72 1.47 1.35L5.41 20z\"/>\n",
              "  </svg>\n",
              "      </button>\n",
              "      \n",
              "  <style>\n",
              "    .colab-df-container {\n",
              "      display:flex;\n",
              "      flex-wrap:wrap;\n",
              "      gap: 12px;\n",
              "    }\n",
              "\n",
              "    .colab-df-convert {\n",
              "      background-color: #E8F0FE;\n",
              "      border: none;\n",
              "      border-radius: 50%;\n",
              "      cursor: pointer;\n",
              "      display: none;\n",
              "      fill: #1967D2;\n",
              "      height: 32px;\n",
              "      padding: 0 0 0 0;\n",
              "      width: 32px;\n",
              "    }\n",
              "\n",
              "    .colab-df-convert:hover {\n",
              "      background-color: #E2EBFA;\n",
              "      box-shadow: 0px 1px 2px rgba(60, 64, 67, 0.3), 0px 1px 3px 1px rgba(60, 64, 67, 0.15);\n",
              "      fill: #174EA6;\n",
              "    }\n",
              "\n",
              "    [theme=dark] .colab-df-convert {\n",
              "      background-color: #3B4455;\n",
              "      fill: #D2E3FC;\n",
              "    }\n",
              "\n",
              "    [theme=dark] .colab-df-convert:hover {\n",
              "      background-color: #434B5C;\n",
              "      box-shadow: 0px 1px 3px 1px rgba(0, 0, 0, 0.15);\n",
              "      filter: drop-shadow(0px 1px 2px rgba(0, 0, 0, 0.3));\n",
              "      fill: #FFFFFF;\n",
              "    }\n",
              "  </style>\n",
              "\n",
              "      <script>\n",
              "        const buttonEl =\n",
              "          document.querySelector('#df-1ec7c170-a9e1-48fc-9edc-bfc8218d373d button.colab-df-convert');\n",
              "        buttonEl.style.display =\n",
              "          google.colab.kernel.accessAllowed ? 'block' : 'none';\n",
              "\n",
              "        async function convertToInteractive(key) {\n",
              "          const element = document.querySelector('#df-1ec7c170-a9e1-48fc-9edc-bfc8218d373d');\n",
              "          const dataTable =\n",
              "            await google.colab.kernel.invokeFunction('convertToInteractive',\n",
              "                                                     [key], {});\n",
              "          if (!dataTable) return;\n",
              "\n",
              "          const docLinkHtml = 'Like what you see? Visit the ' +\n",
              "            '<a target=\"_blank\" href=https://colab.research.google.com/notebooks/data_table.ipynb>data table notebook</a>'\n",
              "            + ' to learn more about interactive tables.';\n",
              "          element.innerHTML = '';\n",
              "          dataTable['output_type'] = 'display_data';\n",
              "          await google.colab.output.renderOutput(dataTable, element);\n",
              "          const docLink = document.createElement('div');\n",
              "          docLink.innerHTML = docLinkHtml;\n",
              "          element.appendChild(docLink);\n",
              "        }\n",
              "      </script>\n",
              "    </div>\n",
              "  </div>\n",
              "  "
            ]
          },
          "metadata": {},
          "execution_count": 263
        }
      ]
    },
    {
      "cell_type": "markdown",
      "source": [
        "На мой взгляд, самые лучшие результаты у model_3:\n",
        "\n",
        " RandomForestClassifier ('n_estimators': 150, 'min_samples_leaf': 1, 'max_depth': 7, 'criterion': 'entropy')"
      ],
      "metadata": {
        "id": "r2_C242eDYDo"
      }
    },
    {
      "cell_type": "code",
      "source": [
        "test_concat"
      ],
      "metadata": {
        "colab": {
          "base_uri": "https://localhost:8080/",
          "height": 81
        },
        "id": "QUfDc8VXsGZl",
        "outputId": "b0d50694-6486-418a-b88d-96feed1feada"
      },
      "execution_count": null,
      "outputs": [
        {
          "output_type": "execute_result",
          "data": {
            "text/plain": [
              "          Test_model  Test_model_1  Test_model_2  Test_model_3\n",
              "accuracy     0.86413      0.853261      0.853261       0.88587"
            ],
            "text/html": [
              "\n",
              "  <div id=\"df-cd0219a2-8280-4527-83a5-469b813d9f2c\">\n",
              "    <div class=\"colab-df-container\">\n",
              "      <div>\n",
              "<style scoped>\n",
              "    .dataframe tbody tr th:only-of-type {\n",
              "        vertical-align: middle;\n",
              "    }\n",
              "\n",
              "    .dataframe tbody tr th {\n",
              "        vertical-align: top;\n",
              "    }\n",
              "\n",
              "    .dataframe thead th {\n",
              "        text-align: right;\n",
              "    }\n",
              "</style>\n",
              "<table border=\"1\" class=\"dataframe\">\n",
              "  <thead>\n",
              "    <tr style=\"text-align: right;\">\n",
              "      <th></th>\n",
              "      <th>Test_model</th>\n",
              "      <th>Test_model_1</th>\n",
              "      <th>Test_model_2</th>\n",
              "      <th>Test_model_3</th>\n",
              "    </tr>\n",
              "  </thead>\n",
              "  <tbody>\n",
              "    <tr>\n",
              "      <th>accuracy</th>\n",
              "      <td>0.86413</td>\n",
              "      <td>0.853261</td>\n",
              "      <td>0.853261</td>\n",
              "      <td>0.88587</td>\n",
              "    </tr>\n",
              "  </tbody>\n",
              "</table>\n",
              "</div>\n",
              "      <button class=\"colab-df-convert\" onclick=\"convertToInteractive('df-cd0219a2-8280-4527-83a5-469b813d9f2c')\"\n",
              "              title=\"Convert this dataframe to an interactive table.\"\n",
              "              style=\"display:none;\">\n",
              "        \n",
              "  <svg xmlns=\"http://www.w3.org/2000/svg\" height=\"24px\"viewBox=\"0 0 24 24\"\n",
              "       width=\"24px\">\n",
              "    <path d=\"M0 0h24v24H0V0z\" fill=\"none\"/>\n",
              "    <path d=\"M18.56 5.44l.94 2.06.94-2.06 2.06-.94-2.06-.94-.94-2.06-.94 2.06-2.06.94zm-11 1L8.5 8.5l.94-2.06 2.06-.94-2.06-.94L8.5 2.5l-.94 2.06-2.06.94zm10 10l.94 2.06.94-2.06 2.06-.94-2.06-.94-.94-2.06-.94 2.06-2.06.94z\"/><path d=\"M17.41 7.96l-1.37-1.37c-.4-.4-.92-.59-1.43-.59-.52 0-1.04.2-1.43.59L10.3 9.45l-7.72 7.72c-.78.78-.78 2.05 0 2.83L4 21.41c.39.39.9.59 1.41.59.51 0 1.02-.2 1.41-.59l7.78-7.78 2.81-2.81c.8-.78.8-2.07 0-2.86zM5.41 20L4 18.59l7.72-7.72 1.47 1.35L5.41 20z\"/>\n",
              "  </svg>\n",
              "      </button>\n",
              "      \n",
              "  <style>\n",
              "    .colab-df-container {\n",
              "      display:flex;\n",
              "      flex-wrap:wrap;\n",
              "      gap: 12px;\n",
              "    }\n",
              "\n",
              "    .colab-df-convert {\n",
              "      background-color: #E8F0FE;\n",
              "      border: none;\n",
              "      border-radius: 50%;\n",
              "      cursor: pointer;\n",
              "      display: none;\n",
              "      fill: #1967D2;\n",
              "      height: 32px;\n",
              "      padding: 0 0 0 0;\n",
              "      width: 32px;\n",
              "    }\n",
              "\n",
              "    .colab-df-convert:hover {\n",
              "      background-color: #E2EBFA;\n",
              "      box-shadow: 0px 1px 2px rgba(60, 64, 67, 0.3), 0px 1px 3px 1px rgba(60, 64, 67, 0.15);\n",
              "      fill: #174EA6;\n",
              "    }\n",
              "\n",
              "    [theme=dark] .colab-df-convert {\n",
              "      background-color: #3B4455;\n",
              "      fill: #D2E3FC;\n",
              "    }\n",
              "\n",
              "    [theme=dark] .colab-df-convert:hover {\n",
              "      background-color: #434B5C;\n",
              "      box-shadow: 0px 1px 3px 1px rgba(0, 0, 0, 0.15);\n",
              "      filter: drop-shadow(0px 1px 2px rgba(0, 0, 0, 0.3));\n",
              "      fill: #FFFFFF;\n",
              "    }\n",
              "  </style>\n",
              "\n",
              "      <script>\n",
              "        const buttonEl =\n",
              "          document.querySelector('#df-cd0219a2-8280-4527-83a5-469b813d9f2c button.colab-df-convert');\n",
              "        buttonEl.style.display =\n",
              "          google.colab.kernel.accessAllowed ? 'block' : 'none';\n",
              "\n",
              "        async function convertToInteractive(key) {\n",
              "          const element = document.querySelector('#df-cd0219a2-8280-4527-83a5-469b813d9f2c');\n",
              "          const dataTable =\n",
              "            await google.colab.kernel.invokeFunction('convertToInteractive',\n",
              "                                                     [key], {});\n",
              "          if (!dataTable) return;\n",
              "\n",
              "          const docLinkHtml = 'Like what you see? Visit the ' +\n",
              "            '<a target=\"_blank\" href=https://colab.research.google.com/notebooks/data_table.ipynb>data table notebook</a>'\n",
              "            + ' to learn more about interactive tables.';\n",
              "          element.innerHTML = '';\n",
              "          dataTable['output_type'] = 'display_data';\n",
              "          await google.colab.output.renderOutput(dataTable, element);\n",
              "          const docLink = document.createElement('div');\n",
              "          docLink.innerHTML = docLinkHtml;\n",
              "          element.appendChild(docLink);\n",
              "        }\n",
              "      </script>\n",
              "    </div>\n",
              "  </div>\n",
              "  "
            ]
          },
          "metadata": {},
          "execution_count": 264
        }
      ]
    },
    {
      "cell_type": "markdown",
      "source": [
        "## b) *Сравните с полученными результатами в домашнем задании по теме «Ансамблирование»."
      ],
      "metadata": {
        "id": "RXWS2BDPEC8M"
      }
    },
    {
      "cell_type": "markdown",
      "source": [
        "В предыдущем домашнем задании были получены следующие результаты:"
      ],
      "metadata": {
        "id": "60jvLccxEzMY"
      }
    },
    {
      "cell_type": "markdown",
      "source": [
        "![res.jpg](data:image/jpeg;base64,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)"
      ],
      "metadata": {
        "id": "rE5jIV1YEM95"
      }
    },
    {
      "cell_type": "markdown",
      "source": [
        "В тот раз модель RandomForestClassifier показала по качеству второй результат, у неё были следующие метрики:"
      ],
      "metadata": {
        "id": "dZSWnDWyGwpw"
      }
    },
    {
      "cell_type": "markdown",
      "source": [
        "![Screenshot_1.jpg](data:image/jpeg;base64,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)"
      ],
      "metadata": {
        "id": "ZJQ-xsVDGryL"
      }
    },
    {
      "cell_type": "code",
      "source": [
        "df1_3 # метрики оптимизированной модели RandomForestClassifier"
      ],
      "metadata": {
        "colab": {
          "base_uri": "https://localhost:8080/",
          "height": 175
        },
        "id": "7Tli-fBRH8Vd",
        "outputId": "e56bd5f0-d58f-4f74-b9f0-849246534f75"
      },
      "execution_count": null,
      "outputs": [
        {
          "output_type": "execute_result",
          "data": {
            "text/plain": [
              "                   0           1  accuracy   macro avg  weighted avg\n",
              "precision   0.858974    0.905660   0.88587    0.882317      0.886123\n",
              "recall      0.870130    0.897196   0.88587    0.883663      0.885870\n",
              "f1-score    0.864516    0.901408   0.88587    0.882962      0.885970\n",
              "support    77.000000  107.000000   0.88587  184.000000    184.000000"
            ],
            "text/html": [
              "\n",
              "  <div id=\"df-cb48a646-689c-407e-a84a-f14d166a8062\">\n",
              "    <div class=\"colab-df-container\">\n",
              "      <div>\n",
              "<style scoped>\n",
              "    .dataframe tbody tr th:only-of-type {\n",
              "        vertical-align: middle;\n",
              "    }\n",
              "\n",
              "    .dataframe tbody tr th {\n",
              "        vertical-align: top;\n",
              "    }\n",
              "\n",
              "    .dataframe thead th {\n",
              "        text-align: right;\n",
              "    }\n",
              "</style>\n",
              "<table border=\"1\" class=\"dataframe\">\n",
              "  <thead>\n",
              "    <tr style=\"text-align: right;\">\n",
              "      <th></th>\n",
              "      <th>0</th>\n",
              "      <th>1</th>\n",
              "      <th>accuracy</th>\n",
              "      <th>macro avg</th>\n",
              "      <th>weighted avg</th>\n",
              "    </tr>\n",
              "  </thead>\n",
              "  <tbody>\n",
              "    <tr>\n",
              "      <th>precision</th>\n",
              "      <td>0.858974</td>\n",
              "      <td>0.905660</td>\n",
              "      <td>0.88587</td>\n",
              "      <td>0.882317</td>\n",
              "      <td>0.886123</td>\n",
              "    </tr>\n",
              "    <tr>\n",
              "      <th>recall</th>\n",
              "      <td>0.870130</td>\n",
              "      <td>0.897196</td>\n",
              "      <td>0.88587</td>\n",
              "      <td>0.883663</td>\n",
              "      <td>0.885870</td>\n",
              "    </tr>\n",
              "    <tr>\n",
              "      <th>f1-score</th>\n",
              "      <td>0.864516</td>\n",
              "      <td>0.901408</td>\n",
              "      <td>0.88587</td>\n",
              "      <td>0.882962</td>\n",
              "      <td>0.885970</td>\n",
              "    </tr>\n",
              "    <tr>\n",
              "      <th>support</th>\n",
              "      <td>77.000000</td>\n",
              "      <td>107.000000</td>\n",
              "      <td>0.88587</td>\n",
              "      <td>184.000000</td>\n",
              "      <td>184.000000</td>\n",
              "    </tr>\n",
              "  </tbody>\n",
              "</table>\n",
              "</div>\n",
              "      <button class=\"colab-df-convert\" onclick=\"convertToInteractive('df-cb48a646-689c-407e-a84a-f14d166a8062')\"\n",
              "              title=\"Convert this dataframe to an interactive table.\"\n",
              "              style=\"display:none;\">\n",
              "        \n",
              "  <svg xmlns=\"http://www.w3.org/2000/svg\" height=\"24px\"viewBox=\"0 0 24 24\"\n",
              "       width=\"24px\">\n",
              "    <path d=\"M0 0h24v24H0V0z\" fill=\"none\"/>\n",
              "    <path d=\"M18.56 5.44l.94 2.06.94-2.06 2.06-.94-2.06-.94-.94-2.06-.94 2.06-2.06.94zm-11 1L8.5 8.5l.94-2.06 2.06-.94-2.06-.94L8.5 2.5l-.94 2.06-2.06.94zm10 10l.94 2.06.94-2.06 2.06-.94-2.06-.94-.94-2.06-.94 2.06-2.06.94z\"/><path d=\"M17.41 7.96l-1.37-1.37c-.4-.4-.92-.59-1.43-.59-.52 0-1.04.2-1.43.59L10.3 9.45l-7.72 7.72c-.78.78-.78 2.05 0 2.83L4 21.41c.39.39.9.59 1.41.59.51 0 1.02-.2 1.41-.59l7.78-7.78 2.81-2.81c.8-.78.8-2.07 0-2.86zM5.41 20L4 18.59l7.72-7.72 1.47 1.35L5.41 20z\"/>\n",
              "  </svg>\n",
              "      </button>\n",
              "      \n",
              "  <style>\n",
              "    .colab-df-container {\n",
              "      display:flex;\n",
              "      flex-wrap:wrap;\n",
              "      gap: 12px;\n",
              "    }\n",
              "\n",
              "    .colab-df-convert {\n",
              "      background-color: #E8F0FE;\n",
              "      border: none;\n",
              "      border-radius: 50%;\n",
              "      cursor: pointer;\n",
              "      display: none;\n",
              "      fill: #1967D2;\n",
              "      height: 32px;\n",
              "      padding: 0 0 0 0;\n",
              "      width: 32px;\n",
              "    }\n",
              "\n",
              "    .colab-df-convert:hover {\n",
              "      background-color: #E2EBFA;\n",
              "      box-shadow: 0px 1px 2px rgba(60, 64, 67, 0.3), 0px 1px 3px 1px rgba(60, 64, 67, 0.15);\n",
              "      fill: #174EA6;\n",
              "    }\n",
              "\n",
              "    [theme=dark] .colab-df-convert {\n",
              "      background-color: #3B4455;\n",
              "      fill: #D2E3FC;\n",
              "    }\n",
              "\n",
              "    [theme=dark] .colab-df-convert:hover {\n",
              "      background-color: #434B5C;\n",
              "      box-shadow: 0px 1px 3px 1px rgba(0, 0, 0, 0.15);\n",
              "      filter: drop-shadow(0px 1px 2px rgba(0, 0, 0, 0.3));\n",
              "      fill: #FFFFFF;\n",
              "    }\n",
              "  </style>\n",
              "\n",
              "      <script>\n",
              "        const buttonEl =\n",
              "          document.querySelector('#df-cb48a646-689c-407e-a84a-f14d166a8062 button.colab-df-convert');\n",
              "        buttonEl.style.display =\n",
              "          google.colab.kernel.accessAllowed ? 'block' : 'none';\n",
              "\n",
              "        async function convertToInteractive(key) {\n",
              "          const element = document.querySelector('#df-cb48a646-689c-407e-a84a-f14d166a8062');\n",
              "          const dataTable =\n",
              "            await google.colab.kernel.invokeFunction('convertToInteractive',\n",
              "                                                     [key], {});\n",
              "          if (!dataTable) return;\n",
              "\n",
              "          const docLinkHtml = 'Like what you see? Visit the ' +\n",
              "            '<a target=\"_blank\" href=https://colab.research.google.com/notebooks/data_table.ipynb>data table notebook</a>'\n",
              "            + ' to learn more about interactive tables.';\n",
              "          element.innerHTML = '';\n",
              "          dataTable['output_type'] = 'display_data';\n",
              "          await google.colab.output.renderOutput(dataTable, element);\n",
              "          const docLink = document.createElement('div');\n",
              "          docLink.innerHTML = docLinkHtml;\n",
              "          element.appendChild(docLink);\n",
              "        }\n",
              "      </script>\n",
              "    </div>\n",
              "  </div>\n",
              "  "
            ]
          },
          "metadata": {},
          "execution_count": 268
        }
      ]
    },
    {
      "cell_type": "markdown",
      "source": [
        "На оптимизированной модели стали лучше показатели precision и f1 (смотрим по macro) ."
      ],
      "metadata": {
        "id": "bb_gUAUfIXFW"
      }
    },
    {
      "cell_type": "markdown",
      "source": [
        "Для предыдущей модели использовались следующие параметры:\n",
        "![Screenshot_2.jpg](data:image/jpeg;base64,/9j/4AAQSkZJRgABAQEAYABgAAD/2wBDAAQCAwMDAgQDAwMEBAQEBQkGBQUFBQsICAYJDQsNDQ0LDAwOEBQRDg8TDwwMEhgSExUWFxcXDhEZGxkWGhQWFxb/2wBDAQQEBAUFBQoGBgoWDwwPFhYWFhYWFhYWFhYWFhYWFhYWFhYWFhYWFhYWFhYWFhYWFhYWFhYWFhYWFhYWFhYWFhb/wAARCABKAogDASIAAhEBAxEB/8QAHwAAAQUBAQEBAQEAAAAAAAAAAAECAwQFBgcICQoL/8QAtRAAAgEDAwIEAwUFBAQAAAF9AQIDAAQRBRIhMUEGE1FhByJxFDKBkaEII0KxwRVS0fAkM2JyggkKFhcYGRolJicoKSo0NTY3ODk6Q0RFRkdISUpTVFVWV1hZWmNkZWZnaGlqc3R1dnd4eXqDhIWGh4iJipKTlJWWl5iZmqKjpKWmp6ipqrKztLW2t7i5usLDxMXGx8jJytLT1NXW19jZ2uHi4+Tl5ufo6erx8vP09fb3+Pn6/8QAHwEAAwEBAQEBAQEBAQAAAAAAAAECAwQFBgcICQoL/8QAtREAAgECBAQDBAcFBAQAAQJ3AAECAxEEBSExBhJBUQdhcRMiMoEIFEKRobHBCSMzUvAVYnLRChYkNOEl8RcYGRomJygpKjU2Nzg5OkNERUZHSElKU1RVVldYWVpjZGVmZ2hpanN0dXZ3eHl6goOEhYaHiImKkpOUlZaXmJmaoqOkpaanqKmqsrO0tba3uLm6wsPExcbHyMnK0tPU1dbX2Nna4uPk5ebn6Onq8vP09fb3+Pn6/9oADAMBAAIRAxEAPwD7uooooAKKKKACiio7yZbazluHDFYUZ2C9cAZ4pNpK7Gk27IkorN8Ia3a+I/B+meI7CKdbXVrGK9gjmCrIEkQOoYAkBsMM4JGe9Zfw18ZJ4vXWI38P6tod5oeo/YLyz1Q2zSLJ5MUwYNbzSoVKTIfvZzkEDFW4yUnFrVb/AH2/MmLUoqS2Z01FFFSMKKKq63qNnpGjXerajN5NnYwPcXEu0tsjRSzNhQScAHgDNKUlFNt6DSbdluWqKjs54rq0iuYG3RTIHjbBGVIyDg+xqSm007MSaaugooooAKKKKACiiigAooooAKKKKACiiigAooooAKKKKACiiigAooooAKKKKACiiigAooooAKKKKACiiigAooooAKKKKACiiigAooooAKKKKACiiigAooooAKKKKACiiigAooooAKKKKACiiigAooooAKKKKACiiigAooooAKKKKACiiigAooooAK+a9B8La8/x8e915odN15fFM11DqkHw71G6uriw81jFb/23HObZIGt9sZjdFCcgpvw7fSlFEdJqXb/gf5BL3oOD6/5Nfr5dNTwTwx8PYrLUtP8AFy+FrpPEi/EjUZG1GS3ka5isJbu7XCs3KWrRuH2DEZL+Zjc24ngLTk0v9pC+u9B8MrrT6tfXzX+t6r4FvNO1HSlKlhjVp0WO9t/MVYY4Y13CN0IZkiJPvdFEfdv8/ldRX6X9WyqsnUnKT6u/4yf/ALdb5Hy58GfCXiC31sTawFsPFEOl3y6+tp8OtRtJ9ZmeJlZbjWGnktrweaVkQqMnACCMbkDPhz8NrrQfE/h7UrLwdqFpcLewC5uDZy7wknhyUXDOzDOZLoRiRjy8iRhyWVQPqailbRpaXVtP+3vw978BJ2nzev4219VbQ+d/2ZdB0qwv/B9/4c8Ha/odzpPhVoPGF7qGg3ljJfT+XAIoXNzGsl46tHKVZPMEaoVBUOqtq+FNb1fXbX4vWfhHTPE2na5rc0174euNV8N6hpsUhGmWlujrLcwxorCaNgFLBvlLY2jNe50VpOfPKba0kmvvd9Pmtu3nqKj+5UVHpbfyPCf2U/Do0zxZeXtosOlR/wBlpDfaVafDjUfDsc8+8ETzTXU0sd1OuJFLxsSwcksw2mt34zeKbzxH+y74u1PTtJ17w9dyW9zYQQaraPbXJcS+QHCRkyGOQ8r5eZGVhsUuVU+s1m+LtA0nxP4dudD1y1+02N2AJEErxsCrBldHQh0dWVWV1IZWUEEEA1nPmlG3k/zv/n3CnFQfzX5W/q1j5g8KeG7abwX8Qp/Avg7R/CniXV00z7R4d03w9fWwGmRSgTsiXNtYTXHmoJwyRBAcKofe249Z4D+HGneIPhD460NdL0m+sdUtsafoJ+HV34b0+zvVhkCzw2t+z/OzNHmRMKDGD97JPsXgfwL4c8JXV1d6TDqEt5eqiT3uqatdaldOiZKx+fdSSSCMFmIQMFBZjjLEno6VSCnCUe6t/X5rzuEPclFro7/1/Wx5/wDs52vgq08EiLwb4Ik8K4WIajayeFZdGaS4EYySskMYmI6b13Lx941nftTf2P8A2L4VXxBaX15pbeJ4VvLWxtLi6luIzb3AMfk26tJKjdGQKQylgwKlhXbeNvCumeKrSG21O61u3S3cuh0rXr3THJIx8z2ssbOPZiR3xWboPw38MaTNDLE+v3r293HdwHVvE2o6j5MyJIisn2meTb8srggYByMg7VxVRupLmemsX9zTf62CnanFpdmvvTX/AA54/qGm3mlfB+/sNM+H0KeEdb8Xs+naTqPhK6v4dJ00wqxlk0aArLIj3McjLCQhQzpI6qUIqt4J8C6lrfg3wT4f1/w7fw6TaeP9Rmks7fSZ9Mto7A2d6Yx9mMkjQWkjSKvku5UrJ5TAZMY+lqKcXaV3rol93LZvz938WF300+L/AMm5r/8ApX4I8P8AjJ4U03wd8PdK8H6F4StNQ8M32tXE88F94VufENjpCsJJljXTLTazxmQkJk7IiQf7orzfTfAHiHWfA+gweIfCOqtNpEN1HZwrps9qtiF8QRCEwxB38gpaBvLw7NHFna+3JP1xRSjp1/rlcf1CWsbeaf43a9H1Pl/xN4QsbX4Y6Hp2o6DKDout6/8A2ZoGo/Di+8RaS9u1/N5O61tkAgZY/K8mQsoEbyBVZWOPozwPPfXPgvSbjUtEXQ7yWwhe40pJVkWwkKAtAHUBWCHK5AAOOK1KKtyunfq7/wBf16W1uS1lfbf8Xf8AAKKKKgAooooAKKKKACiiigAooooAKKKKACiiigAooooAKKKKACiiigAooooAKKKKACiiigAooooAKKKKACiiigAooooAKKKKACiiigAooooAKKKKACiiigAooooAKKKKACiiigAooooAKKKKACiiigAooooAKKKKACiiigCTyJf7v6ijyJf7v6irlFAFPyJf7v6ijyJf7v6irlFAFPyJf7v6ijyJf7v6irlFAFPyJf7v6ijyJf7v6irlFAFPyJf7v6ijyJf7v6irlFAFPyJf7v6ijyJf7v6irlFAFPyJf7v6ijyJf7v6irlFAFPyJf7v6ijyJf7v6irlFAFPyJf7v6ijyJf7v6irlFAFPyJf7v6ijyJf7v6irlFAFPyJf7v6ijyJf7v6irlFAFPyJf7v6ijyJf7v6irlFAFPyJf7v6ijyJf7v6irlFAFPyJf7v6ijyJf7v6irlFAFPyJf7v6ijyJf7v6irlFAFPyJf7v6ijyJf7v6irlFAFPyJf7v6ijyJf7v6irlFAFPyJf7v6ijyJf7v6irlFAFPyJf7v6ijyJf7v6irlFAFPyJf7v6ijyJf7v6irlFAFPyJf7v6ijyJf7v6irlFAFPyJf7v6ijyJf7v6irlFAFPyJf7v6ijyJf7v6irlFAFPyJf7v6ijyJf7v6irlFAFPyJf7v6ijyJf7v6irlFAFPyJf7v6ijyJf7v6irlFAFPyJf7v6ijyJf7v6irlFAFPyJf7v6ijyJf7v6irlFAFPyJf7v6ijyJf7v6irlFAFPyJf7v6ijyJf7v6irlFAFPyJf7v6ijyJf7v6irlFAFPyJf7v6ijyJf7v6irlFAFPyJf7v6ijyJf7v6irlFAFPyJf7v6ijyJf7v6irlFAFPyJf7v6ijyJf7v6irlFAFPyJf7v6ijyJf7v6irlFAFPyJf7v6ijyJf7v6irlFAFPyJf7v6ijyJf7v6irlFAFPyJf7v6ijyJf7v6irlFAFPyJf7v6ijyJf7v6irlFAFPyJf7v6iirlFABXF/D/xnc+ONUutT8Pw23/CJWvnWseoSMTNqN0kmxzCgPyQoVkUs43O3KgIoaTtKw7Pwppdl40uvE2nmezutQh8vUIIHC29842hJpY8YMqqu0OMEqdrbgqBZkm7+j+8OnmeYfBn4m65p3w18IXHjjR5IdN1PQmlg1iTVGu7y4kgtjNI08QjwoeOOV1YSuxCjcqMdo3R8UPEOn2P23xL4Jt9OgvtEutW0kW+s/aJJBBEJTBcqYUEEhRgfkMyZDjdwu674N+Eej6JY2dhqOv654isdLsJNP02z1ZrYRWUMieW4UQQxFy0fybpC7AZAI3NmXRfhTpFrmPVdd17X7aHTJdK0+31SeIrp9rKoWSONoo43diiIvmStJJhfvfM+6qzlLncN3t667/8Aktum9+zu8edN7X19NNvxv17B4w+JH9hWd1P/AGL9o+y+ELnxHt+1bd3k7P3H3DjO/wC/2x901Tj+KGo6f/ax8VeETpf2TSItWsIrXUlupbqOSRo1hkGxEinD+WCA7x/PxIQCakt/hBpjWuoR6r4r8T6xJqPh+bw+817cW4MNpJjiNIoUjVxjh9pLZ+ffhcbXij4f6Jrz3TX816PtejjSW8qULsjEnmLIp25Eitgg5xwOKc7acvn/AO3W/wDbV9/qZxvy676f+2X/APb332MH4Y6t4xvvjP4ns/FtlZ6b5GhaXLb2FhrEt9bx75b4NJl4YdrtsUNhTkIvzHoOm+KHia58KeG4dRs9J/tS5uNRtLGG2NyIAzzzpCpLlTgAuCeDwDVfwL4Hg8N+ItS1+bxDrmt6pq1tb213dapNEdywNKY9scUcccfEzAhFUHAJG4sza3i7QLPxFY21peyTxpa6hbXyGFgCZIJllQHIPylkAPfGcEdacrOUe11f0vr+A5X95re2nry2/M8qs/j75Xhu91LX/DdhosiWtlLYi71+NLeZri4nt/307xqsMayW0jbsOTHhtgf90G678X9c134G+LNf8ExeGptY8OGSK6uLHxCL2xjHkCVZradbdhOQHUGOSOP5g4JwAW6mP4PeG47Vo4NR1mGdbS2gtbuO4jWa0e3uJ54pozsxvD3DghgyMoCspBYNux+EPtXgfU/C/iXxHrHiS31WOSGe41BbaGZYnTaUU2sMKgDkg7S2SeegExvyu+//AA347+VvMcrc6ttp+Wvyvt1+RynxC13x/Z6P4YuLrQ7G31afxPFbx6fpOvySwXcTW8xAmmkghKpuGWHlvgICA7YWrFv8S9am02DT4/ClofFk+uT6P/Zv9rN9iSSGMzNK135G7y/JCsP3O7c4Xb1Yb1j4Jb7HpkOs+K9c12XSdTXUba5v1tEkDLE0YjbyII1KYdj93dk/exxVXV/hrpN4Z7i21XVtN1J9ZfWLbUrSSLz7K4eFYXEYkjaNkaMFSsiOPmJ6hSCOjlfa91/5Iv0lf8CXd8tt7Wf/AJP+riZdr8S9cvFi0Sy8I2p8Xf2lc2Nxps+rlLKDyI0leb7WIWZozHNAVxDvJlAZV2uV0v2fL/VtS+GMN3rkpk1BtT1JJ/8ASmuAhW+nUIsjqrMihQqkqvyqOB0EDfCrT47GzbT/ABP4g0/WLW8uLyXXbd7Zry7knXbN5okhaEqwWP5RGAvloE2hQK6TwD4Z0/wh4Yh0HS5buS1hmmlV7uczSkyyvK26Rvmb5nPLEk9yTkl9Nd9Py1+V9uorO6fr919L+du2h5/8e/E2q6V8SPDWiW/ifxRomn3+l6hc3B8N6AuqXMssT2wjzGbW5ZUAlkyQqjJGW6U+4+KV7ovwd8K+IdSvvBbX+sWKSXFxrHimLSrOSQRgssUqpMHkJP3VBUYb5xhd3VePPA3/AAkfibTPEFn4q1zw/qWlW1xaxT6Wto3mRTNEzq63MEy9YUwQARz61m3Hwm0iOTRZtF1/XtDm0XT5tOE9jLA8t3bzSJJKsrzxSNuZ4wxkjKPlid3TEa8llv8A/tf5pfo7a6XV1/Xb+v1Rk+I/jNBbeFfB+t6dY6RbQ+MLH7ZBc+Jdb/suygykbCBrhYZgZ28w7UwAwjkIb5cFfjB8Z7DwN4iGiyN4XF5b6Yuo3sWr+KYtMZkYsFjtFeNjcSHy5OG8tR8mXG7jal+Gpi8B6V4P0fxv4k0fStL00acY7ZLCVryIIEzM1xayHdtBGU29TxTrv4aWcFxZ3HhbxLr3hSWz02HTGOlPbyi4toc+Ski3cMykpufDgBjvIJIxi52u+Xa7t6a/8Drd+VtZWlr66f5f8H+tuL8TeNrnVvil9ltfGfjfR9Gn8OabqNhF4c8LrqPmNcSXO5p2NjcmL5Y4sAlB97rg46zxr8RZ9E+KGmeC4LXQo5L+GKVLjXdcbTjd75GQx2aiCQXMqbQWTKY8yP8AvZFzX/AFze+MJfEumeO/EmhXtzYW9jdDT4rB0uEhaVkZhcWsuGzPJnaVByOOKk+IXgM+MWe11Pxdr0Wi3CIl3olvHZC1u1VtxDu1u067sAEpKpGPl2nmm7XVtrv7vX+vRA7tPvZffZX0+/8AzMPVvEnxNj+Ok3h/S9C8OXWjrpC3Ma3OvSwOwM20ykLZOQ/UeXuK4AO4E4FvxRPrC/tAeFYZ/tMGltaXwtzaa46x3UnloWF1ZmDa+3+BhNkEn5ea2vFfg4av4ks9fsPEesaDqFpbtavNpot2FzAXV/KkW4hlXAZcgqFYZbDc1T8UeAbrWfHlj4oHj3xLYNprE2lhaxaebaIMqrIv7y1eQhwvOXJGTtK8YiN1GK6q/wCLf6P7/KwS1lJ9NPwS/Vfd53ONvvjfrFvrlzbDwJG1jbXd5F9rbWgGaK1v0s5pBGIjyTLGyLnkhwxQKrPteIvi3Z6N8WrPwddP4ZZby/isBDH4mjbV45JFyjtp4j4iJK/N5u4KwYr1FXLr4R+G7jz997qo+0Nes2JY+PtV7HeyY+TtJEoX0UkHJ5qOP4RaUniD7cnibxElguvf29Ho6S262iXpl81nJEImcMxb5HkZRu+UAqhVx+KHNt1/8C/+R/H8Cp/y85e75fS2n4/h+NfwH4k+JuofFLxJpWqaH4c/sjTr+CLfHrsrS2sbW6P+7T7Evmlt24h3XaWIBIAJk0H4l6vf32kahP4Tht/C3iC/ax0zUl1Qvdlvn8uSa1MShI5PLO0rK7AMm5Vy2zoG8HCP4gTeKtO8R6xp/wBsEX9o6bB9ma0v2jUqryCSF5FbaQpMbpkIuelZmg/C7SdK1qynTW9auNK0m7kvNK0K4lhaysJ335dCIhM23zJNqySuibvlUbU2zBNWv8/69NvPcJbO2/T8f1tf8Cj4J+I/ibxFqlrMvw+nt9Bn1m80iTUP7Q8yZHgedBceQsWPs7GELvZ1YO2NhXDt6HeTpbWctzLu8uFGdtqknAGTgDr0rP8ABugWfhrRP7LsZJ5IftVxc7p2BbdNO8zjIAGA0jAcdAM561mS+F7uy/4Su/0/XNWv7vxBFut7LUtQY2djIsJjVbcIA0KMcM20k5yRg0qjapy5d0tPNjhrNX2b/r9DjPBnxg1nVtasX1Xwppen6DqPhmbxLDqMGvPdTR2abNokhFsqrIRIpwJCvDYZippvwz+Ng8a6xJouk23hO51S60p9S0y20/xcl6AqMitFfNDCfssn72P7gmU4cBjt+bnf2fvhxrnh7Vhp58K32kaDqGlPbeJINXsdBhW+fYFjEB0xBK+C0uWuH+6x4ZmyvrHgPwleeGX8r/hNPEWr6fHAILWw1P7I8dsgxt2ypAkzkKNuZZHJHLEtzWzSUvK36y3/APJbaa2vpci7t/XZbfjfrroYf7PPiDx74j8GWmo+MNM0WOOaJzHeWeqvNNM4lZcPCbWJEAA6q7ZwOOeOm+JfiMeEfAeqeJTYSXw0y3MxtY5AjTYI+VWbgHnvx7jrWLpfh+78AWF5caHL4o8SWLSMbTw5C+nhLTzJS7GGSUQttBZuJJ2wOAOBWN8RrvxZ46+GviHwzb/DnxNod1e6c621zf3ellGk3LhV8q7lIbkkbl2/KcnoDmtYpdf676Del/6/4Jpab8QNVivfEGmeJtA07R9Q0XTIdVjH9uLJbPaytKqtNO8cYhKNA/mfK6qMFWfpXP6T8cre78C+Jdch03SNZu/DVxaRyQeGNfTU7e7W4dVQRXHlx/vAS4KMi8qOcNkb978J9K1LQdYs9d8Q69rF/rQthNq929stzEttJ5tusaRwpAqpJl8eUQxY79wOKfZfC3Tlt9YGp+JfEGr3Wuy2Ul7eXs0HmE2snmRBFjhSNB0BCoAQM43FmLto/wCv603/AA8m91bv+n+f4B/wnHiKw0PxBd+JvCthoc2jxxTW811rYXTp4pcgNLePEqxFCD5qqsm0YK+ZuUHkbf49S3nhl7vR/D+i61fw6rcadL/ZfiVbjTj5Vg175sd2IcuvljYR5QYPkYIGT6X8R/Cln4y8OppV5eXli0N5b3ttd2fl+dbzwSrLG6iVHjOGUcMjD271zVv8H9FDXM994g8Qald3l9Le3N1dzwmSWWSwNixwkSqq+UchVUANjA2/LUy5uWdt7aeun/Bv/wAHSo2vG+19fTt/X/D5I+M10vgHVNfu/C9vp8+n6naWfl3urbLSCO5ggnjnurlIWECqk6hyEkVWGAzKd9eh+B9Vm1zwnY6vOdJZryLzQ2k6ib60ZSTtaKcxx+YpGDnYOvfqcKz+HiaZp99b+HvFmvaJNqFzbzz3VotnLJ+5tY7ZUAnt5EClIUY/LncDggHFa/w/8L2HhDw+dKsZ7m58y5mu7m5uinm3M80jSSyMEVUBZ2Jwiqo7ACtZcvM7baW+5f8ABf6W2jXlj36/1/WnXvS8feKdS0nWdK8P+HtGt9V1vWFnlghvL1rO2jghCebJJMsUpGDJEoUIxJcdACR518XfiV4gufhLatYeEfEFveX+vW+i6q+k6jaqbGT+0I7aaGKd5onLSguscqKuN6sxiI+X0vx14Pt/El5p+oxatqWi6tpRk+xanpph86JJABJGVmjkjdGCrkMh5VSMEA1S/wCFb6D/AMIRY+GTcX5hs9Wg1eS6MifaLy7iulujLK23aTJKuW2qowxC7RjERXvLm2ur+l1f5Wvv18tCm7L3d/8AgP8AW3yua3w8tFsvCFnAmn61p/DMbXW9Ta/vIiWJxJOZpt3tiRgAQBjGB5p+0Z4w1TQPGdvYw+MPEXh+z/4R66vEbR9GhvFkuVljSP7Q8ttMsMXzkFmaJeeXFey1ha54R0fWNfl1TUo3uPP0ibSJ7WTaYJbeVlZwy4ySdgHXGCeKUruSfr/6S7fjbv31FHSP3fmr/hftfY474ifE3U/AngvRb3xDH4PtdWudOE9/bav4oj0tXmWNTLFaZSXzmDEjBKryvznPCeJPirrC3E48KeDE1iC28L2/iSSe71YWS/Z5fP8A3QAjkYzYhBUY2HLbnTC77V98IbGf7K8XjPxVazRaImh3txDPbedqVmjMypLI0BZGG9/nhMbndknIBGvp3w70Wyt7iGK6vytz4bt/DzlpEyLaATBHHyf6w+e+T04GFHOXNvlm1vrbt9r8Ph/EdNJOKe1lf743/Dm/B+S4r46fEHxFdfDfxUngXS4WTTvDLXt7qtxq8ljNZGaBpI/s6xwyNJKqDectGASgDk7tuz4o+Jur6W2u3+m+FoNR8P8AhEomvX0uqNb3SsIkml+zQGFlmEcUiMS0se47lGSOZvFXwe0bXLG807/hI/Emn6fqelRaZqdpYXUUaXyRRtHG7sYi6uobny2RXChXV1ypseIfhVo+ravqU51rWrTTddeKTXNFt3g+x6syIseZd8TSrujjjRxFIgZUGQckm/d5vK7/AD0v5Wvtrt5iV+SPNv1+5bed110OX8bfG7WND1jWobTwLHe2OjLek3b60IWl+yRQzzHy/JbC+VOAvJJkG0hVJkD7LxNqWofHbXtIuvGPjWzttO1azgsdN0vwylzp7xvaW8rLcXQsZfL3PI+7M6FVII28Guk8Q/CTw3rA1YXN5qkY1hL9JxFLGNgvIYYZNmUOMLAm3OcEnOeAOm8O+HbLRdY1rUrWW4eXXLuO6uVlYFUdLeKABMAEDbCp5J5J7cCYWSV97L79L+XfoHR+d/uvp57b6nH3vxM1aO+uNTtvCsE/hOx1oaNdamdUKXgmEwt3kS1MO14kmbaSZgxCsyocKGXSPiN4l1PxBPHZ/D+d9FsfEUmiXmoC/wB02Q+wXEUCxHfCCV8xmdNnzYDhSauXHws0iXXZLj+2dZTR7jVBq1z4dDwHT57wOJPNbMRmH71VkKLKELrkqcsD03hXQbTQLe8hs5J5FvtQnvpDMwJEkzl2AwB8oJOO+O5qYXuubt+Pu/h8VvlfXRFTry9/w978fhv/AFfzfwr8d9E1r4kWnh2GTw49rqWoz6fZi18SxXGqLJEJDvnsQgMUTeU+GEjsN0e5F3Ns3PAvxGuvE/j7WvD1vZeH7c6PJcRNaTa8w1YGN9iyS2P2f91DJkMsgkbKOhx82Bp+FvAz+HdbE2k+L/EEWjrNLKnh9/skllGZNxZVdoDcBd7FwomwpwoAQBabZ+Av+K4tPE2s+Ldd1yXTXnfTbS+js44LFpVKMUMFvHI2ELIBI7jByQWAYEb2V+34/wBX8vQJbu3f/P8A4Hn6nPfCvxb8Rr0+ILrxXoegLpulanexvNZ63JNPCIgCsSRGzjWRR03s6sc5I7VpfBtPFmt+H9J8aa54vuJ116xS7k0SOyt0srRJUDosLhBPvUFAXeVw3zkIu5dmvo/gxNL8XX+r2XiHV47HU5nuLvQ2Fs9lJM6BWky0JmUnaCVEoXOTt5Oangf4fR+FNlppfizxF/Y9rG8enaNLJbta6eGyFEbCETOqAkKkskigY+X5V2kNIpNa8qXzSfN9+ln99m2D+J22u38m9Pu1uvu0SM/4LxvpWpePdLS91a+tdK8QhLNNQ1Se9ljQ6fZymNZbiRmxvdyAWwCx6VT+HHxhs/E/iDV9IVfD2oXGnaa2oxf8Ir4iXWfNjVirRuBFGY5s7MJ8wbdw3Bq9ofwqhtIfE1tqvjXxLr1n4thlj1W11BbGNJGeGOAyKbe2idWEUSqAG29TtzzU3hT4ZpoepPqh8aeJtQ1EaQ2k211dmzH2OAlWXyoo7dIgysgIZkbOcNuAUB6u139lL5qLX5peqZUmnqt7/hdfpf5976VPhv8AE248TfD3V/Fh0/RLyPTbUzrY+GtbbVLouIjI1vLGYITFP90eX8xycHGObvwp8b6j438E3muafH4QvJo8paR6N4ne+t2k8sN5c832VGgYblyuxyAc47VN4f8Ah+dMvtV1aXxh4g1DXNVsUsf7Zuo7Jbi1hQuyLGkVukJKtK7ZeNyScHIAFL4d8Af2TLrWof8ACXa9ea7rlvFbza5cJZC5iji3+UqRx26wfKZZCC0TE7sEkBQG7a+n9f09vMnt6/5flrtq/Lpzfw18Q61o/wAA7nV/7I17XtSs9R1OKa2Osw306vFdzoxFxcfZg0KlPlG0ME2gKxFVfgSPEV78Ev7ctdH8R/8ACQazpttLJJ4m8UsYb13jDPPbmOS6W1T945CrCnRAUAA29d8P/h+vhfw7qeiP4s17WrTU5J5WXUVswYHnkkkmaMwW8XLvKxIbcBgBQo4OjB4WNl8O7Hwlouv6rpKadZwWlvqFstvJdKkSqoz50TxEsFwf3fc4xxiZL3ZpdbW8t7/p/SQ2/fTW15P8Vb9Th9B+IVn4P/Zj8J+J7+5kmk1CysobeTxDryKWlmUENdXzoowBuZpNmSFO1CxClulfG6LUfBo1TS9Ds9dv4/EcOgzW/h/W4721eWVFdJILoqiyIFdN25UKkOD93J3dD+Fllp3w3svBz+KvEV3FpMsMuj6hK9ql3pjRKFj8pooERgADkSo+4MytuU4rWh8GtNpun22t+KNa1ybTdUTUYLu8S0jlLoCFjYQQRoU5J+7u5+9Vyd5t9HJf+A3jf525vwsxOyjaPZ/fZ2+W3/DGHrfjnxNY/DXWr/U/DsGi+ILO/j0q0iNw91ZTzztDHBNHK0cTSxbrhN3yqQUkXquam8Ta7qnw+0rwn4c0/TdQ8XalrV42nLcXd+I3aUQSztcTuVIWPMZ3BB8in5EbasZ6D4leHj4q8EX+iRXX2O4mVZLS6Kb/ALNcRuskMpX+LbIiNjvjFV7HSbnxBb+Gtc8S2Uumaxosr3LWkFwkkQnaGSBxuAO+MiRmU/K33dwBytJbfd/X539V2B9Pn/X+Xozn9e+JGp6L8P4Na13SfD3h3UW1Caxmh8R+JP7OsQ0buoaO6aAtKHVN6YiGVJztxVTTfixqWv6f4TPhLwrbandeKtOvLtPO1lYbW0NrJDHIGmWOQvGTIwV40YkhPlCszJ0/xA8EQ+J9Z0rWYNf1bQtU0dZ47W+0wW7SCOYIJEK3EMqYPlpyFDDbwQCQYvBvw60Tw1NocljeanM2gWt9bWpurgStIt1NHNIZGK7nYNGuDnOCc7ic0Rt1/rR/rb8fmbSXaz/4Bh2/xK1vX9C0dfCnha1n1fVNJfUby21LV2tIdPjVvLZfOjhlaR/N3BQqAEIzFl+UNi/DPx/4uuPhv4Z07QNAh8S6ta+D9P1TWrjVNae0LGaI7FjkMMvnTOYpidxQDC5b5uOnb4U6XFa6bDpviLxDpZsLSWxllsriJJL21kk8xoZWMRK/NnDxeXIuTtcE5qBfhBpVpp+n2ug+J/EmhtZ6JBodzPYTW5k1GzhBESzGWFwGXfJiSIRv+8b5vu4mPN7N3+J/d9r8NY+d0/nWny/4a/z3t0287Yt98a7+61TTYvC/gxdTs9UtrGWC5u9VFoQ15bzTQqUET4A8hvMOcqCCokPy16N8PdfTxV4D0XxNFbNbJrOnQXqwM+4xCSNX2k8ZxuxnFYUXwu8MQapbXdkLqzjszZ/ZrWB0EMS2sM0MSKCpO3ZO2eey8jnNXSNR1TwRotj4P0X4ZeMtZ07Q7SGytdQiu9JC3MccaqG/eXkT5wOcxryDgYxV3jefrp6efzI1svTX1u/0sL43+Is2ifFLTfBcFpoMUmoQxSpPrmuNp32vfKyGKyUQSC5lTaCybkI8yPn5silq3iT4mx/HSbw/peheHLrR10hbmNbnXpYHYGbaZSFsnIfqPL3FcAHcCcDV8XeC5/HthH/bWveJdK0q+gi+3+GdunmJwCGaOWRYZJATwGMU4xj5WHWtDxX4OGr+JLPX7DxHrGg6haW7WrzaaLdhcwF1fypFuIZVwGXIKhWGWw3NTFWlFvo3f7ml92n572HLWMrdUrfJq/36/ltc5n4ifF218JfESz8O3f8AwjTRXF5aWjQP4mjj1ctcSLGskVh5ZMkQaRckyK2FkIUhRuNH8SfE64+OWu6C2h+HJNEsoLGRd2vSrLBDLJcAzKosvnkZYwTEzhVKABzuJFrWPhFpWoa/qF9/wkviG2stU1i21m60m2ktktpLyAwFZC3kmYg/Z48oZCvXABwRuat4OFx47j8Vad4j1jSLpoYYL+3shbNBqMUTu6JKJoZGXHmSDdEyMQ554Uhw+FX3/wCAv1vt6+SJdbf1/X6W83xMfx40OT4lDw4kvh1rVtbOiBR4kiOr/aA5i3/2eEz5Pmgru8zdt+fZt5rtYfH2hy+Jv7CWx8Ti6+0G38x/Cepra7gcZ+0m38nZx9/ftxznFQ6P4GbR/E0uoaN4t16w064vJL2fQoxaSWUkshLSEGSBpkDuS5VJVG4kgDJzLH8NfhzH4k/4SGPwB4XXWDcG5Ooro1uLnzicmTzdm7eSSd2c80o7K/z/AA/4P+SCW8uX5fj/AMD/ADOU8P8AjHxLrnxs057a6Fv4Qv7e/gsLbyUJ1BrcxA3hcruCF3dUCnDKm/kOuLfh6+8Uad8covDU3i248SWs+kT32rwS2VvDHo0hlQWwiMSKypIDcAJK8rkQ53cMTctvgv8AC6z8Y6Z4m03wL4e02+0nzGgNlpFtCpdtpEjbY8l0KZVgRjc3rR8M/hm/grVrm7tfHnifUor66lu7221GPT3W7mkGN8kqWqTMVG0L+8wqqqj5QFpQVmr9L/1+vlolboS2du6/r+t93fZ3PCN7faf8Stc8JXl5PeW5gj1fTZrh9zxxzSSLLb56lY3QFc9FlVeiimeDfG73Hji68A+J4bax8UWtp9vijtpC8GoWXmFFuYieU+b5Wjf5lbOC64drXhHR9SbxxrnizWYFtprxY9OsLZZQ/l2cDyFZGI4DyPK74HRfLB5BrQ8H+GNL8Nx3TWKSS3eozm41C+uW33F7L03SP3wMKqgBUUBVCqAA47K/b/hvw3+emt0PeVu//D/je3yeys9miiigAooooAKKKKACiiigAooooAKKKKACiiigAooooAKKKKACiiigAooooAKKKKACiiigAooooAKKKKACiiigAooooAKKKKACiiigAooooAKKKKACiiigAooooAKKKKACiiigAooooAKKKKACiiigAooooAKKKKACiiigAooooAKKKKACiiigAooooAKKKKACiiigAooooAKKKKACiiigAooooAKKKKAP/9k=)"
      ],
      "metadata": {
        "id": "WhVVWyrOKJHL"
      }
    },
    {
      "cell_type": "markdown",
      "source": [
        "Остальные параметры были по умолчанию:\n",
        "\n",
        "( n_estimators = 100 , * , критерий = 'gini ' , max_depth = None , min_samples_split = 2 , min_samples_leaf = 1 , min_weight_fraction_leaf = 0.0 , max_features = ' sqrt ', max_leaf_nodes = None , min_impurity_decrease = 0.0 , bootstrapoob_score = False , n_jobs = None , random_state = None , verbose = 0 , warm_start = False , class_weight = None , ccp_alpha = 0.0 , max_samples = None )"
      ],
      "metadata": {
        "id": "sV088_ExJ7as"
      }
    },
    {
      "cell_type": "markdown",
      "source": [
        "Сейчас были оптимизированы следующие параметры:"
      ],
      "metadata": {
        "id": "VLgTvSivKnaN"
      }
    },
    {
      "cell_type": "code",
      "source": [
        "model_3.get_params"
      ],
      "metadata": {
        "colab": {
          "base_uri": "https://localhost:8080/"
        },
        "id": "bp4wWpNJGXPm",
        "outputId": "ef190793-8611-4b17-e0f7-66425af0a7f8"
      },
      "execution_count": null,
      "outputs": [
        {
          "output_type": "execute_result",
          "data": {
            "text/plain": [
              "<bound method BaseEstimator.get_params of RandomForestClassifier(criterion='entropy', max_depth=7, n_estimators=150,\n",
              "                       random_state=42)>"
            ]
          },
          "metadata": {},
          "execution_count": 269
        }
      ]
    }
  ],
  "metadata": {
    "colab": {
      "provenance": [],
      "collapsed_sections": [
        "xapYrnT2qRZg"
      ],
      "toc_visible": true
    },
    "kernelspec": {
      "display_name": "Python 3",
      "name": "python3"
    },
    "language_info": {
      "name": "python"
    }
  },
  "nbformat": 4,
  "nbformat_minor": 0
}