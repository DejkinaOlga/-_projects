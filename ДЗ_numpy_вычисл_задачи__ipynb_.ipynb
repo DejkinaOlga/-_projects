{
  "nbformat": 4,
  "nbformat_minor": 0,
  "metadata": {
    "colab": {
      "provenance": [],
      "toc_visible": true
    },
    "kernelspec": {
      "name": "python3",
      "display_name": "Python 3"
    },
    "language_info": {
      "name": "python"
    }
  },
  "cells": [
    {
      "cell_type": "markdown",
      "source": [
        "# Задание 1"
      ],
      "metadata": {
        "id": "JFih_aWiiDHW"
      }
    },
    {
      "cell_type": "code",
      "source": [
        "import numpy as np"
      ],
      "metadata": {
        "id": "KPwl_J5xiHXN"
      },
      "execution_count": null,
      "outputs": []
    },
    {
      "cell_type": "code",
      "source": [
        "n=int(input('Введите количество элементов: n='))"
      ],
      "metadata": {
        "colab": {
          "base_uri": "https://localhost:8080/"
        },
        "id": "iXwk-FfZiQnO",
        "outputId": "f3c5b89e-2660-4697-bdb8-537b5609a8d6"
      },
      "execution_count": null,
      "outputs": [
        {
          "name": "stdout",
          "output_type": "stream",
          "text": [
            "Введите количество элементов: n=10\n"
          ]
        }
      ]
    },
    {
      "cell_type": "code",
      "source": [
        "a=np.arange(0,n)"
      ],
      "metadata": {
        "id": "DqfsH54bqZ6Q"
      },
      "execution_count": null,
      "outputs": []
    },
    {
      "cell_type": "code",
      "source": [
        "res_a=np.flip(a)"
      ],
      "metadata": {
        "id": "ilrbo4_dquaE"
      },
      "execution_count": null,
      "outputs": []
    },
    {
      "cell_type": "code",
      "source": [
        "res_a"
      ],
      "metadata": {
        "colab": {
          "base_uri": "https://localhost:8080/"
        },
        "id": "2RVu1wzyj40N",
        "outputId": "e7c1a3ce-30bc-4b4a-b3fc-ce5e1a377974"
      },
      "execution_count": null,
      "outputs": [
        {
          "output_type": "execute_result",
          "data": {
            "text/plain": [
              "array([9, 8, 7, 6, 5, 4, 3, 2, 1, 0])"
            ]
          },
          "metadata": {},
          "execution_count": 5
        }
      ]
    },
    {
      "cell_type": "markdown",
      "source": [
        "# Задание 2"
      ],
      "metadata": {
        "id": "AoqcOx3kZEUv"
      }
    },
    {
      "cell_type": "code",
      "source": [
        "matrix=np.diag(res_a)"
      ],
      "metadata": {
        "id": "faRTX0suZIMo"
      },
      "execution_count": null,
      "outputs": []
    },
    {
      "cell_type": "code",
      "source": [
        "matrix"
      ],
      "metadata": {
        "colab": {
          "base_uri": "https://localhost:8080/"
        },
        "id": "6KDvQjHba9nj",
        "outputId": "45e7bc25-be80-4117-e688-26a16e36bc06"
      },
      "execution_count": null,
      "outputs": [
        {
          "output_type": "execute_result",
          "data": {
            "text/plain": [
              "array([[9, 0, 0, 0, 0, 0, 0, 0, 0, 0],\n",
              "       [0, 8, 0, 0, 0, 0, 0, 0, 0, 0],\n",
              "       [0, 0, 7, 0, 0, 0, 0, 0, 0, 0],\n",
              "       [0, 0, 0, 6, 0, 0, 0, 0, 0, 0],\n",
              "       [0, 0, 0, 0, 5, 0, 0, 0, 0, 0],\n",
              "       [0, 0, 0, 0, 0, 4, 0, 0, 0, 0],\n",
              "       [0, 0, 0, 0, 0, 0, 3, 0, 0, 0],\n",
              "       [0, 0, 0, 0, 0, 0, 0, 2, 0, 0],\n",
              "       [0, 0, 0, 0, 0, 0, 0, 0, 1, 0],\n",
              "       [0, 0, 0, 0, 0, 0, 0, 0, 0, 0]])"
            ]
          },
          "metadata": {},
          "execution_count": 7
        }
      ]
    },
    {
      "cell_type": "code",
      "source": [
        "summ_matrix=np.trace(matrix)"
      ],
      "metadata": {
        "id": "r-_ap18ZcIep"
      },
      "execution_count": null,
      "outputs": []
    },
    {
      "cell_type": "code",
      "source": [
        "summ_matrix"
      ],
      "metadata": {
        "colab": {
          "base_uri": "https://localhost:8080/"
        },
        "id": "o2SivD8-cWpa",
        "outputId": "27170f41-74f7-4881-bb17-57e36b8c0148"
      },
      "execution_count": null,
      "outputs": [
        {
          "output_type": "execute_result",
          "data": {
            "text/plain": [
              "45"
            ]
          },
          "metadata": {},
          "execution_count": 9
        }
      ]
    },
    {
      "cell_type": "markdown",
      "source": [
        "# Задание 3"
      ],
      "metadata": {
        "id": "pr8z2NXYdGLZ"
      }
    },
    {
      "cell_type": "code",
      "source": [
        "from numpy import linalg"
      ],
      "metadata": {
        "id": "IVJEYgb-fC8C"
      },
      "execution_count": null,
      "outputs": []
    },
    {
      "cell_type": "code",
      "source": [
        "a=np.array([[4,2,1],[1,3,0],[0,5,4]])\n",
        "b=np.array([4,12,-3])\n",
        "linalg.solve(a,b)"
      ],
      "metadata": {
        "colab": {
          "base_uri": "https://localhost:8080/"
        },
        "id": "VmzZqXyVfG5N",
        "outputId": "d232dd73-1ae7-4192-bc81-d089b856f285"
      },
      "execution_count": null,
      "outputs": [
        {
          "output_type": "execute_result",
          "data": {
            "text/plain": [
              "array([ 0.46666667,  3.84444444, -5.55555556])"
            ]
          },
          "metadata": {},
          "execution_count": 11
        }
      ]
    },
    {
      "cell_type": "code",
      "execution_count": null,
      "metadata": {
        "id": "1tqHJrFJZSLU",
        "outputId": "876237be-b83d-44a0-8f84-038a35891907",
        "colab": {
          "base_uri": "https://localhost:8080/"
        }
      },
      "outputs": [
        {
          "output_type": "execute_result",
          "data": {
            "text/plain": [
              "True"
            ]
          },
          "metadata": {},
          "execution_count": 12
        }
      ],
      "source": [
        "np.allclose( np.dot(a, linalg.solve(a, b)), b )"
      ]
    },
    {
      "cell_type": "markdown",
      "source": [
        "# Задание 4"
      ],
      "metadata": {
        "id": "17ze7vwsidt_"
      }
    },
    {
      "cell_type": "code",
      "execution_count": null,
      "metadata": {
        "id": "Yp17c0pt0Ccb"
      },
      "outputs": [],
      "source": [
        "users_stats = np.array(\n",
        "    [\n",
        "        [2, 1, 0, 0, 0, 0],\n",
        "        [1, 1, 2, 1, 0, 0],\n",
        "        [2, 0, 1, 0, 0, 0],\n",
        "        [1, 1, 2, 1, 0, 1],\n",
        "        [0, 0, 1, 2, 0, 0],\n",
        "        [0, 0, 0, 0, 0, 5],\n",
        "        [1, 0, 0, 0, 0, 0],\n",
        "        [0, 1, 1, 0, 0, 0],\n",
        "        [0, 0, 0, 1, 1, 3],\n",
        "        [1, 0, 0, 2, 1, 4]\n",
        "    ],\n",
        "    np.int32\n",
        ")"
      ]
    },
    {
      "cell_type": "code",
      "execution_count": null,
      "metadata": {
        "id": "37q3r26z0Ccb"
      },
      "outputs": [],
      "source": [
        "next_user_stats = np.array([0, 1, 2, 0, 0, 0])"
      ]
    },
    {
      "cell_type": "code",
      "source": [
        "cosine=np.dot(users_stats, next_user_stats)/(np.linalg.norm(users_stats, axis=1))/np.linalg.norm(next_user_stats)\n"
      ],
      "metadata": {
        "id": "fwF5nkXb-VB3"
      },
      "execution_count": null,
      "outputs": []
    },
    {
      "cell_type": "code",
      "source": [
        "print(cosine)"
      ],
      "metadata": {
        "colab": {
          "base_uri": "https://localhost:8080/"
        },
        "id": "wn-JdjRWDy6P",
        "outputId": "9fcb5b44-b9ab-4387-cbc0-0e2c4a633e18"
      },
      "execution_count": null,
      "outputs": [
        {
          "output_type": "stream",
          "name": "stdout",
          "text": [
            "[0.2        0.84515425 0.4        0.79056942 0.4        0.\n",
            " 0.         0.9486833  0.         0.        ]\n"
          ]
        }
      ]
    },
    {
      "cell_type": "code",
      "source": [
        "best_user_=np.argmax(cosine)\n",
        "print('самый похожий пользователь:', users_stats[best_user_, :])"
      ],
      "metadata": {
        "colab": {
          "base_uri": "https://localhost:8080/"
        },
        "outputId": "6a564eff-26e4-4fdb-fa11-4a0aaf86df67",
        "id": "kHX0EFxaDrWq"
      },
      "execution_count": null,
      "outputs": [
        {
          "output_type": "stream",
          "name": "stdout",
          "text": [
            "самый похожий пользователь: [0 1 1 0 0 0]\n"
          ]
        }
      ]
    }
  ]
}