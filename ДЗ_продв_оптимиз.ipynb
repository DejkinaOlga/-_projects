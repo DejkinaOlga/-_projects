{
  "nbformat": 4,
  "nbformat_minor": 0,
  "metadata": {
    "colab": {
      "provenance": []
    },
    "kernelspec": {
      "display_name": "Python 3",
      "language": "python",
      "name": "python3"
    },
    "language_info": {
      "codemirror_mode": {
        "name": "ipython",
        "version": 3
      },
      "file_extension": ".py",
      "mimetype": "text/x-python",
      "name": "python",
      "nbconvert_exporter": "python",
      "pygments_lexer": "ipython3",
      "version": "3.8.3"
    }
  },
  "cells": [
    {
      "cell_type": "code",
      "source": [
        "import numpy as np\n",
        "from scipy.optimize import differential_evolution\n",
        "import matplotlib.pyplot as plt\n",
        "\n",
        "%matplotlib inline"
      ],
      "metadata": {
        "id": "bY5ZYWq7xyz8"
      },
      "execution_count": null,
      "outputs": []
    },
    {
      "cell_type": "code",
      "source": [
        "def ackley(x):\n",
        "    arg1 = -0.2 * np.sqrt(0.5 * (x[0] ** 2 + x[1] ** 2))\n",
        "    arg2 = 0.5 * (np.cos(2. * np.pi * x[0]) + np.cos(2. * np.pi * x[1]))\n",
        "    return -20. * np.exp(arg1) - np.exp(arg2) + 20. + np.e"
      ],
      "metadata": {
        "id": "VT_avwsPFVa2"
      },
      "execution_count": null,
      "outputs": []
    },
    {
      "cell_type": "markdown",
      "source": [
        "# Метод дифференциальной эволюции"
      ],
      "metadata": {
        "id": "qIb_frvg-Tq-"
      }
    },
    {
      "cell_type": "markdown",
      "source": [
        "## При фиксированном seed=42 поэкспериментируйте с параметрами алгоритма differential_evolution: strategy, popsize, mutation."
      ],
      "metadata": {
        "id": "3PKe1UH7NbO8"
      }
    },
    {
      "cell_type": "code",
      "source": [
        "bounds = [(-10, 10), (-10, 10)]\n",
        "\n",
        "result = differential_evolution(ackley, bounds, seed=42)\n",
        "result"
      ],
      "metadata": {
        "colab": {
          "base_uri": "https://localhost:8080/"
        },
        "id": "ALb4o2t3F7xE",
        "outputId": "3f0153f8-0dfd-4f47-f533-59c3b83321f6"
      },
      "execution_count": null,
      "outputs": [
        {
          "output_type": "execute_result",
          "data": {
            "text/plain": [
              "     fun: 4.440892098500626e-16\n",
              " message: 'Optimization terminated successfully.'\n",
              "    nfev: 2793\n",
              "     nit: 90\n",
              " success: True\n",
              "       x: array([0., 0.])"
            ]
          },
          "metadata": {},
          "execution_count": 3
        }
      ]
    },
    {
      "cell_type": "code",
      "source": [
        "result = differential_evolution(ackley, bounds, seed=42, popsize = 15 , strategy = 'best1exp' , mutation = ( 0.5 , 1,0 ))\n",
        "result\n",
        "# при изменении strategy - кол-во итераций увеличивается"
      ],
      "metadata": {
        "colab": {
          "base_uri": "https://localhost:8080/"
        },
        "outputId": "7cada272-1aa5-4cb2-e077-765ded12ab93",
        "id": "00qRJgFNyoQR"
      },
      "execution_count": null,
      "outputs": [
        {
          "output_type": "execute_result",
          "data": {
            "text/plain": [
              "     fun: 4.440892098500626e-16\n",
              " message: 'Optimization terminated successfully.'\n",
              "    nfev: 4503\n",
              "     nit: 147\n",
              " success: True\n",
              "       x: array([0., 0.])"
            ]
          },
          "metadata": {},
          "execution_count": 9
        }
      ]
    },
    {
      "cell_type": "code",
      "source": [
        "result = differential_evolution(ackley, bounds, seed=42, popsize = 15 , strategy = 'rand1exp' , mutation = ( 0.5 , 1,0 ))\n",
        "result\n",
        "# ещё увеличивается"
      ],
      "metadata": {
        "colab": {
          "base_uri": "https://localhost:8080/"
        },
        "outputId": "ffc2e9c3-4ae5-41f2-fb0f-12ce71417965",
        "id": "4pa85dwmz-uX"
      },
      "execution_count": null,
      "outputs": [
        {
          "output_type": "execute_result",
          "data": {
            "text/plain": [
              "     fun: 4.440892098500626e-16\n",
              " message: 'Optimization terminated successfully.'\n",
              "    nfev: 7473\n",
              "     nit: 246\n",
              " success: True\n",
              "       x: array([0., 0.])"
            ]
          },
          "metadata": {},
          "execution_count": 10
        }
      ]
    },
    {
      "cell_type": "code",
      "source": [
        "result = differential_evolution(ackley, bounds, seed=42, popsize = 15 , strategy = 'currenttobest1exp', mutation = ( 0.5 , 1,0 ))\n",
        "result\n",
        "# неудачная попытка"
      ],
      "metadata": {
        "colab": {
          "base_uri": "https://localhost:8080/"
        },
        "outputId": "6db63ee3-34fb-4e14-deb8-f66cab4bcc7a",
        "id": "X_NcukyAz_aI"
      },
      "execution_count": null,
      "outputs": [
        {
          "output_type": "execute_result",
          "data": {
            "text/plain": [
              "     fun: 4.440892098500626e-16\n",
              " message: 'Maximum number of iterations has been exceeded.'\n",
              "    nfev: 30093\n",
              "     nit: 1000\n",
              " success: False\n",
              "       x: array([0., 0.])"
            ]
          },
          "metadata": {},
          "execution_count": 11
        }
      ]
    },
    {
      "cell_type": "code",
      "source": [
        "result = differential_evolution(ackley, bounds, seed=42, popsize = 90 , strategy = 'currenttobest1exp', mutation = ( 0.3 , 1,0 ))\n",
        "result\n",
        "# неудачная попытка"
      ],
      "metadata": {
        "colab": {
          "base_uri": "https://localhost:8080/"
        },
        "outputId": "4aa58ca1-7aba-4603-f03a-e196d3f510de",
        "id": "zpWdB74G_hCW"
      },
      "execution_count": null,
      "outputs": [
        {
          "output_type": "execute_result",
          "data": {
            "text/plain": [
              "     fun: 4.440892098500626e-16\n",
              " message: 'Maximum number of iterations has been exceeded.'\n",
              "    nfev: 180243\n",
              "     nit: 1000\n",
              " success: False\n",
              "       x: array([0., 0.])"
            ]
          },
          "metadata": {},
          "execution_count": 12
        }
      ]
    },
    {
      "cell_type": "code",
      "source": [
        "result = differential_evolution(ackley, bounds, seed=42, popsize = 15 , strategy = 'randtobest1exp' , mutation = ( 0.5 , 1,0 ))\n",
        "result"
      ],
      "metadata": {
        "colab": {
          "base_uri": "https://localhost:8080/"
        },
        "outputId": "0865a08c-8cb6-4971-d7f8-842b45f5cca8",
        "id": "TxBUQzRN0AuO"
      },
      "execution_count": null,
      "outputs": [
        {
          "output_type": "execute_result",
          "data": {
            "text/plain": [
              "     fun: 4.440892098500626e-16\n",
              " message: 'Optimization terminated successfully.'\n",
              "    nfev: 4773\n",
              "     nit: 156\n",
              " success: True\n",
              "       x: array([0., 0.])"
            ]
          },
          "metadata": {},
          "execution_count": 13
        }
      ]
    },
    {
      "cell_type": "code",
      "source": [
        "result = differential_evolution(ackley, bounds, seed=42, popsize = 15 , strategy = 'best2bin' , mutation = ( 0.5 , 1,0 ))\n",
        "result"
      ],
      "metadata": {
        "colab": {
          "base_uri": "https://localhost:8080/"
        },
        "outputId": "24d7fc99-95c8-4f9e-ad67-bc423f2bce8f",
        "id": "Pdiyy3Dg0Bhx"
      },
      "execution_count": null,
      "outputs": [
        {
          "output_type": "execute_result",
          "data": {
            "text/plain": [
              "     fun: 4.440892098500626e-16\n",
              " message: 'Optimization terminated successfully.'\n",
              "    nfev: 5073\n",
              "     nit: 166\n",
              " success: True\n",
              "       x: array([0., 0.])"
            ]
          },
          "metadata": {},
          "execution_count": 14
        }
      ]
    },
    {
      "cell_type": "code",
      "source": [
        "result = differential_evolution(ackley, bounds, seed=42, popsize = 8 , strategy = 'best2bin' , mutation = ( 0.8 , 1,0 ))\n",
        "result\n",
        "# при более низких значениях popsize и mutation - кол-во итераций увеличивается"
      ],
      "metadata": {
        "colab": {
          "base_uri": "https://localhost:8080/"
        },
        "id": "FMywlGZdPRSG",
        "outputId": "d3964e06-8539-4896-918b-39bb24d9a492"
      },
      "execution_count": null,
      "outputs": [
        {
          "output_type": "execute_result",
          "data": {
            "text/plain": [
              "     fun: 4.440892098500626e-16\n",
              " message: 'Optimization terminated successfully.'\n",
              "    nfev: 3695\n",
              "     nit: 226\n",
              " success: True\n",
              "       x: array([0., 0.])"
            ]
          },
          "metadata": {},
          "execution_count": 15
        }
      ]
    },
    {
      "cell_type": "code",
      "source": [
        "result = differential_evolution(ackley, bounds, seed=42, strategy = 'best2bin', popsize = 120, mutation = ( 0.3 , 1,0 ))\n",
        "result\n",
        "# при более высоких значениях popsize и mutation - кол-во итераций уменьшается"
      ],
      "metadata": {
        "colab": {
          "base_uri": "https://localhost:8080/"
        },
        "outputId": "e60414ee-863d-41c6-e256-ee877b76f2ca",
        "id": "PDYbHFK4w1d3"
      },
      "execution_count": null,
      "outputs": [
        {
          "output_type": "execute_result",
          "data": {
            "text/plain": [
              "     fun: 4.440892098500626e-16\n",
              " message: 'Optimization terminated successfully.'\n",
              "    nfev: 30783\n",
              "     nit: 127\n",
              " success: True\n",
              "       x: array([0., 0.])"
            ]
          },
          "metadata": {},
          "execution_count": 16
        }
      ]
    },
    {
      "cell_type": "code",
      "source": [
        "result = differential_evolution(ackley, bounds, seed=42, popsize = 80, mutation = ( 0.3 , 1,0 ))\n",
        "result\n",
        "# низкое кол-во итераций, но много обращений к целевой функции"
      ],
      "metadata": {
        "colab": {
          "base_uri": "https://localhost:8080/"
        },
        "outputId": "2324e24c-898a-4448-cbcd-376c57e2573d",
        "id": "xn9WsyDWtfFP"
      },
      "execution_count": null,
      "outputs": [
        {
          "output_type": "execute_result",
          "data": {
            "text/plain": [
              "     fun: 4.440892098500626e-16\n",
              " message: 'Optimization terminated successfully.'\n",
              "    nfev: 11423\n",
              "     nit: 70\n",
              " success: True\n",
              "       x: array([0., 0.])"
            ]
          },
          "metadata": {},
          "execution_count": 17
        }
      ]
    },
    {
      "cell_type": "code",
      "source": [
        "# распараллеливание\n",
        "result = differential_evolution(ackley, bounds, updating='deferred', workers=2)\n",
        "result\n"
      ],
      "metadata": {
        "colab": {
          "base_uri": "https://localhost:8080/"
        },
        "id": "1prXRrnvulzd",
        "outputId": "7188fc0e-529b-440f-888a-e8e1eeee6300"
      },
      "execution_count": null,
      "outputs": [
        {
          "output_type": "execute_result",
          "data": {
            "text/plain": [
              "     fun: 4.440892098500626e-16\n",
              " message: 'Optimization terminated successfully.'\n",
              "    nfev: 3843\n",
              "     nit: 125\n",
              " success: True\n",
              "       x: array([0., 0.])"
            ]
          },
          "metadata": {},
          "execution_count": 20
        }
      ]
    },
    {
      "cell_type": "markdown",
      "source": [
        "## Постройте графики количества итераций (nit) оптимизации функции ackley от значения параметра."
      ],
      "metadata": {
        "id": "ibp0xvq_OW7h"
      }
    },
    {
      "cell_type": "code",
      "source": [
        "res = differential_evolution(ackley, bounds, seed=42,x0=0)\n",
        "res1 = differential_evolution(ackley, bounds, seed=42,x0=0.5)\n",
        "res2 = differential_evolution(ackley, bounds, seed=42,x0=1)\n",
        "res3 = differential_evolution(ackley, bounds, seed=42,x0=1.5)\n",
        "res4 = differential_evolution(ackley, bounds, seed=42,x0=2)\n",
        "res5 = differential_evolution(ackley, bounds, seed=42,x0=2.5)\n",
        "res6 = differential_evolution(ackley, bounds, seed=42,x0=3)\n",
        "res7 = differential_evolution(ackley, bounds, seed=42,x0=3.5)\n",
        "res8 = differential_evolution(ackley, bounds, seed=42,x0=4)\n",
        "res.nit,res1.nit,res2.nit,res3.nit,res4.nit,res5.nit,res6.nit,res7.nit,res8.nit"
      ],
      "metadata": {
        "colab": {
          "base_uri": "https://localhost:8080/"
        },
        "outputId": "037ecc67-2b0f-4ae1-c3c4-5637a75fe445",
        "id": "lbBiKVXhLtd3"
      },
      "execution_count": null,
      "outputs": [
        {
          "output_type": "execute_result",
          "data": {
            "text/plain": [
              "(88, 87, 94, 93, 94, 94, 89, 98, 93)"
            ]
          },
          "metadata": {},
          "execution_count": 13
        }
      ]
    },
    {
      "cell_type": "code",
      "source": [
        "import numpy as np\n",
        "import matplotlib.pyplot as plt"
      ],
      "metadata": {
        "id": "xvaEosJVdAID"
      },
      "execution_count": null,
      "outputs": []
    },
    {
      "cell_type": "code",
      "source": [
        "fig=plt.figure(figsize=(14,8))\n",
        "ax=fig.gca()\n",
        "ax.set_xlabel('x0')\n",
        "ax.set_ylabel('nit')\n",
        "# ax.set_zlabel('y')\n",
        "ax.set_title('Зависимость nit от значения параметра')\n",
        "ax.grid (0.5)\n",
        "\n",
        "x=[0,0.5,1,1.5,2,2.5,3,3.5,4]\n",
        "y=[res.nit,res1.nit,res2.nit,res3.nit,res4.nit,res5.nit,res6.nit,res7.nit,res8.nit]\n",
        "ax.plot(x,y)\n",
        "\n"
      ],
      "metadata": {
        "id": "DyRbrr1XjVHi",
        "colab": {
          "base_uri": "https://localhost:8080/",
          "height": 531
        },
        "outputId": "034c4430-5cf3-43e9-e2ea-6ee97b07920f"
      },
      "execution_count": null,
      "outputs": [
        {
          "output_type": "execute_result",
          "data": {
            "text/plain": [
              "[<matplotlib.lines.Line2D at 0x7fb50d0aa070>]"
            ]
          },
          "metadata": {},
          "execution_count": 27
        },
        {
          "output_type": "display_data",
          "data": {
            "text/plain": [
              "<Figure size 1008x576 with 1 Axes>"
            ],
            "image/png": "[encoded data removed]"
          },
          "metadata": {
            "needs_background": "light"
          }
        }
      ]
    },
    {
      "cell_type": "markdown",
      "source": [
        "# Поэкспериментируйте с параметрами и оптимизацией через minimize:"
      ],
      "metadata": {
        "id": "xW5FUX6vy-z9"
      }
    },
    {
      "cell_type": "code",
      "source": [
        "from scipy.optimize import minimize\n",
        "\n",
        "x0 = [0,0]\n",
        "\n",
        "result_m = minimize(ackley, x0,  method='Nelder-Mead')\n",
        "result_m"
      ],
      "metadata": {
        "colab": {
          "base_uri": "https://localhost:8080/"
        },
        "id": "S7XjHXKmu79f",
        "outputId": "61f81aef-a3b6-451e-c709-31145c8acda9"
      },
      "execution_count": null,
      "outputs": [
        {
          "output_type": "execute_result",
          "data": {
            "text/plain": [
              " final_simplex: (array([[ 0.00000000e+00,  0.00000000e+00],\n",
              "       [-1.60675049e-05, -8.45336914e-06],\n",
              "       [-1.40380859e-06, -3.11279297e-05]]), array([4.44089210e-16, 5.13604405e-05, 8.81584216e-05]))\n",
              "           fun: 4.440892098500626e-16\n",
              "       message: 'Optimization terminated successfully.'\n",
              "          nfev: 17\n",
              "           nit: 8\n",
              "        status: 0\n",
              "       success: True\n",
              "             x: array([0., 0.])"
            ]
          },
          "metadata": {},
          "execution_count": 4
        }
      ]
    },
    {
      "cell_type": "code",
      "source": [
        "# тот же метод с опцией окончания поиска\n",
        "result_m = minimize(ackley, x0,  method='Nelder-Mead', options={'xtd':-1e-8})\n",
        "result_m"
      ],
      "metadata": {
        "colab": {
          "base_uri": "https://localhost:8080/"
        },
        "outputId": "c36e43a5-4c92-45b5-9279-ac9c55bc6eee",
        "id": "Hlu9dpjRwBvM"
      },
      "execution_count": null,
      "outputs": [
        {
          "output_type": "stream",
          "name": "stderr",
          "text": [
            "<ipython-input-8-8f53403d3364>:2: OptimizeWarning: Unknown solver options: xtd\n",
            "  result_m = minimize(ackley, x0,  method='Nelder-Mead', options={'xtd':-1e-8})\n"
          ]
        },
        {
          "output_type": "execute_result",
          "data": {
            "text/plain": [
              " final_simplex: (array([[ 0.00000000e+00,  0.00000000e+00],\n",
              "       [-1.60675049e-05, -8.45336914e-06],\n",
              "       [-1.40380859e-06, -3.11279297e-05]]), array([4.44089210e-16, 5.13604405e-05, 8.81584216e-05]))\n",
              "           fun: 4.440892098500626e-16\n",
              "       message: 'Optimization terminated successfully.'\n",
              "          nfev: 17\n",
              "           nit: 8\n",
              "        status: 0\n",
              "       success: True\n",
              "             x: array([0., 0.])"
            ]
          },
          "metadata": {},
          "execution_count": 8
        }
      ]
    },
    {
      "cell_type": "code",
      "source": [
        "# Метод по умолчанию\n",
        "result_m = minimize(ackley, x0)\n",
        "result_m"
      ],
      "metadata": {
        "colab": {
          "base_uri": "https://localhost:8080/"
        },
        "id": "F1trZkaX8W5V",
        "outputId": "6008d9dc-8ffe-41e3-9d3d-904f602afc10"
      },
      "execution_count": null,
      "outputs": [
        {
          "output_type": "execute_result",
          "data": {
            "text/plain": [
              "      fun: 4.440892098500626e-16\n",
              " hess_inv: array([[1, 0],\n",
              "       [0, 1]])\n",
              "      jac: array([2.82842755, 2.82842755])\n",
              "  message: 'Desired error not necessarily achieved due to precision loss.'\n",
              "     nfev: 165\n",
              "      nit: 0\n",
              "     njev: 51\n",
              "   status: 2\n",
              "  success: False\n",
              "        x: array([0., 0.])"
            ]
          },
          "metadata": {},
          "execution_count": 45
        }
      ]
    },
    {
      "cell_type": "code",
      "source": [
        "result_m = minimize(ackley, x0, method='BFGS', jac=ackley, options={'gtol': 1e-6, 'disp': True})\n",
        "result_m"
      ],
      "metadata": {
        "colab": {
          "base_uri": "https://localhost:8080/"
        },
        "id": "cRkJ_v1-ABeA",
        "outputId": "48eb4afd-88e4-4593-ed95-e5748e49161f"
      },
      "execution_count": null,
      "outputs": [
        {
          "output_type": "stream",
          "name": "stdout",
          "text": [
            "Optimization terminated successfully.\n",
            "         Current function value: 0.000000\n",
            "         Iterations: 0\n",
            "         Function evaluations: 1\n",
            "         Gradient evaluations: 1\n"
          ]
        },
        {
          "output_type": "execute_result",
          "data": {
            "text/plain": [
              "      fun: 4.440892098500626e-16\n",
              " hess_inv: array([[1, 0],\n",
              "       [0, 1]])\n",
              "      jac: array([4.4408921e-16])\n",
              "  message: 'Optimization terminated successfully.'\n",
              "     nfev: 1\n",
              "      nit: 0\n",
              "     njev: 1\n",
              "   status: 0\n",
              "  success: True\n",
              "        x: array([0., 0.])"
            ]
          },
          "metadata": {},
          "execution_count": 44
        }
      ]
    },
    {
      "cell_type": "code",
      "source": [
        "result_m = minimize(ackley, x0,  method='Powell')\n",
        "result_m"
      ],
      "metadata": {
        "colab": {
          "base_uri": "https://localhost:8080/"
        },
        "id": "ZVqwlCXyzG2O",
        "outputId": "45b1a603-2054-48fe-e74a-baa1d13806a0"
      },
      "execution_count": null,
      "outputs": [
        {
          "output_type": "execute_result",
          "data": {
            "text/plain": [
              "   direc: array([[1., 0.],\n",
              "       [0., 1.]])\n",
              "     fun: 4.440892098500626e-16\n",
              " message: 'Optimization terminated successfully.'\n",
              "    nfev: 63\n",
              "     nit: 1\n",
              "  status: 0\n",
              " success: True\n",
              "       x: array([0., 0.])"
            ]
          },
          "metadata": {},
          "execution_count": 36
        }
      ]
    },
    {
      "cell_type": "code",
      "source": [
        "# Минимизация скалярной функции одной или нескольких переменных с помощью алгоритма сопряженных градиентов.\n",
        "result_m = minimize(ackley, x0, method='CG', jac=ackley)\n",
        "result_m"
      ],
      "metadata": {
        "colab": {
          "base_uri": "https://localhost:8080/"
        },
        "id": "6B32XO02FsBh",
        "outputId": "f45f7989-fd19-4c40-eadc-043feba300a0"
      },
      "execution_count": null,
      "outputs": [
        {
          "output_type": "execute_result",
          "data": {
            "text/plain": [
              "     fun: 4.440892098500626e-16\n",
              "     jac: array([4.4408921e-16])\n",
              " message: 'Optimization terminated successfully.'\n",
              "    nfev: 1\n",
              "     nit: 0\n",
              "    njev: 1\n",
              "  status: 0\n",
              " success: True\n",
              "       x: array([0., 0.])"
            ]
          },
          "metadata": {},
          "execution_count": 43
        }
      ]
    }
  ]
}