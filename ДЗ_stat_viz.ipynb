{
  "nbformat": 4,
  "nbformat_minor": 0,
  "metadata": {
    "kernelspec": {
      "display_name": "Python 3",
      "language": "python",
      "name": "python3"
    },
    "language_info": {
      "codemirror_mode": {
        "name": "ipython",
        "version": 3
      },
      "file_extension": ".py",
      "mimetype": "text/x-python",
      "name": "python",
      "nbconvert_exporter": "python",
      "pygments_lexer": "ipython3",
      "version": "3.8.5"
    },
    "colab": {
      "provenance": []
    }
  },
  "cells": [
    {
      "cell_type": "code",
      "metadata": {
        "scrolled": false,
        "id": "a75E9qem448B"
      },
      "source": [
        "import matplotlib.pyplot as plt\n",
        "import pandas as pd\n",
        "import numpy as np"
      ],
      "execution_count": null,
      "outputs": []
    },
    {
      "cell_type": "code",
      "metadata": {
        "scrolled": false,
        "id": "ijcuEUxi448D"
      },
      "source": [
        "#увеличим дефолтный размер графиков (ширина, высота)\n",
        "from pylab import rcParams\n",
        "rcParams['figure.figsize'] = 11,7"
      ],
      "execution_count": null,
      "outputs": []
    },
    {
      "cell_type": "markdown",
      "source": [
        "# Данные для анализа"
      ],
      "metadata": {
        "id": "grsr-jIZtcZJ"
      }
    },
    {
      "cell_type": "markdown",
      "metadata": {
        "id": "WbYItv3B448G"
      },
      "source": [
        "Для анализа берем набор данных о влиянии использования электронных гаджетов на академическую успеваемость в университете с [Kaggle Datasets](https://www.kaggle.com/rush4ratio/video-game-sales-with-ratings)."
      ]
    },
    {
      "cell_type": "code",
      "source": [
        "df=pd.read_csv('The Impact of Electronic Gadget Uses with Academic Performance among University Students (Responses) - Form Responses 1.csv')\n",
        "df.head()"
      ],
      "metadata": {
        "colab": {
          "base_uri": "https://localhost:8080/",
          "height": 372
        },
        "id": "XVaeSmB2uxyq",
        "outputId": "5bbb84d0-e774-47e1-f089-fa75acbc807f"
      },
      "execution_count": null,
      "outputs": [
        {
          "output_type": "execute_result",
          "data": {
            "text/plain": [
              "            Timestamp  Gender Your study year  \\\n",
              "0  7/19/2022 12:26:34  Female               4   \n",
              "1   7/21/2022 2:19:26    Male   Post Graduate   \n",
              "2  7/21/2022 18:55:02    Male               3   \n",
              "3  8/22/2022 10:01:30  Female               3   \n",
              "4  8/22/2022 10:02:05    Male               2   \n",
              "\n",
              "                   Which department  How many electronic devices do you use?  \\\n",
              "0            Information Technology                                        2   \n",
              "1               Business Management                                        4   \n",
              "2            Information Technology                                        3   \n",
              "3                       Engineering                                        3   \n",
              "4  Architecture & Built Environment                                        2   \n",
              "\n",
              "  What is your recent latest CGPA ? Is there an increase in your CGPA?  \\\n",
              "0                         3.00-3.49                           Increase   \n",
              "1                         3.00-3.49                           decrease   \n",
              "2                       3.50 - 3.99                           Increase   \n",
              "3                         2.50-2.99                           decrease   \n",
              "4                         3.00-3.49                           Increase   \n",
              "\n",
              "  Average hour you spent using electronic devices for academic purposes in a day (hours).  \\\n",
              "0                                                4-6                                        \n",
              "1                                                1-3                                        \n",
              "2                                                4-6                                        \n",
              "3                                                1-3                                        \n",
              "4                                                4-6                                        \n",
              "\n",
              "           What is the purpose of buying the device?  \n",
              "0                 Studies, Entertainment, Phone call  \n",
              "1  Studies, Entertainment, Online class, games, M...  \n",
              "2   Studies, Entertainment, Online class, Phone call  \n",
              "3  Studies, Entertainment, Online class, games, M...  \n",
              "4                             Studies, Entertainment  "
            ],
            "text/html": [
              "\n",
              "  <div id=\"df-693a9eb4-2fb0-48df-8fc5-1a0d1bb347e5\">\n",
              "    <div class=\"colab-df-container\">\n",
              "      <div>\n",
              "<style scoped>\n",
              "    .dataframe tbody tr th:only-of-type {\n",
              "        vertical-align: middle;\n",
              "    }\n",
              "\n",
              "    .dataframe tbody tr th {\n",
              "        vertical-align: top;\n",
              "    }\n",
              "\n",
              "    .dataframe thead th {\n",
              "        text-align: right;\n",
              "    }\n",
              "</style>\n",
              "<table border=\"1\" class=\"dataframe\">\n",
              "  <thead>\n",
              "    <tr style=\"text-align: right;\">\n",
              "      <th></th>\n",
              "      <th>Timestamp</th>\n",
              "      <th>Gender</th>\n",
              "      <th>Your study year</th>\n",
              "      <th>Which department</th>\n",
              "      <th>How many electronic devices do you use?</th>\n",
              "      <th>What is your recent latest CGPA ?</th>\n",
              "      <th>Is there an increase in your CGPA?</th>\n",
              "      <th>Average hour you spent using electronic devices for academic purposes in a day (hours).</th>\n",
              "      <th>What is the purpose of buying the device?</th>\n",
              "    </tr>\n",
              "  </thead>\n",
              "  <tbody>\n",
              "    <tr>\n",
              "      <th>0</th>\n",
              "      <td>7/19/2022 12:26:34</td>\n",
              "      <td>Female</td>\n",
              "      <td>4</td>\n",
              "      <td>Information Technology</td>\n",
              "      <td>2</td>\n",
              "      <td>3.00-3.49</td>\n",
              "      <td>Increase</td>\n",
              "      <td>4-6</td>\n",
              "      <td>Studies, Entertainment, Phone call</td>\n",
              "    </tr>\n",
              "    <tr>\n",
              "      <th>1</th>\n",
              "      <td>7/21/2022 2:19:26</td>\n",
              "      <td>Male</td>\n",
              "      <td>Post Graduate</td>\n",
              "      <td>Business Management</td>\n",
              "      <td>4</td>\n",
              "      <td>3.00-3.49</td>\n",
              "      <td>decrease</td>\n",
              "      <td>1-3</td>\n",
              "      <td>Studies, Entertainment, Online class, games, M...</td>\n",
              "    </tr>\n",
              "    <tr>\n",
              "      <th>2</th>\n",
              "      <td>7/21/2022 18:55:02</td>\n",
              "      <td>Male</td>\n",
              "      <td>3</td>\n",
              "      <td>Information Technology</td>\n",
              "      <td>3</td>\n",
              "      <td>3.50 - 3.99</td>\n",
              "      <td>Increase</td>\n",
              "      <td>4-6</td>\n",
              "      <td>Studies, Entertainment, Online class, Phone call</td>\n",
              "    </tr>\n",
              "    <tr>\n",
              "      <th>3</th>\n",
              "      <td>8/22/2022 10:01:30</td>\n",
              "      <td>Female</td>\n",
              "      <td>3</td>\n",
              "      <td>Engineering</td>\n",
              "      <td>3</td>\n",
              "      <td>2.50-2.99</td>\n",
              "      <td>decrease</td>\n",
              "      <td>1-3</td>\n",
              "      <td>Studies, Entertainment, Online class, games, M...</td>\n",
              "    </tr>\n",
              "    <tr>\n",
              "      <th>4</th>\n",
              "      <td>8/22/2022 10:02:05</td>\n",
              "      <td>Male</td>\n",
              "      <td>2</td>\n",
              "      <td>Architecture &amp; Built Environment</td>\n",
              "      <td>2</td>\n",
              "      <td>3.00-3.49</td>\n",
              "      <td>Increase</td>\n",
              "      <td>4-6</td>\n",
              "      <td>Studies, Entertainment</td>\n",
              "    </tr>\n",
              "  </tbody>\n",
              "</table>\n",
              "</div>\n",
              "      <button class=\"colab-df-convert\" onclick=\"convertToInteractive('df-693a9eb4-2fb0-48df-8fc5-1a0d1bb347e5')\"\n",
              "              title=\"Convert this dataframe to an interactive table.\"\n",
              "              style=\"display:none;\">\n",
              "        \n",
              "  <svg xmlns=\"http://www.w3.org/2000/svg\" height=\"24px\"viewBox=\"0 0 24 24\"\n",
              "       width=\"24px\">\n",
              "    <path d=\"M0 0h24v24H0V0z\" fill=\"none\"/>\n",
              "    <path d=\"M18.56 5.44l.94 2.06.94-2.06 2.06-.94-2.06-.94-.94-2.06-.94 2.06-2.06.94zm-11 1L8.5 8.5l.94-2.06 2.06-.94-2.06-.94L8.5 2.5l-.94 2.06-2.06.94zm10 10l.94 2.06.94-2.06 2.06-.94-2.06-.94-.94-2.06-.94 2.06-2.06.94z\"/><path d=\"M17.41 7.96l-1.37-1.37c-.4-.4-.92-.59-1.43-.59-.52 0-1.04.2-1.43.59L10.3 9.45l-7.72 7.72c-.78.78-.78 2.05 0 2.83L4 21.41c.39.39.9.59 1.41.59.51 0 1.02-.2 1.41-.59l7.78-7.78 2.81-2.81c.8-.78.8-2.07 0-2.86zM5.41 20L4 18.59l7.72-7.72 1.47 1.35L5.41 20z\"/>\n",
              "  </svg>\n",
              "      </button>\n",
              "      \n",
              "  <style>\n",
              "    .colab-df-container {\n",
              "      display:flex;\n",
              "      flex-wrap:wrap;\n",
              "      gap: 12px;\n",
              "    }\n",
              "\n",
              "    .colab-df-convert {\n",
              "      background-color: #E8F0FE;\n",
              "      border: none;\n",
              "      border-radius: 50%;\n",
              "      cursor: pointer;\n",
              "      display: none;\n",
              "      fill: #1967D2;\n",
              "      height: 32px;\n",
              "      padding: 0 0 0 0;\n",
              "      width: 32px;\n",
              "    }\n",
              "\n",
              "    .colab-df-convert:hover {\n",
              "      background-color: #E2EBFA;\n",
              "      box-shadow: 0px 1px 2px rgba(60, 64, 67, 0.3), 0px 1px 3px 1px rgba(60, 64, 67, 0.15);\n",
              "      fill: #174EA6;\n",
              "    }\n",
              "\n",
              "    [theme=dark] .colab-df-convert {\n",
              "      background-color: #3B4455;\n",
              "      fill: #D2E3FC;\n",
              "    }\n",
              "\n",
              "    [theme=dark] .colab-df-convert:hover {\n",
              "      background-color: #434B5C;\n",
              "      box-shadow: 0px 1px 3px 1px rgba(0, 0, 0, 0.15);\n",
              "      filter: drop-shadow(0px 1px 2px rgba(0, 0, 0, 0.3));\n",
              "      fill: #FFFFFF;\n",
              "    }\n",
              "  </style>\n",
              "\n",
              "      <script>\n",
              "        const buttonEl =\n",
              "          document.querySelector('#df-693a9eb4-2fb0-48df-8fc5-1a0d1bb347e5 button.colab-df-convert');\n",
              "        buttonEl.style.display =\n",
              "          google.colab.kernel.accessAllowed ? 'block' : 'none';\n",
              "\n",
              "        async function convertToInteractive(key) {\n",
              "          const element = document.querySelector('#df-693a9eb4-2fb0-48df-8fc5-1a0d1bb347e5');\n",
              "          const dataTable =\n",
              "            await google.colab.kernel.invokeFunction('convertToInteractive',\n",
              "                                                     [key], {});\n",
              "          if (!dataTable) return;\n",
              "\n",
              "          const docLinkHtml = 'Like what you see? Visit the ' +\n",
              "            '<a target=\"_blank\" href=https://colab.research.google.com/notebooks/data_table.ipynb>data table notebook</a>'\n",
              "            + ' to learn more about interactive tables.';\n",
              "          element.innerHTML = '';\n",
              "          dataTable['output_type'] = 'display_data';\n",
              "          await google.colab.output.renderOutput(dataTable, element);\n",
              "          const docLink = document.createElement('div');\n",
              "          docLink.innerHTML = docLinkHtml;\n",
              "          element.appendChild(docLink);\n",
              "        }\n",
              "      </script>\n",
              "    </div>\n",
              "  </div>\n",
              "  "
            ]
          },
          "metadata": {},
          "execution_count": 3
        }
      ]
    },
    {
      "cell_type": "code",
      "metadata": {
        "scrolled": false,
        "id": "pJ2fvIPW448H",
        "colab": {
          "base_uri": "https://localhost:8080/"
        },
        "outputId": "0f877499-9fa6-4011-c3a0-563bbd21522f"
      },
      "source": [
        "# смотрим \"объем\" датафрейма (строки, столбцы)\n",
        "print(df.shape)"
      ],
      "execution_count": null,
      "outputs": [
        {
          "output_type": "stream",
          "name": "stdout",
          "text": [
            "(30, 9)\n"
          ]
        }
      ]
    },
    {
      "cell_type": "code",
      "source": [
        "#для удобства переименуем названия столбцов\n",
        "df.columns = ['Time', 'Gender', 'Experience',\n",
        "                  'Faculty', 'Quantity_gadgets',\n",
        "                  'Mean_ratings', 'Increase_ratings',\n",
        "                  'Mean_hour_for_academic', 'Purpose']\n",
        "df.head()"
      ],
      "metadata": {
        "colab": {
          "base_uri": "https://localhost:8080/",
          "height": 250
        },
        "id": "goOsXYiZCCVv",
        "outputId": "8cd0f9e3-20d6-4b0b-9e3b-efe5acf2645c"
      },
      "execution_count": null,
      "outputs": [
        {
          "output_type": "execute_result",
          "data": {
            "text/plain": [
              "                 Time  Gender     Experience  \\\n",
              "0  7/19/2022 12:26:34  Female              4   \n",
              "1   7/21/2022 2:19:26    Male  Post Graduate   \n",
              "2  7/21/2022 18:55:02    Male              3   \n",
              "3  8/22/2022 10:01:30  Female              3   \n",
              "4  8/22/2022 10:02:05    Male              2   \n",
              "\n",
              "                            Faculty  Quantity_gadgets Mean_ratings  \\\n",
              "0            Information Technology                 2    3.00-3.49   \n",
              "1               Business Management                 4    3.00-3.49   \n",
              "2            Information Technology                 3  3.50 - 3.99   \n",
              "3                       Engineering                 3    2.50-2.99   \n",
              "4  Architecture & Built Environment                 2    3.00-3.49   \n",
              "\n",
              "  Increase_ratings Mean_hour_for_academic  \\\n",
              "0         Increase                    4-6   \n",
              "1         decrease                    1-3   \n",
              "2         Increase                    4-6   \n",
              "3         decrease                    1-3   \n",
              "4         Increase                    4-6   \n",
              "\n",
              "                                             Purpose  \n",
              "0                 Studies, Entertainment, Phone call  \n",
              "1  Studies, Entertainment, Online class, games, M...  \n",
              "2   Studies, Entertainment, Online class, Phone call  \n",
              "3  Studies, Entertainment, Online class, games, M...  \n",
              "4                             Studies, Entertainment  "
            ],
            "text/html": [
              "\n",
              "  <div id=\"df-dece72d3-fa89-406b-bbf0-2b63dbccf0fe\">\n",
              "    <div class=\"colab-df-container\">\n",
              "      <div>\n",
              "<style scoped>\n",
              "    .dataframe tbody tr th:only-of-type {\n",
              "        vertical-align: middle;\n",
              "    }\n",
              "\n",
              "    .dataframe tbody tr th {\n",
              "        vertical-align: top;\n",
              "    }\n",
              "\n",
              "    .dataframe thead th {\n",
              "        text-align: right;\n",
              "    }\n",
              "</style>\n",
              "<table border=\"1\" class=\"dataframe\">\n",
              "  <thead>\n",
              "    <tr style=\"text-align: right;\">\n",
              "      <th></th>\n",
              "      <th>Time</th>\n",
              "      <th>Gender</th>\n",
              "      <th>Experience</th>\n",
              "      <th>Faculty</th>\n",
              "      <th>Quantity_gadgets</th>\n",
              "      <th>Mean_ratings</th>\n",
              "      <th>Increase_ratings</th>\n",
              "      <th>Mean_hour_for_academic</th>\n",
              "      <th>Purpose</th>\n",
              "    </tr>\n",
              "  </thead>\n",
              "  <tbody>\n",
              "    <tr>\n",
              "      <th>0</th>\n",
              "      <td>7/19/2022 12:26:34</td>\n",
              "      <td>Female</td>\n",
              "      <td>4</td>\n",
              "      <td>Information Technology</td>\n",
              "      <td>2</td>\n",
              "      <td>3.00-3.49</td>\n",
              "      <td>Increase</td>\n",
              "      <td>4-6</td>\n",
              "      <td>Studies, Entertainment, Phone call</td>\n",
              "    </tr>\n",
              "    <tr>\n",
              "      <th>1</th>\n",
              "      <td>7/21/2022 2:19:26</td>\n",
              "      <td>Male</td>\n",
              "      <td>Post Graduate</td>\n",
              "      <td>Business Management</td>\n",
              "      <td>4</td>\n",
              "      <td>3.00-3.49</td>\n",
              "      <td>decrease</td>\n",
              "      <td>1-3</td>\n",
              "      <td>Studies, Entertainment, Online class, games, M...</td>\n",
              "    </tr>\n",
              "    <tr>\n",
              "      <th>2</th>\n",
              "      <td>7/21/2022 18:55:02</td>\n",
              "      <td>Male</td>\n",
              "      <td>3</td>\n",
              "      <td>Information Technology</td>\n",
              "      <td>3</td>\n",
              "      <td>3.50 - 3.99</td>\n",
              "      <td>Increase</td>\n",
              "      <td>4-6</td>\n",
              "      <td>Studies, Entertainment, Online class, Phone call</td>\n",
              "    </tr>\n",
              "    <tr>\n",
              "      <th>3</th>\n",
              "      <td>8/22/2022 10:01:30</td>\n",
              "      <td>Female</td>\n",
              "      <td>3</td>\n",
              "      <td>Engineering</td>\n",
              "      <td>3</td>\n",
              "      <td>2.50-2.99</td>\n",
              "      <td>decrease</td>\n",
              "      <td>1-3</td>\n",
              "      <td>Studies, Entertainment, Online class, games, M...</td>\n",
              "    </tr>\n",
              "    <tr>\n",
              "      <th>4</th>\n",
              "      <td>8/22/2022 10:02:05</td>\n",
              "      <td>Male</td>\n",
              "      <td>2</td>\n",
              "      <td>Architecture &amp; Built Environment</td>\n",
              "      <td>2</td>\n",
              "      <td>3.00-3.49</td>\n",
              "      <td>Increase</td>\n",
              "      <td>4-6</td>\n",
              "      <td>Studies, Entertainment</td>\n",
              "    </tr>\n",
              "  </tbody>\n",
              "</table>\n",
              "</div>\n",
              "      <button class=\"colab-df-convert\" onclick=\"convertToInteractive('df-dece72d3-fa89-406b-bbf0-2b63dbccf0fe')\"\n",
              "              title=\"Convert this dataframe to an interactive table.\"\n",
              "              style=\"display:none;\">\n",
              "        \n",
              "  <svg xmlns=\"http://www.w3.org/2000/svg\" height=\"24px\"viewBox=\"0 0 24 24\"\n",
              "       width=\"24px\">\n",
              "    <path d=\"M0 0h24v24H0V0z\" fill=\"none\"/>\n",
              "    <path d=\"M18.56 5.44l.94 2.06.94-2.06 2.06-.94-2.06-.94-.94-2.06-.94 2.06-2.06.94zm-11 1L8.5 8.5l.94-2.06 2.06-.94-2.06-.94L8.5 2.5l-.94 2.06-2.06.94zm10 10l.94 2.06.94-2.06 2.06-.94-2.06-.94-.94-2.06-.94 2.06-2.06.94z\"/><path d=\"M17.41 7.96l-1.37-1.37c-.4-.4-.92-.59-1.43-.59-.52 0-1.04.2-1.43.59L10.3 9.45l-7.72 7.72c-.78.78-.78 2.05 0 2.83L4 21.41c.39.39.9.59 1.41.59.51 0 1.02-.2 1.41-.59l7.78-7.78 2.81-2.81c.8-.78.8-2.07 0-2.86zM5.41 20L4 18.59l7.72-7.72 1.47 1.35L5.41 20z\"/>\n",
              "  </svg>\n",
              "      </button>\n",
              "      \n",
              "  <style>\n",
              "    .colab-df-container {\n",
              "      display:flex;\n",
              "      flex-wrap:wrap;\n",
              "      gap: 12px;\n",
              "    }\n",
              "\n",
              "    .colab-df-convert {\n",
              "      background-color: #E8F0FE;\n",
              "      border: none;\n",
              "      border-radius: 50%;\n",
              "      cursor: pointer;\n",
              "      display: none;\n",
              "      fill: #1967D2;\n",
              "      height: 32px;\n",
              "      padding: 0 0 0 0;\n",
              "      width: 32px;\n",
              "    }\n",
              "\n",
              "    .colab-df-convert:hover {\n",
              "      background-color: #E2EBFA;\n",
              "      box-shadow: 0px 1px 2px rgba(60, 64, 67, 0.3), 0px 1px 3px 1px rgba(60, 64, 67, 0.15);\n",
              "      fill: #174EA6;\n",
              "    }\n",
              "\n",
              "    [theme=dark] .colab-df-convert {\n",
              "      background-color: #3B4455;\n",
              "      fill: #D2E3FC;\n",
              "    }\n",
              "\n",
              "    [theme=dark] .colab-df-convert:hover {\n",
              "      background-color: #434B5C;\n",
              "      box-shadow: 0px 1px 3px 1px rgba(0, 0, 0, 0.15);\n",
              "      filter: drop-shadow(0px 1px 2px rgba(0, 0, 0, 0.3));\n",
              "      fill: #FFFFFF;\n",
              "    }\n",
              "  </style>\n",
              "\n",
              "      <script>\n",
              "        const buttonEl =\n",
              "          document.querySelector('#df-dece72d3-fa89-406b-bbf0-2b63dbccf0fe button.colab-df-convert');\n",
              "        buttonEl.style.display =\n",
              "          google.colab.kernel.accessAllowed ? 'block' : 'none';\n",
              "\n",
              "        async function convertToInteractive(key) {\n",
              "          const element = document.querySelector('#df-dece72d3-fa89-406b-bbf0-2b63dbccf0fe');\n",
              "          const dataTable =\n",
              "            await google.colab.kernel.invokeFunction('convertToInteractive',\n",
              "                                                     [key], {});\n",
              "          if (!dataTable) return;\n",
              "\n",
              "          const docLinkHtml = 'Like what you see? Visit the ' +\n",
              "            '<a target=\"_blank\" href=https://colab.research.google.com/notebooks/data_table.ipynb>data table notebook</a>'\n",
              "            + ' to learn more about interactive tables.';\n",
              "          element.innerHTML = '';\n",
              "          dataTable['output_type'] = 'display_data';\n",
              "          await google.colab.output.renderOutput(dataTable, element);\n",
              "          const docLink = document.createElement('div');\n",
              "          docLink.innerHTML = docLinkHtml;\n",
              "          element.appendChild(docLink);\n",
              "        }\n",
              "      </script>\n",
              "    </div>\n",
              "  </div>\n",
              "  "
            ]
          },
          "metadata": {},
          "execution_count": 5
        }
      ]
    },
    {
      "cell_type": "code",
      "metadata": {
        "scrolled": false,
        "id": "tZO93bER448J",
        "colab": {
          "base_uri": "https://localhost:8080/"
        },
        "outputId": "048d5cd5-0ec1-42bf-b62d-50df42c2f416"
      },
      "source": [
        "df.info()"
      ],
      "execution_count": null,
      "outputs": [
        {
          "output_type": "stream",
          "name": "stdout",
          "text": [
            "<class 'pandas.core.frame.DataFrame'>\n",
            "RangeIndex: 30 entries, 0 to 29\n",
            "Data columns (total 9 columns):\n",
            " #   Column                  Non-Null Count  Dtype \n",
            "---  ------                  --------------  ----- \n",
            " 0   Time                    30 non-null     object\n",
            " 1   Gender                  30 non-null     object\n",
            " 2   Experience              30 non-null     object\n",
            " 3   Faculty                 30 non-null     object\n",
            " 4   Quantity_gadgets        30 non-null     int64 \n",
            " 5   Mean_ratings            30 non-null     object\n",
            " 6   Increase_ratings        30 non-null     object\n",
            " 7   Mean_hour_for_academic  30 non-null     object\n",
            " 8   Purpose                 30 non-null     object\n",
            "dtypes: int64(1), object(8)\n",
            "memory usage: 2.2+ KB\n"
          ]
        }
      ]
    },
    {
      "cell_type": "code",
      "source": [
        "# пропусков нет\n",
        "# столбец \"средний рейтинг\": возьмем среднее значение и переведем во float\n",
        "# столбец \"среднее время использования\": возьмем среднее значение и переведем во float\n",
        "# удаляем лишние столбцы (в т.ч. столбец Time как несущественный для анализа)\n",
        "df['Use_hour_for_academic'] = (df['Mean_hour_for_academic'].str.split('-', expand = True)[0].astype(int) + df['Mean_hour_for_academic'].str.split('-',expand = True)[1].astype(int))/2\n",
        "df['CGPA'] = (df['Mean_ratings'].str.split('-', expand = True)[0].astype(float) + df['Mean_ratings'].str.split('-',expand = True)[1].astype(float))/2\n",
        "df=df.drop(['Time', 'Mean_ratings', 'Mean_hour_for_academic'], axis=1)\n",
        "df.info()"
      ],
      "metadata": {
        "id": "lx6wv3lrSAQr",
        "colab": {
          "base_uri": "https://localhost:8080/"
        },
        "outputId": "6a20da5f-c14d-426a-969a-1a3f113ef7c6"
      },
      "execution_count": null,
      "outputs": [
        {
          "output_type": "stream",
          "name": "stdout",
          "text": [
            "<class 'pandas.core.frame.DataFrame'>\n",
            "RangeIndex: 30 entries, 0 to 29\n",
            "Data columns (total 8 columns):\n",
            " #   Column                 Non-Null Count  Dtype  \n",
            "---  ------                 --------------  -----  \n",
            " 0   Gender                 30 non-null     object \n",
            " 1   Experience             30 non-null     object \n",
            " 2   Faculty                30 non-null     object \n",
            " 3   Quantity_gadgets       30 non-null     int64  \n",
            " 4   Increase_ratings       30 non-null     object \n",
            " 5   Purpose                30 non-null     object \n",
            " 6   Use_hour_for_academic  30 non-null     float64\n",
            " 7   CGPA                   30 non-null     float64\n",
            "dtypes: float64(2), int64(1), object(5)\n",
            "memory usage: 2.0+ KB\n"
          ]
        }
      ]
    },
    {
      "cell_type": "code",
      "source": [
        "df.head()"
      ],
      "metadata": {
        "colab": {
          "base_uri": "https://localhost:8080/",
          "height": 206
        },
        "id": "ZMc8a3QXwXF-",
        "outputId": "210d51b2-794d-4478-fa44-b9db1921ae46"
      },
      "execution_count": null,
      "outputs": [
        {
          "output_type": "execute_result",
          "data": {
            "text/plain": [
              "   Gender     Experience                           Faculty  Quantity_gadgets  \\\n",
              "0  Female              4            Information Technology                 2   \n",
              "1    Male  Post Graduate               Business Management                 4   \n",
              "2    Male              3            Information Technology                 3   \n",
              "3  Female              3                       Engineering                 3   \n",
              "4    Male              2  Architecture & Built Environment                 2   \n",
              "\n",
              "  Increase_ratings                                            Purpose  \\\n",
              "0         Increase                 Studies, Entertainment, Phone call   \n",
              "1         decrease  Studies, Entertainment, Online class, games, M...   \n",
              "2         Increase   Studies, Entertainment, Online class, Phone call   \n",
              "3         decrease  Studies, Entertainment, Online class, games, M...   \n",
              "4         Increase                             Studies, Entertainment   \n",
              "\n",
              "   Use_hour_for_academic   CGPA  \n",
              "0                    5.0  3.245  \n",
              "1                    2.0  3.245  \n",
              "2                    5.0  3.745  \n",
              "3                    2.0  2.745  \n",
              "4                    5.0  3.245  "
            ],
            "text/html": [
              "\n",
              "  <div id=\"df-9be4bbe4-71cb-4ea9-9ae2-accc65320437\">\n",
              "    <div class=\"colab-df-container\">\n",
              "      <div>\n",
              "<style scoped>\n",
              "    .dataframe tbody tr th:only-of-type {\n",
              "        vertical-align: middle;\n",
              "    }\n",
              "\n",
              "    .dataframe tbody tr th {\n",
              "        vertical-align: top;\n",
              "    }\n",
              "\n",
              "    .dataframe thead th {\n",
              "        text-align: right;\n",
              "    }\n",
              "</style>\n",
              "<table border=\"1\" class=\"dataframe\">\n",
              "  <thead>\n",
              "    <tr style=\"text-align: right;\">\n",
              "      <th></th>\n",
              "      <th>Gender</th>\n",
              "      <th>Experience</th>\n",
              "      <th>Faculty</th>\n",
              "      <th>Quantity_gadgets</th>\n",
              "      <th>Increase_ratings</th>\n",
              "      <th>Purpose</th>\n",
              "      <th>Use_hour_for_academic</th>\n",
              "      <th>CGPA</th>\n",
              "    </tr>\n",
              "  </thead>\n",
              "  <tbody>\n",
              "    <tr>\n",
              "      <th>0</th>\n",
              "      <td>Female</td>\n",
              "      <td>4</td>\n",
              "      <td>Information Technology</td>\n",
              "      <td>2</td>\n",
              "      <td>Increase</td>\n",
              "      <td>Studies, Entertainment, Phone call</td>\n",
              "      <td>5.0</td>\n",
              "      <td>3.245</td>\n",
              "    </tr>\n",
              "    <tr>\n",
              "      <th>1</th>\n",
              "      <td>Male</td>\n",
              "      <td>Post Graduate</td>\n",
              "      <td>Business Management</td>\n",
              "      <td>4</td>\n",
              "      <td>decrease</td>\n",
              "      <td>Studies, Entertainment, Online class, games, M...</td>\n",
              "      <td>2.0</td>\n",
              "      <td>3.245</td>\n",
              "    </tr>\n",
              "    <tr>\n",
              "      <th>2</th>\n",
              "      <td>Male</td>\n",
              "      <td>3</td>\n",
              "      <td>Information Technology</td>\n",
              "      <td>3</td>\n",
              "      <td>Increase</td>\n",
              "      <td>Studies, Entertainment, Online class, Phone call</td>\n",
              "      <td>5.0</td>\n",
              "      <td>3.745</td>\n",
              "    </tr>\n",
              "    <tr>\n",
              "      <th>3</th>\n",
              "      <td>Female</td>\n",
              "      <td>3</td>\n",
              "      <td>Engineering</td>\n",
              "      <td>3</td>\n",
              "      <td>decrease</td>\n",
              "      <td>Studies, Entertainment, Online class, games, M...</td>\n",
              "      <td>2.0</td>\n",
              "      <td>2.745</td>\n",
              "    </tr>\n",
              "    <tr>\n",
              "      <th>4</th>\n",
              "      <td>Male</td>\n",
              "      <td>2</td>\n",
              "      <td>Architecture &amp; Built Environment</td>\n",
              "      <td>2</td>\n",
              "      <td>Increase</td>\n",
              "      <td>Studies, Entertainment</td>\n",
              "      <td>5.0</td>\n",
              "      <td>3.245</td>\n",
              "    </tr>\n",
              "  </tbody>\n",
              "</table>\n",
              "</div>\n",
              "      <button class=\"colab-df-convert\" onclick=\"convertToInteractive('df-9be4bbe4-71cb-4ea9-9ae2-accc65320437')\"\n",
              "              title=\"Convert this dataframe to an interactive table.\"\n",
              "              style=\"display:none;\">\n",
              "        \n",
              "  <svg xmlns=\"http://www.w3.org/2000/svg\" height=\"24px\"viewBox=\"0 0 24 24\"\n",
              "       width=\"24px\">\n",
              "    <path d=\"M0 0h24v24H0V0z\" fill=\"none\"/>\n",
              "    <path d=\"M18.56 5.44l.94 2.06.94-2.06 2.06-.94-2.06-.94-.94-2.06-.94 2.06-2.06.94zm-11 1L8.5 8.5l.94-2.06 2.06-.94-2.06-.94L8.5 2.5l-.94 2.06-2.06.94zm10 10l.94 2.06.94-2.06 2.06-.94-2.06-.94-.94-2.06-.94 2.06-2.06.94z\"/><path d=\"M17.41 7.96l-1.37-1.37c-.4-.4-.92-.59-1.43-.59-.52 0-1.04.2-1.43.59L10.3 9.45l-7.72 7.72c-.78.78-.78 2.05 0 2.83L4 21.41c.39.39.9.59 1.41.59.51 0 1.02-.2 1.41-.59l7.78-7.78 2.81-2.81c.8-.78.8-2.07 0-2.86zM5.41 20L4 18.59l7.72-7.72 1.47 1.35L5.41 20z\"/>\n",
              "  </svg>\n",
              "      </button>\n",
              "      \n",
              "  <style>\n",
              "    .colab-df-container {\n",
              "      display:flex;\n",
              "      flex-wrap:wrap;\n",
              "      gap: 12px;\n",
              "    }\n",
              "\n",
              "    .colab-df-convert {\n",
              "      background-color: #E8F0FE;\n",
              "      border: none;\n",
              "      border-radius: 50%;\n",
              "      cursor: pointer;\n",
              "      display: none;\n",
              "      fill: #1967D2;\n",
              "      height: 32px;\n",
              "      padding: 0 0 0 0;\n",
              "      width: 32px;\n",
              "    }\n",
              "\n",
              "    .colab-df-convert:hover {\n",
              "      background-color: #E2EBFA;\n",
              "      box-shadow: 0px 1px 2px rgba(60, 64, 67, 0.3), 0px 1px 3px 1px rgba(60, 64, 67, 0.15);\n",
              "      fill: #174EA6;\n",
              "    }\n",
              "\n",
              "    [theme=dark] .colab-df-convert {\n",
              "      background-color: #3B4455;\n",
              "      fill: #D2E3FC;\n",
              "    }\n",
              "\n",
              "    [theme=dark] .colab-df-convert:hover {\n",
              "      background-color: #434B5C;\n",
              "      box-shadow: 0px 1px 3px 1px rgba(0, 0, 0, 0.15);\n",
              "      filter: drop-shadow(0px 1px 2px rgba(0, 0, 0, 0.3));\n",
              "      fill: #FFFFFF;\n",
              "    }\n",
              "  </style>\n",
              "\n",
              "      <script>\n",
              "        const buttonEl =\n",
              "          document.querySelector('#df-9be4bbe4-71cb-4ea9-9ae2-accc65320437 button.colab-df-convert');\n",
              "        buttonEl.style.display =\n",
              "          google.colab.kernel.accessAllowed ? 'block' : 'none';\n",
              "\n",
              "        async function convertToInteractive(key) {\n",
              "          const element = document.querySelector('#df-9be4bbe4-71cb-4ea9-9ae2-accc65320437');\n",
              "          const dataTable =\n",
              "            await google.colab.kernel.invokeFunction('convertToInteractive',\n",
              "                                                     [key], {});\n",
              "          if (!dataTable) return;\n",
              "\n",
              "          const docLinkHtml = 'Like what you see? Visit the ' +\n",
              "            '<a target=\"_blank\" href=https://colab.research.google.com/notebooks/data_table.ipynb>data table notebook</a>'\n",
              "            + ' to learn more about interactive tables.';\n",
              "          element.innerHTML = '';\n",
              "          dataTable['output_type'] = 'display_data';\n",
              "          await google.colab.output.renderOutput(dataTable, element);\n",
              "          const docLink = document.createElement('div');\n",
              "          docLink.innerHTML = docLinkHtml;\n",
              "          element.appendChild(docLink);\n",
              "        }\n",
              "      </script>\n",
              "    </div>\n",
              "  </div>\n",
              "  "
            ]
          },
          "metadata": {},
          "execution_count": 8
        }
      ]
    },
    {
      "cell_type": "markdown",
      "source": [
        "# Визуализации"
      ],
      "metadata": {
        "id": "K5p6AVZUAwEN"
      }
    },
    {
      "cell_type": "markdown",
      "metadata": {
        "id": "DsFtXmpH448L"
      },
      "source": [
        "## Area chart"
      ]
    },
    {
      "cell_type": "code",
      "metadata": {
        "scrolled": false,
        "id": "nuJRnJqrGiHz"
      },
      "source": [
        "# оценим, как время использования гаджетов влияет на рейтинг обучающихся\n",
        "dynamics_by_CGPA = df[['Use_hour_for_academic']].groupby(df['CGPA'])\n"
      ],
      "execution_count": null,
      "outputs": []
    },
    {
      "cell_type": "code",
      "metadata": {
        "scrolled": false,
        "colab": {
          "base_uri": "https://localhost:8080/",
          "height": 459
        },
        "outputId": "e2c5fe7a-1111-488f-ffdd-58916da41fe4",
        "id": "K_1qM-JWVhg1"
      },
      "source": [
        "dynamics_by_CGPA['Use_hour_for_academic'].plot(kind='area',\n",
        "                                               stacked=False,\n",
        "                                               title='Влияние гаджетов на рейтинг обучающихся',\n",
        "                                                xlabel='Обучающиеся',\n",
        "                                                ylabel='Время использования гаджетов, час.'),\n",
        "plt.legend(loc='best', title = 'CGPA');"
      ],
      "execution_count": null,
      "outputs": [
        {
          "output_type": "display_data",
          "data": {
            "text/plain": [
              "<Figure size 792x504 with 1 Axes>"
            ],
            "image/png": "[encoded data removed]"
          },
          "metadata": {
            "needs_background": "light"
          }
        }
      ]
    },
    {
      "cell_type": "markdown",
      "source": [
        "На основе визуализации можно выдвинуть следующую гипотезу:\n",
        "**НЕТ ЗАВИСИМОСТИ МЕЖДУ CGPA СТУДЕНТА И ДЛИТЕЛЬНОСТЬЮ ИСПОЛЬЗОВАНИЯ ГАДЖЕТОВ **"
      ],
      "metadata": {
        "id": "Ky_YbcwL1kxA"
      }
    },
    {
      "cell_type": "markdown",
      "metadata": {
        "id": "9X-cdJ3r448P"
      },
      "source": [
        "## Столбчатая диаграмма"
      ]
    },
    {
      "cell_type": "code",
      "metadata": {
        "scrolled": false,
        "colab": {
          "base_uri": "https://localhost:8080/",
          "height": 206
        },
        "outputId": "f6082835-19d7-42e5-a599-f20176fe2c1c",
        "id": "s81wTKSW68KE"
      },
      "source": [
        "# время использования в зависимости от количества гаджетов\n",
        "gadgets_by_hour = df[['Use_hour_for_academic', 'Quantity_gadgets']].groupby('Quantity_gadgets').mean().round(1).sort_values('Use_hour_for_academic', ascending=False).head()\n",
        "gadgets_by_hour"
      ],
      "execution_count": null,
      "outputs": [
        {
          "output_type": "execute_result",
          "data": {
            "text/plain": [
              "                  Use_hour_for_academic\n",
              "Quantity_gadgets                       \n",
              "3                                   8.0\n",
              "2                                   7.8\n",
              "4                                   5.6\n",
              "1                                   5.0"
            ],
            "text/html": [
              "\n",
              "  <div id=\"df-c6fb05e0-3739-4c25-8eba-e41041c877f2\">\n",
              "    <div class=\"colab-df-container\">\n",
              "      <div>\n",
              "<style scoped>\n",
              "    .dataframe tbody tr th:only-of-type {\n",
              "        vertical-align: middle;\n",
              "    }\n",
              "\n",
              "    .dataframe tbody tr th {\n",
              "        vertical-align: top;\n",
              "    }\n",
              "\n",
              "    .dataframe thead th {\n",
              "        text-align: right;\n",
              "    }\n",
              "</style>\n",
              "<table border=\"1\" class=\"dataframe\">\n",
              "  <thead>\n",
              "    <tr style=\"text-align: right;\">\n",
              "      <th></th>\n",
              "      <th>Use_hour_for_academic</th>\n",
              "    </tr>\n",
              "    <tr>\n",
              "      <th>Quantity_gadgets</th>\n",
              "      <th></th>\n",
              "    </tr>\n",
              "  </thead>\n",
              "  <tbody>\n",
              "    <tr>\n",
              "      <th>3</th>\n",
              "      <td>8.0</td>\n",
              "    </tr>\n",
              "    <tr>\n",
              "      <th>2</th>\n",
              "      <td>7.8</td>\n",
              "    </tr>\n",
              "    <tr>\n",
              "      <th>4</th>\n",
              "      <td>5.6</td>\n",
              "    </tr>\n",
              "    <tr>\n",
              "      <th>1</th>\n",
              "      <td>5.0</td>\n",
              "    </tr>\n",
              "  </tbody>\n",
              "</table>\n",
              "</div>\n",
              "      <button class=\"colab-df-convert\" onclick=\"convertToInteractive('df-c6fb05e0-3739-4c25-8eba-e41041c877f2')\"\n",
              "              title=\"Convert this dataframe to an interactive table.\"\n",
              "              style=\"display:none;\">\n",
              "        \n",
              "  <svg xmlns=\"http://www.w3.org/2000/svg\" height=\"24px\"viewBox=\"0 0 24 24\"\n",
              "       width=\"24px\">\n",
              "    <path d=\"M0 0h24v24H0V0z\" fill=\"none\"/>\n",
              "    <path d=\"M18.56 5.44l.94 2.06.94-2.06 2.06-.94-2.06-.94-.94-2.06-.94 2.06-2.06.94zm-11 1L8.5 8.5l.94-2.06 2.06-.94-2.06-.94L8.5 2.5l-.94 2.06-2.06.94zm10 10l.94 2.06.94-2.06 2.06-.94-2.06-.94-.94-2.06-.94 2.06-2.06.94z\"/><path d=\"M17.41 7.96l-1.37-1.37c-.4-.4-.92-.59-1.43-.59-.52 0-1.04.2-1.43.59L10.3 9.45l-7.72 7.72c-.78.78-.78 2.05 0 2.83L4 21.41c.39.39.9.59 1.41.59.51 0 1.02-.2 1.41-.59l7.78-7.78 2.81-2.81c.8-.78.8-2.07 0-2.86zM5.41 20L4 18.59l7.72-7.72 1.47 1.35L5.41 20z\"/>\n",
              "  </svg>\n",
              "      </button>\n",
              "      \n",
              "  <style>\n",
              "    .colab-df-container {\n",
              "      display:flex;\n",
              "      flex-wrap:wrap;\n",
              "      gap: 12px;\n",
              "    }\n",
              "\n",
              "    .colab-df-convert {\n",
              "      background-color: #E8F0FE;\n",
              "      border: none;\n",
              "      border-radius: 50%;\n",
              "      cursor: pointer;\n",
              "      display: none;\n",
              "      fill: #1967D2;\n",
              "      height: 32px;\n",
              "      padding: 0 0 0 0;\n",
              "      width: 32px;\n",
              "    }\n",
              "\n",
              "    .colab-df-convert:hover {\n",
              "      background-color: #E2EBFA;\n",
              "      box-shadow: 0px 1px 2px rgba(60, 64, 67, 0.3), 0px 1px 3px 1px rgba(60, 64, 67, 0.15);\n",
              "      fill: #174EA6;\n",
              "    }\n",
              "\n",
              "    [theme=dark] .colab-df-convert {\n",
              "      background-color: #3B4455;\n",
              "      fill: #D2E3FC;\n",
              "    }\n",
              "\n",
              "    [theme=dark] .colab-df-convert:hover {\n",
              "      background-color: #434B5C;\n",
              "      box-shadow: 0px 1px 3px 1px rgba(0, 0, 0, 0.15);\n",
              "      filter: drop-shadow(0px 1px 2px rgba(0, 0, 0, 0.3));\n",
              "      fill: #FFFFFF;\n",
              "    }\n",
              "  </style>\n",
              "\n",
              "      <script>\n",
              "        const buttonEl =\n",
              "          document.querySelector('#df-c6fb05e0-3739-4c25-8eba-e41041c877f2 button.colab-df-convert');\n",
              "        buttonEl.style.display =\n",
              "          google.colab.kernel.accessAllowed ? 'block' : 'none';\n",
              "\n",
              "        async function convertToInteractive(key) {\n",
              "          const element = document.querySelector('#df-c6fb05e0-3739-4c25-8eba-e41041c877f2');\n",
              "          const dataTable =\n",
              "            await google.colab.kernel.invokeFunction('convertToInteractive',\n",
              "                                                     [key], {});\n",
              "          if (!dataTable) return;\n",
              "\n",
              "          const docLinkHtml = 'Like what you see? Visit the ' +\n",
              "            '<a target=\"_blank\" href=https://colab.research.google.com/notebooks/data_table.ipynb>data table notebook</a>'\n",
              "            + ' to learn more about interactive tables.';\n",
              "          element.innerHTML = '';\n",
              "          dataTable['output_type'] = 'display_data';\n",
              "          await google.colab.output.renderOutput(dataTable, element);\n",
              "          const docLink = document.createElement('div');\n",
              "          docLink.innerHTML = docLinkHtml;\n",
              "          element.appendChild(docLink);\n",
              "        }\n",
              "      </script>\n",
              "    </div>\n",
              "  </div>\n",
              "  "
            ]
          },
          "metadata": {},
          "execution_count": 11
        }
      ]
    },
    {
      "cell_type": "code",
      "metadata": {
        "scrolled": false,
        "id": "5YFo3_MP448Q",
        "colab": {
          "base_uri": "https://localhost:8080/",
          "height": 455
        },
        "outputId": "c4d3f6e6-18fc-4739-bf4d-2537dc771ae9"
      },
      "source": [
        "gadgets_by_hour.plot(kind='bar',\n",
        "                        title='Среднее время использования в зависимости от количества гаджетов',\n",
        "                        xlabel='Кол-во гаджетов',\n",
        "                        ylabel='Время использования');\n",
        "for i, val in enumerate(gadgets_by_hour.values):\n",
        "    plt.text(i, val, float(val), horizontalalignment='center', verticalalignment='bottom', fontdict={'size':14})"
      ],
      "execution_count": null,
      "outputs": [
        {
          "output_type": "display_data",
          "data": {
            "text/plain": [
              "<Figure size 792x504 with 1 Axes>"
            ],
            "image/png": "[encoded data removed]"
          },
          "metadata": {
            "needs_background": "light"
          }
        }
      ]
    },
    {
      "cell_type": "markdown",
      "source": [
        "На основе визуализации можно выдвинуть следующую гипотезу:\n",
        "**Чаще всего гаджеты используют студенты, у которых 2-3 гаджета **"
      ],
      "metadata": {
        "id": "azSw4Wg3clkl"
      }
    },
    {
      "cell_type": "markdown",
      "metadata": {
        "id": "n_hbQ5KX448S"
      },
      "source": [
        "## Круговая диаграмма"
      ]
    },
    {
      "cell_type": "code",
      "source": [
        "# посмотрим с какой целью чаще всего используют гаджеты студенты\n",
        "purpose_freq = df['Purpose'].str.split(',', expand = True).stack().value_counts()\n",
        "purpose_freq"
      ],
      "metadata": {
        "colab": {
          "base_uri": "https://localhost:8080/"
        },
        "id": "GDqweMVQuARi",
        "outputId": "23f145c4-42a1-401d-9972-025dcddd5e1b"
      },
      "execution_count": null,
      "outputs": [
        {
          "output_type": "execute_result",
          "data": {
            "text/plain": [
              "Studies           29\n",
              " Entertainment    25\n",
              " Phone call       23\n",
              " Online class     20\n",
              " Movies           11\n",
              " games             9\n",
              "Online class       1\n",
              "dtype: int64"
            ]
          },
          "metadata": {},
          "execution_count": 13
        }
      ]
    },
    {
      "cell_type": "code",
      "metadata": {
        "scrolled": false,
        "id": "xfCjDZN1448S",
        "colab": {
          "base_uri": "https://localhost:8080/",
          "height": 439
        },
        "outputId": "970091c2-559c-4ecf-eace-a747df1230ae"
      },
      "source": [
        "purpose_freq.plot(kind='pie', title='Цель использования', autopct='%1.0f%%', shadow=True, explode = [0.2, 0, 0, 0.2, 0, 0, 0.2]);"
      ],
      "execution_count": null,
      "outputs": [
        {
          "output_type": "display_data",
          "data": {
            "text/plain": [
              "<Figure size 792x504 with 1 Axes>"
            ],
            "image/png": "[encoded data removed]"
          },
          "metadata": {}
        }
      ]
    },
    {
      "cell_type": "markdown",
      "source": [
        "На основе визуализации можно выдвинуть следующую гипотезу:\n",
        "**Большинство студентов используют гаджеты для обучения, на втором месте развлечения **"
      ],
      "metadata": {
        "id": "pqPUZ7QhvHHP"
      }
    },
    {
      "cell_type": "markdown",
      "metadata": {
        "id": "1PeEYYaa448T"
      },
      "source": [
        "## Boxplot"
      ]
    },
    {
      "cell_type": "code",
      "metadata": {
        "scrolled": false,
        "id": "vmITJAcZ448T",
        "colab": {
          "base_uri": "https://localhost:8080/",
          "height": 445
        },
        "outputId": "66f2b2e2-4f81-45f2-e7c9-0526d12881e0"
      },
      "source": [
        "# можно проверить выбросы\n",
        "df['Use_hour_for_academic'].plot(kind='box',\n",
        "                      title='Время использования гаджетов', grid=True);"
      ],
      "execution_count": null,
      "outputs": [
        {
          "output_type": "display_data",
          "data": {
            "text/plain": [
              "<Figure size 792x504 with 1 Axes>"
            ],
            "image/png": "[encoded data removed]"
          },
          "metadata": {
            "needs_background": "light"
          }
        }
      ]
    },
    {
      "cell_type": "markdown",
      "source": [
        "На основе визуализации - выбросов нет"
      ],
      "metadata": {
        "id": "-cZkeB4SxvaG"
      }
    },
    {
      "cell_type": "markdown",
      "metadata": {
        "id": "RjsbDsOl448U"
      },
      "source": [
        "## Точечная диаграмма"
      ]
    },
    {
      "cell_type": "code",
      "metadata": {
        "scrolled": false,
        "id": "AfXFJQkB448U",
        "colab": {
          "base_uri": "https://localhost:8080/",
          "height": 459
        },
        "outputId": "79b1c92f-2074-4196-df04-ab83462d40e6"
      },
      "source": [
        "# посмотрим на взаимосвязь факультета, года обучения и времени использования гаджетов\n",
        "df.plot(kind='scatter',\n",
        "        x='Experience',\n",
        "        y='Faculty',\n",
        "        s=df['Use_hour_for_academic']*20,\n",
        "        title='Корреляция между годом обучения, факультетом и частотой использования гаджетов'\n",
        "       );"
      ],
      "execution_count": null,
      "outputs": [
        {
          "output_type": "display_data",
          "data": {
            "text/plain": [
              "<Figure size 792x504 with 1 Axes>"
            ],
            "image/png": "[encoded data removed]"
          },
          "metadata": {
            "needs_background": "light"
          }
        }
      ]
    },
    {
      "cell_type": "markdown",
      "source": [
        "На основе визуализации можно выдвинуть следующую гипотезу:\n",
        "**По частоте использования гаджетов на первом месте студенты 4 года обучения, затем второй год обучения. Из факультетов на первом месте \"информационные технологии\", на последнем \"инженеры\" **"
      ],
      "metadata": {
        "id": "BnT4wNNOr0t9"
      }
    },
    {
      "cell_type": "markdown",
      "metadata": {
        "id": "qvchLQ35448V"
      },
      "source": [
        "## Seaborn"
      ]
    },
    {
      "cell_type": "code",
      "metadata": {
        "scrolled": false,
        "id": "v1GmJylf448W"
      },
      "source": [
        "import seaborn as sns"
      ],
      "execution_count": null,
      "outputs": []
    },
    {
      "cell_type": "code",
      "metadata": {
        "scrolled": false,
        "id": "1jrk2Mj6448W",
        "colab": {
          "base_uri": "https://localhost:8080/",
          "height": 458
        },
        "outputId": "600f36af-f222-4d11-811c-362a2b481fba"
      },
      "source": [
        "# посмотрим зависимость пола и времени использования гаджетов\n",
        "sns.scatterplot(data=df, x='Gender', y='Use_hour_for_academic', color='brown', marker='+')\n",
        "plt.title('Корреляция между полом и частотой использования гаджетов')\n",
        "plt.ylim(0, 40);"
      ],
      "execution_count": null,
      "outputs": [
        {
          "output_type": "display_data",
          "data": {
            "text/plain": [
              "<Figure size 792x504 with 1 Axes>"
            ],
            "image/png": "[encoded data removed]"
          },
          "metadata": {
            "needs_background": "light"
          }
        }
      ]
    },
    {
      "cell_type": "markdown",
      "source": [
        "На основе визуализации можно выдвинуть следующую гипотезу:\n",
        "**Женщины реже мужчин используют гаджеты **"
      ],
      "metadata": {
        "id": "gpjbpL9yjPEy"
      }
    },
    {
      "cell_type": "code",
      "metadata": {
        "id": "RpoZ7fmd448X"
      },
      "source": [
        "# pair plot (scatter plot matrix) - смотрим на одной картинке, как связаны между собой различные признаки в наборе данных"
      ],
      "execution_count": null,
      "outputs": []
    },
    {
      "cell_type": "code",
      "metadata": {
        "scrolled": false,
        "id": "FCz7iaNQ448Y",
        "colab": {
          "base_uri": "https://localhost:8080/",
          "height": 550
        },
        "outputId": "eab48ebb-57e5-49fc-d112-323db2c61aa5"
      },
      "source": [
        "sns.pairplot(df[['Use_hour_for_academic', 'Quantity_gadgets', 'CGPA']]);"
      ],
      "execution_count": null,
      "outputs": [
        {
          "output_type": "display_data",
          "data": {
            "text/plain": [
              "<Figure size 540x540 with 12 Axes>"
            ],
            "image/png": "[encoded data removed]"
          },
          "metadata": {
            "needs_background": "light"
          }
        }
      ]
    },
    {
      "cell_type": "markdown",
      "source": [
        "По диагонали матрицы графиков расположены столбчатые диаграммы по признакам. Остальные  графики — корреляция для соответствующих пар признаков.\n",
        "Взаимосвязь \"Use_hour_for_academic-CGPA\" смотрели выше в визуализации Area chart, по данной визуализации остаётся такая же гипотеза \"нет зависимости между рейтигом и частотой использования гаджетов\" (в area chart было более наглядно).\n",
        "Взаимосвязь \"Use_hour_for_academic-Quantity_gadgets\" смотрели выше в столбчатой диаграмме, по данной визуализации остаётся такая же гипотеза \"Чаще всего гаджеты используют студенты, у которых 2-3 гаджета\" (в столбатой было более наглядно).\n",
        "По визуализации для \"Quantity_gadgets-CGPA\" можно выдвинуть следующую гипотезу: \"Нет взаимосвязи между этими признаками\"."
      ],
      "metadata": {
        "id": "3U48BCySIjeL"
      }
    },
    {
      "cell_type": "markdown",
      "metadata": {
        "id": "dDScAqpz448Y"
      },
      "source": [
        "**Посмотрим влияет ли использование гаджетов на прогресс обучающихся** при помощи `boxplot`."
      ]
    },
    {
      "cell_type": "code",
      "source": [
        "increase_hour = df['Increase_ratings'].value_counts().index.values\n",
        "increase_hour"
      ],
      "metadata": {
        "colab": {
          "base_uri": "https://localhost:8080/"
        },
        "id": "EWAjC_B5wVnM",
        "outputId": "34da6367-63d5-4c2c-933a-a747d2f4b307"
      },
      "execution_count": null,
      "outputs": [
        {
          "output_type": "execute_result",
          "data": {
            "text/plain": [
              "array(['Increase', 'None', 'decrease'], dtype=object)"
            ]
          },
          "metadata": {},
          "execution_count": 22
        }
      ]
    },
    {
      "cell_type": "code",
      "metadata": {
        "scrolled": true,
        "id": "4owut7JX448Y",
        "colab": {
          "base_uri": "https://localhost:8080/",
          "height": 459
        },
        "outputId": "731aab54-fe4c-4a6a-e3b9-acfc00899f24"
      },
      "source": [
        "sns.boxplot(x=\"Increase_ratings\", y=\"Use_hour_for_academic\",\n",
        "            data=df[df['Increase_ratings'].isin(increase_hour)])\n",
        "plt.title('Влияние гаджетов на прогресс обучающихся');"
      ],
      "execution_count": null,
      "outputs": [
        {
          "output_type": "display_data",
          "data": {
            "text/plain": [
              "<Figure size 792x504 with 1 Axes>"
            ],
            "image/png": "[encoded data removed]"
          },
          "metadata": {
            "needs_background": "light"
          }
        }
      ]
    },
    {
      "cell_type": "markdown",
      "metadata": {
        "id": "0WMSHWlk448Y"
      },
      "source": [
        "Визуализируем с помощью `Heat map` **часы использования по полу и годам обучения**."
      ]
    },
    {
      "cell_type": "code",
      "metadata": {
        "scrolled": false,
        "id": "ZgGsU4RU448Z"
      },
      "source": [
        "hour_gender_experience = df.pivot_table(\n",
        "                        index='Experience',\n",
        "                        columns='Gender',\n",
        "                        values='Use_hour_for_academic',\n",
        "                        aggfunc=sum).fillna(0)"
      ],
      "execution_count": null,
      "outputs": []
    },
    {
      "cell_type": "code",
      "metadata": {
        "scrolled": false,
        "id": "CdGtIsZM448Z",
        "colab": {
          "base_uri": "https://localhost:8080/",
          "height": 459
        },
        "outputId": "b4a28db3-e847-4263-9da0-653d3e4367a1"
      },
      "source": [
        "sns.heatmap(hour_gender_experience, cmap='PuBu', annot=True, fmt='.1f')\n",
        "plt.title('Использование гаджетов в зависимости от пола и года обучения');"
      ],
      "execution_count": null,
      "outputs": [
        {
          "output_type": "display_data",
          "data": {
            "text/plain": [
              "<Figure size 792x504 with 2 Axes>"
            ],
            "image/png": "[encoded data removed]"
          },
          "metadata": {
            "needs_background": "light"
          }
        }
      ]
    },
    {
      "cell_type": "code",
      "source": [
        "# На основе полученной визуализации можно выдвинуть следующую гипотезу: \"Больше всего гаджеты используют студенты 4-го курса, как мужчины, так и женщины\""
      ],
      "metadata": {
        "id": "D6BW_KWTvvVF"
      },
      "execution_count": null,
      "outputs": []
    }
  ]
}