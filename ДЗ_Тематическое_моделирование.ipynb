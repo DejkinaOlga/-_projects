{
  "nbformat": 4,
  "nbformat_minor": 0,
  "metadata": {
    "colab": {
      "provenance": [],
      "toc_visible": true
    },
    "kernelspec": {
      "name": "python3",
      "display_name": "Python 3"
    },
    "language_info": {
      "name": "python"
    },
    "widgets": {
      "application/vnd.jupyter.widget-state+json": {
        "b35f880c09f94662b30af0568c14f491": {
          "model_module": "@jupyter-widgets/controls",
          "model_name": "HBoxModel",
          "model_module_version": "1.5.0",
          "state": {
            "_dom_classes": [],
            "_model_module": "@jupyter-widgets/controls",
            "_model_module_version": "1.5.0",
            "_model_name": "HBoxModel",
            "_view_count": null,
            "_view_module": "@jupyter-widgets/controls",
            "_view_module_version": "1.5.0",
            "_view_name": "HBoxView",
            "box_style": "",
            "children": [
              "IPY_MODEL_6940b15099ee4660bfb6e37e4d15ba1c",
              "IPY_MODEL_d69d6139643e48de93bed8cb43fb6a55",
              "IPY_MODEL_b7ba88f2a37d4e85b2e65a631ae8a08a"
            ],
            "layout": "IPY_MODEL_c08a21454bce46d3a8eb1f31bec2c226"
          }
        },
        "6940b15099ee4660bfb6e37e4d15ba1c": {
          "model_module": "@jupyter-widgets/controls",
          "model_name": "HTMLModel",
          "model_module_version": "1.5.0",
          "state": {
            "_dom_classes": [],
            "_model_module": "@jupyter-widgets/controls",
            "_model_module_version": "1.5.0",
            "_model_name": "HTMLModel",
            "_view_count": null,
            "_view_module": "@jupyter-widgets/controls",
            "_view_module_version": "1.5.0",
            "_view_name": "HTMLView",
            "description": "",
            "description_tooltip": null,
            "layout": "IPY_MODEL_4369c0f4d4d3435c93022b4bc8294c68",
            "placeholder": "​",
            "style": "IPY_MODEL_10267a982d914a9b8942e93d2792c6ba",
            "value": "100%"
          }
        },
        "d69d6139643e48de93bed8cb43fb6a55": {
          "model_module": "@jupyter-widgets/controls",
          "model_name": "FloatProgressModel",
          "model_module_version": "1.5.0",
          "state": {
            "_dom_classes": [],
            "_model_module": "@jupyter-widgets/controls",
            "_model_module_version": "1.5.0",
            "_model_name": "FloatProgressModel",
            "_view_count": null,
            "_view_module": "@jupyter-widgets/controls",
            "_view_module_version": "1.5.0",
            "_view_name": "ProgressView",
            "bar_style": "success",
            "description": "",
            "description_tooltip": null,
            "layout": "IPY_MODEL_3ad9c3eb3e2b4f4aa8e67f40a099433e",
            "max": 11000,
            "min": 0,
            "orientation": "horizontal",
            "style": "IPY_MODEL_d5e8c2c6ca8342bc86ab8bbc2a4697ac",
            "value": 11000
          }
        },
        "b7ba88f2a37d4e85b2e65a631ae8a08a": {
          "model_module": "@jupyter-widgets/controls",
          "model_name": "HTMLModel",
          "model_module_version": "1.5.0",
          "state": {
            "_dom_classes": [],
            "_model_module": "@jupyter-widgets/controls",
            "_model_module_version": "1.5.0",
            "_model_name": "HTMLModel",
            "_view_count": null,
            "_view_module": "@jupyter-widgets/controls",
            "_view_module_version": "1.5.0",
            "_view_name": "HTMLView",
            "description": "",
            "description_tooltip": null,
            "layout": "IPY_MODEL_2f77fdb104dc4d41b01b8a8deeaf421f",
            "placeholder": "​",
            "style": "IPY_MODEL_1a1fd7a25af341a080b57bce1540f505",
            "value": " 11000/11000 [00:00&lt;00:00, 185509.57it/s]"
          }
        },
        "c08a21454bce46d3a8eb1f31bec2c226": {
          "model_module": "@jupyter-widgets/base",
          "model_name": "LayoutModel",
          "model_module_version": "1.2.0",
          "state": {
            "_model_module": "@jupyter-widgets/base",
            "_model_module_version": "1.2.0",
            "_model_name": "LayoutModel",
            "_view_count": null,
            "_view_module": "@jupyter-widgets/base",
            "_view_module_version": "1.2.0",
            "_view_name": "LayoutView",
            "align_content": null,
            "align_items": null,
            "align_self": null,
            "border": null,
            "bottom": null,
            "display": null,
            "flex": null,
            "flex_flow": null,
            "grid_area": null,
            "grid_auto_columns": null,
            "grid_auto_flow": null,
            "grid_auto_rows": null,
            "grid_column": null,
            "grid_gap": null,
            "grid_row": null,
            "grid_template_areas": null,
            "grid_template_columns": null,
            "grid_template_rows": null,
            "height": null,
            "justify_content": null,
            "justify_items": null,
            "left": null,
            "margin": null,
            "max_height": null,
            "max_width": null,
            "min_height": null,
            "min_width": null,
            "object_fit": null,
            "object_position": null,
            "order": null,
            "overflow": null,
            "overflow_x": null,
            "overflow_y": null,
            "padding": null,
            "right": null,
            "top": null,
            "visibility": null,
            "width": null
          }
        },
        "4369c0f4d4d3435c93022b4bc8294c68": {
          "model_module": "@jupyter-widgets/base",
          "model_name": "LayoutModel",
          "model_module_version": "1.2.0",
          "state": {
            "_model_module": "@jupyter-widgets/base",
            "_model_module_version": "1.2.0",
            "_model_name": "LayoutModel",
            "_view_count": null,
            "_view_module": "@jupyter-widgets/base",
            "_view_module_version": "1.2.0",
            "_view_name": "LayoutView",
            "align_content": null,
            "align_items": null,
            "align_self": null,
            "border": null,
            "bottom": null,
            "display": null,
            "flex": null,
            "flex_flow": null,
            "grid_area": null,
            "grid_auto_columns": null,
            "grid_auto_flow": null,
            "grid_auto_rows": null,
            "grid_column": null,
            "grid_gap": null,
            "grid_row": null,
            "grid_template_areas": null,
            "grid_template_columns": null,
            "grid_template_rows": null,
            "height": null,
            "justify_content": null,
            "justify_items": null,
            "left": null,
            "margin": null,
            "max_height": null,
            "max_width": null,
            "min_height": null,
            "min_width": null,
            "object_fit": null,
            "object_position": null,
            "order": null,
            "overflow": null,
            "overflow_x": null,
            "overflow_y": null,
            "padding": null,
            "right": null,
            "top": null,
            "visibility": null,
            "width": null
          }
        },
        "10267a982d914a9b8942e93d2792c6ba": {
          "model_module": "@jupyter-widgets/controls",
          "model_name": "DescriptionStyleModel",
          "model_module_version": "1.5.0",
          "state": {
            "_model_module": "@jupyter-widgets/controls",
            "_model_module_version": "1.5.0",
            "_model_name": "DescriptionStyleModel",
            "_view_count": null,
            "_view_module": "@jupyter-widgets/base",
            "_view_module_version": "1.2.0",
            "_view_name": "StyleView",
            "description_width": ""
          }
        },
        "3ad9c3eb3e2b4f4aa8e67f40a099433e": {
          "model_module": "@jupyter-widgets/base",
          "model_name": "LayoutModel",
          "model_module_version": "1.2.0",
          "state": {
            "_model_module": "@jupyter-widgets/base",
            "_model_module_version": "1.2.0",
            "_model_name": "LayoutModel",
            "_view_count": null,
            "_view_module": "@jupyter-widgets/base",
            "_view_module_version": "1.2.0",
            "_view_name": "LayoutView",
            "align_content": null,
            "align_items": null,
            "align_self": null,
            "border": null,
            "bottom": null,
            "display": null,
            "flex": null,
            "flex_flow": null,
            "grid_area": null,
            "grid_auto_columns": null,
            "grid_auto_flow": null,
            "grid_auto_rows": null,
            "grid_column": null,
            "grid_gap": null,
            "grid_row": null,
            "grid_template_areas": null,
            "grid_template_columns": null,
            "grid_template_rows": null,
            "height": null,
            "justify_content": null,
            "justify_items": null,
            "left": null,
            "margin": null,
            "max_height": null,
            "max_width": null,
            "min_height": null,
            "min_width": null,
            "object_fit": null,
            "object_position": null,
            "order": null,
            "overflow": null,
            "overflow_x": null,
            "overflow_y": null,
            "padding": null,
            "right": null,
            "top": null,
            "visibility": null,
            "width": null
          }
        },
        "d5e8c2c6ca8342bc86ab8bbc2a4697ac": {
          "model_module": "@jupyter-widgets/controls",
          "model_name": "ProgressStyleModel",
          "model_module_version": "1.5.0",
          "state": {
            "_model_module": "@jupyter-widgets/controls",
            "_model_module_version": "1.5.0",
            "_model_name": "ProgressStyleModel",
            "_view_count": null,
            "_view_module": "@jupyter-widgets/base",
            "_view_module_version": "1.2.0",
            "_view_name": "StyleView",
            "bar_color": null,
            "description_width": ""
          }
        },
        "2f77fdb104dc4d41b01b8a8deeaf421f": {
          "model_module": "@jupyter-widgets/base",
          "model_name": "LayoutModel",
          "model_module_version": "1.2.0",
          "state": {
            "_model_module": "@jupyter-widgets/base",
            "_model_module_version": "1.2.0",
            "_model_name": "LayoutModel",
            "_view_count": null,
            "_view_module": "@jupyter-widgets/base",
            "_view_module_version": "1.2.0",
            "_view_name": "LayoutView",
            "align_content": null,
            "align_items": null,
            "align_self": null,
            "border": null,
            "bottom": null,
            "display": null,
            "flex": null,
            "flex_flow": null,
            "grid_area": null,
            "grid_auto_columns": null,
            "grid_auto_flow": null,
            "grid_auto_rows": null,
            "grid_column": null,
            "grid_gap": null,
            "grid_row": null,
            "grid_template_areas": null,
            "grid_template_columns": null,
            "grid_template_rows": null,
            "height": null,
            "justify_content": null,
            "justify_items": null,
            "left": null,
            "margin": null,
            "max_height": null,
            "max_width": null,
            "min_height": null,
            "min_width": null,
            "object_fit": null,
            "object_position": null,
            "order": null,
            "overflow": null,
            "overflow_x": null,
            "overflow_y": null,
            "padding": null,
            "right": null,
            "top": null,
            "visibility": null,
            "width": null
          }
        },
        "1a1fd7a25af341a080b57bce1540f505": {
          "model_module": "@jupyter-widgets/controls",
          "model_name": "DescriptionStyleModel",
          "model_module_version": "1.5.0",
          "state": {
            "_model_module": "@jupyter-widgets/controls",
            "_model_module_version": "1.5.0",
            "_model_name": "DescriptionStyleModel",
            "_view_count": null,
            "_view_module": "@jupyter-widgets/base",
            "_view_module_version": "1.2.0",
            "_view_name": "StyleView",
            "description_width": ""
          }
        },
        "7934703711fd4e46ab58b8fb7e583a8b": {
          "model_module": "@jupyter-widgets/controls",
          "model_name": "HBoxModel",
          "model_module_version": "1.5.0",
          "state": {
            "_dom_classes": [],
            "_model_module": "@jupyter-widgets/controls",
            "_model_module_version": "1.5.0",
            "_model_name": "HBoxModel",
            "_view_count": null,
            "_view_module": "@jupyter-widgets/controls",
            "_view_module_version": "1.5.0",
            "_view_name": "HBoxView",
            "box_style": "",
            "children": [
              "IPY_MODEL_de9b3a2677834d5a9c92d9b980dce3b1",
              "IPY_MODEL_bc7948ede1d34d508543257fda79608c",
              "IPY_MODEL_59b47517dd4c4f9bb5c20f41d61d1d0e"
            ],
            "layout": "IPY_MODEL_dd0c541fb21f434cbbba7183ad14beff"
          }
        },
        "de9b3a2677834d5a9c92d9b980dce3b1": {
          "model_module": "@jupyter-widgets/controls",
          "model_name": "HTMLModel",
          "model_module_version": "1.5.0",
          "state": {
            "_dom_classes": [],
            "_model_module": "@jupyter-widgets/controls",
            "_model_module_version": "1.5.0",
            "_model_name": "HTMLModel",
            "_view_count": null,
            "_view_module": "@jupyter-widgets/controls",
            "_view_module_version": "1.5.0",
            "_view_name": "HTMLView",
            "description": "",
            "description_tooltip": null,
            "layout": "IPY_MODEL_168d7bb8635b4ad6984de904dd1857d1",
            "placeholder": "​",
            "style": "IPY_MODEL_cad64144382a45d3ac15cdbb7723650f",
            "value": "100%"
          }
        },
        "bc7948ede1d34d508543257fda79608c": {
          "model_module": "@jupyter-widgets/controls",
          "model_name": "FloatProgressModel",
          "model_module_version": "1.5.0",
          "state": {
            "_dom_classes": [],
            "_model_module": "@jupyter-widgets/controls",
            "_model_module_version": "1.5.0",
            "_model_name": "FloatProgressModel",
            "_view_count": null,
            "_view_module": "@jupyter-widgets/controls",
            "_view_module_version": "1.5.0",
            "_view_name": "ProgressView",
            "bar_style": "success",
            "description": "",
            "description_tooltip": null,
            "layout": "IPY_MODEL_77ad20a7cddc441a99314877c925f675",
            "max": 11000,
            "min": 0,
            "orientation": "horizontal",
            "style": "IPY_MODEL_d8be76e4dbc24892830691aecea5806e",
            "value": 11000
          }
        },
        "59b47517dd4c4f9bb5c20f41d61d1d0e": {
          "model_module": "@jupyter-widgets/controls",
          "model_name": "HTMLModel",
          "model_module_version": "1.5.0",
          "state": {
            "_dom_classes": [],
            "_model_module": "@jupyter-widgets/controls",
            "_model_module_version": "1.5.0",
            "_model_name": "HTMLModel",
            "_view_count": null,
            "_view_module": "@jupyter-widgets/controls",
            "_view_module_version": "1.5.0",
            "_view_name": "HTMLView",
            "description": "",
            "description_tooltip": null,
            "layout": "IPY_MODEL_ce7b91111837466485436c5650b99ee2",
            "placeholder": "​",
            "style": "IPY_MODEL_2a0900762a434d429aeea8a5a12f5a12",
            "value": " 11000/11000 [00:00&lt;00:00, 11626.04it/s]"
          }
        },
        "dd0c541fb21f434cbbba7183ad14beff": {
          "model_module": "@jupyter-widgets/base",
          "model_name": "LayoutModel",
          "model_module_version": "1.2.0",
          "state": {
            "_model_module": "@jupyter-widgets/base",
            "_model_module_version": "1.2.0",
            "_model_name": "LayoutModel",
            "_view_count": null,
            "_view_module": "@jupyter-widgets/base",
            "_view_module_version": "1.2.0",
            "_view_name": "LayoutView",
            "align_content": null,
            "align_items": null,
            "align_self": null,
            "border": null,
            "bottom": null,
            "display": null,
            "flex": null,
            "flex_flow": null,
            "grid_area": null,
            "grid_auto_columns": null,
            "grid_auto_flow": null,
            "grid_auto_rows": null,
            "grid_column": null,
            "grid_gap": null,
            "grid_row": null,
            "grid_template_areas": null,
            "grid_template_columns": null,
            "grid_template_rows": null,
            "height": null,
            "justify_content": null,
            "justify_items": null,
            "left": null,
            "margin": null,
            "max_height": null,
            "max_width": null,
            "min_height": null,
            "min_width": null,
            "object_fit": null,
            "object_position": null,
            "order": null,
            "overflow": null,
            "overflow_x": null,
            "overflow_y": null,
            "padding": null,
            "right": null,
            "top": null,
            "visibility": null,
            "width": null
          }
        },
        "168d7bb8635b4ad6984de904dd1857d1": {
          "model_module": "@jupyter-widgets/base",
          "model_name": "LayoutModel",
          "model_module_version": "1.2.0",
          "state": {
            "_model_module": "@jupyter-widgets/base",
            "_model_module_version": "1.2.0",
            "_model_name": "LayoutModel",
            "_view_count": null,
            "_view_module": "@jupyter-widgets/base",
            "_view_module_version": "1.2.0",
            "_view_name": "LayoutView",
            "align_content": null,
            "align_items": null,
            "align_self": null,
            "border": null,
            "bottom": null,
            "display": null,
            "flex": null,
            "flex_flow": null,
            "grid_area": null,
            "grid_auto_columns": null,
            "grid_auto_flow": null,
            "grid_auto_rows": null,
            "grid_column": null,
            "grid_gap": null,
            "grid_row": null,
            "grid_template_areas": null,
            "grid_template_columns": null,
            "grid_template_rows": null,
            "height": null,
            "justify_content": null,
            "justify_items": null,
            "left": null,
            "margin": null,
            "max_height": null,
            "max_width": null,
            "min_height": null,
            "min_width": null,
            "object_fit": null,
            "object_position": null,
            "order": null,
            "overflow": null,
            "overflow_x": null,
            "overflow_y": null,
            "padding": null,
            "right": null,
            "top": null,
            "visibility": null,
            "width": null
          }
        },
        "cad64144382a45d3ac15cdbb7723650f": {
          "model_module": "@jupyter-widgets/controls",
          "model_name": "DescriptionStyleModel",
          "model_module_version": "1.5.0",
          "state": {
            "_model_module": "@jupyter-widgets/controls",
            "_model_module_version": "1.5.0",
            "_model_name": "DescriptionStyleModel",
            "_view_count": null,
            "_view_module": "@jupyter-widgets/base",
            "_view_module_version": "1.2.0",
            "_view_name": "StyleView",
            "description_width": ""
          }
        },
        "77ad20a7cddc441a99314877c925f675": {
          "model_module": "@jupyter-widgets/base",
          "model_name": "LayoutModel",
          "model_module_version": "1.2.0",
          "state": {
            "_model_module": "@jupyter-widgets/base",
            "_model_module_version": "1.2.0",
            "_model_name": "LayoutModel",
            "_view_count": null,
            "_view_module": "@jupyter-widgets/base",
            "_view_module_version": "1.2.0",
            "_view_name": "LayoutView",
            "align_content": null,
            "align_items": null,
            "align_self": null,
            "border": null,
            "bottom": null,
            "display": null,
            "flex": null,
            "flex_flow": null,
            "grid_area": null,
            "grid_auto_columns": null,
            "grid_auto_flow": null,
            "grid_auto_rows": null,
            "grid_column": null,
            "grid_gap": null,
            "grid_row": null,
            "grid_template_areas": null,
            "grid_template_columns": null,
            "grid_template_rows": null,
            "height": null,
            "justify_content": null,
            "justify_items": null,
            "left": null,
            "margin": null,
            "max_height": null,
            "max_width": null,
            "min_height": null,
            "min_width": null,
            "object_fit": null,
            "object_position": null,
            "order": null,
            "overflow": null,
            "overflow_x": null,
            "overflow_y": null,
            "padding": null,
            "right": null,
            "top": null,
            "visibility": null,
            "width": null
          }
        },
        "d8be76e4dbc24892830691aecea5806e": {
          "model_module": "@jupyter-widgets/controls",
          "model_name": "ProgressStyleModel",
          "model_module_version": "1.5.0",
          "state": {
            "_model_module": "@jupyter-widgets/controls",
            "_model_module_version": "1.5.0",
            "_model_name": "ProgressStyleModel",
            "_view_count": null,
            "_view_module": "@jupyter-widgets/base",
            "_view_module_version": "1.2.0",
            "_view_name": "StyleView",
            "bar_color": null,
            "description_width": ""
          }
        },
        "ce7b91111837466485436c5650b99ee2": {
          "model_module": "@jupyter-widgets/base",
          "model_name": "LayoutModel",
          "model_module_version": "1.2.0",
          "state": {
            "_model_module": "@jupyter-widgets/base",
            "_model_module_version": "1.2.0",
            "_model_name": "LayoutModel",
            "_view_count": null,
            "_view_module": "@jupyter-widgets/base",
            "_view_module_version": "1.2.0",
            "_view_name": "LayoutView",
            "align_content": null,
            "align_items": null,
            "align_self": null,
            "border": null,
            "bottom": null,
            "display": null,
            "flex": null,
            "flex_flow": null,
            "grid_area": null,
            "grid_auto_columns": null,
            "grid_auto_flow": null,
            "grid_auto_rows": null,
            "grid_column": null,
            "grid_gap": null,
            "grid_row": null,
            "grid_template_areas": null,
            "grid_template_columns": null,
            "grid_template_rows": null,
            "height": null,
            "justify_content": null,
            "justify_items": null,
            "left": null,
            "margin": null,
            "max_height": null,
            "max_width": null,
            "min_height": null,
            "min_width": null,
            "object_fit": null,
            "object_position": null,
            "order": null,
            "overflow": null,
            "overflow_x": null,
            "overflow_y": null,
            "padding": null,
            "right": null,
            "top": null,
            "visibility": null,
            "width": null
          }
        },
        "2a0900762a434d429aeea8a5a12f5a12": {
          "model_module": "@jupyter-widgets/controls",
          "model_name": "DescriptionStyleModel",
          "model_module_version": "1.5.0",
          "state": {
            "_model_module": "@jupyter-widgets/controls",
            "_model_module_version": "1.5.0",
            "_model_name": "DescriptionStyleModel",
            "_view_count": null,
            "_view_module": "@jupyter-widgets/base",
            "_view_module_version": "1.2.0",
            "_view_name": "StyleView",
            "description_width": ""
          }
        },
        "e1d90acde7674da69891289c6573d716": {
          "model_module": "@jupyter-widgets/controls",
          "model_name": "HBoxModel",
          "model_module_version": "1.5.0",
          "state": {
            "_dom_classes": [],
            "_model_module": "@jupyter-widgets/controls",
            "_model_module_version": "1.5.0",
            "_model_name": "HBoxModel",
            "_view_count": null,
            "_view_module": "@jupyter-widgets/controls",
            "_view_module_version": "1.5.0",
            "_view_name": "HBoxView",
            "box_style": "",
            "children": [
              "IPY_MODEL_44a79f01fb3a48358f8de6edfdd60c63",
              "IPY_MODEL_52be590abbf04fe8bc25c5bc14c774b1",
              "IPY_MODEL_38c35f71cf8c4dcda6bb584c2f93bcaa"
            ],
            "layout": "IPY_MODEL_c52ff04cd2924d578ac6eb2f773b72c8"
          }
        },
        "44a79f01fb3a48358f8de6edfdd60c63": {
          "model_module": "@jupyter-widgets/controls",
          "model_name": "HTMLModel",
          "model_module_version": "1.5.0",
          "state": {
            "_dom_classes": [],
            "_model_module": "@jupyter-widgets/controls",
            "_model_module_version": "1.5.0",
            "_model_name": "HTMLModel",
            "_view_count": null,
            "_view_module": "@jupyter-widgets/controls",
            "_view_module_version": "1.5.0",
            "_view_name": "HTMLView",
            "description": "",
            "description_tooltip": null,
            "layout": "IPY_MODEL_12a59e96b1db4d788ca48d1b8b41b814",
            "placeholder": "​",
            "style": "IPY_MODEL_8a5d1b44a3d9490c9e9cb961e005543c",
            "value": "100%"
          }
        },
        "52be590abbf04fe8bc25c5bc14c774b1": {
          "model_module": "@jupyter-widgets/controls",
          "model_name": "FloatProgressModel",
          "model_module_version": "1.5.0",
          "state": {
            "_dom_classes": [],
            "_model_module": "@jupyter-widgets/controls",
            "_model_module_version": "1.5.0",
            "_model_name": "FloatProgressModel",
            "_view_count": null,
            "_view_module": "@jupyter-widgets/controls",
            "_view_module_version": "1.5.0",
            "_view_name": "ProgressView",
            "bar_style": "success",
            "description": "",
            "description_tooltip": null,
            "layout": "IPY_MODEL_e2daa13e35d446c5869a1c4ca68925be",
            "max": 11000,
            "min": 0,
            "orientation": "horizontal",
            "style": "IPY_MODEL_92f6832350b04ab49a22a9f5efa8ec41",
            "value": 11000
          }
        },
        "38c35f71cf8c4dcda6bb584c2f93bcaa": {
          "model_module": "@jupyter-widgets/controls",
          "model_name": "HTMLModel",
          "model_module_version": "1.5.0",
          "state": {
            "_dom_classes": [],
            "_model_module": "@jupyter-widgets/controls",
            "_model_module_version": "1.5.0",
            "_model_name": "HTMLModel",
            "_view_count": null,
            "_view_module": "@jupyter-widgets/controls",
            "_view_module_version": "1.5.0",
            "_view_name": "HTMLView",
            "description": "",
            "description_tooltip": null,
            "layout": "IPY_MODEL_bf46a53d750b4f889332083a42486b33",
            "placeholder": "​",
            "style": "IPY_MODEL_5d48182413e74aed94bc032f4222c64d",
            "value": " 11000/11000 [00:00&lt;00:00, 35425.33it/s]"
          }
        },
        "c52ff04cd2924d578ac6eb2f773b72c8": {
          "model_module": "@jupyter-widgets/base",
          "model_name": "LayoutModel",
          "model_module_version": "1.2.0",
          "state": {
            "_model_module": "@jupyter-widgets/base",
            "_model_module_version": "1.2.0",
            "_model_name": "LayoutModel",
            "_view_count": null,
            "_view_module": "@jupyter-widgets/base",
            "_view_module_version": "1.2.0",
            "_view_name": "LayoutView",
            "align_content": null,
            "align_items": null,
            "align_self": null,
            "border": null,
            "bottom": null,
            "display": null,
            "flex": null,
            "flex_flow": null,
            "grid_area": null,
            "grid_auto_columns": null,
            "grid_auto_flow": null,
            "grid_auto_rows": null,
            "grid_column": null,
            "grid_gap": null,
            "grid_row": null,
            "grid_template_areas": null,
            "grid_template_columns": null,
            "grid_template_rows": null,
            "height": null,
            "justify_content": null,
            "justify_items": null,
            "left": null,
            "margin": null,
            "max_height": null,
            "max_width": null,
            "min_height": null,
            "min_width": null,
            "object_fit": null,
            "object_position": null,
            "order": null,
            "overflow": null,
            "overflow_x": null,
            "overflow_y": null,
            "padding": null,
            "right": null,
            "top": null,
            "visibility": null,
            "width": null
          }
        },
        "12a59e96b1db4d788ca48d1b8b41b814": {
          "model_module": "@jupyter-widgets/base",
          "model_name": "LayoutModel",
          "model_module_version": "1.2.0",
          "state": {
            "_model_module": "@jupyter-widgets/base",
            "_model_module_version": "1.2.0",
            "_model_name": "LayoutModel",
            "_view_count": null,
            "_view_module": "@jupyter-widgets/base",
            "_view_module_version": "1.2.0",
            "_view_name": "LayoutView",
            "align_content": null,
            "align_items": null,
            "align_self": null,
            "border": null,
            "bottom": null,
            "display": null,
            "flex": null,
            "flex_flow": null,
            "grid_area": null,
            "grid_auto_columns": null,
            "grid_auto_flow": null,
            "grid_auto_rows": null,
            "grid_column": null,
            "grid_gap": null,
            "grid_row": null,
            "grid_template_areas": null,
            "grid_template_columns": null,
            "grid_template_rows": null,
            "height": null,
            "justify_content": null,
            "justify_items": null,
            "left": null,
            "margin": null,
            "max_height": null,
            "max_width": null,
            "min_height": null,
            "min_width": null,
            "object_fit": null,
            "object_position": null,
            "order": null,
            "overflow": null,
            "overflow_x": null,
            "overflow_y": null,
            "padding": null,
            "right": null,
            "top": null,
            "visibility": null,
            "width": null
          }
        },
        "8a5d1b44a3d9490c9e9cb961e005543c": {
          "model_module": "@jupyter-widgets/controls",
          "model_name": "DescriptionStyleModel",
          "model_module_version": "1.5.0",
          "state": {
            "_model_module": "@jupyter-widgets/controls",
            "_model_module_version": "1.5.0",
            "_model_name": "DescriptionStyleModel",
            "_view_count": null,
            "_view_module": "@jupyter-widgets/base",
            "_view_module_version": "1.2.0",
            "_view_name": "StyleView",
            "description_width": ""
          }
        },
        "e2daa13e35d446c5869a1c4ca68925be": {
          "model_module": "@jupyter-widgets/base",
          "model_name": "LayoutModel",
          "model_module_version": "1.2.0",
          "state": {
            "_model_module": "@jupyter-widgets/base",
            "_model_module_version": "1.2.0",
            "_model_name": "LayoutModel",
            "_view_count": null,
            "_view_module": "@jupyter-widgets/base",
            "_view_module_version": "1.2.0",
            "_view_name": "LayoutView",
            "align_content": null,
            "align_items": null,
            "align_self": null,
            "border": null,
            "bottom": null,
            "display": null,
            "flex": null,
            "flex_flow": null,
            "grid_area": null,
            "grid_auto_columns": null,
            "grid_auto_flow": null,
            "grid_auto_rows": null,
            "grid_column": null,
            "grid_gap": null,
            "grid_row": null,
            "grid_template_areas": null,
            "grid_template_columns": null,
            "grid_template_rows": null,
            "height": null,
            "justify_content": null,
            "justify_items": null,
            "left": null,
            "margin": null,
            "max_height": null,
            "max_width": null,
            "min_height": null,
            "min_width": null,
            "object_fit": null,
            "object_position": null,
            "order": null,
            "overflow": null,
            "overflow_x": null,
            "overflow_y": null,
            "padding": null,
            "right": null,
            "top": null,
            "visibility": null,
            "width": null
          }
        },
        "92f6832350b04ab49a22a9f5efa8ec41": {
          "model_module": "@jupyter-widgets/controls",
          "model_name": "ProgressStyleModel",
          "model_module_version": "1.5.0",
          "state": {
            "_model_module": "@jupyter-widgets/controls",
            "_model_module_version": "1.5.0",
            "_model_name": "ProgressStyleModel",
            "_view_count": null,
            "_view_module": "@jupyter-widgets/base",
            "_view_module_version": "1.2.0",
            "_view_name": "StyleView",
            "bar_color": null,
            "description_width": ""
          }
        },
        "bf46a53d750b4f889332083a42486b33": {
          "model_module": "@jupyter-widgets/base",
          "model_name": "LayoutModel",
          "model_module_version": "1.2.0",
          "state": {
            "_model_module": "@jupyter-widgets/base",
            "_model_module_version": "1.2.0",
            "_model_name": "LayoutModel",
            "_view_count": null,
            "_view_module": "@jupyter-widgets/base",
            "_view_module_version": "1.2.0",
            "_view_name": "LayoutView",
            "align_content": null,
            "align_items": null,
            "align_self": null,
            "border": null,
            "bottom": null,
            "display": null,
            "flex": null,
            "flex_flow": null,
            "grid_area": null,
            "grid_auto_columns": null,
            "grid_auto_flow": null,
            "grid_auto_rows": null,
            "grid_column": null,
            "grid_gap": null,
            "grid_row": null,
            "grid_template_areas": null,
            "grid_template_columns": null,
            "grid_template_rows": null,
            "height": null,
            "justify_content": null,
            "justify_items": null,
            "left": null,
            "margin": null,
            "max_height": null,
            "max_width": null,
            "min_height": null,
            "min_width": null,
            "object_fit": null,
            "object_position": null,
            "order": null,
            "overflow": null,
            "overflow_x": null,
            "overflow_y": null,
            "padding": null,
            "right": null,
            "top": null,
            "visibility": null,
            "width": null
          }
        },
        "5d48182413e74aed94bc032f4222c64d": {
          "model_module": "@jupyter-widgets/controls",
          "model_name": "DescriptionStyleModel",
          "model_module_version": "1.5.0",
          "state": {
            "_model_module": "@jupyter-widgets/controls",
            "_model_module_version": "1.5.0",
            "_model_name": "DescriptionStyleModel",
            "_view_count": null,
            "_view_module": "@jupyter-widgets/base",
            "_view_module_version": "1.2.0",
            "_view_name": "StyleView",
            "description_width": ""
          }
        },
        "f3851ac5b53e4412b9a8428d9c4cbc67": {
          "model_module": "@jupyter-widgets/controls",
          "model_name": "HBoxModel",
          "model_module_version": "1.5.0",
          "state": {
            "_dom_classes": [],
            "_model_module": "@jupyter-widgets/controls",
            "_model_module_version": "1.5.0",
            "_model_name": "HBoxModel",
            "_view_count": null,
            "_view_module": "@jupyter-widgets/controls",
            "_view_module_version": "1.5.0",
            "_view_name": "HBoxView",
            "box_style": "",
            "children": [
              "IPY_MODEL_56739c6bdcf84de990e08572caf23b3d",
              "IPY_MODEL_94fe94babd8243eb97834d65710e7bf1",
              "IPY_MODEL_51a9eeba33834c948d318ce267a2764c"
            ],
            "layout": "IPY_MODEL_1fd4099d9c5243cc95ba67338a2c8321"
          }
        },
        "56739c6bdcf84de990e08572caf23b3d": {
          "model_module": "@jupyter-widgets/controls",
          "model_name": "HTMLModel",
          "model_module_version": "1.5.0",
          "state": {
            "_dom_classes": [],
            "_model_module": "@jupyter-widgets/controls",
            "_model_module_version": "1.5.0",
            "_model_name": "HTMLModel",
            "_view_count": null,
            "_view_module": "@jupyter-widgets/controls",
            "_view_module_version": "1.5.0",
            "_view_name": "HTMLView",
            "description": "",
            "description_tooltip": null,
            "layout": "IPY_MODEL_18309378c83f47a0bf66b9d03113f6d2",
            "placeholder": "​",
            "style": "IPY_MODEL_acbfa31c547c483886237a56c4b9f7bc",
            "value": "100%"
          }
        },
        "94fe94babd8243eb97834d65710e7bf1": {
          "model_module": "@jupyter-widgets/controls",
          "model_name": "FloatProgressModel",
          "model_module_version": "1.5.0",
          "state": {
            "_dom_classes": [],
            "_model_module": "@jupyter-widgets/controls",
            "_model_module_version": "1.5.0",
            "_model_name": "FloatProgressModel",
            "_view_count": null,
            "_view_module": "@jupyter-widgets/controls",
            "_view_module_version": "1.5.0",
            "_view_name": "ProgressView",
            "bar_style": "success",
            "description": "",
            "description_tooltip": null,
            "layout": "IPY_MODEL_84b1a5c30bbb44a6b2476b0e79e9ec13",
            "max": 11000,
            "min": 0,
            "orientation": "horizontal",
            "style": "IPY_MODEL_0e9b648a2dbe4e1fb5cd98a9d0d6869b",
            "value": 11000
          }
        },
        "51a9eeba33834c948d318ce267a2764c": {
          "model_module": "@jupyter-widgets/controls",
          "model_name": "HTMLModel",
          "model_module_version": "1.5.0",
          "state": {
            "_dom_classes": [],
            "_model_module": "@jupyter-widgets/controls",
            "_model_module_version": "1.5.0",
            "_model_name": "HTMLModel",
            "_view_count": null,
            "_view_module": "@jupyter-widgets/controls",
            "_view_module_version": "1.5.0",
            "_view_name": "HTMLView",
            "description": "",
            "description_tooltip": null,
            "layout": "IPY_MODEL_042b338da9e044178c3194c8ca994545",
            "placeholder": "​",
            "style": "IPY_MODEL_c1e79a74c75a40448b304695ea3e6926",
            "value": " 11000/11000 [00:06&lt;00:00, 1879.22it/s]"
          }
        },
        "1fd4099d9c5243cc95ba67338a2c8321": {
          "model_module": "@jupyter-widgets/base",
          "model_name": "LayoutModel",
          "model_module_version": "1.2.0",
          "state": {
            "_model_module": "@jupyter-widgets/base",
            "_model_module_version": "1.2.0",
            "_model_name": "LayoutModel",
            "_view_count": null,
            "_view_module": "@jupyter-widgets/base",
            "_view_module_version": "1.2.0",
            "_view_name": "LayoutView",
            "align_content": null,
            "align_items": null,
            "align_self": null,
            "border": null,
            "bottom": null,
            "display": null,
            "flex": null,
            "flex_flow": null,
            "grid_area": null,
            "grid_auto_columns": null,
            "grid_auto_flow": null,
            "grid_auto_rows": null,
            "grid_column": null,
            "grid_gap": null,
            "grid_row": null,
            "grid_template_areas": null,
            "grid_template_columns": null,
            "grid_template_rows": null,
            "height": null,
            "justify_content": null,
            "justify_items": null,
            "left": null,
            "margin": null,
            "max_height": null,
            "max_width": null,
            "min_height": null,
            "min_width": null,
            "object_fit": null,
            "object_position": null,
            "order": null,
            "overflow": null,
            "overflow_x": null,
            "overflow_y": null,
            "padding": null,
            "right": null,
            "top": null,
            "visibility": null,
            "width": null
          }
        },
        "18309378c83f47a0bf66b9d03113f6d2": {
          "model_module": "@jupyter-widgets/base",
          "model_name": "LayoutModel",
          "model_module_version": "1.2.0",
          "state": {
            "_model_module": "@jupyter-widgets/base",
            "_model_module_version": "1.2.0",
            "_model_name": "LayoutModel",
            "_view_count": null,
            "_view_module": "@jupyter-widgets/base",
            "_view_module_version": "1.2.0",
            "_view_name": "LayoutView",
            "align_content": null,
            "align_items": null,
            "align_self": null,
            "border": null,
            "bottom": null,
            "display": null,
            "flex": null,
            "flex_flow": null,
            "grid_area": null,
            "grid_auto_columns": null,
            "grid_auto_flow": null,
            "grid_auto_rows": null,
            "grid_column": null,
            "grid_gap": null,
            "grid_row": null,
            "grid_template_areas": null,
            "grid_template_columns": null,
            "grid_template_rows": null,
            "height": null,
            "justify_content": null,
            "justify_items": null,
            "left": null,
            "margin": null,
            "max_height": null,
            "max_width": null,
            "min_height": null,
            "min_width": null,
            "object_fit": null,
            "object_position": null,
            "order": null,
            "overflow": null,
            "overflow_x": null,
            "overflow_y": null,
            "padding": null,
            "right": null,
            "top": null,
            "visibility": null,
            "width": null
          }
        },
        "acbfa31c547c483886237a56c4b9f7bc": {
          "model_module": "@jupyter-widgets/controls",
          "model_name": "DescriptionStyleModel",
          "model_module_version": "1.5.0",
          "state": {
            "_model_module": "@jupyter-widgets/controls",
            "_model_module_version": "1.5.0",
            "_model_name": "DescriptionStyleModel",
            "_view_count": null,
            "_view_module": "@jupyter-widgets/base",
            "_view_module_version": "1.2.0",
            "_view_name": "StyleView",
            "description_width": ""
          }
        },
        "84b1a5c30bbb44a6b2476b0e79e9ec13": {
          "model_module": "@jupyter-widgets/base",
          "model_name": "LayoutModel",
          "model_module_version": "1.2.0",
          "state": {
            "_model_module": "@jupyter-widgets/base",
            "_model_module_version": "1.2.0",
            "_model_name": "LayoutModel",
            "_view_count": null,
            "_view_module": "@jupyter-widgets/base",
            "_view_module_version": "1.2.0",
            "_view_name": "LayoutView",
            "align_content": null,
            "align_items": null,
            "align_self": null,
            "border": null,
            "bottom": null,
            "display": null,
            "flex": null,
            "flex_flow": null,
            "grid_area": null,
            "grid_auto_columns": null,
            "grid_auto_flow": null,
            "grid_auto_rows": null,
            "grid_column": null,
            "grid_gap": null,
            "grid_row": null,
            "grid_template_areas": null,
            "grid_template_columns": null,
            "grid_template_rows": null,
            "height": null,
            "justify_content": null,
            "justify_items": null,
            "left": null,
            "margin": null,
            "max_height": null,
            "max_width": null,
            "min_height": null,
            "min_width": null,
            "object_fit": null,
            "object_position": null,
            "order": null,
            "overflow": null,
            "overflow_x": null,
            "overflow_y": null,
            "padding": null,
            "right": null,
            "top": null,
            "visibility": null,
            "width": null
          }
        },
        "0e9b648a2dbe4e1fb5cd98a9d0d6869b": {
          "model_module": "@jupyter-widgets/controls",
          "model_name": "ProgressStyleModel",
          "model_module_version": "1.5.0",
          "state": {
            "_model_module": "@jupyter-widgets/controls",
            "_model_module_version": "1.5.0",
            "_model_name": "ProgressStyleModel",
            "_view_count": null,
            "_view_module": "@jupyter-widgets/base",
            "_view_module_version": "1.2.0",
            "_view_name": "StyleView",
            "bar_color": null,
            "description_width": ""
          }
        },
        "042b338da9e044178c3194c8ca994545": {
          "model_module": "@jupyter-widgets/base",
          "model_name": "LayoutModel",
          "model_module_version": "1.2.0",
          "state": {
            "_model_module": "@jupyter-widgets/base",
            "_model_module_version": "1.2.0",
            "_model_name": "LayoutModel",
            "_view_count": null,
            "_view_module": "@jupyter-widgets/base",
            "_view_module_version": "1.2.0",
            "_view_name": "LayoutView",
            "align_content": null,
            "align_items": null,
            "align_self": null,
            "border": null,
            "bottom": null,
            "display": null,
            "flex": null,
            "flex_flow": null,
            "grid_area": null,
            "grid_auto_columns": null,
            "grid_auto_flow": null,
            "grid_auto_rows": null,
            "grid_column": null,
            "grid_gap": null,
            "grid_row": null,
            "grid_template_areas": null,
            "grid_template_columns": null,
            "grid_template_rows": null,
            "height": null,
            "justify_content": null,
            "justify_items": null,
            "left": null,
            "margin": null,
            "max_height": null,
            "max_width": null,
            "min_height": null,
            "min_width": null,
            "object_fit": null,
            "object_position": null,
            "order": null,
            "overflow": null,
            "overflow_x": null,
            "overflow_y": null,
            "padding": null,
            "right": null,
            "top": null,
            "visibility": null,
            "width": null
          }
        },
        "c1e79a74c75a40448b304695ea3e6926": {
          "model_module": "@jupyter-widgets/controls",
          "model_name": "DescriptionStyleModel",
          "model_module_version": "1.5.0",
          "state": {
            "_model_module": "@jupyter-widgets/controls",
            "_model_module_version": "1.5.0",
            "_model_name": "DescriptionStyleModel",
            "_view_count": null,
            "_view_module": "@jupyter-widgets/base",
            "_view_module_version": "1.2.0",
            "_view_name": "StyleView",
            "description_width": ""
          }
        },
        "3caad2feb2fd4da3937068bce7c294d4": {
          "model_module": "@jupyter-widgets/controls",
          "model_name": "HBoxModel",
          "model_module_version": "1.5.0",
          "state": {
            "_dom_classes": [],
            "_model_module": "@jupyter-widgets/controls",
            "_model_module_version": "1.5.0",
            "_model_name": "HBoxModel",
            "_view_count": null,
            "_view_module": "@jupyter-widgets/controls",
            "_view_module_version": "1.5.0",
            "_view_name": "HBoxView",
            "box_style": "",
            "children": [
              "IPY_MODEL_4e6d135db2f742318e06ddc67f03bf67",
              "IPY_MODEL_9bf8b9cedb4c4f4bbcd46c113a80d3ce",
              "IPY_MODEL_224f81f339ee42349985e1133be124be"
            ],
            "layout": "IPY_MODEL_fe0785bef1a74ba58518018093c34865"
          }
        },
        "4e6d135db2f742318e06ddc67f03bf67": {
          "model_module": "@jupyter-widgets/controls",
          "model_name": "HTMLModel",
          "model_module_version": "1.5.0",
          "state": {
            "_dom_classes": [],
            "_model_module": "@jupyter-widgets/controls",
            "_model_module_version": "1.5.0",
            "_model_name": "HTMLModel",
            "_view_count": null,
            "_view_module": "@jupyter-widgets/controls",
            "_view_module_version": "1.5.0",
            "_view_name": "HTMLView",
            "description": "",
            "description_tooltip": null,
            "layout": "IPY_MODEL_54050cf982ac4c90b45e14f07a90d8ad",
            "placeholder": "​",
            "style": "IPY_MODEL_8a5825079cb840b99a4544a9c013606e",
            "value": "100%"
          }
        },
        "9bf8b9cedb4c4f4bbcd46c113a80d3ce": {
          "model_module": "@jupyter-widgets/controls",
          "model_name": "FloatProgressModel",
          "model_module_version": "1.5.0",
          "state": {
            "_dom_classes": [],
            "_model_module": "@jupyter-widgets/controls",
            "_model_module_version": "1.5.0",
            "_model_name": "FloatProgressModel",
            "_view_count": null,
            "_view_module": "@jupyter-widgets/controls",
            "_view_module_version": "1.5.0",
            "_view_name": "ProgressView",
            "bar_style": "success",
            "description": "",
            "description_tooltip": null,
            "layout": "IPY_MODEL_19c31432bb5343fd99501e7555cb416a",
            "max": 11000,
            "min": 0,
            "orientation": "horizontal",
            "style": "IPY_MODEL_1e0d386ce5ad4cc79383445f333d94ec",
            "value": 11000
          }
        },
        "224f81f339ee42349985e1133be124be": {
          "model_module": "@jupyter-widgets/controls",
          "model_name": "HTMLModel",
          "model_module_version": "1.5.0",
          "state": {
            "_dom_classes": [],
            "_model_module": "@jupyter-widgets/controls",
            "_model_module_version": "1.5.0",
            "_model_name": "HTMLModel",
            "_view_count": null,
            "_view_module": "@jupyter-widgets/controls",
            "_view_module_version": "1.5.0",
            "_view_name": "HTMLView",
            "description": "",
            "description_tooltip": null,
            "layout": "IPY_MODEL_b42d4eef83804a58accbb2098c538b8d",
            "placeholder": "​",
            "style": "IPY_MODEL_6998cf57fbbe46b18c34d7ecbd3f9041",
            "value": " 11000/11000 [00:06&lt;00:00, 2286.74it/s]"
          }
        },
        "fe0785bef1a74ba58518018093c34865": {
          "model_module": "@jupyter-widgets/base",
          "model_name": "LayoutModel",
          "model_module_version": "1.2.0",
          "state": {
            "_model_module": "@jupyter-widgets/base",
            "_model_module_version": "1.2.0",
            "_model_name": "LayoutModel",
            "_view_count": null,
            "_view_module": "@jupyter-widgets/base",
            "_view_module_version": "1.2.0",
            "_view_name": "LayoutView",
            "align_content": null,
            "align_items": null,
            "align_self": null,
            "border": null,
            "bottom": null,
            "display": null,
            "flex": null,
            "flex_flow": null,
            "grid_area": null,
            "grid_auto_columns": null,
            "grid_auto_flow": null,
            "grid_auto_rows": null,
            "grid_column": null,
            "grid_gap": null,
            "grid_row": null,
            "grid_template_areas": null,
            "grid_template_columns": null,
            "grid_template_rows": null,
            "height": null,
            "justify_content": null,
            "justify_items": null,
            "left": null,
            "margin": null,
            "max_height": null,
            "max_width": null,
            "min_height": null,
            "min_width": null,
            "object_fit": null,
            "object_position": null,
            "order": null,
            "overflow": null,
            "overflow_x": null,
            "overflow_y": null,
            "padding": null,
            "right": null,
            "top": null,
            "visibility": null,
            "width": null
          }
        },
        "54050cf982ac4c90b45e14f07a90d8ad": {
          "model_module": "@jupyter-widgets/base",
          "model_name": "LayoutModel",
          "model_module_version": "1.2.0",
          "state": {
            "_model_module": "@jupyter-widgets/base",
            "_model_module_version": "1.2.0",
            "_model_name": "LayoutModel",
            "_view_count": null,
            "_view_module": "@jupyter-widgets/base",
            "_view_module_version": "1.2.0",
            "_view_name": "LayoutView",
            "align_content": null,
            "align_items": null,
            "align_self": null,
            "border": null,
            "bottom": null,
            "display": null,
            "flex": null,
            "flex_flow": null,
            "grid_area": null,
            "grid_auto_columns": null,
            "grid_auto_flow": null,
            "grid_auto_rows": null,
            "grid_column": null,
            "grid_gap": null,
            "grid_row": null,
            "grid_template_areas": null,
            "grid_template_columns": null,
            "grid_template_rows": null,
            "height": null,
            "justify_content": null,
            "justify_items": null,
            "left": null,
            "margin": null,
            "max_height": null,
            "max_width": null,
            "min_height": null,
            "min_width": null,
            "object_fit": null,
            "object_position": null,
            "order": null,
            "overflow": null,
            "overflow_x": null,
            "overflow_y": null,
            "padding": null,
            "right": null,
            "top": null,
            "visibility": null,
            "width": null
          }
        },
        "8a5825079cb840b99a4544a9c013606e": {
          "model_module": "@jupyter-widgets/controls",
          "model_name": "DescriptionStyleModel",
          "model_module_version": "1.5.0",
          "state": {
            "_model_module": "@jupyter-widgets/controls",
            "_model_module_version": "1.5.0",
            "_model_name": "DescriptionStyleModel",
            "_view_count": null,
            "_view_module": "@jupyter-widgets/base",
            "_view_module_version": "1.2.0",
            "_view_name": "StyleView",
            "description_width": ""
          }
        },
        "19c31432bb5343fd99501e7555cb416a": {
          "model_module": "@jupyter-widgets/base",
          "model_name": "LayoutModel",
          "model_module_version": "1.2.0",
          "state": {
            "_model_module": "@jupyter-widgets/base",
            "_model_module_version": "1.2.0",
            "_model_name": "LayoutModel",
            "_view_count": null,
            "_view_module": "@jupyter-widgets/base",
            "_view_module_version": "1.2.0",
            "_view_name": "LayoutView",
            "align_content": null,
            "align_items": null,
            "align_self": null,
            "border": null,
            "bottom": null,
            "display": null,
            "flex": null,
            "flex_flow": null,
            "grid_area": null,
            "grid_auto_columns": null,
            "grid_auto_flow": null,
            "grid_auto_rows": null,
            "grid_column": null,
            "grid_gap": null,
            "grid_row": null,
            "grid_template_areas": null,
            "grid_template_columns": null,
            "grid_template_rows": null,
            "height": null,
            "justify_content": null,
            "justify_items": null,
            "left": null,
            "margin": null,
            "max_height": null,
            "max_width": null,
            "min_height": null,
            "min_width": null,
            "object_fit": null,
            "object_position": null,
            "order": null,
            "overflow": null,
            "overflow_x": null,
            "overflow_y": null,
            "padding": null,
            "right": null,
            "top": null,
            "visibility": null,
            "width": null
          }
        },
        "1e0d386ce5ad4cc79383445f333d94ec": {
          "model_module": "@jupyter-widgets/controls",
          "model_name": "ProgressStyleModel",
          "model_module_version": "1.5.0",
          "state": {
            "_model_module": "@jupyter-widgets/controls",
            "_model_module_version": "1.5.0",
            "_model_name": "ProgressStyleModel",
            "_view_count": null,
            "_view_module": "@jupyter-widgets/base",
            "_view_module_version": "1.2.0",
            "_view_name": "StyleView",
            "bar_color": null,
            "description_width": ""
          }
        },
        "b42d4eef83804a58accbb2098c538b8d": {
          "model_module": "@jupyter-widgets/base",
          "model_name": "LayoutModel",
          "model_module_version": "1.2.0",
          "state": {
            "_model_module": "@jupyter-widgets/base",
            "_model_module_version": "1.2.0",
            "_model_name": "LayoutModel",
            "_view_count": null,
            "_view_module": "@jupyter-widgets/base",
            "_view_module_version": "1.2.0",
            "_view_name": "LayoutView",
            "align_content": null,
            "align_items": null,
            "align_self": null,
            "border": null,
            "bottom": null,
            "display": null,
            "flex": null,
            "flex_flow": null,
            "grid_area": null,
            "grid_auto_columns": null,
            "grid_auto_flow": null,
            "grid_auto_rows": null,
            "grid_column": null,
            "grid_gap": null,
            "grid_row": null,
            "grid_template_areas": null,
            "grid_template_columns": null,
            "grid_template_rows": null,
            "height": null,
            "justify_content": null,
            "justify_items": null,
            "left": null,
            "margin": null,
            "max_height": null,
            "max_width": null,
            "min_height": null,
            "min_width": null,
            "object_fit": null,
            "object_position": null,
            "order": null,
            "overflow": null,
            "overflow_x": null,
            "overflow_y": null,
            "padding": null,
            "right": null,
            "top": null,
            "visibility": null,
            "width": null
          }
        },
        "6998cf57fbbe46b18c34d7ecbd3f9041": {
          "model_module": "@jupyter-widgets/controls",
          "model_name": "DescriptionStyleModel",
          "model_module_version": "1.5.0",
          "state": {
            "_model_module": "@jupyter-widgets/controls",
            "_model_module_version": "1.5.0",
            "_model_name": "DescriptionStyleModel",
            "_view_count": null,
            "_view_module": "@jupyter-widgets/base",
            "_view_module_version": "1.2.0",
            "_view_name": "StyleView",
            "description_width": ""
          }
        },
        "ee59292295e5412ab3dfe8b150438c7d": {
          "model_module": "@jupyter-widgets/controls",
          "model_name": "HBoxModel",
          "model_module_version": "1.5.0",
          "state": {
            "_dom_classes": [],
            "_model_module": "@jupyter-widgets/controls",
            "_model_module_version": "1.5.0",
            "_model_name": "HBoxModel",
            "_view_count": null,
            "_view_module": "@jupyter-widgets/controls",
            "_view_module_version": "1.5.0",
            "_view_name": "HBoxView",
            "box_style": "",
            "children": [
              "IPY_MODEL_d7ee2271254a414b87134613005e71b5",
              "IPY_MODEL_d2c49c5223dd419a9311e69b8ba1a70f",
              "IPY_MODEL_544bfb3fbd184e8abe75122bac3908dd"
            ],
            "layout": "IPY_MODEL_18d1490643154c9fa160e32e01bad2bd"
          }
        },
        "d7ee2271254a414b87134613005e71b5": {
          "model_module": "@jupyter-widgets/controls",
          "model_name": "HTMLModel",
          "model_module_version": "1.5.0",
          "state": {
            "_dom_classes": [],
            "_model_module": "@jupyter-widgets/controls",
            "_model_module_version": "1.5.0",
            "_model_name": "HTMLModel",
            "_view_count": null,
            "_view_module": "@jupyter-widgets/controls",
            "_view_module_version": "1.5.0",
            "_view_name": "HTMLView",
            "description": "",
            "description_tooltip": null,
            "layout": "IPY_MODEL_54c8c9616edf437fb87b0f78763c9caf",
            "placeholder": "​",
            "style": "IPY_MODEL_974df30173d3409090e64444097fcb4f",
            "value": "100%"
          }
        },
        "d2c49c5223dd419a9311e69b8ba1a70f": {
          "model_module": "@jupyter-widgets/controls",
          "model_name": "FloatProgressModel",
          "model_module_version": "1.5.0",
          "state": {
            "_dom_classes": [],
            "_model_module": "@jupyter-widgets/controls",
            "_model_module_version": "1.5.0",
            "_model_name": "FloatProgressModel",
            "_view_count": null,
            "_view_module": "@jupyter-widgets/controls",
            "_view_module_version": "1.5.0",
            "_view_name": "ProgressView",
            "bar_style": "success",
            "description": "",
            "description_tooltip": null,
            "layout": "IPY_MODEL_a3957591e8fd4c4286d51672b0401ba2",
            "max": 11000,
            "min": 0,
            "orientation": "horizontal",
            "style": "IPY_MODEL_30abd6d29eab47989cc86fd75133d1cf",
            "value": 11000
          }
        },
        "544bfb3fbd184e8abe75122bac3908dd": {
          "model_module": "@jupyter-widgets/controls",
          "model_name": "HTMLModel",
          "model_module_version": "1.5.0",
          "state": {
            "_dom_classes": [],
            "_model_module": "@jupyter-widgets/controls",
            "_model_module_version": "1.5.0",
            "_model_name": "HTMLModel",
            "_view_count": null,
            "_view_module": "@jupyter-widgets/controls",
            "_view_module_version": "1.5.0",
            "_view_name": "HTMLView",
            "description": "",
            "description_tooltip": null,
            "layout": "IPY_MODEL_b65de4cf27b04594afea1ed10fb6171d",
            "placeholder": "​",
            "style": "IPY_MODEL_52997739430c48479a824eab7b6674dc",
            "value": " 11000/11000 [04:17&lt;00:00, 71.15it/s]"
          }
        },
        "18d1490643154c9fa160e32e01bad2bd": {
          "model_module": "@jupyter-widgets/base",
          "model_name": "LayoutModel",
          "model_module_version": "1.2.0",
          "state": {
            "_model_module": "@jupyter-widgets/base",
            "_model_module_version": "1.2.0",
            "_model_name": "LayoutModel",
            "_view_count": null,
            "_view_module": "@jupyter-widgets/base",
            "_view_module_version": "1.2.0",
            "_view_name": "LayoutView",
            "align_content": null,
            "align_items": null,
            "align_self": null,
            "border": null,
            "bottom": null,
            "display": null,
            "flex": null,
            "flex_flow": null,
            "grid_area": null,
            "grid_auto_columns": null,
            "grid_auto_flow": null,
            "grid_auto_rows": null,
            "grid_column": null,
            "grid_gap": null,
            "grid_row": null,
            "grid_template_areas": null,
            "grid_template_columns": null,
            "grid_template_rows": null,
            "height": null,
            "justify_content": null,
            "justify_items": null,
            "left": null,
            "margin": null,
            "max_height": null,
            "max_width": null,
            "min_height": null,
            "min_width": null,
            "object_fit": null,
            "object_position": null,
            "order": null,
            "overflow": null,
            "overflow_x": null,
            "overflow_y": null,
            "padding": null,
            "right": null,
            "top": null,
            "visibility": null,
            "width": null
          }
        },
        "54c8c9616edf437fb87b0f78763c9caf": {
          "model_module": "@jupyter-widgets/base",
          "model_name": "LayoutModel",
          "model_module_version": "1.2.0",
          "state": {
            "_model_module": "@jupyter-widgets/base",
            "_model_module_version": "1.2.0",
            "_model_name": "LayoutModel",
            "_view_count": null,
            "_view_module": "@jupyter-widgets/base",
            "_view_module_version": "1.2.0",
            "_view_name": "LayoutView",
            "align_content": null,
            "align_items": null,
            "align_self": null,
            "border": null,
            "bottom": null,
            "display": null,
            "flex": null,
            "flex_flow": null,
            "grid_area": null,
            "grid_auto_columns": null,
            "grid_auto_flow": null,
            "grid_auto_rows": null,
            "grid_column": null,
            "grid_gap": null,
            "grid_row": null,
            "grid_template_areas": null,
            "grid_template_columns": null,
            "grid_template_rows": null,
            "height": null,
            "justify_content": null,
            "justify_items": null,
            "left": null,
            "margin": null,
            "max_height": null,
            "max_width": null,
            "min_height": null,
            "min_width": null,
            "object_fit": null,
            "object_position": null,
            "order": null,
            "overflow": null,
            "overflow_x": null,
            "overflow_y": null,
            "padding": null,
            "right": null,
            "top": null,
            "visibility": null,
            "width": null
          }
        },
        "974df30173d3409090e64444097fcb4f": {
          "model_module": "@jupyter-widgets/controls",
          "model_name": "DescriptionStyleModel",
          "model_module_version": "1.5.0",
          "state": {
            "_model_module": "@jupyter-widgets/controls",
            "_model_module_version": "1.5.0",
            "_model_name": "DescriptionStyleModel",
            "_view_count": null,
            "_view_module": "@jupyter-widgets/base",
            "_view_module_version": "1.2.0",
            "_view_name": "StyleView",
            "description_width": ""
          }
        },
        "a3957591e8fd4c4286d51672b0401ba2": {
          "model_module": "@jupyter-widgets/base",
          "model_name": "LayoutModel",
          "model_module_version": "1.2.0",
          "state": {
            "_model_module": "@jupyter-widgets/base",
            "_model_module_version": "1.2.0",
            "_model_name": "LayoutModel",
            "_view_count": null,
            "_view_module": "@jupyter-widgets/base",
            "_view_module_version": "1.2.0",
            "_view_name": "LayoutView",
            "align_content": null,
            "align_items": null,
            "align_self": null,
            "border": null,
            "bottom": null,
            "display": null,
            "flex": null,
            "flex_flow": null,
            "grid_area": null,
            "grid_auto_columns": null,
            "grid_auto_flow": null,
            "grid_auto_rows": null,
            "grid_column": null,
            "grid_gap": null,
            "grid_row": null,
            "grid_template_areas": null,
            "grid_template_columns": null,
            "grid_template_rows": null,
            "height": null,
            "justify_content": null,
            "justify_items": null,
            "left": null,
            "margin": null,
            "max_height": null,
            "max_width": null,
            "min_height": null,
            "min_width": null,
            "object_fit": null,
            "object_position": null,
            "order": null,
            "overflow": null,
            "overflow_x": null,
            "overflow_y": null,
            "padding": null,
            "right": null,
            "top": null,
            "visibility": null,
            "width": null
          }
        },
        "30abd6d29eab47989cc86fd75133d1cf": {
          "model_module": "@jupyter-widgets/controls",
          "model_name": "ProgressStyleModel",
          "model_module_version": "1.5.0",
          "state": {
            "_model_module": "@jupyter-widgets/controls",
            "_model_module_version": "1.5.0",
            "_model_name": "ProgressStyleModel",
            "_view_count": null,
            "_view_module": "@jupyter-widgets/base",
            "_view_module_version": "1.2.0",
            "_view_name": "StyleView",
            "bar_color": null,
            "description_width": ""
          }
        },
        "b65de4cf27b04594afea1ed10fb6171d": {
          "model_module": "@jupyter-widgets/base",
          "model_name": "LayoutModel",
          "model_module_version": "1.2.0",
          "state": {
            "_model_module": "@jupyter-widgets/base",
            "_model_module_version": "1.2.0",
            "_model_name": "LayoutModel",
            "_view_count": null,
            "_view_module": "@jupyter-widgets/base",
            "_view_module_version": "1.2.0",
            "_view_name": "LayoutView",
            "align_content": null,
            "align_items": null,
            "align_self": null,
            "border": null,
            "bottom": null,
            "display": null,
            "flex": null,
            "flex_flow": null,
            "grid_area": null,
            "grid_auto_columns": null,
            "grid_auto_flow": null,
            "grid_auto_rows": null,
            "grid_column": null,
            "grid_gap": null,
            "grid_row": null,
            "grid_template_areas": null,
            "grid_template_columns": null,
            "grid_template_rows": null,
            "height": null,
            "justify_content": null,
            "justify_items": null,
            "left": null,
            "margin": null,
            "max_height": null,
            "max_width": null,
            "min_height": null,
            "min_width": null,
            "object_fit": null,
            "object_position": null,
            "order": null,
            "overflow": null,
            "overflow_x": null,
            "overflow_y": null,
            "padding": null,
            "right": null,
            "top": null,
            "visibility": null,
            "width": null
          }
        },
        "52997739430c48479a824eab7b6674dc": {
          "model_module": "@jupyter-widgets/controls",
          "model_name": "DescriptionStyleModel",
          "model_module_version": "1.5.0",
          "state": {
            "_model_module": "@jupyter-widgets/controls",
            "_model_module_version": "1.5.0",
            "_model_name": "DescriptionStyleModel",
            "_view_count": null,
            "_view_module": "@jupyter-widgets/base",
            "_view_module_version": "1.2.0",
            "_view_name": "StyleView",
            "description_width": ""
          }
        }
      }
    }
  },
  "cells": [
    {
      "cell_type": "markdown",
      "source": [
        "__Классификация по тональности__\n",
        "\n",
        "В этом домашнем задании вам предстоит классифицировать по тональности отзывы на банки с сайта banki.ru.\n",
        "\n",
        "Данные содержат непосредственно тексты отзывов, некоторую дополнительную информацию, а также оценку по шкале от 1 до 5.\n",
        "\n",
        "Тексты хранятся в json-ах в массиве responses.\n",
        "\n",
        "Посмотрим на примере отзыва: возьмите для удобства ноутбук, размещенный в папке репозитория."
      ],
      "metadata": {
        "id": "-nBCudXCvWfX"
      }
    },
    {
      "cell_type": "code",
      "source": [
        "import json\n",
        "\n",
        "import bz2\n",
        "import regex\n",
        "from tqdm import tqdm\n",
        "from scipy import sparse"
      ],
      "metadata": {
        "id": "8hNOFf8w3xIR"
      },
      "execution_count": null,
      "outputs": []
    },
    {
      "cell_type": "code",
      "source": [
        "import pandas as pd\n",
        "import numpy as np\n",
        "import nltk\n",
        "import matplotlib.pyplot as plt\n",
        "import seaborn as sns\n",
        "%matplotlib inline\n",
        "%pylab inline"
      ],
      "metadata": {
        "colab": {
          "base_uri": "https://localhost:8080/"
        },
        "id": "U2X6RNwL32Hd",
        "outputId": "cfb53b70-1a2e-4f7d-b978-5f4ee860be72"
      },
      "execution_count": null,
      "outputs": [
        {
          "output_type": "stream",
          "name": "stdout",
          "text": [
            "Populating the interactive namespace from numpy and matplotlib\n"
          ]
        }
      ]
    },
    {
      "cell_type": "code",
      "source": [
        "responses = []\n",
        "with bz2.BZ2File('banki_responses.json.bz2', 'r') as thefile:\n",
        "    for row in tqdm(thefile):\n",
        "        resp = json.loads(row)\n",
        "        if not resp['rating_not_checked'] and (len(resp['text'].split()) > 0):\n",
        "            responses.append(resp)"
      ],
      "metadata": {
        "colab": {
          "base_uri": "https://localhost:8080/"
        },
        "id": "RG4mKHo-3-F4",
        "outputId": "c48f258c-988a-480a-88b6-54898842df26"
      },
      "execution_count": null,
      "outputs": [
        {
          "output_type": "stream",
          "name": "stderr",
          "text": [
            "201030it [01:33, 2155.24it/s]\n"
          ]
        }
      ]
    },
    {
      "cell_type": "code",
      "source": [
        "responses[575]"
      ],
      "metadata": {
        "colab": {
          "base_uri": "https://localhost:8080/"
        },
        "id": "IqUXnW5P8kv4",
        "outputId": "0f0f3ad5-43a6-460e-a55a-bfb5031949fa"
      },
      "execution_count": null,
      "outputs": [
        {
          "output_type": "execute_result",
          "data": {
            "text/plain": [
              "{'city': 'г. Москва',\n",
              " 'rating_not_checked': False,\n",
              " 'title': 'Спасибо Тодуа Георгию',\n",
              " 'num_comments': 1,\n",
              " 'bank_license': 'лицензия № 2289',\n",
              " 'author': 'tatyana1309',\n",
              " 'bank_name': 'Русский Стандарт',\n",
              " 'datetime': '2015-05-27 15:40:00',\n",
              " 'text': 'В начале мая я открывала вклад в банке Русский Стандарт на ст.м. \"Тимирязевская\". Мои средства ошибочно были зачислены на чужой счёт. Ошибку первыми заметили в банке, и мне сразу позвонили и сказали, что нужно придти к ним в отделение и написать соответствующее заявление на возврат средств. Заявление принимал Тодуа Георгий. И хотя ситуация с моими деньгами на чужом банковском счёте сама по себе была далеко не приятной, а время ожидания, когда мой вопрос решится в мою пользу, казалось бесконечным, именно благодаря Георгию я не впадала в панику. Конечно, я не могла просто сидеть и ждать, когда денежки ко мне вернутся, поэтому я довольно часто приходила в отделение банка с вопросом \"Когда?\", и Георгий всякий раз спокойно и дружелюбно выяснял, на какой стадии находится моя проблема. Потом говорил мне, какие шаги уже были сделаны, чего ещё нужно было подождать, и как много времени это могло занять. Георгий, спасибо Вам большое!!!',\n",
              " 'rating_grade': 5}"
            ]
          },
          "metadata": {},
          "execution_count": 4
        }
      ]
    },
    {
      "cell_type": "markdown",
      "source": [
        "# Часть 1. Анализ текстов"
      ],
      "metadata": {
        "id": "Ufr8RVTKv1xi"
      }
    },
    {
      "cell_type": "markdown",
      "source": [
        "## 1. Посчитайте количество отзывов в разных городах и на разные банки"
      ],
      "metadata": {
        "id": "GdJMS9Kxv6k5"
      }
    },
    {
      "cell_type": "code",
      "source": [
        "df = pd.DataFrame(responses)\n",
        "df.head()"
      ],
      "metadata": {
        "colab": {
          "base_uri": "https://localhost:8080/",
          "height": 389
        },
        "id": "iEQBJ0tx8aTP",
        "outputId": "a56f3a7a-297b-4087-a859-1662ccb30855"
      },
      "execution_count": null,
      "outputs": [
        {
          "output_type": "execute_result",
          "data": {
            "text/plain": [
              "             city  rating_not_checked  \\\n",
              "0       г. Москва               False   \n",
              "1  г. Новосибирск               False   \n",
              "2       г. Москва               False   \n",
              "3   г. Ставрополь               False   \n",
              "4    г. Челябинск               False   \n",
              "\n",
              "                                               title  num_comments  \\\n",
              "0                                             Жалоба             0   \n",
              "1      Не могу пользоваться услугой Сбербанк он-лайн             0   \n",
              "2                    Двойное списание за один товар.             1   \n",
              "3  Меняют проценты комиссии  не предупредив и не ...             2   \n",
              "4             Верните денежные средства за страховку             1   \n",
              "\n",
              "      bank_license       author        bank_name             datetime  \\\n",
              "0  лицензия № 2562       uhnov1          Бинбанк  2015-06-08 12:50:54   \n",
              "1  лицензия № 1481       Foryou  Сбербанк России  2015-06-08 11:09:57   \n",
              "2  лицензия № 2562   Vladimir84          Бинбанк  2015-06-05 20:14:28   \n",
              "3  лицензия № 1481       643609  Сбербанк России  2015-06-05 13:51:01   \n",
              "4  лицензия № 2766  anfisa-2003         ОТП Банк  2015-06-05 10:58:12   \n",
              "\n",
              "                                                text  rating_grade  \n",
              "0  Добрый день! Я не являюсь клиентом банка и пор...           NaN  \n",
              "1  Доброго дня! Являюсь держателем зарплатной кар...           NaN  \n",
              "2  Здравствуйте!  Дублирую свое заявление от 03.0...           NaN  \n",
              "3  Добрый день!! Я открыл расчетный счет в СберБа...           NaN  \n",
              "4  04.03.2015 г. взяла кредит в вашем банке, заяв...           NaN  "
            ],
            "text/html": [
              "\n",
              "  <div id=\"df-08d399c1-9b59-4f3b-9ba7-48399fe2e5e0\">\n",
              "    <div class=\"colab-df-container\">\n",
              "      <div>\n",
              "<style scoped>\n",
              "    .dataframe tbody tr th:only-of-type {\n",
              "        vertical-align: middle;\n",
              "    }\n",
              "\n",
              "    .dataframe tbody tr th {\n",
              "        vertical-align: top;\n",
              "    }\n",
              "\n",
              "    .dataframe thead th {\n",
              "        text-align: right;\n",
              "    }\n",
              "</style>\n",
              "<table border=\"1\" class=\"dataframe\">\n",
              "  <thead>\n",
              "    <tr style=\"text-align: right;\">\n",
              "      <th></th>\n",
              "      <th>city</th>\n",
              "      <th>rating_not_checked</th>\n",
              "      <th>title</th>\n",
              "      <th>num_comments</th>\n",
              "      <th>bank_license</th>\n",
              "      <th>author</th>\n",
              "      <th>bank_name</th>\n",
              "      <th>datetime</th>\n",
              "      <th>text</th>\n",
              "      <th>rating_grade</th>\n",
              "    </tr>\n",
              "  </thead>\n",
              "  <tbody>\n",
              "    <tr>\n",
              "      <th>0</th>\n",
              "      <td>г. Москва</td>\n",
              "      <td>False</td>\n",
              "      <td>Жалоба</td>\n",
              "      <td>0</td>\n",
              "      <td>лицензия № 2562</td>\n",
              "      <td>uhnov1</td>\n",
              "      <td>Бинбанк</td>\n",
              "      <td>2015-06-08 12:50:54</td>\n",
              "      <td>Добрый день! Я не являюсь клиентом банка и пор...</td>\n",
              "      <td>NaN</td>\n",
              "    </tr>\n",
              "    <tr>\n",
              "      <th>1</th>\n",
              "      <td>г. Новосибирск</td>\n",
              "      <td>False</td>\n",
              "      <td>Не могу пользоваться услугой Сбербанк он-лайн</td>\n",
              "      <td>0</td>\n",
              "      <td>лицензия № 1481</td>\n",
              "      <td>Foryou</td>\n",
              "      <td>Сбербанк России</td>\n",
              "      <td>2015-06-08 11:09:57</td>\n",
              "      <td>Доброго дня! Являюсь держателем зарплатной кар...</td>\n",
              "      <td>NaN</td>\n",
              "    </tr>\n",
              "    <tr>\n",
              "      <th>2</th>\n",
              "      <td>г. Москва</td>\n",
              "      <td>False</td>\n",
              "      <td>Двойное списание за один товар.</td>\n",
              "      <td>1</td>\n",
              "      <td>лицензия № 2562</td>\n",
              "      <td>Vladimir84</td>\n",
              "      <td>Бинбанк</td>\n",
              "      <td>2015-06-05 20:14:28</td>\n",
              "      <td>Здравствуйте!  Дублирую свое заявление от 03.0...</td>\n",
              "      <td>NaN</td>\n",
              "    </tr>\n",
              "    <tr>\n",
              "      <th>3</th>\n",
              "      <td>г. Ставрополь</td>\n",
              "      <td>False</td>\n",
              "      <td>Меняют проценты комиссии  не предупредив и не ...</td>\n",
              "      <td>2</td>\n",
              "      <td>лицензия № 1481</td>\n",
              "      <td>643609</td>\n",
              "      <td>Сбербанк России</td>\n",
              "      <td>2015-06-05 13:51:01</td>\n",
              "      <td>Добрый день!! Я открыл расчетный счет в СберБа...</td>\n",
              "      <td>NaN</td>\n",
              "    </tr>\n",
              "    <tr>\n",
              "      <th>4</th>\n",
              "      <td>г. Челябинск</td>\n",
              "      <td>False</td>\n",
              "      <td>Верните денежные средства за страховку</td>\n",
              "      <td>1</td>\n",
              "      <td>лицензия № 2766</td>\n",
              "      <td>anfisa-2003</td>\n",
              "      <td>ОТП Банк</td>\n",
              "      <td>2015-06-05 10:58:12</td>\n",
              "      <td>04.03.2015 г. взяла кредит в вашем банке, заяв...</td>\n",
              "      <td>NaN</td>\n",
              "    </tr>\n",
              "  </tbody>\n",
              "</table>\n",
              "</div>\n",
              "      <button class=\"colab-df-convert\" onclick=\"convertToInteractive('df-08d399c1-9b59-4f3b-9ba7-48399fe2e5e0')\"\n",
              "              title=\"Convert this dataframe to an interactive table.\"\n",
              "              style=\"display:none;\">\n",
              "        \n",
              "  <svg xmlns=\"http://www.w3.org/2000/svg\" height=\"24px\"viewBox=\"0 0 24 24\"\n",
              "       width=\"24px\">\n",
              "    <path d=\"M0 0h24v24H0V0z\" fill=\"none\"/>\n",
              "    <path d=\"M18.56 5.44l.94 2.06.94-2.06 2.06-.94-2.06-.94-.94-2.06-.94 2.06-2.06.94zm-11 1L8.5 8.5l.94-2.06 2.06-.94-2.06-.94L8.5 2.5l-.94 2.06-2.06.94zm10 10l.94 2.06.94-2.06 2.06-.94-2.06-.94-.94-2.06-.94 2.06-2.06.94z\"/><path d=\"M17.41 7.96l-1.37-1.37c-.4-.4-.92-.59-1.43-.59-.52 0-1.04.2-1.43.59L10.3 9.45l-7.72 7.72c-.78.78-.78 2.05 0 2.83L4 21.41c.39.39.9.59 1.41.59.51 0 1.02-.2 1.41-.59l7.78-7.78 2.81-2.81c.8-.78.8-2.07 0-2.86zM5.41 20L4 18.59l7.72-7.72 1.47 1.35L5.41 20z\"/>\n",
              "  </svg>\n",
              "      </button>\n",
              "      \n",
              "  <style>\n",
              "    .colab-df-container {\n",
              "      display:flex;\n",
              "      flex-wrap:wrap;\n",
              "      gap: 12px;\n",
              "    }\n",
              "\n",
              "    .colab-df-convert {\n",
              "      background-color: #E8F0FE;\n",
              "      border: none;\n",
              "      border-radius: 50%;\n",
              "      cursor: pointer;\n",
              "      display: none;\n",
              "      fill: #1967D2;\n",
              "      height: 32px;\n",
              "      padding: 0 0 0 0;\n",
              "      width: 32px;\n",
              "    }\n",
              "\n",
              "    .colab-df-convert:hover {\n",
              "      background-color: #E2EBFA;\n",
              "      box-shadow: 0px 1px 2px rgba(60, 64, 67, 0.3), 0px 1px 3px 1px rgba(60, 64, 67, 0.15);\n",
              "      fill: #174EA6;\n",
              "    }\n",
              "\n",
              "    [theme=dark] .colab-df-convert {\n",
              "      background-color: #3B4455;\n",
              "      fill: #D2E3FC;\n",
              "    }\n",
              "\n",
              "    [theme=dark] .colab-df-convert:hover {\n",
              "      background-color: #434B5C;\n",
              "      box-shadow: 0px 1px 3px 1px rgba(0, 0, 0, 0.15);\n",
              "      filter: drop-shadow(0px 1px 2px rgba(0, 0, 0, 0.3));\n",
              "      fill: #FFFFFF;\n",
              "    }\n",
              "  </style>\n",
              "\n",
              "      <script>\n",
              "        const buttonEl =\n",
              "          document.querySelector('#df-08d399c1-9b59-4f3b-9ba7-48399fe2e5e0 button.colab-df-convert');\n",
              "        buttonEl.style.display =\n",
              "          google.colab.kernel.accessAllowed ? 'block' : 'none';\n",
              "\n",
              "        async function convertToInteractive(key) {\n",
              "          const element = document.querySelector('#df-08d399c1-9b59-4f3b-9ba7-48399fe2e5e0');\n",
              "          const dataTable =\n",
              "            await google.colab.kernel.invokeFunction('convertToInteractive',\n",
              "                                                     [key], {});\n",
              "          if (!dataTable) return;\n",
              "\n",
              "          const docLinkHtml = 'Like what you see? Visit the ' +\n",
              "            '<a target=\"_blank\" href=https://colab.research.google.com/notebooks/data_table.ipynb>data table notebook</a>'\n",
              "            + ' to learn more about interactive tables.';\n",
              "          element.innerHTML = '';\n",
              "          dataTable['output_type'] = 'display_data';\n",
              "          await google.colab.output.renderOutput(dataTable, element);\n",
              "          const docLink = document.createElement('div');\n",
              "          docLink.innerHTML = docLinkHtml;\n",
              "          element.appendChild(docLink);\n",
              "        }\n",
              "      </script>\n",
              "    </div>\n",
              "  </div>\n",
              "  "
            ]
          },
          "metadata": {},
          "execution_count": 5
        }
      ]
    },
    {
      "cell_type": "code",
      "source": [
        "df.shape"
      ],
      "metadata": {
        "colab": {
          "base_uri": "https://localhost:8080/"
        },
        "id": "zoIQ_MxGQf4k",
        "outputId": "ab238074-ccf7-4b7d-e25c-4f0a17faf49c"
      },
      "execution_count": null,
      "outputs": [
        {
          "output_type": "execute_result",
          "data": {
            "text/plain": [
              "(153499, 10)"
            ]
          },
          "metadata": {},
          "execution_count": 6
        }
      ]
    },
    {
      "cell_type": "code",
      "source": [
        "df.info()"
      ],
      "metadata": {
        "id": "7szitzVkscJx",
        "colab": {
          "base_uri": "https://localhost:8080/"
        },
        "outputId": "c1b97cea-1b4f-4662-c6f1-028a442aa68a"
      },
      "execution_count": null,
      "outputs": [
        {
          "output_type": "stream",
          "name": "stdout",
          "text": [
            "<class 'pandas.core.frame.DataFrame'>\n",
            "RangeIndex: 153499 entries, 0 to 153498\n",
            "Data columns (total 10 columns):\n",
            " #   Column              Non-Null Count   Dtype  \n",
            "---  ------              --------------   -----  \n",
            " 0   city                138325 non-null  object \n",
            " 1   rating_not_checked  153499 non-null  bool   \n",
            " 2   title               153499 non-null  object \n",
            " 3   num_comments        153499 non-null  int64  \n",
            " 4   bank_license        153498 non-null  object \n",
            " 5   author              153479 non-null  object \n",
            " 6   bank_name           153499 non-null  object \n",
            " 7   datetime            153499 non-null  object \n",
            " 8   text                153499 non-null  object \n",
            " 9   rating_grade        88658 non-null   float64\n",
            "dtypes: bool(1), float64(1), int64(1), object(7)\n",
            "memory usage: 10.7+ MB\n"
          ]
        }
      ]
    },
    {
      "cell_type": "code",
      "source": [
        "df.isna().sum() # смотрим пропуски"
      ],
      "metadata": {
        "id": "183e-8Oqsqi4",
        "colab": {
          "base_uri": "https://localhost:8080/"
        },
        "outputId": "368ab0df-bf06-4405-97c3-fe1035a75cbd"
      },
      "execution_count": null,
      "outputs": [
        {
          "output_type": "execute_result",
          "data": {
            "text/plain": [
              "city                  15174\n",
              "rating_not_checked        0\n",
              "title                     0\n",
              "num_comments              0\n",
              "bank_license              1\n",
              "author                   20\n",
              "bank_name                 0\n",
              "datetime                  0\n",
              "text                      0\n",
              "rating_grade          64841\n",
              "dtype: int64"
            ]
          },
          "metadata": {},
          "execution_count": 8
        }
      ]
    },
    {
      "cell_type": "code",
      "source": [
        "df.bank_name.nunique() # количество уникальных банков"
      ],
      "metadata": {
        "colab": {
          "base_uri": "https://localhost:8080/"
        },
        "id": "3OezNc3YfAhs",
        "outputId": "65ba28cd-2f61-4c34-a9b1-1344c76dad20"
      },
      "execution_count": null,
      "outputs": [
        {
          "output_type": "execute_result",
          "data": {
            "text/plain": [
              "670"
            ]
          },
          "metadata": {},
          "execution_count": 9
        }
      ]
    },
    {
      "cell_type": "code",
      "source": [
        "df.city.nunique() # количество уникальных городов"
      ],
      "metadata": {
        "colab": {
          "base_uri": "https://localhost:8080/"
        },
        "id": "hb8Eh420TTXl",
        "outputId": "209fb7e2-9001-4a07-da7b-743c341a75c2"
      },
      "execution_count": null,
      "outputs": [
        {
          "output_type": "execute_result",
          "data": {
            "text/plain": [
              "5823"
            ]
          },
          "metadata": {},
          "execution_count": 10
        }
      ]
    },
    {
      "cell_type": "code",
      "source": [
        "df.bank_name.value_counts(dropna=False).sort_index() # кол-во вхождений по банкам с сортировкой по алфавиту"
      ],
      "metadata": {
        "colab": {
          "base_uri": "https://localhost:8080/"
        },
        "id": "oIaZWsNNTu9l",
        "outputId": "77d56b6f-9925-435e-8f81-333fd1cc9e5d"
      },
      "execution_count": null,
      "outputs": [
        {
          "output_type": "execute_result",
          "data": {
            "text/plain": [
              "2Т Банк          655\n",
              "АБ Финанс         23\n",
              "АББ                2\n",
              "АМБ Банк           1\n",
              "АМТ Банк         142\n",
              "                ... \n",
              "Юнистрим          81\n",
              "ЯР-Банк           12\n",
              "Яндекс.Деньги    226\n",
              "Ярославич          5\n",
              "Ярсоцбанк          7\n",
              "Name: bank_name, Length: 670, dtype: int64"
            ]
          },
          "metadata": {},
          "execution_count": 11
        }
      ]
    },
    {
      "cell_type": "code",
      "source": [
        "sorted(df.bank_name.unique()) # смотрим банки \"глазами\""
      ],
      "metadata": {
        "colab": {
          "base_uri": "https://localhost:8080/"
        },
        "id": "hftk_AQr9kUP",
        "outputId": "97d8c663-903d-427a-d993-b1ee7d5e48ce"
      },
      "execution_count": null,
      "outputs": [
        {
          "output_type": "execute_result",
          "data": {
            "text/plain": [
              "['2Т Банк',\n",
              " 'АБ Финанс',\n",
              " 'АББ',\n",
              " 'АМБ Банк',\n",
              " 'АМТ Банк',\n",
              " 'АФ Банк',\n",
              " 'Абсолют Банк',\n",
              " 'Авангард',\n",
              " 'Аверс',\n",
              " 'Автоградбанк',\n",
              " 'Автоторгбанк',\n",
              " 'Агропромкредит',\n",
              " 'Агророс',\n",
              " 'Агросоюз',\n",
              " 'Агрохимбанк',\n",
              " 'Адамон Банк',\n",
              " 'Адмиралтейский',\n",
              " 'Азиатско-Тихоокеанский Банк',\n",
              " 'Ай-Си-Ай-Си-Ай Банк (ICICI)',\n",
              " 'АйМаниБанк',\n",
              " 'Айви Банк',\n",
              " 'Ак Барс',\n",
              " 'Академический Русский Банк',\n",
              " 'Акибанк',\n",
              " 'Аксонбанк',\n",
              " 'АктивКапитал Банк',\n",
              " 'Акцент',\n",
              " 'Акцепт',\n",
              " 'Алданзолотобанк',\n",
              " 'Александровский',\n",
              " 'Алеф-Банк',\n",
              " 'Алмазэргиэнбанк',\n",
              " 'Алтынбанк',\n",
              " 'Альта-Банк',\n",
              " 'Альфа-Банк',\n",
              " 'Анелик РУ',\n",
              " 'Анкор Банк',\n",
              " 'Анталбанк',\n",
              " 'Арксбанк',\n",
              " 'Аспект',\n",
              " 'ББР Банк',\n",
              " 'БИНБАНК кредитные карты',\n",
              " 'БКС — Инвестиционный Банк',\n",
              " 'БМВ Банк',\n",
              " 'БНП Париба Банк',\n",
              " 'БСТ-Банк',\n",
              " 'БФГ-Кредит',\n",
              " 'БайкалБанк',\n",
              " 'БайкалИнвестБанк',\n",
              " 'Байкалкредобанк',\n",
              " 'Балтийский Банк',\n",
              " 'Балтика',\n",
              " 'Балтинвестбанк',\n",
              " 'Банк «МБА-Москва»',\n",
              " 'Банк «Санкт-Петербург»',\n",
              " 'Банк АВБ',\n",
              " 'Банк БКФ',\n",
              " 'Банк БФА',\n",
              " 'Банк БФТ',\n",
              " 'Банк БЦК-Москва',\n",
              " 'Банк Высоких Технологий',\n",
              " 'Банк Город',\n",
              " 'Банк Жилищного Финансирования',\n",
              " 'Банк ИТБ',\n",
              " 'Банк Инноваций и Развития',\n",
              " 'Банк Интеза',\n",
              " 'Банк Казани',\n",
              " 'Банк МБФИ',\n",
              " 'Банк Москвы',\n",
              " 'Банк Оранжевый (бывш. Промсервисбанк)',\n",
              " 'Банк ПСА Финанс Рус',\n",
              " 'Банк Премьер Кредит',\n",
              " 'Банк Проектного Финансирования',\n",
              " 'Банк Развития Региона',\n",
              " 'Банк Развития Технологий',\n",
              " 'Банк Расчетов и Сбережений',\n",
              " 'Банк Раунд',\n",
              " 'Банк СГБ',\n",
              " 'Банк Сосьете Женераль Восток',\n",
              " 'Банк Торгового Финансирования',\n",
              " 'Банк Финсервис',\n",
              " 'Банк Экономический Союз',\n",
              " 'Банк24.ру',\n",
              " 'Банкирский Дом',\n",
              " 'Банкхаус Эрбе',\n",
              " 'Баренцбанк',\n",
              " 'Басманный',\n",
              " 'Башинвестбанк',\n",
              " 'Башкомснаббанк',\n",
              " 'Белгородпромстройбанк',\n",
              " 'Бенифит-Банк',\n",
              " 'Берейт',\n",
              " 'Бест Эффортс Банк',\n",
              " 'Бинбанк',\n",
              " 'Бинбанк Мурманск',\n",
              " 'Богородский Муниципальный Банк',\n",
              " 'Борский Коммерческий Банк',\n",
              " 'Бризбанк',\n",
              " 'Бузулукбанк',\n",
              " 'Булгар Банк',\n",
              " 'Бум-Банк',\n",
              " 'Бумеранг',\n",
              " 'БыстроБанк',\n",
              " 'ВЕБРР',\n",
              " 'ВИП-Банк',\n",
              " 'ВТБ',\n",
              " 'ВТБ 24',\n",
              " 'ВТБ Северо-Запад',\n",
              " 'ВУЗ-Банк',\n",
              " 'Ваш Личный Банк',\n",
              " 'Вега-Банк',\n",
              " 'Век',\n",
              " 'Венец',\n",
              " 'Верхне-Волжский Нефтебанк',\n",
              " 'Верхневолжский',\n",
              " 'Веста',\n",
              " 'Взаимодействие',\n",
              " 'Викинг',\n",
              " 'Витабанк',\n",
              " 'Витас Банк',\n",
              " 'Витязь',\n",
              " 'Вкабанк',\n",
              " 'Владпромбанк',\n",
              " 'Внешпромбанк',\n",
              " 'Внешэкономбанк',\n",
              " 'Военно-Промышленный Банк',\n",
              " 'Возрождение',\n",
              " 'Вокбанк',\n",
              " 'Волга-Кредит',\n",
              " 'Волго-Камский Банк',\n",
              " 'Волгопромбанк',\n",
              " 'Волжский Социальный Банк',\n",
              " 'Вологжанин',\n",
              " 'Воронеж',\n",
              " 'Восточный Экспресс Банк',\n",
              " 'Всероссийский Банк Развития Регионов',\n",
              " 'Выборг-Банк',\n",
              " 'Вятка-Банк',\n",
              " 'ГПБ-Ипотека',\n",
              " 'Гагаринский',\n",
              " 'Газбанк',\n",
              " 'Газинвестбанк',\n",
              " 'Газпромбанк',\n",
              " 'Газстройбанк',\n",
              " 'Газэнергобанк',\n",
              " 'Газэнергопромбанк',\n",
              " 'Галабанк',\n",
              " 'Гарант-Инвест',\n",
              " 'Генбанк',\n",
              " 'Глобэкс',\n",
              " 'Горбанк',\n",
              " 'Городской Ипотечный Банк',\n",
              " 'Городской Клиентский',\n",
              " 'Град-Банк',\n",
              " 'Гранд Инвест Банк',\n",
              " 'Гринкомбанк',\n",
              " 'Гринфилдбанк',\n",
              " 'Гута-Банк',\n",
              " 'Дагэнергобанк',\n",
              " 'Далена',\n",
              " 'Далькомбанк',\n",
              " 'Дальневосточный Банк',\n",
              " 'Движение',\n",
              " 'Девон-Кредит',\n",
              " 'ДельтаКредит',\n",
              " 'Держава',\n",
              " 'Джей энд Ти Банк',\n",
              " 'Диамонд-Банк',\n",
              " 'Диг-Банк',\n",
              " 'Дил-Банк',\n",
              " 'Дойче Банк',\n",
              " 'Дом-Банк',\n",
              " 'Донбанк',\n",
              " 'Донинвест',\n",
              " 'Донкомбанк',\n",
              " 'Донской Народный Банк',\n",
              " 'Донхлеббанк',\n",
              " 'Евразия-Центр',\n",
              " 'Еврокоммерц',\n",
              " 'Еврокредит',\n",
              " 'Евромет',\n",
              " 'Европейский',\n",
              " 'Европейский Индустриальный Банк',\n",
              " 'Европейский Трастовый Банк',\n",
              " 'Европейский Экспресс',\n",
              " 'Европлан Банк',\n",
              " 'Европроминвест',\n",
              " 'Евросиб Банк',\n",
              " 'ЕвроситиБанк',\n",
              " 'Еврофинанс Моснарбанк',\n",
              " 'Единый Строительный Банк',\n",
              " 'Екатеринбург',\n",
              " 'Енисей',\n",
              " 'Енисейский Объединенный Банк',\n",
              " 'Ермак',\n",
              " 'Живаго-Банк',\n",
              " 'Жилстройбанк',\n",
              " 'Замоскворецкий',\n",
              " 'Западный',\n",
              " 'Запсибкомбанк',\n",
              " 'Заубер Банк',\n",
              " 'Земский Банк',\n",
              " 'Зенит',\n",
              " 'Зенит Сочи',\n",
              " 'Златкомбанк',\n",
              " 'И.Д.Е.А. Банк',\n",
              " 'ИК Банк',\n",
              " 'ИМПЭКСБанк',\n",
              " 'ИНГ Банк',\n",
              " 'ИРС',\n",
              " 'Иваново',\n",
              " 'Ижкомбанк',\n",
              " 'Империя',\n",
              " 'Инбанк',\n",
              " 'Инвест-Экобанк',\n",
              " 'Инвестбанк',\n",
              " 'Инвестиционный Республиканский Банк',\n",
              " 'Инвестиционный Союз',\n",
              " 'Инвесткапиталбанк',\n",
              " 'Инвестторгбанк',\n",
              " 'Индустриальный',\n",
              " 'Индустриальный Сберегательный Банк',\n",
              " 'Инкасбанк',\n",
              " 'Интерактивный Банк',\n",
              " 'Интеркапитал-Банк',\n",
              " 'Интеркоммерц Банк',\n",
              " 'Интеркоопбанк',\n",
              " 'Интерпрогрессбанк',\n",
              " 'Интерпромбанк',\n",
              " 'Интехбанк',\n",
              " 'Интрастбанк',\n",
              " 'ИпоТек Банк',\n",
              " 'Ипозембанк',\n",
              " 'ИстКом-Финанс',\n",
              " 'Ишбанк',\n",
              " 'Йошкар-Ола',\n",
              " 'КИТ Финанс Инвестиционный Банк',\n",
              " 'КС Банк',\n",
              " 'Камабанк',\n",
              " 'Камский Коммерческий Банк',\n",
              " 'Канский',\n",
              " 'Капитал Кредит',\n",
              " 'Капиталбанк',\n",
              " 'Кедр',\n",
              " 'Киви Банк',\n",
              " 'Клиентский',\n",
              " 'Кольцо Урала',\n",
              " 'Коммерческий Банк Развития',\n",
              " 'Компания Розничного Кредитования',\n",
              " 'Консервативный Коммерческий Банк',\n",
              " 'Констанс-Банк',\n",
              " 'Конфидэнс Банк',\n",
              " 'Кор',\n",
              " 'Королевский Банк Шотландии',\n",
              " 'Кошелев-Банк',\n",
              " 'Крайинвестбанк',\n",
              " 'Кранбанк',\n",
              " 'Красбанк',\n",
              " 'Кредит Европа Банк',\n",
              " 'Кредит Урал Банк',\n",
              " 'Кредит Экспресс',\n",
              " 'Кредит-Москва',\n",
              " 'Кредитбанк',\n",
              " 'Кроссинвестбанк',\n",
              " 'Крыловский',\n",
              " 'Кубань Кредит',\n",
              " 'Кубаньторгбанк',\n",
              " 'Кузнецкий',\n",
              " 'Курган',\n",
              " 'Курскпромбанк',\n",
              " 'Лада-Кредит',\n",
              " 'Ланта-Банк',\n",
              " 'Левобережный',\n",
              " 'Легион',\n",
              " 'Леноблбанк',\n",
              " 'Лесбанк',\n",
              " 'Лето Банк',\n",
              " 'Лефко-Банк',\n",
              " 'Линк-Банк',\n",
              " 'Липецккомбанк',\n",
              " 'Локо-Банк',\n",
              " 'М2М Прайвет Банк',\n",
              " 'МАК-Банк',\n",
              " 'МАСТ-Банк',\n",
              " 'МБТС-Банк',\n",
              " 'МДМ Банк',\n",
              " 'МДМ-Банк',\n",
              " 'МТС Банк',\n",
              " 'МФБанк',\n",
              " 'Максима',\n",
              " 'Мастер-Банк',\n",
              " 'Мастер-Капитал',\n",
              " 'Мегаполис',\n",
              " 'Международный Банк Развития',\n",
              " 'Международный Банк Санкт-Петербурга (МБСП)',\n",
              " 'Международный Инвестиционный Банк',\n",
              " 'Международный Промышленный Банк',\n",
              " 'Международный Расчетный Банк',\n",
              " 'Межпромбанк Плюс',\n",
              " 'Межрегиональный Клиринговый Банк',\n",
              " 'Межрегиональный Почтовый Банк',\n",
              " 'Межрегиональный промышленно-строительный банк',\n",
              " 'Межрегионбанк',\n",
              " 'Межтопэнергобанк',\n",
              " 'Межтрастбанк',\n",
              " 'Местный Кредит',\n",
              " 'Металлинвестбанк',\n",
              " 'Металлург',\n",
              " 'Меткомбанк (Каменск-Уральский)',\n",
              " 'Меткомбанк (Череповец)',\n",
              " 'Метробанк',\n",
              " 'Метрополь',\n",
              " 'Мигом',\n",
              " 'Мико-Банк',\n",
              " 'Милбанк',\n",
              " 'Миллениум Банк',\n",
              " 'Мираф-Банк',\n",
              " 'Миръ',\n",
              " 'Мой Банк',\n",
              " 'Мой Банк. Ипотека',\n",
              " 'Мой Банк. Новосибирск',\n",
              " 'Монолит',\n",
              " 'Морской Банк',\n",
              " 'Мосводоканалбанк',\n",
              " 'Москва',\n",
              " 'Москва-Сити',\n",
              " 'Московский Вексельный Банк',\n",
              " 'Московский Залоговый Банк',\n",
              " 'Московский Индустриальный Банк',\n",
              " 'Московский Капитал',\n",
              " 'Московский Клиринговый Центр',\n",
              " 'Московский Коммерческий Банк',\n",
              " 'Московский Кредитный Банк',\n",
              " 'Московский Нефтехимический Банк',\n",
              " 'Московский Областной Банк',\n",
              " 'Московское Ипотечное Агентство',\n",
              " 'Москоммерцбанк',\n",
              " 'Мосстройэкономбанк (М Банк)',\n",
              " 'Мультибанк',\n",
              " 'Муниципальный Камчатпрофитбанк',\n",
              " 'НБД-Банк',\n",
              " 'НОМОС-Банк-Сибирь',\n",
              " 'НОМОС-Региобанк',\n",
              " 'НС Банк',\n",
              " 'НСТ-Банк',\n",
              " 'Навигатор',\n",
              " 'Нарат',\n",
              " 'Народный Банк',\n",
              " 'Народный Кредит',\n",
              " 'Нацинвестпромбанк',\n",
              " 'Национальный Банк «Траст»',\n",
              " 'Национальный Банк Развития Бизнеса',\n",
              " 'Национальный Банк Сбережений',\n",
              " 'Национальный Залоговый Банк',\n",
              " 'Национальный Корпоративный Банк',\n",
              " 'Национальный Резервный Банк',\n",
              " 'Национальный Стандарт',\n",
              " 'Национальный Торговый Банк',\n",
              " 'Невастройинвест',\n",
              " 'Невский Банк',\n",
              " 'Независимый Банк Развития',\n",
              " 'Нейва',\n",
              " 'Нефтяной Альянс',\n",
              " 'Нижегородпромстройбанк',\n",
              " 'Нижневолжский Коммерческий Банк',\n",
              " 'Нижний Новгород',\n",
              " 'Нико-Банк',\n",
              " 'НоваховКапиталБанк',\n",
              " 'Новикомбанк',\n",
              " 'Новобанк',\n",
              " 'Новокузнецкий Муниципальный Банк',\n",
              " 'Новопокровский',\n",
              " 'Новосибирский Муниципальный Банк',\n",
              " 'Новый Символ',\n",
              " 'Ноосфера',\n",
              " 'Нордеа Банк',\n",
              " 'Нота-Банк',\n",
              " 'Нэклис-Банк',\n",
              " 'ОПМ-Банк',\n",
              " 'ОТП Банк',\n",
              " 'ОФК Банк',\n",
              " 'Образование',\n",
              " 'Объединенный Банк Промышленных Инвестиций',\n",
              " 'Объединенный Кредитный Банк',\n",
              " 'Объединенный Национальный Банк',\n",
              " 'Объединенный Резервный Банк',\n",
              " 'Огни Москвы',\n",
              " 'Одинбанк',\n",
              " 'Океан Банк',\n",
              " 'Оргбанк',\n",
              " 'Оренбург',\n",
              " 'Охотный Ряд',\n",
              " 'ПВ-Банк',\n",
              " 'ПК-Банк',\n",
              " 'Первобанк',\n",
              " 'Первое\\xa0О.\\xa0В. К.',\n",
              " 'Первомайский',\n",
              " 'Первый Инвестиционный банк',\n",
              " 'Первый Республиканский Банк',\n",
              " 'Первый Чешско-Российский Банк',\n",
              " 'Пересвет',\n",
              " 'Петербург-Инвест',\n",
              " 'Петербургский Социальный Коммерческий Банк',\n",
              " 'Петро-Аэро-Банк',\n",
              " 'Петровка',\n",
              " 'Петровский',\n",
              " 'Петрокоммерц',\n",
              " 'Платежный Центр',\n",
              " 'Платина',\n",
              " 'Плато-Банк',\n",
              " 'Плюс Банк',\n",
              " 'Поволжский Немецкий Банк',\n",
              " 'Пойдем!',\n",
              " 'Потенциал',\n",
              " 'Почтобанк',\n",
              " 'Прайм Финанс',\n",
              " 'Приморье',\n",
              " 'Примсоцбанк',\n",
              " 'Прио-Внешторгбанк',\n",
              " 'Приполярком',\n",
              " 'Природа',\n",
              " 'Пробизнесбанк',\n",
              " 'Прокоммерцбанк',\n",
              " 'Проминвестбанк',\n",
              " 'Промрегионбанк',\n",
              " 'Промсбербанк',\n",
              " 'Промсвязьбанк',\n",
              " 'Промтрансбанк',\n",
              " 'Промышленно-Финансовое Сотрудничество',\n",
              " 'Профессионал Банк',\n",
              " 'Пушкино',\n",
              " 'РИТ-Банк',\n",
              " 'РН Банк',\n",
              " 'РСКБ',\n",
              " 'РТС-Банк',\n",
              " 'РУБанк',\n",
              " 'РФИ Банк',\n",
              " 'Радиан',\n",
              " 'Развитие',\n",
              " 'Развитие-Столица',\n",
              " 'Райффайзенбанк',\n",
              " 'Рапида',\n",
              " 'Региональный Банк Развития',\n",
              " 'Региональный Коммерческий Банк',\n",
              " 'Региональный Корпоративный Банк',\n",
              " 'Региональный Кредит',\n",
              " 'Регнум',\n",
              " 'Резерв',\n",
              " 'Ренессанс',\n",
              " 'Ренессанс Кредит',\n",
              " 'Риабанк',\n",
              " 'Ринвестбанк',\n",
              " 'РосЕвроБанк',\n",
              " 'Росавтобанк',\n",
              " 'Росбанк',\n",
              " 'Росбизнесбанк',\n",
              " 'Росгосстрах Банк',\n",
              " 'Росдорбанк',\n",
              " 'РосинтерБанк',\n",
              " 'Роспромбанк',\n",
              " 'Россельхозбанк',\n",
              " 'Российский Капитал',\n",
              " 'Российский Кредит',\n",
              " 'Российский Национальный Коммерческий Банк',\n",
              " 'Россия',\n",
              " 'Рост',\n",
              " 'Рост Банк',\n",
              " 'Ростпромстройбанк',\n",
              " 'Росэнергобанк',\n",
              " 'Роял Кредит Банк',\n",
              " 'Рублев',\n",
              " 'Рублевский',\n",
              " 'РусЮгбанк',\n",
              " 'Русич Центр Банк',\n",
              " 'Рускобанк',\n",
              " 'Русские Финансовые\\xa0Традиции',\n",
              " 'Русский Банк Сбережений',\n",
              " 'Русский Банкирский Дом',\n",
              " 'Русский Земельный Банк',\n",
              " 'Русский Ипотечный Банк',\n",
              " 'Русский Международный Банк',\n",
              " 'Русский Национальный Банк',\n",
              " 'Русский Стандарт',\n",
              " 'Русский Торговый Банк',\n",
              " 'Русский Трастовый Банк',\n",
              " 'Русский Финансовый Альянс',\n",
              " 'Русславбанк',\n",
              " 'Русстройбанк',\n",
              " 'Русфинанс Банк',\n",
              " 'Русь',\n",
              " 'Русь-Банк-Урал',\n",
              " 'С банк',\n",
              " 'СБ Банк (Судостроительный банк)',\n",
              " 'СДМ-Банк',\n",
              " 'СИАБ',\n",
              " 'СКА-Банк',\n",
              " 'СКБ-Банк',\n",
              " 'СМП Банк',\n",
              " 'СПБРР',\n",
              " 'СЭБ Банк',\n",
              " 'Саммит Банк',\n",
              " 'Саровбизнесбанк',\n",
              " 'Сбербанк России',\n",
              " 'Сведбанк',\n",
              " 'Свердловский Губернский Банк',\n",
              " 'Связной Банк',\n",
              " 'Связь-Банк',\n",
              " 'Северная Казна',\n",
              " 'Северный Народный Банк',\n",
              " 'Сельмашбанк',\n",
              " 'Сетевая Расчетная Палата',\n",
              " 'Сетелем Банк',\n",
              " 'Сиббизнесбанк',\n",
              " 'Сибконтакт',\n",
              " 'Сибнефтебанк',\n",
              " 'Сибэс',\n",
              " 'Система',\n",
              " 'Ситибанк',\n",
              " 'Славия',\n",
              " 'Славянский Банк',\n",
              " 'Славянский Кредит',\n",
              " 'Смартбанк',\n",
              " 'Смоленский Банк',\n",
              " 'Снежинский',\n",
              " 'Собинбанк',\n",
              " 'Соверен Банк',\n",
              " 'Советский',\n",
              " 'Совинком',\n",
              " 'Совкомбанк',\n",
              " 'Современные Стандарты Бизнеса',\n",
              " 'Современный Коммерческий Банк (бывш. ДжиИ Мани Банк)',\n",
              " 'Солид Банк',\n",
              " 'Солидарность (Москва)',\n",
              " 'Солидарность (Самара)',\n",
              " 'Софрино',\n",
              " 'Соцгорбанк',\n",
              " 'Социнвестбанк',\n",
              " 'Соцкредитбанк',\n",
              " 'Союз',\n",
              " 'Союзный',\n",
              " 'Спецсетьстройбанк',\n",
              " 'Спурт Банк',\n",
              " 'Ставропольпромстройбанк',\n",
              " 'Сталь Банк',\n",
              " 'СтарБанк',\n",
              " 'Стелла-Банк',\n",
              " 'Столичный Кредит',\n",
              " 'Столичный Торговый Банк',\n",
              " 'Стратегия',\n",
              " 'Стройкредит',\n",
              " 'Стройлесбанк',\n",
              " 'Стромкомбанк',\n",
              " 'Судкомбанк',\n",
              " 'Сургутнефтегазбанк',\n",
              " 'ТЭМБР-Банк',\n",
              " 'Таатта',\n",
              " 'Таврический',\n",
              " 'Тагилбанк',\n",
              " 'Тайм Банк',\n",
              " 'Тальменка-Банк',\n",
              " 'Тарханы',\n",
              " 'Татагропромбанк',\n",
              " 'Татсоцбанк',\n",
              " 'Татфондбанк',\n",
              " 'Таурус Банк',\n",
              " 'ТверьУниверсалБанк',\n",
              " 'Темпбанк',\n",
              " 'Тетраполис',\n",
              " 'Тимер Банк',\n",
              " 'Тинькофф Банк',\n",
              " 'Тихоокеанский Внешторгбанк',\n",
              " 'Тойота Банк',\n",
              " 'Тольяттихимбанк',\n",
              " 'Торговый Городской Банк',\n",
              " 'Традо-Банк',\n",
              " 'Трансинвестбанк',\n",
              " 'Транскапиталбанк',\n",
              " 'Транскредитбанк',\n",
              " 'Транснациональный Банк',\n",
              " 'Транспортный',\n",
              " 'Трансстройбанк',\n",
              " 'Трастовый Республиканский Банк',\n",
              " 'Тревел Банк',\n",
              " 'Тройка-Д Банк',\n",
              " 'Тульский Промышленник',\n",
              " 'Тульский Промышленник — Московский офис',\n",
              " 'Тульский Расчетный Центр',\n",
              " 'Тусар',\n",
              " 'Тюменьагропромбанк',\n",
              " 'УИК-Банк',\n",
              " 'Углеметбанк',\n",
              " 'Унифин',\n",
              " 'Уралвнешторгбанк',\n",
              " 'Уралкапиталбанк',\n",
              " 'Ураллига',\n",
              " 'Уралприватбанк',\n",
              " 'Уралпромбанк',\n",
              " 'Уралсиб',\n",
              " 'Уралсиб-Юг Банк',\n",
              " 'Уралтрансбанк',\n",
              " 'Уралфинанс',\n",
              " 'Уральский Банк Реконструкции и Развития',\n",
              " 'Уральский Финансовый Дом',\n",
              " 'Ури Банк',\n",
              " 'Уссури',\n",
              " 'ФИА-Банк',\n",
              " 'ФК Открытие (бывш. НОМОС-Банк)',\n",
              " 'Фемили',\n",
              " 'Финам Банк',\n",
              " 'Финанс Бизнес Банк',\n",
              " 'Финансовый Стандарт',\n",
              " 'Финарс Банк',\n",
              " 'Фининвест',\n",
              " 'Финпромбанк (ФПБ Банк)',\n",
              " 'Фольксваген Банк Рус',\n",
              " 'Фондсервисбанк',\n",
              " 'Фора-Банк',\n",
              " 'Форбанк',\n",
              " 'Форпост',\n",
              " 'Форус Банк',\n",
              " 'Форштадт',\n",
              " 'Хакасский Муниципальный Банк',\n",
              " 'Ханты-Мансийский банк Открытие',\n",
              " 'Хованский',\n",
              " 'Холдинг-Кредит',\n",
              " 'Хоум Кредит Банк',\n",
              " 'Хоум-Банк',\n",
              " 'Центр-инвест',\n",
              " 'Центркомбанк',\n",
              " 'ЦентроКредит',\n",
              " 'Церих',\n",
              " 'Чайна Констракшн',\n",
              " 'Челиндбанк',\n",
              " 'Челябинвестбанк',\n",
              " 'Черноморский банк развития и реконструкции',\n",
              " 'Чувашкредитпромбанк',\n",
              " 'Эйч-Эс-Би-Си Банк (HSBC)',\n",
              " 'Эконацбанк',\n",
              " 'Экономбанк',\n",
              " 'Экопромбанк',\n",
              " 'Экси-Банк',\n",
              " 'Эксперт Банк',\n",
              " 'Экспобанк',\n",
              " 'Экспресс',\n",
              " 'Экспресс-Волга',\n",
              " 'Экспресс-Кредит',\n",
              " 'Эл Банк',\n",
              " 'Электроника',\n",
              " 'Эллипс Банк',\n",
              " 'Энергобанк',\n",
              " 'Энергомашбанк',\n",
              " 'Энерготрансбанк',\n",
              " 'Эргобанк',\n",
              " 'Эсидбанк',\n",
              " 'Эталонбанк',\n",
              " 'ЮГ-Инвестбанк',\n",
              " 'Юго-Восток',\n",
              " 'Югра',\n",
              " 'Южный Регион',\n",
              " 'Южный Региональный Банк',\n",
              " 'Южный Торговый Банк',\n",
              " 'ЮниКредит Банк',\n",
              " 'Юниаструм Банк',\n",
              " 'Юникбанк',\n",
              " 'Юникорбанк',\n",
              " 'Юнистрим',\n",
              " 'ЯР-Банк',\n",
              " 'Яндекс.Деньги',\n",
              " 'Ярославич',\n",
              " 'Ярсоцбанк']"
            ]
          },
          "metadata": {},
          "execution_count": 12
        }
      ]
    },
    {
      "cell_type": "markdown",
      "source": [
        "На мой взгляд, с названиями банков всё в порядке. Встречается \"задвоенность\" (например, ВТБ - ВТБ 24 - ВТБ Северо-Запад). В целом, названия банков можно оставить в таком виде."
      ],
      "metadata": {
        "id": "xZMwuRKKHeK-"
      }
    },
    {
      "cell_type": "code",
      "source": [
        "df.city.value_counts(dropna=False).sort_index(ascending=True) # кол-во вхождений по городам с сортировкой по алфавиту и учётом None"
      ],
      "metadata": {
        "colab": {
          "base_uri": "https://localhost:8080/"
        },
        "id": "-a9HMV9jUDvh",
        "outputId": "936abc49-5c23-4867-c8d0-394369b6ed27"
      },
      "execution_count": null,
      "outputs": [
        {
          "output_type": "execute_result",
          "data": {
            "text/plain": [
              "г.  (Красногорск)                              1\n",
              "г.  (Москва)                                   2\n",
              "г.  (Россия)                                   1\n",
              "г.  (Ханты-Мансийский автономный округ)        1\n",
              "г. -                                           1\n",
              "                                           ...  \n",
              "г. янаул                                       2\n",
              "г. ярославль                                  12\n",
              "г. ярцево                                      2\n",
              "г. … или другой населенный пункт               1\n",
              "None                                       15174\n",
              "Name: city, Length: 5824, dtype: int64"
            ]
          },
          "metadata": {},
          "execution_count": 13
        }
      ]
    },
    {
      "cell_type": "markdown",
      "source": [
        "Названия городов требуют обработки. Много пропущенных значений, скобки и т.п."
      ],
      "metadata": {
        "id": "0exFVVRRIoaV"
      }
    },
    {
      "cell_type": "code",
      "source": [
        "#!pip install natasha\n",
        "# natasha — это библиотека для извлечения именованных сущностей на основе Yargy-парсера и CRF, плюс некоторое количество предобученных моделей,\n",
        "# например, для извлечения имен."
      ],
      "metadata": {
        "id": "iAOMKOIlJ0tj"
      },
      "execution_count": null,
      "outputs": []
    },
    {
      "cell_type": "code",
      "source": [
        "#!pip install natasha<1 yargy<0.13 # Чтобы использовать старый NamesExtractor, AddressExtactor понизьте версию pip install natasha<1 yargy<0.13"
      ],
      "metadata": {
        "colab": {
          "base_uri": "https://localhost:8080/"
        },
        "id": "sc3B4NEpXmUb",
        "outputId": "8373dcf4-1478-4d96-b40e-5ad2c92b43ea"
      },
      "execution_count": null,
      "outputs": [
        {
          "output_type": "stream",
          "name": "stdout",
          "text": [
            "/bin/bash: 1: No such file or directory\n"
          ]
        }
      ]
    },
    {
      "cell_type": "code",
      "source": [
        "!pip install \"natasha<1\" \"yargy<0.13\""
      ],
      "metadata": {
        "colab": {
          "base_uri": "https://localhost:8080/"
        },
        "id": "2InDV388z5Bn",
        "outputId": "e91d3980-2206-4c0c-d24c-4579cf8bddce"
      },
      "execution_count": null,
      "outputs": [
        {
          "output_type": "stream",
          "name": "stdout",
          "text": [
            "Looking in indexes: https://pypi.org/simple, https://us-python.pkg.dev/colab-wheels/public/simple/\n",
            "Collecting natasha<1\n",
            "  Downloading natasha-0.10.0-py2.py3-none-any.whl (777 kB)\n",
            "\u001b[2K     \u001b[90m━━━━━━━━━━━━━━━━━━━━━━━━━━━━━━━━━━━━━━\u001b[0m \u001b[32m777.9/777.9 kB\u001b[0m \u001b[31m37.4 MB/s\u001b[0m eta \u001b[36m0:00:00\u001b[0m\n",
            "\u001b[?25hCollecting yargy<0.13\n",
            "  Downloading yargy-0.12.0-py2.py3-none-any.whl (41 kB)\n",
            "\u001b[2K     \u001b[90m━━━━━━━━━━━━━━━━━━━━━━━━━━━━━━━━━━━━━━━━\u001b[0m \u001b[32m41.5/41.5 kB\u001b[0m \u001b[31m4.3 MB/s\u001b[0m eta \u001b[36m0:00:00\u001b[0m\n",
            "\u001b[?25hCollecting pymorphy2==0.8\n",
            "  Downloading pymorphy2-0.8-py2.py3-none-any.whl (46 kB)\n",
            "\u001b[2K     \u001b[90m━━━━━━━━━━━━━━━━━━━━━━━━━━━━━━━━━━━━━━━━\u001b[0m \u001b[32m46.1/46.1 kB\u001b[0m \u001b[31m5.8 MB/s\u001b[0m eta \u001b[36m0:00:00\u001b[0m\n",
            "\u001b[?25hCollecting backports.functools-lru-cache==1.3\n",
            "  Downloading backports.functools_lru_cache-1.3-py2.py3-none-any.whl (6.2 kB)\n",
            "Collecting pymorphy2-dicts<3.0,>=2.4\n",
            "  Downloading pymorphy2_dicts-2.4.393442.3710985-py2.py3-none-any.whl (7.1 MB)\n",
            "\u001b[2K     \u001b[90m━━━━━━━━━━━━━━━━━━━━━━━━━━━━━━━━━━━━━━━━\u001b[0m \u001b[32m7.1/7.1 MB\u001b[0m \u001b[31m107.5 MB/s\u001b[0m eta \u001b[36m0:00:00\u001b[0m\n",
            "\u001b[?25hCollecting dawg-python>=0.7\n",
            "  Downloading DAWG_Python-0.7.2-py2.py3-none-any.whl (11 kB)\n",
            "Collecting docopt>=0.6\n",
            "  Downloading docopt-0.6.2.tar.gz (25 kB)\n",
            "  Preparing metadata (setup.py) ... \u001b[?25l\u001b[?25hdone\n",
            "Building wheels for collected packages: docopt\n",
            "  Building wheel for docopt (setup.py) ... \u001b[?25l\u001b[?25hdone\n",
            "  Created wheel for docopt: filename=docopt-0.6.2-py2.py3-none-any.whl size=13721 sha256=18b3d8d26379160da4a5e23f85377764307f89d695825055f3e5f3336df9bfaa\n",
            "  Stored in directory: /root/.cache/pip/wheels/70/4a/46/1309fc853b8d395e60bafaf1b6df7845bdd82c95fd59dd8d2b\n",
            "Successfully built docopt\n",
            "Installing collected packages: pymorphy2-dicts, docopt, dawg-python, backports.functools-lru-cache, pymorphy2, yargy, natasha\n",
            "Successfully installed backports.functools-lru-cache-1.3 dawg-python-0.7.2 docopt-0.6.2 natasha-0.10.0 pymorphy2-0.8 pymorphy2-dicts-2.4.393442.3710985 yargy-0.12.0\n"
          ]
        }
      ]
    },
    {
      "cell_type": "code",
      "source": [
        "from natasha import LocationExtractor"
      ],
      "metadata": {
        "id": "W5AWL359XyCH"
      },
      "execution_count": null,
      "outputs": []
    },
    {
      "cell_type": "code",
      "source": [
        "def extract_city(text):\n",
        "    if isinstance(text, str):\n",
        "        extractor = LocationExtractor()\n",
        "        matches = extractor(text)\n",
        "        if len(matches) > 0:\n",
        "            return matches[0].fact.name\n",
        "        else:\n",
        "            return None\n",
        "    else:\n",
        "        return None"
      ],
      "metadata": {
        "id": "oNOFwiqc0WmV"
      },
      "execution_count": null,
      "outputs": []
    },
    {
      "cell_type": "code",
      "source": [
        "df['city_copy_1'] = df['city'].map(extract_city)"
      ],
      "metadata": {
        "id": "ZoiIoPeLEVy6"
      },
      "execution_count": null,
      "outputs": []
    },
    {
      "cell_type": "code",
      "source": [
        "df.head(1)"
      ],
      "metadata": {
        "colab": {
          "base_uri": "https://localhost:8080/",
          "height": 142
        },
        "id": "wGTEha9mNtQq",
        "outputId": "4061092c-f459-4ec2-838a-df3fbf5dee5e"
      },
      "execution_count": null,
      "outputs": [
        {
          "output_type": "execute_result",
          "data": {
            "text/plain": [
              "        city  rating_not_checked   title  num_comments     bank_license  \\\n",
              "0  г. Москва               False  Жалоба             0  лицензия № 2562   \n",
              "\n",
              "   author bank_name             datetime  \\\n",
              "0  uhnov1   Бинбанк  2015-06-08 12:50:54   \n",
              "\n",
              "                                                text  rating_grade city_copy_1  \n",
              "0  Добрый день! Я не являюсь клиентом банка и пор...           NaN      москва  "
            ],
            "text/html": [
              "\n",
              "  <div id=\"df-db2c2bcb-c2ab-4968-8e85-5aa9f1fee925\">\n",
              "    <div class=\"colab-df-container\">\n",
              "      <div>\n",
              "<style scoped>\n",
              "    .dataframe tbody tr th:only-of-type {\n",
              "        vertical-align: middle;\n",
              "    }\n",
              "\n",
              "    .dataframe tbody tr th {\n",
              "        vertical-align: top;\n",
              "    }\n",
              "\n",
              "    .dataframe thead th {\n",
              "        text-align: right;\n",
              "    }\n",
              "</style>\n",
              "<table border=\"1\" class=\"dataframe\">\n",
              "  <thead>\n",
              "    <tr style=\"text-align: right;\">\n",
              "      <th></th>\n",
              "      <th>city</th>\n",
              "      <th>rating_not_checked</th>\n",
              "      <th>title</th>\n",
              "      <th>num_comments</th>\n",
              "      <th>bank_license</th>\n",
              "      <th>author</th>\n",
              "      <th>bank_name</th>\n",
              "      <th>datetime</th>\n",
              "      <th>text</th>\n",
              "      <th>rating_grade</th>\n",
              "      <th>city_copy_1</th>\n",
              "    </tr>\n",
              "  </thead>\n",
              "  <tbody>\n",
              "    <tr>\n",
              "      <th>0</th>\n",
              "      <td>г. Москва</td>\n",
              "      <td>False</td>\n",
              "      <td>Жалоба</td>\n",
              "      <td>0</td>\n",
              "      <td>лицензия № 2562</td>\n",
              "      <td>uhnov1</td>\n",
              "      <td>Бинбанк</td>\n",
              "      <td>2015-06-08 12:50:54</td>\n",
              "      <td>Добрый день! Я не являюсь клиентом банка и пор...</td>\n",
              "      <td>NaN</td>\n",
              "      <td>москва</td>\n",
              "    </tr>\n",
              "  </tbody>\n",
              "</table>\n",
              "</div>\n",
              "      <button class=\"colab-df-convert\" onclick=\"convertToInteractive('df-db2c2bcb-c2ab-4968-8e85-5aa9f1fee925')\"\n",
              "              title=\"Convert this dataframe to an interactive table.\"\n",
              "              style=\"display:none;\">\n",
              "        \n",
              "  <svg xmlns=\"http://www.w3.org/2000/svg\" height=\"24px\"viewBox=\"0 0 24 24\"\n",
              "       width=\"24px\">\n",
              "    <path d=\"M0 0h24v24H0V0z\" fill=\"none\"/>\n",
              "    <path d=\"M18.56 5.44l.94 2.06.94-2.06 2.06-.94-2.06-.94-.94-2.06-.94 2.06-2.06.94zm-11 1L8.5 8.5l.94-2.06 2.06-.94-2.06-.94L8.5 2.5l-.94 2.06-2.06.94zm10 10l.94 2.06.94-2.06 2.06-.94-2.06-.94-.94-2.06-.94 2.06-2.06.94z\"/><path d=\"M17.41 7.96l-1.37-1.37c-.4-.4-.92-.59-1.43-.59-.52 0-1.04.2-1.43.59L10.3 9.45l-7.72 7.72c-.78.78-.78 2.05 0 2.83L4 21.41c.39.39.9.59 1.41.59.51 0 1.02-.2 1.41-.59l7.78-7.78 2.81-2.81c.8-.78.8-2.07 0-2.86zM5.41 20L4 18.59l7.72-7.72 1.47 1.35L5.41 20z\"/>\n",
              "  </svg>\n",
              "      </button>\n",
              "      \n",
              "  <style>\n",
              "    .colab-df-container {\n",
              "      display:flex;\n",
              "      flex-wrap:wrap;\n",
              "      gap: 12px;\n",
              "    }\n",
              "\n",
              "    .colab-df-convert {\n",
              "      background-color: #E8F0FE;\n",
              "      border: none;\n",
              "      border-radius: 50%;\n",
              "      cursor: pointer;\n",
              "      display: none;\n",
              "      fill: #1967D2;\n",
              "      height: 32px;\n",
              "      padding: 0 0 0 0;\n",
              "      width: 32px;\n",
              "    }\n",
              "\n",
              "    .colab-df-convert:hover {\n",
              "      background-color: #E2EBFA;\n",
              "      box-shadow: 0px 1px 2px rgba(60, 64, 67, 0.3), 0px 1px 3px 1px rgba(60, 64, 67, 0.15);\n",
              "      fill: #174EA6;\n",
              "    }\n",
              "\n",
              "    [theme=dark] .colab-df-convert {\n",
              "      background-color: #3B4455;\n",
              "      fill: #D2E3FC;\n",
              "    }\n",
              "\n",
              "    [theme=dark] .colab-df-convert:hover {\n",
              "      background-color: #434B5C;\n",
              "      box-shadow: 0px 1px 3px 1px rgba(0, 0, 0, 0.15);\n",
              "      filter: drop-shadow(0px 1px 2px rgba(0, 0, 0, 0.3));\n",
              "      fill: #FFFFFF;\n",
              "    }\n",
              "  </style>\n",
              "\n",
              "      <script>\n",
              "        const buttonEl =\n",
              "          document.querySelector('#df-db2c2bcb-c2ab-4968-8e85-5aa9f1fee925 button.colab-df-convert');\n",
              "        buttonEl.style.display =\n",
              "          google.colab.kernel.accessAllowed ? 'block' : 'none';\n",
              "\n",
              "        async function convertToInteractive(key) {\n",
              "          const element = document.querySelector('#df-db2c2bcb-c2ab-4968-8e85-5aa9f1fee925');\n",
              "          const dataTable =\n",
              "            await google.colab.kernel.invokeFunction('convertToInteractive',\n",
              "                                                     [key], {});\n",
              "          if (!dataTable) return;\n",
              "\n",
              "          const docLinkHtml = 'Like what you see? Visit the ' +\n",
              "            '<a target=\"_blank\" href=https://colab.research.google.com/notebooks/data_table.ipynb>data table notebook</a>'\n",
              "            + ' to learn more about interactive tables.';\n",
              "          element.innerHTML = '';\n",
              "          dataTable['output_type'] = 'display_data';\n",
              "          await google.colab.output.renderOutput(dataTable, element);\n",
              "          const docLink = document.createElement('div');\n",
              "          docLink.innerHTML = docLinkHtml;\n",
              "          element.appendChild(docLink);\n",
              "        }\n",
              "      </script>\n",
              "    </div>\n",
              "  </div>\n",
              "  "
            ]
          },
          "metadata": {},
          "execution_count": 18
        }
      ]
    },
    {
      "cell_type": "code",
      "source": [
        "df[['city','city_copy_1']].head(20)"
      ],
      "metadata": {
        "colab": {
          "base_uri": "https://localhost:8080/",
          "height": 677
        },
        "id": "XIAk3WSo7j4v",
        "outputId": "cd5c5bfa-606a-4911-d494-525d5cfebfcd"
      },
      "execution_count": null,
      "outputs": [
        {
          "output_type": "execute_result",
          "data": {
            "text/plain": [
              "                             city  city_copy_1\n",
              "0                       г. Москва       москва\n",
              "1                  г. Новосибирск  новосибирск\n",
              "2                       г. Москва       москва\n",
              "3                   г. Ставрополь   ставрополь\n",
              "4                    г. Челябинск    челябинск\n",
              "5                       г. Москва       москва\n",
              "6                    г. Волгоград    волгоград\n",
              "7                       г. Москва       москва\n",
              "8                        г. Пермь        пермь\n",
              "9               г. Ростов-на-Дону       ростов\n",
              "10                      г. Москва       москва\n",
              "11                     г. Воронеж      воронеж\n",
              "12  г. Таганрог (Ростовская обл.)     таганрог\n",
              "13             г. Санкт-Петербург    петербург\n",
              "14                      г. Москва       москва\n",
              "15              г. Ростов-на-Дону       ростов\n",
              "16                      г. Москва       москва\n",
              "17                    г. Конаково     конаково\n",
              "18                      г. Москва       москва\n",
              "19                      г. Москва       москва"
            ],
            "text/html": [
              "\n",
              "  <div id=\"df-433e52f0-06b7-481f-a383-e4a9fcd835ef\">\n",
              "    <div class=\"colab-df-container\">\n",
              "      <div>\n",
              "<style scoped>\n",
              "    .dataframe tbody tr th:only-of-type {\n",
              "        vertical-align: middle;\n",
              "    }\n",
              "\n",
              "    .dataframe tbody tr th {\n",
              "        vertical-align: top;\n",
              "    }\n",
              "\n",
              "    .dataframe thead th {\n",
              "        text-align: right;\n",
              "    }\n",
              "</style>\n",
              "<table border=\"1\" class=\"dataframe\">\n",
              "  <thead>\n",
              "    <tr style=\"text-align: right;\">\n",
              "      <th></th>\n",
              "      <th>city</th>\n",
              "      <th>city_copy_1</th>\n",
              "    </tr>\n",
              "  </thead>\n",
              "  <tbody>\n",
              "    <tr>\n",
              "      <th>0</th>\n",
              "      <td>г. Москва</td>\n",
              "      <td>москва</td>\n",
              "    </tr>\n",
              "    <tr>\n",
              "      <th>1</th>\n",
              "      <td>г. Новосибирск</td>\n",
              "      <td>новосибирск</td>\n",
              "    </tr>\n",
              "    <tr>\n",
              "      <th>2</th>\n",
              "      <td>г. Москва</td>\n",
              "      <td>москва</td>\n",
              "    </tr>\n",
              "    <tr>\n",
              "      <th>3</th>\n",
              "      <td>г. Ставрополь</td>\n",
              "      <td>ставрополь</td>\n",
              "    </tr>\n",
              "    <tr>\n",
              "      <th>4</th>\n",
              "      <td>г. Челябинск</td>\n",
              "      <td>челябинск</td>\n",
              "    </tr>\n",
              "    <tr>\n",
              "      <th>5</th>\n",
              "      <td>г. Москва</td>\n",
              "      <td>москва</td>\n",
              "    </tr>\n",
              "    <tr>\n",
              "      <th>6</th>\n",
              "      <td>г. Волгоград</td>\n",
              "      <td>волгоград</td>\n",
              "    </tr>\n",
              "    <tr>\n",
              "      <th>7</th>\n",
              "      <td>г. Москва</td>\n",
              "      <td>москва</td>\n",
              "    </tr>\n",
              "    <tr>\n",
              "      <th>8</th>\n",
              "      <td>г. Пермь</td>\n",
              "      <td>пермь</td>\n",
              "    </tr>\n",
              "    <tr>\n",
              "      <th>9</th>\n",
              "      <td>г. Ростов-на-Дону</td>\n",
              "      <td>ростов</td>\n",
              "    </tr>\n",
              "    <tr>\n",
              "      <th>10</th>\n",
              "      <td>г. Москва</td>\n",
              "      <td>москва</td>\n",
              "    </tr>\n",
              "    <tr>\n",
              "      <th>11</th>\n",
              "      <td>г. Воронеж</td>\n",
              "      <td>воронеж</td>\n",
              "    </tr>\n",
              "    <tr>\n",
              "      <th>12</th>\n",
              "      <td>г. Таганрог (Ростовская обл.)</td>\n",
              "      <td>таганрог</td>\n",
              "    </tr>\n",
              "    <tr>\n",
              "      <th>13</th>\n",
              "      <td>г. Санкт-Петербург</td>\n",
              "      <td>петербург</td>\n",
              "    </tr>\n",
              "    <tr>\n",
              "      <th>14</th>\n",
              "      <td>г. Москва</td>\n",
              "      <td>москва</td>\n",
              "    </tr>\n",
              "    <tr>\n",
              "      <th>15</th>\n",
              "      <td>г. Ростов-на-Дону</td>\n",
              "      <td>ростов</td>\n",
              "    </tr>\n",
              "    <tr>\n",
              "      <th>16</th>\n",
              "      <td>г. Москва</td>\n",
              "      <td>москва</td>\n",
              "    </tr>\n",
              "    <tr>\n",
              "      <th>17</th>\n",
              "      <td>г. Конаково</td>\n",
              "      <td>конаково</td>\n",
              "    </tr>\n",
              "    <tr>\n",
              "      <th>18</th>\n",
              "      <td>г. Москва</td>\n",
              "      <td>москва</td>\n",
              "    </tr>\n",
              "    <tr>\n",
              "      <th>19</th>\n",
              "      <td>г. Москва</td>\n",
              "      <td>москва</td>\n",
              "    </tr>\n",
              "  </tbody>\n",
              "</table>\n",
              "</div>\n",
              "      <button class=\"colab-df-convert\" onclick=\"convertToInteractive('df-433e52f0-06b7-481f-a383-e4a9fcd835ef')\"\n",
              "              title=\"Convert this dataframe to an interactive table.\"\n",
              "              style=\"display:none;\">\n",
              "        \n",
              "  <svg xmlns=\"http://www.w3.org/2000/svg\" height=\"24px\"viewBox=\"0 0 24 24\"\n",
              "       width=\"24px\">\n",
              "    <path d=\"M0 0h24v24H0V0z\" fill=\"none\"/>\n",
              "    <path d=\"M18.56 5.44l.94 2.06.94-2.06 2.06-.94-2.06-.94-.94-2.06-.94 2.06-2.06.94zm-11 1L8.5 8.5l.94-2.06 2.06-.94-2.06-.94L8.5 2.5l-.94 2.06-2.06.94zm10 10l.94 2.06.94-2.06 2.06-.94-2.06-.94-.94-2.06-.94 2.06-2.06.94z\"/><path d=\"M17.41 7.96l-1.37-1.37c-.4-.4-.92-.59-1.43-.59-.52 0-1.04.2-1.43.59L10.3 9.45l-7.72 7.72c-.78.78-.78 2.05 0 2.83L4 21.41c.39.39.9.59 1.41.59.51 0 1.02-.2 1.41-.59l7.78-7.78 2.81-2.81c.8-.78.8-2.07 0-2.86zM5.41 20L4 18.59l7.72-7.72 1.47 1.35L5.41 20z\"/>\n",
              "  </svg>\n",
              "      </button>\n",
              "      \n",
              "  <style>\n",
              "    .colab-df-container {\n",
              "      display:flex;\n",
              "      flex-wrap:wrap;\n",
              "      gap: 12px;\n",
              "    }\n",
              "\n",
              "    .colab-df-convert {\n",
              "      background-color: #E8F0FE;\n",
              "      border: none;\n",
              "      border-radius: 50%;\n",
              "      cursor: pointer;\n",
              "      display: none;\n",
              "      fill: #1967D2;\n",
              "      height: 32px;\n",
              "      padding: 0 0 0 0;\n",
              "      width: 32px;\n",
              "    }\n",
              "\n",
              "    .colab-df-convert:hover {\n",
              "      background-color: #E2EBFA;\n",
              "      box-shadow: 0px 1px 2px rgba(60, 64, 67, 0.3), 0px 1px 3px 1px rgba(60, 64, 67, 0.15);\n",
              "      fill: #174EA6;\n",
              "    }\n",
              "\n",
              "    [theme=dark] .colab-df-convert {\n",
              "      background-color: #3B4455;\n",
              "      fill: #D2E3FC;\n",
              "    }\n",
              "\n",
              "    [theme=dark] .colab-df-convert:hover {\n",
              "      background-color: #434B5C;\n",
              "      box-shadow: 0px 1px 3px 1px rgba(0, 0, 0, 0.15);\n",
              "      filter: drop-shadow(0px 1px 2px rgba(0, 0, 0, 0.3));\n",
              "      fill: #FFFFFF;\n",
              "    }\n",
              "  </style>\n",
              "\n",
              "      <script>\n",
              "        const buttonEl =\n",
              "          document.querySelector('#df-433e52f0-06b7-481f-a383-e4a9fcd835ef button.colab-df-convert');\n",
              "        buttonEl.style.display =\n",
              "          google.colab.kernel.accessAllowed ? 'block' : 'none';\n",
              "\n",
              "        async function convertToInteractive(key) {\n",
              "          const element = document.querySelector('#df-433e52f0-06b7-481f-a383-e4a9fcd835ef');\n",
              "          const dataTable =\n",
              "            await google.colab.kernel.invokeFunction('convertToInteractive',\n",
              "                                                     [key], {});\n",
              "          if (!dataTable) return;\n",
              "\n",
              "          const docLinkHtml = 'Like what you see? Visit the ' +\n",
              "            '<a target=\"_blank\" href=https://colab.research.google.com/notebooks/data_table.ipynb>data table notebook</a>'\n",
              "            + ' to learn more about interactive tables.';\n",
              "          element.innerHTML = '';\n",
              "          dataTable['output_type'] = 'display_data';\n",
              "          await google.colab.output.renderOutput(dataTable, element);\n",
              "          const docLink = document.createElement('div');\n",
              "          docLink.innerHTML = docLinkHtml;\n",
              "          element.appendChild(docLink);\n",
              "        }\n",
              "      </script>\n",
              "    </div>\n",
              "  </div>\n",
              "  "
            ]
          },
          "metadata": {},
          "execution_count": 21
        }
      ]
    },
    {
      "cell_type": "code",
      "source": [
        "print(df.city.nunique()) # количество уникальных городов ДО обработки\n",
        "print('________________')\n",
        "print(df.city_copy_1.nunique()) # количество уникальных городов ПОСЛЕ обработки"
      ],
      "metadata": {
        "colab": {
          "base_uri": "https://localhost:8080/"
        },
        "id": "xH7ebMLMOcP_",
        "outputId": "3c527df0-fd59-43fa-f007-13df8bcdd22b"
      },
      "execution_count": null,
      "outputs": [
        {
          "output_type": "stream",
          "name": "stdout",
          "text": [
            "5823\n",
            "________________\n",
            "1532\n"
          ]
        }
      ]
    },
    {
      "cell_type": "code",
      "source": [
        "df.city_copy_1.value_counts(dropna=False).sort_index(ascending=True) # кол-во вхождений по городам с сортировкой по алфавиту и учётом None"
      ],
      "metadata": {
        "colab": {
          "base_uri": "https://localhost:8080/"
        },
        "id": "JPDahqe1O_4q",
        "outputId": "b7f94b4c-db86-460c-e253-11ce6e952a34"
      },
      "execution_count": null,
      "outputs": [
        {
          "output_type": "execute_result",
          "data": {
            "text/plain": [
              "абаз             2\n",
              "абакан         109\n",
              "абашево          2\n",
              "абдулино         1\n",
              "абинск           8\n",
              "             ...  \n",
              "ясногорск        2\n",
              "яхрома           3\n",
              "яшкино           1\n",
              "ёсаратов         1\n",
              "None         18419\n",
              "Name: city_copy_1, Length: 1533, dtype: int64"
            ]
          },
          "metadata": {},
          "execution_count": 23
        }
      ]
    },
    {
      "cell_type": "code",
      "source": [
        "print(df.city.isna().sum()) # пропуски в городах ДО обработки\n",
        "print('----------')\n",
        "print(df.city_copy_1.isna().sum()) # # пропуски в городах ПОСЛЕ обработки"
      ],
      "metadata": {
        "colab": {
          "base_uri": "https://localhost:8080/"
        },
        "id": "XN2wp5UfQUkf",
        "outputId": "3c562527-8586-4f83-dca0-9be1fbab611d"
      },
      "execution_count": null,
      "outputs": [
        {
          "output_type": "stream",
          "name": "stdout",
          "text": [
            "15174\n",
            "----------\n",
            "18419\n"
          ]
        }
      ]
    },
    {
      "cell_type": "code",
      "source": [
        "print('Если удалим все пропуски по городам, то потеряем', round(100-((153499-18419)/153499)*100), '%, это чуть больше допустимых 10%')"
      ],
      "metadata": {
        "colab": {
          "base_uri": "https://localhost:8080/"
        },
        "id": "fZG6sfriZCTO",
        "outputId": "a14ba186-81c7-43c3-8566-e79e6f2251a5"
      },
      "execution_count": null,
      "outputs": [
        {
          "output_type": "stream",
          "name": "stdout",
          "text": [
            "Если удалим все пропуски по городам, то потеряем 12 %, это чуть больше допустимых 10%\n"
          ]
        }
      ]
    },
    {
      "cell_type": "code",
      "source": [
        "df=df.drop(['city'], axis=1) # удалили не нужные далее столбцы"
      ],
      "metadata": {
        "id": "FAVMs1cfToMb"
      },
      "execution_count": null,
      "outputs": []
    },
    {
      "cell_type": "code",
      "source": [
        "df_=df.dropna(subset=['city_copy_1'], axis=0) # удалили пропуски\n",
        "df_.info()"
      ],
      "metadata": {
        "colab": {
          "base_uri": "https://localhost:8080/"
        },
        "id": "RaP_pt_RcRz_",
        "outputId": "71bb8ef1-4776-4a27-9f41-292a20a9674d"
      },
      "execution_count": null,
      "outputs": [
        {
          "output_type": "stream",
          "name": "stdout",
          "text": [
            "<class 'pandas.core.frame.DataFrame'>\n",
            "Int64Index: 135080 entries, 0 to 138946\n",
            "Data columns (total 10 columns):\n",
            " #   Column              Non-Null Count   Dtype  \n",
            "---  ------              --------------   -----  \n",
            " 0   rating_not_checked  135080 non-null  bool   \n",
            " 1   title               135080 non-null  object \n",
            " 2   num_comments        135080 non-null  int64  \n",
            " 3   bank_license        135079 non-null  object \n",
            " 4   author              135079 non-null  object \n",
            " 5   bank_name           135080 non-null  object \n",
            " 6   datetime            135080 non-null  object \n",
            " 7   text                135080 non-null  object \n",
            " 8   rating_grade        73151 non-null   float64\n",
            " 9   city_copy_1         135080 non-null  object \n",
            "dtypes: bool(1), float64(1), int64(1), object(7)\n",
            "memory usage: 10.4+ MB\n"
          ]
        }
      ]
    },
    {
      "cell_type": "code",
      "source": [
        "sorted(df_.city_copy_1.unique()) # смотрим обработанные города \"глазами\""
      ],
      "metadata": {
        "colab": {
          "base_uri": "https://localhost:8080/"
        },
        "id": "rqNJl-wfdDVQ",
        "outputId": "5d632dd8-6517-4cb9-bb12-8e05d8edf6c7"
      },
      "execution_count": null,
      "outputs": [
        {
          "output_type": "execute_result",
          "data": {
            "text/plain": [
              "['абаз',\n",
              " 'абакан',\n",
              " 'абашево',\n",
              " 'абдулино',\n",
              " 'абинск',\n",
              " 'абинский район',\n",
              " 'авсюнино',\n",
              " 'агалатовое',\n",
              " 'агаповка',\n",
              " 'агидель',\n",
              " 'агинское',\n",
              " 'агрыз',\n",
              " 'адлер',\n",
              " 'адыгея',\n",
              " 'азнакаево',\n",
              " 'азнакаевский район',\n",
              " 'азов',\n",
              " 'академгородок',\n",
              " 'аксай',\n",
              " 'аксаковое',\n",
              " 'актау',\n",
              " 'алабушево',\n",
              " 'алания',\n",
              " 'алапаевск',\n",
              " 'алатырь',\n",
              " 'алдан',\n",
              " 'алейск',\n",
              " 'александр',\n",
              " 'александровск',\n",
              " 'алексеевка',\n",
              " 'алексин',\n",
              " 'алматы',\n",
              " 'алтайск',\n",
              " 'алтайский край',\n",
              " 'алушта',\n",
              " 'альметьевск',\n",
              " 'альмтеьевск',\n",
              " 'амур',\n",
              " 'амурск',\n",
              " 'амурская область',\n",
              " 'анадырь',\n",
              " 'анапа',\n",
              " 'ангарск',\n",
              " 'андреаполь',\n",
              " 'андреевка',\n",
              " 'анжеро',\n",
              " 'анучиное',\n",
              " 'апастовое',\n",
              " 'апатит',\n",
              " 'апрелевка',\n",
              " 'апшеронск',\n",
              " 'арамиль',\n",
              " 'аранск',\n",
              " 'ардатов',\n",
              " 'арзамас',\n",
              " 'аркадак',\n",
              " 'армавир',\n",
              " 'армянск',\n",
              " 'арсеньев',\n",
              " 'артемовский',\n",
              " 'артём',\n",
              " 'архангельск',\n",
              " 'архангельская область',\n",
              " 'асино',\n",
              " 'аскарово',\n",
              " 'асрахань',\n",
              " 'астан',\n",
              " 'астраханская обл',\n",
              " 'астраханская область',\n",
              " 'астрахань',\n",
              " 'аткарск',\n",
              " 'атырау',\n",
              " 'афина',\n",
              " 'ахтубинск',\n",
              " 'ачинск',\n",
              " 'аша',\n",
              " 'ашхабад',\n",
              " 'бабаево',\n",
              " 'бавлы',\n",
              " 'баево',\n",
              " 'байкальск',\n",
              " 'баймак',\n",
              " 'бакал',\n",
              " 'баксан',\n",
              " 'баку',\n",
              " 'балабаново',\n",
              " 'балакирево',\n",
              " 'балаково',\n",
              " 'балахна',\n",
              " 'балахнинский район',\n",
              " 'балахта',\n",
              " 'балашиха',\n",
              " 'балашов',\n",
              " 'балезино',\n",
              " 'балей',\n",
              " 'балтийск',\n",
              " 'балтимор',\n",
              " 'бангкок',\n",
              " 'банковск',\n",
              " 'барабинск',\n",
              " 'баранович',\n",
              " 'барнаул',\n",
              " 'барселона',\n",
              " 'барыш',\n",
              " 'батайск',\n",
              " 'бахтемир',\n",
              " 'башкирия',\n",
              " 'башкортостан',\n",
              " 'башмаковое',\n",
              " 'бежецк',\n",
              " 'безенчук',\n",
              " 'бей',\n",
              " 'беларусь',\n",
              " 'белая калитва',\n",
              " 'белая холуница',\n",
              " 'белгоро',\n",
              " 'белгород',\n",
              " 'белгородская обл',\n",
              " 'белгородская область',\n",
              " 'белебей',\n",
              " 'белово',\n",
              " 'белогорск',\n",
              " 'белозерск',\n",
              " 'белокуриха',\n",
              " 'беломорск',\n",
              " 'белорецк',\n",
              " 'белореченск',\n",
              " 'бендеры',\n",
              " 'бердск',\n",
              " 'бердянск',\n",
              " 'березники',\n",
              " 'березовка',\n",
              " 'берлин',\n",
              " 'биййск',\n",
              " 'бийск',\n",
              " 'бикин',\n",
              " 'билибино',\n",
              " 'биробиджан',\n",
              " 'бирск',\n",
              " 'бишкек',\n",
              " 'благовещенка',\n",
              " 'благовещенск',\n",
              " 'бобров',\n",
              " 'бобруйск',\n",
              " 'богородицк',\n",
              " 'богородск',\n",
              " 'боготол',\n",
              " 'богучан',\n",
              " 'богучар',\n",
              " 'бодайбо',\n",
              " 'бокситогорск',\n",
              " 'бологое',\n",
              " 'болотное',\n",
              " 'большаковое',\n",
              " 'большая черниговка',\n",
              " 'большеречье',\n",
              " 'бордо',\n",
              " 'борзя',\n",
              " 'борисовка',\n",
              " 'борисоглебск',\n",
              " 'боровичи',\n",
              " 'боровск',\n",
              " 'бородино',\n",
              " 'братислава',\n",
              " 'братск',\n",
              " 'бреда',\n",
              " 'бристоль',\n",
              " 'бронницы',\n",
              " 'брюссель',\n",
              " 'брянск',\n",
              " 'брянская обл',\n",
              " 'брянская область',\n",
              " 'буг',\n",
              " 'бугульма',\n",
              " 'бугуруслан',\n",
              " 'будапешт',\n",
              " 'буденновск',\n",
              " 'будённовск',\n",
              " 'буздякский район',\n",
              " 'бузулук',\n",
              " 'буинск',\n",
              " 'буй',\n",
              " 'буйнакск',\n",
              " 'булгаковое',\n",
              " 'бурятия',\n",
              " 'бутурлиновка',\n",
              " 'бухарест',\n",
              " 'валдай',\n",
              " 'валуйки',\n",
              " 'ванино',\n",
              " 'ванинский район',\n",
              " 'ванкувер',\n",
              " 'варна',\n",
              " 'великий новгород',\n",
              " 'великий устюг',\n",
              " 'великийновгород',\n",
              " 'великое',\n",
              " 'величаевское',\n",
              " 'вельск',\n",
              " 'венгрия',\n",
              " 'вербилки',\n",
              " 'верещагино',\n",
              " 'верхнеуральск',\n",
              " 'верхний баскунчак',\n",
              " 'верхний уфалей',\n",
              " 'верхняя пышма',\n",
              " 'верхняя салда',\n",
              " 'верхняя тура',\n",
              " 'верхошижемье',\n",
              " 'весьегонск',\n",
              " 'ветлуга',\n",
              " 'видное',\n",
              " 'вилючинск',\n",
              " 'витебск',\n",
              " 'вихоревка',\n",
              " 'вичуга',\n",
              " 'вишневогорск',\n",
              " 'владивосток',\n",
              " 'владикавкавказ',\n",
              " 'владикавказ',\n",
              " 'владимир',\n",
              " 'владимиркая область',\n",
              " 'владимирская обл',\n",
              " 'владимирская область',\n",
              " 'вогодонск',\n",
              " 'возжаевка',\n",
              " 'волга',\n",
              " 'волгоград',\n",
              " 'волгоградская обл',\n",
              " 'волгоградская область',\n",
              " 'волгодонск',\n",
              " 'волгодонской район',\n",
              " 'волгореченск',\n",
              " 'волжск',\n",
              " 'волжский',\n",
              " 'вологда',\n",
              " 'вологодская обл',\n",
              " 'вологодская область',\n",
              " 'волограда',\n",
              " 'волоградская обл',\n",
              " 'володарск',\n",
              " 'волоколамск',\n",
              " 'волоконовка',\n",
              " 'волосовое',\n",
              " 'волочек',\n",
              " 'волхов',\n",
              " 'волчихинский район',\n",
              " 'вольск',\n",
              " 'вооронеж',\n",
              " 'воркута',\n",
              " 'воронеж',\n",
              " 'воронежская обл',\n",
              " 'воронежская область',\n",
              " 'воротынск',\n",
              " 'ворсма',\n",
              " 'воскресенск',\n",
              " 'восяхово',\n",
              " 'воткинск',\n",
              " 'всеволожск',\n",
              " 'всеволожский район',\n",
              " 'вуктыл',\n",
              " 'выборг',\n",
              " 'выдрино',\n",
              " 'выкса',\n",
              " 'высоковск',\n",
              " 'вытегра',\n",
              " 'вышний волочек',\n",
              " 'вязники',\n",
              " 'вязьма',\n",
              " 'вятка',\n",
              " 'гавриловка',\n",
              " 'гагарин',\n",
              " 'гагино',\n",
              " 'гаджиевое',\n",
              " 'галич',\n",
              " 'гальбштадт',\n",
              " 'гатчина',\n",
              " 'гвардейск',\n",
              " 'гдов',\n",
              " 'геленджик',\n",
              " 'георгиевск',\n",
              " 'германия',\n",
              " 'глазов',\n",
              " 'глушково',\n",
              " 'голицыно',\n",
              " 'головино',\n",
              " 'голышмановое',\n",
              " 'гомель',\n",
              " 'горбатов',\n",
              " 'горка',\n",
              " 'горнозаводск',\n",
              " 'горноправдинск',\n",
              " 'город алматы',\n",
              " 'город волжский',\n",
              " 'город геленджик',\n",
              " 'город домодедово',\n",
              " 'город екатеринбург',\n",
              " 'город ефрем',\n",
              " 'город иваново',\n",
              " 'город искитим',\n",
              " 'город казань',\n",
              " 'город кемеров',\n",
              " 'город кстово',\n",
              " 'город москва',\n",
              " 'город нижний новгород',\n",
              " 'город оленегорск',\n",
              " 'город пермь',\n",
              " 'город подольск',\n",
              " 'город псков',\n",
              " 'город пятигорск',\n",
              " 'город северск',\n",
              " 'город тула',\n",
              " 'город тюмень',\n",
              " 'город ульяновск',\n",
              " 'город череповец',\n",
              " 'городец',\n",
              " 'городовиковск',\n",
              " 'городок',\n",
              " 'гороховец',\n",
              " 'горшковое',\n",
              " 'грайворон',\n",
              " 'грайворонский район',\n",
              " 'грозный',\n",
              " 'грязовец',\n",
              " 'гуанчжоу',\n",
              " 'губаха',\n",
              " 'губкин',\n",
              " 'гуково',\n",
              " 'гулькевичи',\n",
              " 'гулькевичский район',\n",
              " 'гурьевск',\n",
              " 'гусев',\n",
              " 'гусиноозерск',\n",
              " 'давлеканово',\n",
              " 'давыдовка',\n",
              " 'давыдовое',\n",
              " 'даллас',\n",
              " 'дальнегорск',\n",
              " 'дальнереченск',\n",
              " 'дальний восток',\n",
              " 'данил',\n",
              " 'даниловка',\n",
              " 'данков',\n",
              " 'даугавпилс',\n",
              " 'деденево',\n",
              " 'дедовск',\n",
              " 'демид',\n",
              " 'дербент',\n",
              " 'десногорск',\n",
              " 'джанкой',\n",
              " 'дзержинск',\n",
              " 'дзержинский',\n",
              " 'дивеево',\n",
              " 'дивногорск',\n",
              " 'димитровград',\n",
              " 'динская',\n",
              " 'дмитр',\n",
              " 'дмитровск',\n",
              " 'днепропетровск',\n",
              " 'добринка',\n",
              " 'добрянка',\n",
              " 'долгопрудный',\n",
              " 'долгорудный',\n",
              " 'долгоруковое',\n",
              " 'долинск',\n",
              " 'домодедово',\n",
              " 'дон',\n",
              " 'донецк',\n",
              " 'дорогобуж',\n",
              " 'дорохово',\n",
              " 'дрезна',\n",
              " 'дрожжановский район',\n",
              " 'дружная горка',\n",
              " 'дубай',\n",
              " 'дублин',\n",
              " 'дубна',\n",
              " 'дубовка',\n",
              " 'дубровка',\n",
              " 'дудинка',\n",
              " 'дюберцы',\n",
              " 'дюртюли',\n",
              " 'дятьково',\n",
              " 'еатеринбург',\n",
              " 'евпатория',\n",
              " 'егорьевск',\n",
              " 'ейск',\n",
              " 'екатееринбург',\n",
              " 'екатеренбург',\n",
              " 'екатерибург',\n",
              " 'екатеринбург',\n",
              " 'екатериновка',\n",
              " 'екатеринург',\n",
              " 'екатеринюург',\n",
              " 'екатнринбург',\n",
              " 'екатринбург',\n",
              " 'екаттеринбург',\n",
              " 'елабуга',\n",
              " 'еланский район',\n",
              " 'елань',\n",
              " 'елец',\n",
              " 'елизово',\n",
              " 'еманжелинск',\n",
              " 'емва',\n",
              " 'емельяновое',\n",
              " 'енисейск',\n",
              " 'ермолаево',\n",
              " 'ершовый',\n",
              " 'ессентуки',\n",
              " 'етербург',\n",
              " 'ефрем',\n",
              " 'жаворонок',\n",
              " 'железноводск',\n",
              " 'железногорск',\n",
              " 'железногрск',\n",
              " 'жердевка',\n",
              " 'жигулевск',\n",
              " 'жигулёвск',\n",
              " 'жирновск',\n",
              " 'житомир',\n",
              " 'жуковка',\n",
              " 'жуковский',\n",
              " 'жулебино',\n",
              " 'жутовое',\n",
              " 'забайкальск',\n",
              " 'забайкальский край',\n",
              " 'завитинск',\n",
              " 'заводоуковск',\n",
              " 'заволжск',\n",
              " 'заволжье',\n",
              " 'завьяловое',\n",
              " 'завьяловский район',\n",
              " 'загорье',\n",
              " 'задонск',\n",
              " 'заинск',\n",
              " 'заозерск',\n",
              " 'заозёрск',\n",
              " 'запад',\n",
              " 'западная двина',\n",
              " 'запорожье',\n",
              " 'запрудня',\n",
              " 'зарайск',\n",
              " 'заринск',\n",
              " 'зарубино',\n",
              " 'звенигово',\n",
              " 'звенигород',\n",
              " 'зверево',\n",
              " 'звёздный городок',\n",
              " 'зеленогорск',\n",
              " 'зеленоград',\n",
              " 'зеленоградск',\n",
              " 'зеленогрск',\n",
              " 'зеленодольск',\n",
              " 'зеленокумск',\n",
              " 'земетчиное',\n",
              " 'зерноград',\n",
              " 'зея',\n",
              " 'златоуст',\n",
              " 'знаменск',\n",
              " 'ивангород',\n",
              " 'иванново',\n",
              " 'иваново',\n",
              " 'ивановская обл',\n",
              " 'ивановская область',\n",
              " 'ивановское',\n",
              " 'ивантеевка',\n",
              " 'ивдель',\n",
              " 'игрим',\n",
              " 'ижевск',\n",
              " 'избербаш',\n",
              " 'излучинск',\n",
              " 'изобильный',\n",
              " 'израиль',\n",
              " 'икша',\n",
              " 'иланский',\n",
              " 'илецк',\n",
              " 'илимск',\n",
              " 'иловля',\n",
              " 'ильинско',\n",
              " 'имферополь',\n",
              " 'индия',\n",
              " 'иноземцевое',\n",
              " 'инта',\n",
              " 'инясёвое',\n",
              " 'ипатово',\n",
              " 'ирбит',\n",
              " 'иркутсая область',\n",
              " 'иркутск',\n",
              " 'иркутская обл',\n",
              " 'иркутская область',\n",
              " 'ирутск',\n",
              " 'исилькуль',\n",
              " 'искитим',\n",
              " 'исламская республика',\n",
              " 'истра',\n",
              " 'истринский район',\n",
              " 'италия',\n",
              " 'ишим',\n",
              " 'ишимбай',\n",
              " 'йорк',\n",
              " 'кабанск',\n",
              " 'кабардино',\n",
              " 'кавалеровое',\n",
              " 'кадниковое',\n",
              " 'казань',\n",
              " 'казахстан',\n",
              " 'кайеркан',\n",
              " 'калачинск',\n",
              " 'калевала',\n",
              " 'калиниград',\n",
              " 'калининград',\n",
              " 'калининградская обл',\n",
              " 'калининградская область',\n",
              " 'калининск',\n",
              " 'калитино',\n",
              " 'калмыкия',\n",
              " 'калтан',\n",
              " 'калуга',\n",
              " 'калужская обл',\n",
              " 'калужская область',\n",
              " 'калязин',\n",
              " 'каменка',\n",
              " 'каменск',\n",
              " 'камешково',\n",
              " 'камешковский район',\n",
              " 'камчатка',\n",
              " 'камчатский край',\n",
              " 'камышин',\n",
              " 'камышлов',\n",
              " 'канаш',\n",
              " 'кандалакша',\n",
              " 'канск',\n",
              " 'карабаново',\n",
              " 'карабаш',\n",
              " 'караганда',\n",
              " 'каракас',\n",
              " 'каракулино',\n",
              " 'карачаевск',\n",
              " 'карачев',\n",
              " 'каргополь',\n",
              " 'карелия',\n",
              " 'карловка',\n",
              " 'карпинск',\n",
              " 'карпищево',\n",
              " 'карпогоры',\n",
              " 'карталы',\n",
              " 'картмазовое',\n",
              " 'касим',\n",
              " 'касли',\n",
              " 'каспийск',\n",
              " 'катайск',\n",
              " 'качалиное',\n",
              " 'качканар',\n",
              " 'кашин',\n",
              " 'кашира',\n",
              " 'кемерово',\n",
              " 'кемеровская обл',\n",
              " 'кемеровская область',\n",
              " 'кемровое',\n",
              " 'кемь',\n",
              " 'керчь',\n",
              " 'киев',\n",
              " 'кизел',\n",
              " 'кизилюрт',\n",
              " 'кильмезь',\n",
              " 'кимовск',\n",
              " 'кимры',\n",
              " 'кингисепп',\n",
              " 'кинель',\n",
              " 'кинешма',\n",
              " 'киреевск',\n",
              " 'киржач',\n",
              " 'кирилл',\n",
              " 'кириши',\n",
              " 'киров',\n",
              " 'кирово',\n",
              " 'кировск',\n",
              " 'кировская обл',\n",
              " 'кировская область',\n",
              " 'кировский приморский',\n",
              " 'кирс',\n",
              " 'кирсан',\n",
              " 'киселевск',\n",
              " 'киселёвск',\n",
              " 'кисловодск',\n",
              " 'кито',\n",
              " 'кишинев',\n",
              " 'ккинешма',\n",
              " 'ккрасногорский район',\n",
              " 'климовск',\n",
              " 'клин',\n",
              " 'клинцы',\n",
              " 'клявлиное',\n",
              " 'кмеровое',\n",
              " 'княгинино',\n",
              " 'ковдор',\n",
              " 'ковровый',\n",
              " 'когалым',\n",
              " 'кодинск',\n",
              " 'кожевниковое',\n",
              " 'козельск',\n",
              " 'козловка',\n",
              " 'козловое',\n",
              " 'козьмодемьянск',\n",
              " 'кокошкино',\n",
              " 'кола',\n",
              " 'колл',\n",
              " 'коломенский район',\n",
              " 'коломна',\n",
              " 'колонтаево',\n",
              " 'колпашево',\n",
              " 'колпино',\n",
              " 'колывань',\n",
              " 'колыма',\n",
              " 'кольцово',\n",
              " 'кольчугино',\n",
              " 'коми',\n",
              " 'комсомольск',\n",
              " 'конаково',\n",
              " 'кондинский район',\n",
              " 'кондопога',\n",
              " 'кондрово',\n",
              " 'константиновск',\n",
              " 'копейск',\n",
              " 'кораблино',\n",
              " 'кореновск',\n",
              " 'коркино',\n",
              " 'корткерос',\n",
              " 'коряжма',\n",
              " 'кос',\n",
              " 'костанай',\n",
              " 'костерево',\n",
              " 'костомукша',\n",
              " 'кострома',\n",
              " 'костромская обл',\n",
              " 'костромская область',\n",
              " 'котельниково',\n",
              " 'котельнич',\n",
              " 'котлас',\n",
              " 'котово',\n",
              " 'котовск',\n",
              " 'коченевое',\n",
              " 'кпасноярск',\n",
              " 'красавино',\n",
              " 'красгогорск',\n",
              " 'красково',\n",
              " 'красная',\n",
              " 'красноармейск',\n",
              " 'красновишерск',\n",
              " 'красногорск',\n",
              " 'красногорский район',\n",
              " 'красногрск',\n",
              " 'краснодар',\n",
              " 'краснодарск',\n",
              " 'краснодарский край',\n",
              " 'краснозаводск',\n",
              " 'краснознаменск',\n",
              " 'краснокаменск',\n",
              " 'краснокамск',\n",
              " 'краснослободск',\n",
              " 'краснотуранск',\n",
              " 'краснотурьинск',\n",
              " 'красноуральск',\n",
              " 'красноусольск',\n",
              " 'красноуфимск',\n",
              " 'красноярск',\n",
              " 'красноярский край',\n",
              " 'красный сулин',\n",
              " 'краяноярск',\n",
              " 'кременчуг',\n",
              " 'кром',\n",
              " 'кронштадт',\n",
              " 'крсноярск',\n",
              " 'крымск',\n",
              " 'крюково',\n",
              " 'кстово',\n",
              " 'кубань',\n",
              " 'кувандык',\n",
              " 'кудымкар',\n",
              " 'кузнецк',\n",
              " 'кузнецовое',\n",
              " 'кузоватовое',\n",
              " 'куйбышев',\n",
              " 'кулунда',\n",
              " 'кумертау',\n",
              " 'кунгур',\n",
              " 'кунрганный',\n",
              " 'купино',\n",
              " 'курагино',\n",
              " 'курган',\n",
              " 'курганинск',\n",
              " 'курганинский район',\n",
              " 'курганская область',\n",
              " 'куриловкая',\n",
              " 'курильск',\n",
              " 'куринскай',\n",
              " 'куровское',\n",
              " 'курсавка',\n",
              " 'курск',\n",
              " 'курская обл',\n",
              " 'курская область',\n",
              " 'куртамыш',\n",
              " 'курумкан',\n",
              " 'курчалая',\n",
              " 'курчатов',\n",
              " 'куса',\n",
              " 'кутулик',\n",
              " 'кушва',\n",
              " 'кушнаренковое',\n",
              " 'кущёвскай',\n",
              " 'кызыл',\n",
              " 'кыштым',\n",
              " 'кяхта',\n",
              " 'лабинск',\n",
              " 'лабинский район',\n",
              " 'лабытнанги',\n",
              " 'лаганя',\n",
              " 'лакинск',\n",
              " 'лакомая буда',\n",
              " 'лангепас',\n",
              " 'лахденпохья',\n",
              " 'лебедянь',\n",
              " 'ленинград',\n",
              " 'ленинградкая обл',\n",
              " 'ленинградская обл',\n",
              " 'ленинградская область',\n",
              " 'лениногорск',\n",
              " 'ленинск',\n",
              " 'ленинский район',\n",
              " 'лесна',\n",
              " 'лесозаводск',\n",
              " 'лесосибирск',\n",
              " 'ливны',\n",
              " 'ликино',\n",
              " 'лимасол',\n",
              " 'линевое',\n",
              " 'липецк',\n",
              " 'липецкая обл',\n",
              " 'липецкая область',\n",
              " 'лисаковск',\n",
              " 'лиски',\n",
              " 'лихославль',\n",
              " 'лобня',\n",
              " 'лондон',\n",
              " 'лотиковое',\n",
              " 'лотошино',\n",
              " 'луга',\n",
              " 'луганск',\n",
              " 'луза',\n",
              " 'лузино',\n",
              " 'лукоянов',\n",
              " 'лумпур',\n",
              " 'луховицы',\n",
              " 'лучегорск',\n",
              " 'лысково',\n",
              " 'лысьва',\n",
              " 'лыткарино',\n",
              " 'льгов',\n",
              " 'любенин',\n",
              " 'люберецкий район',\n",
              " 'люберцы',\n",
              " 'людиново',\n",
              " 'ляньюньганный',\n",
              " 'магадан',\n",
              " 'магаданская обл',\n",
              " 'магнитка',\n",
              " 'магнитогогрск',\n",
              " 'магнитогорск',\n",
              " 'майкоп',\n",
              " 'макарьев',\n",
              " 'макеевка',\n",
              " 'малаховка',\n",
              " 'малоярославец',\n",
              " 'малоярославецкий район',\n",
              " 'мамадыш',\n",
              " 'мамоново',\n",
              " 'манила',\n",
              " 'манитогорск',\n",
              " 'мансийск',\n",
              " 'мансийский автономный округ',\n",
              " 'мантурово',\n",
              " 'мариинск',\n",
              " 'мариинский посад',\n",
              " 'мариуполь',\n",
              " 'марфино',\n",
              " 'маскат',\n",
              " 'махачкала',\n",
              " 'мга',\n",
              " 'мгнитогорск',\n",
              " 'мегино',\n",
              " 'мегион',\n",
              " 'медногорск',\n",
              " 'междуреченск',\n",
              " 'мелеуз',\n",
              " 'мелитополь',\n",
              " 'менделеево',\n",
              " 'мензелинск',\n",
              " 'мещовск',\n",
              " 'миасс',\n",
              " 'милан',\n",
              " 'миллерово',\n",
              " 'мильковое',\n",
              " 'минск',\n",
              " 'минусинск',\n",
              " 'миньяр',\n",
              " 'мирный',\n",
              " 'михайлов',\n",
              " 'михайловка',\n",
              " 'михайловск',\n",
              " 'мичуринск',\n",
              " 'ммосква',\n",
              " 'можайск',\n",
              " 'можга',\n",
              " 'моздок',\n",
              " 'моква',\n",
              " 'монино',\n",
              " 'монреаль',\n",
              " 'мончегорск',\n",
              " 'мордовия',\n",
              " 'морозовск',\n",
              " 'моршанск',\n",
              " 'москау',\n",
              " 'москва',\n",
              " 'москваа',\n",
              " 'москвабад',\n",
              " 'москвай',\n",
              " 'москваха',\n",
              " 'московская обл',\n",
              " 'московская область',\n",
              " 'мотыгино',\n",
              " 'мсоква',\n",
              " 'мстера',\n",
              " 'муезерский',\n",
              " 'мур',\n",
              " 'муравленко',\n",
              " 'мураш',\n",
              " 'мурино',\n",
              " 'мурманск',\n",
              " 'мурманская обл',\n",
              " 'мурманская область',\n",
              " 'мурмахающий',\n",
              " 'мурсаликино',\n",
              " 'мухосранск',\n",
              " 'мценск',\n",
              " 'мысок',\n",
              " 'мытищи',\n",
              " 'н новгород',\n",
              " 'наб',\n",
              " 'набежный челны',\n",
              " 'навль',\n",
              " 'наволок',\n",
              " 'наговое',\n",
              " 'надым',\n",
              " 'назарово',\n",
              " 'назрань',\n",
              " 'называевск',\n",
              " 'нальчик',\n",
              " 'нариман',\n",
              " 'нарое',\n",
              " 'нарофоминск',\n",
              " 'нарышкино',\n",
              " 'насоново',\n",
              " 'нахабино',\n",
              " 'находка',\n",
              " 'нвоосибирск',\n",
              " 'нгевинномысск',\n",
              " 'нева',\n",
              " 'невельск',\n",
              " 'невинномысск',\n",
              " 'невьянск',\n",
              " 'нелидово',\n",
              " 'неман',\n",
              " 'немосква',\n",
              " 'ненецкий автономный округ',\n",
              " 'нера',\n",
              " 'нерезиновск',\n",
              " 'нерехта',\n",
              " 'нерюнгри',\n",
              " 'нефтевамск',\n",
              " 'нефтегорск',\n",
              " 'нефтекамск',\n",
              " 'нефтекумск',\n",
              " 'нефтеюганск',\n",
              " 'нжний новгород',\n",
              " 'нижегород',\n",
              " 'нижегородская обл',\n",
              " 'нижегородская область',\n",
              " 'нижнеангарск',\n",
              " 'нижневартовск',\n",
              " 'нижнекамск',\n",
              " 'нижнеудинск',\n",
              " 'нижний новгоро',\n",
              " 'нижний новгород',\n",
              " 'нижний новогород',\n",
              " 'нижний тагил',\n",
              " 'нижний уфалей',\n",
              " 'нижнийновгород',\n",
              " 'нижняя салда',\n",
              " 'нижняя тура',\n",
              " 'ниижний новгород',\n",
              " 'николаев',\n",
              " 'николаевск',\n",
              " 'никольск',\n",
              " 'новая адыгея',\n",
              " 'новая купавна',\n",
              " 'новая москва',\n",
              " 'новгород',\n",
              " 'новгородская обл',\n",
              " 'новгородская область',\n",
              " 'новоалександровск',\n",
              " 'новоалтайск',\n",
              " 'новобурановое',\n",
              " 'нововоронеж',\n",
              " 'нововсибирск',\n",
              " 'новогиреево',\n",
              " 'новодвинск',\n",
              " 'новодугино',\n",
              " 'новое девяткино',\n",
              " 'новозыбков',\n",
              " 'новоибирск',\n",
              " 'новокосино',\n",
              " 'новокубанск',\n",
              " 'новокузецк',\n",
              " 'новокузнецк',\n",
              " 'новокузхнецк',\n",
              " 'новокуйбышевск',\n",
              " 'новомичуринск',\n",
              " 'новомосковск',\n",
              " 'новомсковск',\n",
              " 'новоорск',\n",
              " 'новопавловск',\n",
              " 'новопетровское',\n",
              " 'новоросийск',\n",
              " 'новороссийск',\n",
              " 'новорссийск',\n",
              " 'новосбирск',\n",
              " 'новоселовое',\n",
              " 'новосергиевка',\n",
              " 'новосибирск',\n",
              " 'новосибирская область',\n",
              " 'новотроицк',\n",
              " 'новоуральск',\n",
              " 'новочебоксарск',\n",
              " 'новочеркасск',\n",
              " 'новошахтинск',\n",
              " 'новсибирск',\n",
              " 'новчеркасск',\n",
              " 'новый оскол',\n",
              " 'новый уренгой',\n",
              " 'ногинск',\n",
              " 'нолинск',\n",
              " 'норильск',\n",
              " 'ноябрьск',\n",
              " 'нтжневартовск',\n",
              " 'нурлат',\n",
              " 'нытва',\n",
              " 'нюрнберг',\n",
              " 'нягань',\n",
              " 'няндома',\n",
              " 'облучье',\n",
              " 'обнинск',\n",
              " 'оболенск',\n",
              " 'обручёвка',\n",
              " 'обуховое',\n",
              " 'обь',\n",
              " 'одесса',\n",
              " 'одинцов',\n",
              " 'одинцово',\n",
              " 'одинцовский район',\n",
              " 'ожерелье',\n",
              " 'озерецкое',\n",
              " 'озерск',\n",
              " 'озеры',\n",
              " 'озёрск',\n",
              " 'оинцовое',\n",
              " 'оклэнд',\n",
              " 'октябрьск',\n",
              " 'окуловка',\n",
              " 'оленегорск',\n",
              " 'олинцовое',\n",
              " 'омск',\n",
              " 'омская обл',\n",
              " 'омская область',\n",
              " 'омутнинск',\n",
              " 'онгудай',\n",
              " 'онега',\n",
              " 'оноха',\n",
              " 'оребург',\n",
              " 'оренбург',\n",
              " 'оренбургская обл',\n",
              " 'оренбургская область',\n",
              " 'орехово',\n",
              " 'орловская область',\n",
              " 'оронеж',\n",
              " 'орск',\n",
              " 'орёл',\n",
              " 'осинник',\n",
              " 'осиповка',\n",
              " 'останкино',\n",
              " 'осташков',\n",
              " 'острогожск',\n",
              " ...]"
            ]
          },
          "metadata": {},
          "execution_count": 39
        }
      ]
    },
    {
      "cell_type": "markdown",
      "source": [
        "Результат не очень.\n",
        "\n",
        "Например, Москва присутствует в таких вариантах: 'москва', 'москваа', 'москвабад', 'москвай', 'москваха'. Есть город \"ёсаратов\". Встречаются такие как 'город тула'. Также вместо городов встречаются названия областей и районов.\n",
        "\n",
        "Но, конечно, лучше чем было.\n",
        "\n",
        "Дальше в задании я не вижу задач, связанных с названиями городов, поэтому не стоит делать более глубокую обработку городов.\n",
        "\n"
      ],
      "metadata": {
        "id": "Iqoo48Y9dkeA"
      }
    },
    {
      "cell_type": "code",
      "source": [
        "# количество отзывов в разных городах и на разные банки\n",
        "df_count = df_.groupby(['bank_name', 'city_copy_1']).size().reset_index(name='Count').sort_values(by='Count', ascending=False)\n",
        "df_count"
      ],
      "metadata": {
        "colab": {
          "base_uri": "https://localhost:8080/",
          "height": 424
        },
        "id": "jEP2_xIfebLq",
        "outputId": "70e72964-93aa-495f-8ab7-4368afd39145"
      },
      "execution_count": null,
      "outputs": [
        {
          "output_type": "execute_result",
          "data": {
            "text/plain": [
              "             bank_name   city_copy_1  Count\n",
              "8495   Сбербанк России        москва   8435\n",
              "665         Альфа-Банк        москва   4006\n",
              "7319  Русский Стандарт        москва   2930\n",
              "1818            ВТБ 24        москва   2783\n",
              "8618   Сбербанк России     петербург   2627\n",
              "...                ...           ...    ...\n",
              "5460       Образование     волгоград      1\n",
              "5459       Образование      владимир      1\n",
              "5458          ОФК Банк      мурманск      1\n",
              "5454          ОТП Банк   южноуральск      1\n",
              "6066    Райффайзенбанк  благовещенск      1\n",
              "\n",
              "[12133 rows x 3 columns]"
            ],
            "text/html": [
              "\n",
              "  <div id=\"df-5b7e3720-1ab0-4314-82c7-009630362149\">\n",
              "    <div class=\"colab-df-container\">\n",
              "      <div>\n",
              "<style scoped>\n",
              "    .dataframe tbody tr th:only-of-type {\n",
              "        vertical-align: middle;\n",
              "    }\n",
              "\n",
              "    .dataframe tbody tr th {\n",
              "        vertical-align: top;\n",
              "    }\n",
              "\n",
              "    .dataframe thead th {\n",
              "        text-align: right;\n",
              "    }\n",
              "</style>\n",
              "<table border=\"1\" class=\"dataframe\">\n",
              "  <thead>\n",
              "    <tr style=\"text-align: right;\">\n",
              "      <th></th>\n",
              "      <th>bank_name</th>\n",
              "      <th>city_copy_1</th>\n",
              "      <th>Count</th>\n",
              "    </tr>\n",
              "  </thead>\n",
              "  <tbody>\n",
              "    <tr>\n",
              "      <th>8495</th>\n",
              "      <td>Сбербанк России</td>\n",
              "      <td>москва</td>\n",
              "      <td>8435</td>\n",
              "    </tr>\n",
              "    <tr>\n",
              "      <th>665</th>\n",
              "      <td>Альфа-Банк</td>\n",
              "      <td>москва</td>\n",
              "      <td>4006</td>\n",
              "    </tr>\n",
              "    <tr>\n",
              "      <th>7319</th>\n",
              "      <td>Русский Стандарт</td>\n",
              "      <td>москва</td>\n",
              "      <td>2930</td>\n",
              "    </tr>\n",
              "    <tr>\n",
              "      <th>1818</th>\n",
              "      <td>ВТБ 24</td>\n",
              "      <td>москва</td>\n",
              "      <td>2783</td>\n",
              "    </tr>\n",
              "    <tr>\n",
              "      <th>8618</th>\n",
              "      <td>Сбербанк России</td>\n",
              "      <td>петербург</td>\n",
              "      <td>2627</td>\n",
              "    </tr>\n",
              "    <tr>\n",
              "      <th>...</th>\n",
              "      <td>...</td>\n",
              "      <td>...</td>\n",
              "      <td>...</td>\n",
              "    </tr>\n",
              "    <tr>\n",
              "      <th>5460</th>\n",
              "      <td>Образование</td>\n",
              "      <td>волгоград</td>\n",
              "      <td>1</td>\n",
              "    </tr>\n",
              "    <tr>\n",
              "      <th>5459</th>\n",
              "      <td>Образование</td>\n",
              "      <td>владимир</td>\n",
              "      <td>1</td>\n",
              "    </tr>\n",
              "    <tr>\n",
              "      <th>5458</th>\n",
              "      <td>ОФК Банк</td>\n",
              "      <td>мурманск</td>\n",
              "      <td>1</td>\n",
              "    </tr>\n",
              "    <tr>\n",
              "      <th>5454</th>\n",
              "      <td>ОТП Банк</td>\n",
              "      <td>южноуральск</td>\n",
              "      <td>1</td>\n",
              "    </tr>\n",
              "    <tr>\n",
              "      <th>6066</th>\n",
              "      <td>Райффайзенбанк</td>\n",
              "      <td>благовещенск</td>\n",
              "      <td>1</td>\n",
              "    </tr>\n",
              "  </tbody>\n",
              "</table>\n",
              "<p>12133 rows × 3 columns</p>\n",
              "</div>\n",
              "      <button class=\"colab-df-convert\" onclick=\"convertToInteractive('df-5b7e3720-1ab0-4314-82c7-009630362149')\"\n",
              "              title=\"Convert this dataframe to an interactive table.\"\n",
              "              style=\"display:none;\">\n",
              "        \n",
              "  <svg xmlns=\"http://www.w3.org/2000/svg\" height=\"24px\"viewBox=\"0 0 24 24\"\n",
              "       width=\"24px\">\n",
              "    <path d=\"M0 0h24v24H0V0z\" fill=\"none\"/>\n",
              "    <path d=\"M18.56 5.44l.94 2.06.94-2.06 2.06-.94-2.06-.94-.94-2.06-.94 2.06-2.06.94zm-11 1L8.5 8.5l.94-2.06 2.06-.94-2.06-.94L8.5 2.5l-.94 2.06-2.06.94zm10 10l.94 2.06.94-2.06 2.06-.94-2.06-.94-.94-2.06-.94 2.06-2.06.94z\"/><path d=\"M17.41 7.96l-1.37-1.37c-.4-.4-.92-.59-1.43-.59-.52 0-1.04.2-1.43.59L10.3 9.45l-7.72 7.72c-.78.78-.78 2.05 0 2.83L4 21.41c.39.39.9.59 1.41.59.51 0 1.02-.2 1.41-.59l7.78-7.78 2.81-2.81c.8-.78.8-2.07 0-2.86zM5.41 20L4 18.59l7.72-7.72 1.47 1.35L5.41 20z\"/>\n",
              "  </svg>\n",
              "      </button>\n",
              "      \n",
              "  <style>\n",
              "    .colab-df-container {\n",
              "      display:flex;\n",
              "      flex-wrap:wrap;\n",
              "      gap: 12px;\n",
              "    }\n",
              "\n",
              "    .colab-df-convert {\n",
              "      background-color: #E8F0FE;\n",
              "      border: none;\n",
              "      border-radius: 50%;\n",
              "      cursor: pointer;\n",
              "      display: none;\n",
              "      fill: #1967D2;\n",
              "      height: 32px;\n",
              "      padding: 0 0 0 0;\n",
              "      width: 32px;\n",
              "    }\n",
              "\n",
              "    .colab-df-convert:hover {\n",
              "      background-color: #E2EBFA;\n",
              "      box-shadow: 0px 1px 2px rgba(60, 64, 67, 0.3), 0px 1px 3px 1px rgba(60, 64, 67, 0.15);\n",
              "      fill: #174EA6;\n",
              "    }\n",
              "\n",
              "    [theme=dark] .colab-df-convert {\n",
              "      background-color: #3B4455;\n",
              "      fill: #D2E3FC;\n",
              "    }\n",
              "\n",
              "    [theme=dark] .colab-df-convert:hover {\n",
              "      background-color: #434B5C;\n",
              "      box-shadow: 0px 1px 3px 1px rgba(0, 0, 0, 0.15);\n",
              "      filter: drop-shadow(0px 1px 2px rgba(0, 0, 0, 0.3));\n",
              "      fill: #FFFFFF;\n",
              "    }\n",
              "  </style>\n",
              "\n",
              "      <script>\n",
              "        const buttonEl =\n",
              "          document.querySelector('#df-5b7e3720-1ab0-4314-82c7-009630362149 button.colab-df-convert');\n",
              "        buttonEl.style.display =\n",
              "          google.colab.kernel.accessAllowed ? 'block' : 'none';\n",
              "\n",
              "        async function convertToInteractive(key) {\n",
              "          const element = document.querySelector('#df-5b7e3720-1ab0-4314-82c7-009630362149');\n",
              "          const dataTable =\n",
              "            await google.colab.kernel.invokeFunction('convertToInteractive',\n",
              "                                                     [key], {});\n",
              "          if (!dataTable) return;\n",
              "\n",
              "          const docLinkHtml = 'Like what you see? Visit the ' +\n",
              "            '<a target=\"_blank\" href=https://colab.research.google.com/notebooks/data_table.ipynb>data table notebook</a>'\n",
              "            + ' to learn more about interactive tables.';\n",
              "          element.innerHTML = '';\n",
              "          dataTable['output_type'] = 'display_data';\n",
              "          await google.colab.output.renderOutput(dataTable, element);\n",
              "          const docLink = document.createElement('div');\n",
              "          docLink.innerHTML = docLinkHtml;\n",
              "          element.appendChild(docLink);\n",
              "        }\n",
              "      </script>\n",
              "    </div>\n",
              "  </div>\n",
              "  "
            ]
          },
          "metadata": {},
          "execution_count": 40
        }
      ]
    },
    {
      "cell_type": "markdown",
      "source": [
        "Далее сокращу объем датасета, оставив города с максимальным количеством отзывов."
      ],
      "metadata": {
        "id": "1bPSUkA3KaK1"
      }
    },
    {
      "cell_type": "code",
      "source": [
        "df_city_count = df_.groupby(['city_copy_1']).size().reset_index(name='Count').sort_values(by='Count', ascending=False)\n",
        "df_city_count"
      ],
      "metadata": {
        "colab": {
          "base_uri": "https://localhost:8080/",
          "height": 424
        },
        "id": "vKjxlOEYKiaW",
        "outputId": "f825e88b-2dec-47d4-b8b8-4a7826a71a0a"
      },
      "execution_count": null,
      "outputs": [
        {
          "output_type": "execute_result",
          "data": {
            "text/plain": [
              "        city_copy_1  Count\n",
              "821          москва  57300\n",
              "1045      петербург  15403\n",
              "937     новосибирск   2400\n",
              "389    екатеринбург   2397\n",
              "1146         ростов   2090\n",
              "...             ...    ...\n",
              "1101  псковская обл      1\n",
              "569        киреевск      1\n",
              "563        кильмезь      1\n",
              "562        кизилюрт      1\n",
              "1531       ёсаратов      1\n",
              "\n",
              "[1532 rows x 2 columns]"
            ],
            "text/html": [
              "\n",
              "  <div id=\"df-a0b106ec-7137-4a19-8d8b-db1a9414b8b1\">\n",
              "    <div class=\"colab-df-container\">\n",
              "      <div>\n",
              "<style scoped>\n",
              "    .dataframe tbody tr th:only-of-type {\n",
              "        vertical-align: middle;\n",
              "    }\n",
              "\n",
              "    .dataframe tbody tr th {\n",
              "        vertical-align: top;\n",
              "    }\n",
              "\n",
              "    .dataframe thead th {\n",
              "        text-align: right;\n",
              "    }\n",
              "</style>\n",
              "<table border=\"1\" class=\"dataframe\">\n",
              "  <thead>\n",
              "    <tr style=\"text-align: right;\">\n",
              "      <th></th>\n",
              "      <th>city_copy_1</th>\n",
              "      <th>Count</th>\n",
              "    </tr>\n",
              "  </thead>\n",
              "  <tbody>\n",
              "    <tr>\n",
              "      <th>821</th>\n",
              "      <td>москва</td>\n",
              "      <td>57300</td>\n",
              "    </tr>\n",
              "    <tr>\n",
              "      <th>1045</th>\n",
              "      <td>петербург</td>\n",
              "      <td>15403</td>\n",
              "    </tr>\n",
              "    <tr>\n",
              "      <th>937</th>\n",
              "      <td>новосибирск</td>\n",
              "      <td>2400</td>\n",
              "    </tr>\n",
              "    <tr>\n",
              "      <th>389</th>\n",
              "      <td>екатеринбург</td>\n",
              "      <td>2397</td>\n",
              "    </tr>\n",
              "    <tr>\n",
              "      <th>1146</th>\n",
              "      <td>ростов</td>\n",
              "      <td>2090</td>\n",
              "    </tr>\n",
              "    <tr>\n",
              "      <th>...</th>\n",
              "      <td>...</td>\n",
              "      <td>...</td>\n",
              "    </tr>\n",
              "    <tr>\n",
              "      <th>1101</th>\n",
              "      <td>псковская обл</td>\n",
              "      <td>1</td>\n",
              "    </tr>\n",
              "    <tr>\n",
              "      <th>569</th>\n",
              "      <td>киреевск</td>\n",
              "      <td>1</td>\n",
              "    </tr>\n",
              "    <tr>\n",
              "      <th>563</th>\n",
              "      <td>кильмезь</td>\n",
              "      <td>1</td>\n",
              "    </tr>\n",
              "    <tr>\n",
              "      <th>562</th>\n",
              "      <td>кизилюрт</td>\n",
              "      <td>1</td>\n",
              "    </tr>\n",
              "    <tr>\n",
              "      <th>1531</th>\n",
              "      <td>ёсаратов</td>\n",
              "      <td>1</td>\n",
              "    </tr>\n",
              "  </tbody>\n",
              "</table>\n",
              "<p>1532 rows × 2 columns</p>\n",
              "</div>\n",
              "      <button class=\"colab-df-convert\" onclick=\"convertToInteractive('df-a0b106ec-7137-4a19-8d8b-db1a9414b8b1')\"\n",
              "              title=\"Convert this dataframe to an interactive table.\"\n",
              "              style=\"display:none;\">\n",
              "        \n",
              "  <svg xmlns=\"http://www.w3.org/2000/svg\" height=\"24px\"viewBox=\"0 0 24 24\"\n",
              "       width=\"24px\">\n",
              "    <path d=\"M0 0h24v24H0V0z\" fill=\"none\"/>\n",
              "    <path d=\"M18.56 5.44l.94 2.06.94-2.06 2.06-.94-2.06-.94-.94-2.06-.94 2.06-2.06.94zm-11 1L8.5 8.5l.94-2.06 2.06-.94-2.06-.94L8.5 2.5l-.94 2.06-2.06.94zm10 10l.94 2.06.94-2.06 2.06-.94-2.06-.94-.94-2.06-.94 2.06-2.06.94z\"/><path d=\"M17.41 7.96l-1.37-1.37c-.4-.4-.92-.59-1.43-.59-.52 0-1.04.2-1.43.59L10.3 9.45l-7.72 7.72c-.78.78-.78 2.05 0 2.83L4 21.41c.39.39.9.59 1.41.59.51 0 1.02-.2 1.41-.59l7.78-7.78 2.81-2.81c.8-.78.8-2.07 0-2.86zM5.41 20L4 18.59l7.72-7.72 1.47 1.35L5.41 20z\"/>\n",
              "  </svg>\n",
              "      </button>\n",
              "      \n",
              "  <style>\n",
              "    .colab-df-container {\n",
              "      display:flex;\n",
              "      flex-wrap:wrap;\n",
              "      gap: 12px;\n",
              "    }\n",
              "\n",
              "    .colab-df-convert {\n",
              "      background-color: #E8F0FE;\n",
              "      border: none;\n",
              "      border-radius: 50%;\n",
              "      cursor: pointer;\n",
              "      display: none;\n",
              "      fill: #1967D2;\n",
              "      height: 32px;\n",
              "      padding: 0 0 0 0;\n",
              "      width: 32px;\n",
              "    }\n",
              "\n",
              "    .colab-df-convert:hover {\n",
              "      background-color: #E2EBFA;\n",
              "      box-shadow: 0px 1px 2px rgba(60, 64, 67, 0.3), 0px 1px 3px 1px rgba(60, 64, 67, 0.15);\n",
              "      fill: #174EA6;\n",
              "    }\n",
              "\n",
              "    [theme=dark] .colab-df-convert {\n",
              "      background-color: #3B4455;\n",
              "      fill: #D2E3FC;\n",
              "    }\n",
              "\n",
              "    [theme=dark] .colab-df-convert:hover {\n",
              "      background-color: #434B5C;\n",
              "      box-shadow: 0px 1px 3px 1px rgba(0, 0, 0, 0.15);\n",
              "      filter: drop-shadow(0px 1px 2px rgba(0, 0, 0, 0.3));\n",
              "      fill: #FFFFFF;\n",
              "    }\n",
              "  </style>\n",
              "\n",
              "      <script>\n",
              "        const buttonEl =\n",
              "          document.querySelector('#df-a0b106ec-7137-4a19-8d8b-db1a9414b8b1 button.colab-df-convert');\n",
              "        buttonEl.style.display =\n",
              "          google.colab.kernel.accessAllowed ? 'block' : 'none';\n",
              "\n",
              "        async function convertToInteractive(key) {\n",
              "          const element = document.querySelector('#df-a0b106ec-7137-4a19-8d8b-db1a9414b8b1');\n",
              "          const dataTable =\n",
              "            await google.colab.kernel.invokeFunction('convertToInteractive',\n",
              "                                                     [key], {});\n",
              "          if (!dataTable) return;\n",
              "\n",
              "          const docLinkHtml = 'Like what you see? Visit the ' +\n",
              "            '<a target=\"_blank\" href=https://colab.research.google.com/notebooks/data_table.ipynb>data table notebook</a>'\n",
              "            + ' to learn more about interactive tables.';\n",
              "          element.innerHTML = '';\n",
              "          dataTable['output_type'] = 'display_data';\n",
              "          await google.colab.output.renderOutput(dataTable, element);\n",
              "          const docLink = document.createElement('div');\n",
              "          docLink.innerHTML = docLinkHtml;\n",
              "          element.appendChild(docLink);\n",
              "        }\n",
              "      </script>\n",
              "    </div>\n",
              "  </div>\n",
              "  "
            ]
          },
          "metadata": {},
          "execution_count": 41
        }
      ]
    },
    {
      "cell_type": "code",
      "source": [
        "df_new=df_.loc[df_.city_copy_1.isin(['москва', 'петербург','новосибирск','екатеринбург'])]"
      ],
      "metadata": {
        "id": "hqxRo2WWLpUA"
      },
      "execution_count": null,
      "outputs": []
    },
    {
      "cell_type": "code",
      "source": [
        "df_new.head()"
      ],
      "metadata": {
        "colab": {
          "base_uri": "https://localhost:8080/",
          "height": 389
        },
        "id": "YRnBtV5GMS1O",
        "outputId": "4932c628-2ddc-4cd1-e398-a963104254ba"
      },
      "execution_count": null,
      "outputs": [
        {
          "output_type": "execute_result",
          "data": {
            "text/plain": [
              "   rating_not_checked                                          title  \\\n",
              "0               False                                         Жалоба   \n",
              "1               False  Не могу пользоваться услугой Сбербанк он-лайн   \n",
              "2               False                Двойное списание за один товар.   \n",
              "5               False                              Не тут-то было...   \n",
              "7               False                               Вот так поворот!   \n",
              "\n",
              "   num_comments     bank_license      author        bank_name  \\\n",
              "0             0  лицензия № 2562      uhnov1          Бинбанк   \n",
              "1             0  лицензия № 1481      Foryou  Сбербанк России   \n",
              "2             1  лицензия № 2562  Vladimir84          Бинбанк   \n",
              "5             0   лицензия № 606    bankir76      Гагаринский   \n",
              "7             0  лицензия № 2673   Altairseg    Тинькофф Банк   \n",
              "\n",
              "              datetime                                               text  \\\n",
              "0  2015-06-08 12:50:54  Добрый день! Я не являюсь клиентом банка и пор...   \n",
              "1  2015-06-08 11:09:57  Доброго дня! Являюсь держателем зарплатной кар...   \n",
              "2  2015-06-05 20:14:28  Здравствуйте!  Дублирую свое заявление от 03.0...   \n",
              "5  2015-06-05 11:37:31  Я, как и многие вкладчики открыл на 1000 руб. ...   \n",
              "7  2015-06-05 11:59:01  Был крайне удивлён новостью от 27/28 мая - об ...   \n",
              "\n",
              "   rating_grade  city_copy_1  \n",
              "0           NaN       москва  \n",
              "1           NaN  новосибирск  \n",
              "2           NaN       москва  \n",
              "5           NaN       москва  \n",
              "7           NaN       москва  "
            ],
            "text/html": [
              "\n",
              "  <div id=\"df-e96108de-ac76-4c53-b73d-2f6e115b7fd0\">\n",
              "    <div class=\"colab-df-container\">\n",
              "      <div>\n",
              "<style scoped>\n",
              "    .dataframe tbody tr th:only-of-type {\n",
              "        vertical-align: middle;\n",
              "    }\n",
              "\n",
              "    .dataframe tbody tr th {\n",
              "        vertical-align: top;\n",
              "    }\n",
              "\n",
              "    .dataframe thead th {\n",
              "        text-align: right;\n",
              "    }\n",
              "</style>\n",
              "<table border=\"1\" class=\"dataframe\">\n",
              "  <thead>\n",
              "    <tr style=\"text-align: right;\">\n",
              "      <th></th>\n",
              "      <th>rating_not_checked</th>\n",
              "      <th>title</th>\n",
              "      <th>num_comments</th>\n",
              "      <th>bank_license</th>\n",
              "      <th>author</th>\n",
              "      <th>bank_name</th>\n",
              "      <th>datetime</th>\n",
              "      <th>text</th>\n",
              "      <th>rating_grade</th>\n",
              "      <th>city_copy_1</th>\n",
              "    </tr>\n",
              "  </thead>\n",
              "  <tbody>\n",
              "    <tr>\n",
              "      <th>0</th>\n",
              "      <td>False</td>\n",
              "      <td>Жалоба</td>\n",
              "      <td>0</td>\n",
              "      <td>лицензия № 2562</td>\n",
              "      <td>uhnov1</td>\n",
              "      <td>Бинбанк</td>\n",
              "      <td>2015-06-08 12:50:54</td>\n",
              "      <td>Добрый день! Я не являюсь клиентом банка и пор...</td>\n",
              "      <td>NaN</td>\n",
              "      <td>москва</td>\n",
              "    </tr>\n",
              "    <tr>\n",
              "      <th>1</th>\n",
              "      <td>False</td>\n",
              "      <td>Не могу пользоваться услугой Сбербанк он-лайн</td>\n",
              "      <td>0</td>\n",
              "      <td>лицензия № 1481</td>\n",
              "      <td>Foryou</td>\n",
              "      <td>Сбербанк России</td>\n",
              "      <td>2015-06-08 11:09:57</td>\n",
              "      <td>Доброго дня! Являюсь держателем зарплатной кар...</td>\n",
              "      <td>NaN</td>\n",
              "      <td>новосибирск</td>\n",
              "    </tr>\n",
              "    <tr>\n",
              "      <th>2</th>\n",
              "      <td>False</td>\n",
              "      <td>Двойное списание за один товар.</td>\n",
              "      <td>1</td>\n",
              "      <td>лицензия № 2562</td>\n",
              "      <td>Vladimir84</td>\n",
              "      <td>Бинбанк</td>\n",
              "      <td>2015-06-05 20:14:28</td>\n",
              "      <td>Здравствуйте!  Дублирую свое заявление от 03.0...</td>\n",
              "      <td>NaN</td>\n",
              "      <td>москва</td>\n",
              "    </tr>\n",
              "    <tr>\n",
              "      <th>5</th>\n",
              "      <td>False</td>\n",
              "      <td>Не тут-то было...</td>\n",
              "      <td>0</td>\n",
              "      <td>лицензия № 606</td>\n",
              "      <td>bankir76</td>\n",
              "      <td>Гагаринский</td>\n",
              "      <td>2015-06-05 11:37:31</td>\n",
              "      <td>Я, как и многие вкладчики открыл на 1000 руб. ...</td>\n",
              "      <td>NaN</td>\n",
              "      <td>москва</td>\n",
              "    </tr>\n",
              "    <tr>\n",
              "      <th>7</th>\n",
              "      <td>False</td>\n",
              "      <td>Вот так поворот!</td>\n",
              "      <td>0</td>\n",
              "      <td>лицензия № 2673</td>\n",
              "      <td>Altairseg</td>\n",
              "      <td>Тинькофф Банк</td>\n",
              "      <td>2015-06-05 11:59:01</td>\n",
              "      <td>Был крайне удивлён новостью от 27/28 мая - об ...</td>\n",
              "      <td>NaN</td>\n",
              "      <td>москва</td>\n",
              "    </tr>\n",
              "  </tbody>\n",
              "</table>\n",
              "</div>\n",
              "      <button class=\"colab-df-convert\" onclick=\"convertToInteractive('df-e96108de-ac76-4c53-b73d-2f6e115b7fd0')\"\n",
              "              title=\"Convert this dataframe to an interactive table.\"\n",
              "              style=\"display:none;\">\n",
              "        \n",
              "  <svg xmlns=\"http://www.w3.org/2000/svg\" height=\"24px\"viewBox=\"0 0 24 24\"\n",
              "       width=\"24px\">\n",
              "    <path d=\"M0 0h24v24H0V0z\" fill=\"none\"/>\n",
              "    <path d=\"M18.56 5.44l.94 2.06.94-2.06 2.06-.94-2.06-.94-.94-2.06-.94 2.06-2.06.94zm-11 1L8.5 8.5l.94-2.06 2.06-.94-2.06-.94L8.5 2.5l-.94 2.06-2.06.94zm10 10l.94 2.06.94-2.06 2.06-.94-2.06-.94-.94-2.06-.94 2.06-2.06.94z\"/><path d=\"M17.41 7.96l-1.37-1.37c-.4-.4-.92-.59-1.43-.59-.52 0-1.04.2-1.43.59L10.3 9.45l-7.72 7.72c-.78.78-.78 2.05 0 2.83L4 21.41c.39.39.9.59 1.41.59.51 0 1.02-.2 1.41-.59l7.78-7.78 2.81-2.81c.8-.78.8-2.07 0-2.86zM5.41 20L4 18.59l7.72-7.72 1.47 1.35L5.41 20z\"/>\n",
              "  </svg>\n",
              "      </button>\n",
              "      \n",
              "  <style>\n",
              "    .colab-df-container {\n",
              "      display:flex;\n",
              "      flex-wrap:wrap;\n",
              "      gap: 12px;\n",
              "    }\n",
              "\n",
              "    .colab-df-convert {\n",
              "      background-color: #E8F0FE;\n",
              "      border: none;\n",
              "      border-radius: 50%;\n",
              "      cursor: pointer;\n",
              "      display: none;\n",
              "      fill: #1967D2;\n",
              "      height: 32px;\n",
              "      padding: 0 0 0 0;\n",
              "      width: 32px;\n",
              "    }\n",
              "\n",
              "    .colab-df-convert:hover {\n",
              "      background-color: #E2EBFA;\n",
              "      box-shadow: 0px 1px 2px rgba(60, 64, 67, 0.3), 0px 1px 3px 1px rgba(60, 64, 67, 0.15);\n",
              "      fill: #174EA6;\n",
              "    }\n",
              "\n",
              "    [theme=dark] .colab-df-convert {\n",
              "      background-color: #3B4455;\n",
              "      fill: #D2E3FC;\n",
              "    }\n",
              "\n",
              "    [theme=dark] .colab-df-convert:hover {\n",
              "      background-color: #434B5C;\n",
              "      box-shadow: 0px 1px 3px 1px rgba(0, 0, 0, 0.15);\n",
              "      filter: drop-shadow(0px 1px 2px rgba(0, 0, 0, 0.3));\n",
              "      fill: #FFFFFF;\n",
              "    }\n",
              "  </style>\n",
              "\n",
              "      <script>\n",
              "        const buttonEl =\n",
              "          document.querySelector('#df-e96108de-ac76-4c53-b73d-2f6e115b7fd0 button.colab-df-convert');\n",
              "        buttonEl.style.display =\n",
              "          google.colab.kernel.accessAllowed ? 'block' : 'none';\n",
              "\n",
              "        async function convertToInteractive(key) {\n",
              "          const element = document.querySelector('#df-e96108de-ac76-4c53-b73d-2f6e115b7fd0');\n",
              "          const dataTable =\n",
              "            await google.colab.kernel.invokeFunction('convertToInteractive',\n",
              "                                                     [key], {});\n",
              "          if (!dataTable) return;\n",
              "\n",
              "          const docLinkHtml = 'Like what you see? Visit the ' +\n",
              "            '<a target=\"_blank\" href=https://colab.research.google.com/notebooks/data_table.ipynb>data table notebook</a>'\n",
              "            + ' to learn more about interactive tables.';\n",
              "          element.innerHTML = '';\n",
              "          dataTable['output_type'] = 'display_data';\n",
              "          await google.colab.output.renderOutput(dataTable, element);\n",
              "          const docLink = document.createElement('div');\n",
              "          docLink.innerHTML = docLinkHtml;\n",
              "          element.appendChild(docLink);\n",
              "        }\n",
              "      </script>\n",
              "    </div>\n",
              "  </div>\n",
              "  "
            ]
          },
          "metadata": {},
          "execution_count": 49
        }
      ]
    },
    {
      "cell_type": "code",
      "source": [
        "df_new.city_copy_1.nunique()"
      ],
      "metadata": {
        "colab": {
          "base_uri": "https://localhost:8080/"
        },
        "id": "EMfxmYAjMjES",
        "outputId": "2d32e9dd-dbc2-450d-b18b-0375fef7e477"
      },
      "execution_count": null,
      "outputs": [
        {
          "output_type": "execute_result",
          "data": {
            "text/plain": [
              "4"
            ]
          },
          "metadata": {},
          "execution_count": 44
        }
      ]
    },
    {
      "cell_type": "code",
      "source": [
        "df_new.shape[0]"
      ],
      "metadata": {
        "colab": {
          "base_uri": "https://localhost:8080/"
        },
        "id": "c8McZTjqMyy3",
        "outputId": "898c9990-8fc8-4449-fbef-31707abf4fa4"
      },
      "execution_count": null,
      "outputs": [
        {
          "output_type": "execute_result",
          "data": {
            "text/plain": [
              "77500"
            ]
          },
          "metadata": {},
          "execution_count": 48
        }
      ]
    },
    {
      "cell_type": "code",
      "source": [
        "df_new.to_csv (r'export_dataframe.csv', index = None, header=True) #для удобства сохраню обработанный датафрейм"
      ],
      "metadata": {
        "id": "bv59kNW8huqa"
      },
      "execution_count": null,
      "outputs": []
    },
    {
      "cell_type": "markdown",
      "source": [
        "## 2. Постройте гистограмы длин слов в символах и в словах\n",
        "\n",
        "Думаю, опечатка в задании.\n",
        "\n",
        "Нужно построить гистограмму количества слов в отзыве и гистограмму количества симолов в отзыве (из ответа преподавателя в чате)."
      ],
      "metadata": {
        "id": "sWI0Qr5_wABE"
      }
    },
    {
      "cell_type": "markdown",
      "source": [
        "### гистограмма по количеству символов"
      ],
      "metadata": {
        "id": "6ZT6nntYvuUI"
      }
    },
    {
      "cell_type": "code",
      "source": [
        "df_1 = pd.read_csv('export_dataframe.csv')"
      ],
      "metadata": {
        "id": "rnSKw1nwEieU"
      },
      "execution_count": null,
      "outputs": []
    },
    {
      "cell_type": "code",
      "source": [
        "df_1=df_1.iloc[0:11000] # ещё уменьшу объем датафрейма, иначе слишком долго обрабатывается"
      ],
      "metadata": {
        "id": "gQAEkhOhZdXd"
      },
      "execution_count": null,
      "outputs": []
    },
    {
      "cell_type": "code",
      "source": [
        "df_1.shape"
      ],
      "metadata": {
        "colab": {
          "base_uri": "https://localhost:8080/"
        },
        "id": "fmvX5xInZpWJ",
        "outputId": "da3099c5-8799-46c3-ffe4-7791c5813cd6"
      },
      "execution_count": null,
      "outputs": [
        {
          "output_type": "execute_result",
          "data": {
            "text/plain": [
              "(11000, 10)"
            ]
          },
          "metadata": {},
          "execution_count": 5
        }
      ]
    },
    {
      "cell_type": "code",
      "source": [
        "df_1.to_csv (r'new_export_dataframe.csv', index = None, header=True)"
      ],
      "metadata": {
        "id": "QLKottDUBEOV"
      },
      "execution_count": null,
      "outputs": []
    },
    {
      "cell_type": "code",
      "source": [
        "df_1 = pd.read_csv('new_export_dataframe.csv')"
      ],
      "metadata": {
        "id": "MV8ZaVNwldoB"
      },
      "execution_count": null,
      "outputs": []
    },
    {
      "cell_type": "code",
      "source": [
        "from tqdm._tqdm_notebook import tqdm_notebook\n",
        "\n",
        "tqdm_notebook.pandas()"
      ],
      "metadata": {
        "id": "cDBPOk4PXuRe"
      },
      "execution_count": null,
      "outputs": []
    },
    {
      "cell_type": "code",
      "source": [
        "# количество символов в отзыве\n",
        "df_1['text_len'] = df_1.text.progress_apply(len)\n",
        "df_1.sort_values(by='text_len', ascending=False)"
      ],
      "metadata": {
        "colab": {
          "base_uri": "https://localhost:8080/",
          "height": 1000,
          "referenced_widgets": [
            "b35f880c09f94662b30af0568c14f491",
            "6940b15099ee4660bfb6e37e4d15ba1c",
            "d69d6139643e48de93bed8cb43fb6a55",
            "b7ba88f2a37d4e85b2e65a631ae8a08a",
            "c08a21454bce46d3a8eb1f31bec2c226",
            "4369c0f4d4d3435c93022b4bc8294c68",
            "10267a982d914a9b8942e93d2792c6ba",
            "3ad9c3eb3e2b4f4aa8e67f40a099433e",
            "d5e8c2c6ca8342bc86ab8bbc2a4697ac",
            "2f77fdb104dc4d41b01b8a8deeaf421f",
            "1a1fd7a25af341a080b57bce1540f505"
          ]
        },
        "id": "KRuOgsZbYn_N",
        "outputId": "26750c71-4ca0-423d-ee2c-66db0b82459e"
      },
      "execution_count": null,
      "outputs": [
        {
          "output_type": "display_data",
          "data": {
            "text/plain": [
              "  0%|          | 0/11000 [00:00<?, ?it/s]"
            ],
            "application/vnd.jupyter.widget-view+json": {
              "version_major": 2,
              "version_minor": 0,
              "model_id": "b35f880c09f94662b30af0568c14f491"
            }
          },
          "metadata": {}
        },
        {
          "output_type": "execute_result",
          "data": {
            "text/plain": [
              "      rating_not_checked                                              title  \\\n",
              "7955               False  ChargeBack по коду 30. Необоснованный отказ ба...   \n",
              "9376               False                                                NaN   \n",
              "9971               False                                        Моя история   \n",
              "8825               False                            О моём опыте по ипотеке   \n",
              "7535               False                                                NaN   \n",
              "...                  ...                                                ...   \n",
              "8037               False                   Ну когда уже это все закончится?   \n",
              "4077               False                                      Интернет-банк   \n",
              "2979               False                                  Мобильный банк...   \n",
              "1344               False                                     Sms-оповещение   \n",
              "485                False  Ну выпустите вы уже карточки, с вами работать ...   \n",
              "\n",
              "      num_comments     bank_license        author  \\\n",
              "7955            15   лицензия № 429           fdh   \n",
              "9376            10  лицензия № 2562       Alex_Go   \n",
              "9971            11  лицензия № 1460  pakulewa9663   \n",
              "8825             0  лицензия № 1481      arkadijs   \n",
              "7535           103  лицензия № 1978         boris   \n",
              "...            ...              ...           ...   \n",
              "8037             9  лицензия № 2999    марина new   \n",
              "4077             0  лицензия № 2209       sysalex   \n",
              "2979             0  лицензия № 3360  kononov-2015   \n",
              "1344             0  лицензия № 1623        амиант   \n",
              "485              0  лицензия № 3384  anton.sergev   \n",
              "\n",
              "                                    bank_name             datetime  \\\n",
              "7955  Уральский Банк Реконструкции и Развития  2015-02-15 10:49:00   \n",
              "9376                                  Бинбанк  2015-01-24 18:19:00   \n",
              "9971                  Восточный Экспресс Банк  2015-01-17 19:59:00   \n",
              "8825                          Сбербанк России  2015-01-31 19:20:00   \n",
              "7535                Московский Кредитный Банк  2015-02-20 14:50:00   \n",
              "...                                       ...                  ...   \n",
              "8037          СБ Банк (Судостроительный банк)  2015-02-11 21:40:00   \n",
              "4077           ФК Открытие (бывш. НОМОС-Банк)  2015-04-06 12:08:39   \n",
              "2979                           Крайинвестбанк  2015-04-18 09:08:26   \n",
              "1344                                   ВТБ 24  2015-05-14 16:18:07   \n",
              "485                                  Дил-Банк  2015-05-26 09:43:53   \n",
              "\n",
              "                                                   text  rating_grade  \\\n",
              "7955  Представьте себе такую ситуацию:  Вы, ежедневн...           NaN   \n",
              "9376  Эта трагикомичная история с элементами хоррора...           1.0   \n",
              "9971  Согласно Общих условий потребительского кредит...           NaN   \n",
              "8825  Несколько лет назад мне довелось жить рядом с ...           4.0   \n",
              "7535  Сегодняшним неранним утром, а именно - в 10:20...           NaN   \n",
              "...                                                 ...           ...   \n",
              "8037  Господа, верните вклад!!! Полтора месяца уже -...           NaN   \n",
              "4077  Добрый день.  Скажите в чем проблема сегодня с...           NaN   \n",
              "2979  Мобильный банк не работает, сотрудникам кулл-ц...           NaN   \n",
              "1344  В конце-то концов, когда заработает SMS оповещ...           NaN   \n",
              "485           Банковские карты, пожалуйста, сделайте!!!           NaN   \n",
              "\n",
              "       city_copy_1  text_len  \n",
              "7955  екатеринбург     18734  \n",
              "9376        москва     15637  \n",
              "9971        москва     14336  \n",
              "8825        москва     13004  \n",
              "7535        москва     13000  \n",
              "...            ...       ...  \n",
              "8037        москва       137  \n",
              "4077   новосибирск       102  \n",
              "2979        москва        75  \n",
              "1344        москва        52  \n",
              "485         москва        41  \n",
              "\n",
              "[11000 rows x 11 columns]"
            ],
            "text/html": [
              "\n",
              "  <div id=\"df-41366090-1a7e-43c5-acb1-eccb5b94362b\">\n",
              "    <div class=\"colab-df-container\">\n",
              "      <div>\n",
              "<style scoped>\n",
              "    .dataframe tbody tr th:only-of-type {\n",
              "        vertical-align: middle;\n",
              "    }\n",
              "\n",
              "    .dataframe tbody tr th {\n",
              "        vertical-align: top;\n",
              "    }\n",
              "\n",
              "    .dataframe thead th {\n",
              "        text-align: right;\n",
              "    }\n",
              "</style>\n",
              "<table border=\"1\" class=\"dataframe\">\n",
              "  <thead>\n",
              "    <tr style=\"text-align: right;\">\n",
              "      <th></th>\n",
              "      <th>rating_not_checked</th>\n",
              "      <th>title</th>\n",
              "      <th>num_comments</th>\n",
              "      <th>bank_license</th>\n",
              "      <th>author</th>\n",
              "      <th>bank_name</th>\n",
              "      <th>datetime</th>\n",
              "      <th>text</th>\n",
              "      <th>rating_grade</th>\n",
              "      <th>city_copy_1</th>\n",
              "      <th>text_len</th>\n",
              "    </tr>\n",
              "  </thead>\n",
              "  <tbody>\n",
              "    <tr>\n",
              "      <th>7955</th>\n",
              "      <td>False</td>\n",
              "      <td>ChargeBack по коду 30. Необоснованный отказ ба...</td>\n",
              "      <td>15</td>\n",
              "      <td>лицензия № 429</td>\n",
              "      <td>fdh</td>\n",
              "      <td>Уральский Банк Реконструкции и Развития</td>\n",
              "      <td>2015-02-15 10:49:00</td>\n",
              "      <td>Представьте себе такую ситуацию:  Вы, ежедневн...</td>\n",
              "      <td>NaN</td>\n",
              "      <td>екатеринбург</td>\n",
              "      <td>18734</td>\n",
              "    </tr>\n",
              "    <tr>\n",
              "      <th>9376</th>\n",
              "      <td>False</td>\n",
              "      <td>NaN</td>\n",
              "      <td>10</td>\n",
              "      <td>лицензия № 2562</td>\n",
              "      <td>Alex_Go</td>\n",
              "      <td>Бинбанк</td>\n",
              "      <td>2015-01-24 18:19:00</td>\n",
              "      <td>Эта трагикомичная история с элементами хоррора...</td>\n",
              "      <td>1.0</td>\n",
              "      <td>москва</td>\n",
              "      <td>15637</td>\n",
              "    </tr>\n",
              "    <tr>\n",
              "      <th>9971</th>\n",
              "      <td>False</td>\n",
              "      <td>Моя история</td>\n",
              "      <td>11</td>\n",
              "      <td>лицензия № 1460</td>\n",
              "      <td>pakulewa9663</td>\n",
              "      <td>Восточный Экспресс Банк</td>\n",
              "      <td>2015-01-17 19:59:00</td>\n",
              "      <td>Согласно Общих условий потребительского кредит...</td>\n",
              "      <td>NaN</td>\n",
              "      <td>москва</td>\n",
              "      <td>14336</td>\n",
              "    </tr>\n",
              "    <tr>\n",
              "      <th>8825</th>\n",
              "      <td>False</td>\n",
              "      <td>О моём опыте по ипотеке</td>\n",
              "      <td>0</td>\n",
              "      <td>лицензия № 1481</td>\n",
              "      <td>arkadijs</td>\n",
              "      <td>Сбербанк России</td>\n",
              "      <td>2015-01-31 19:20:00</td>\n",
              "      <td>Несколько лет назад мне довелось жить рядом с ...</td>\n",
              "      <td>4.0</td>\n",
              "      <td>москва</td>\n",
              "      <td>13004</td>\n",
              "    </tr>\n",
              "    <tr>\n",
              "      <th>7535</th>\n",
              "      <td>False</td>\n",
              "      <td>NaN</td>\n",
              "      <td>103</td>\n",
              "      <td>лицензия № 1978</td>\n",
              "      <td>boris</td>\n",
              "      <td>Московский Кредитный Банк</td>\n",
              "      <td>2015-02-20 14:50:00</td>\n",
              "      <td>Сегодняшним неранним утром, а именно - в 10:20...</td>\n",
              "      <td>NaN</td>\n",
              "      <td>москва</td>\n",
              "      <td>13000</td>\n",
              "    </tr>\n",
              "    <tr>\n",
              "      <th>...</th>\n",
              "      <td>...</td>\n",
              "      <td>...</td>\n",
              "      <td>...</td>\n",
              "      <td>...</td>\n",
              "      <td>...</td>\n",
              "      <td>...</td>\n",
              "      <td>...</td>\n",
              "      <td>...</td>\n",
              "      <td>...</td>\n",
              "      <td>...</td>\n",
              "      <td>...</td>\n",
              "    </tr>\n",
              "    <tr>\n",
              "      <th>8037</th>\n",
              "      <td>False</td>\n",
              "      <td>Ну когда уже это все закончится?</td>\n",
              "      <td>9</td>\n",
              "      <td>лицензия № 2999</td>\n",
              "      <td>марина new</td>\n",
              "      <td>СБ Банк (Судостроительный банк)</td>\n",
              "      <td>2015-02-11 21:40:00</td>\n",
              "      <td>Господа, верните вклад!!! Полтора месяца уже -...</td>\n",
              "      <td>NaN</td>\n",
              "      <td>москва</td>\n",
              "      <td>137</td>\n",
              "    </tr>\n",
              "    <tr>\n",
              "      <th>4077</th>\n",
              "      <td>False</td>\n",
              "      <td>Интернет-банк</td>\n",
              "      <td>0</td>\n",
              "      <td>лицензия № 2209</td>\n",
              "      <td>sysalex</td>\n",
              "      <td>ФК Открытие (бывш. НОМОС-Банк)</td>\n",
              "      <td>2015-04-06 12:08:39</td>\n",
              "      <td>Добрый день.  Скажите в чем проблема сегодня с...</td>\n",
              "      <td>NaN</td>\n",
              "      <td>новосибирск</td>\n",
              "      <td>102</td>\n",
              "    </tr>\n",
              "    <tr>\n",
              "      <th>2979</th>\n",
              "      <td>False</td>\n",
              "      <td>Мобильный банк...</td>\n",
              "      <td>0</td>\n",
              "      <td>лицензия № 3360</td>\n",
              "      <td>kononov-2015</td>\n",
              "      <td>Крайинвестбанк</td>\n",
              "      <td>2015-04-18 09:08:26</td>\n",
              "      <td>Мобильный банк не работает, сотрудникам кулл-ц...</td>\n",
              "      <td>NaN</td>\n",
              "      <td>москва</td>\n",
              "      <td>75</td>\n",
              "    </tr>\n",
              "    <tr>\n",
              "      <th>1344</th>\n",
              "      <td>False</td>\n",
              "      <td>Sms-оповещение</td>\n",
              "      <td>0</td>\n",
              "      <td>лицензия № 1623</td>\n",
              "      <td>амиант</td>\n",
              "      <td>ВТБ 24</td>\n",
              "      <td>2015-05-14 16:18:07</td>\n",
              "      <td>В конце-то концов, когда заработает SMS оповещ...</td>\n",
              "      <td>NaN</td>\n",
              "      <td>москва</td>\n",
              "      <td>52</td>\n",
              "    </tr>\n",
              "    <tr>\n",
              "      <th>485</th>\n",
              "      <td>False</td>\n",
              "      <td>Ну выпустите вы уже карточки, с вами работать ...</td>\n",
              "      <td>0</td>\n",
              "      <td>лицензия № 3384</td>\n",
              "      <td>anton.sergev</td>\n",
              "      <td>Дил-Банк</td>\n",
              "      <td>2015-05-26 09:43:53</td>\n",
              "      <td>Банковские карты, пожалуйста, сделайте!!!</td>\n",
              "      <td>NaN</td>\n",
              "      <td>москва</td>\n",
              "      <td>41</td>\n",
              "    </tr>\n",
              "  </tbody>\n",
              "</table>\n",
              "<p>11000 rows × 11 columns</p>\n",
              "</div>\n",
              "      <button class=\"colab-df-convert\" onclick=\"convertToInteractive('df-41366090-1a7e-43c5-acb1-eccb5b94362b')\"\n",
              "              title=\"Convert this dataframe to an interactive table.\"\n",
              "              style=\"display:none;\">\n",
              "        \n",
              "  <svg xmlns=\"http://www.w3.org/2000/svg\" height=\"24px\"viewBox=\"0 0 24 24\"\n",
              "       width=\"24px\">\n",
              "    <path d=\"M0 0h24v24H0V0z\" fill=\"none\"/>\n",
              "    <path d=\"M18.56 5.44l.94 2.06.94-2.06 2.06-.94-2.06-.94-.94-2.06-.94 2.06-2.06.94zm-11 1L8.5 8.5l.94-2.06 2.06-.94-2.06-.94L8.5 2.5l-.94 2.06-2.06.94zm10 10l.94 2.06.94-2.06 2.06-.94-2.06-.94-.94-2.06-.94 2.06-2.06.94z\"/><path d=\"M17.41 7.96l-1.37-1.37c-.4-.4-.92-.59-1.43-.59-.52 0-1.04.2-1.43.59L10.3 9.45l-7.72 7.72c-.78.78-.78 2.05 0 2.83L4 21.41c.39.39.9.59 1.41.59.51 0 1.02-.2 1.41-.59l7.78-7.78 2.81-2.81c.8-.78.8-2.07 0-2.86zM5.41 20L4 18.59l7.72-7.72 1.47 1.35L5.41 20z\"/>\n",
              "  </svg>\n",
              "      </button>\n",
              "      \n",
              "  <style>\n",
              "    .colab-df-container {\n",
              "      display:flex;\n",
              "      flex-wrap:wrap;\n",
              "      gap: 12px;\n",
              "    }\n",
              "\n",
              "    .colab-df-convert {\n",
              "      background-color: #E8F0FE;\n",
              "      border: none;\n",
              "      border-radius: 50%;\n",
              "      cursor: pointer;\n",
              "      display: none;\n",
              "      fill: #1967D2;\n",
              "      height: 32px;\n",
              "      padding: 0 0 0 0;\n",
              "      width: 32px;\n",
              "    }\n",
              "\n",
              "    .colab-df-convert:hover {\n",
              "      background-color: #E2EBFA;\n",
              "      box-shadow: 0px 1px 2px rgba(60, 64, 67, 0.3), 0px 1px 3px 1px rgba(60, 64, 67, 0.15);\n",
              "      fill: #174EA6;\n",
              "    }\n",
              "\n",
              "    [theme=dark] .colab-df-convert {\n",
              "      background-color: #3B4455;\n",
              "      fill: #D2E3FC;\n",
              "    }\n",
              "\n",
              "    [theme=dark] .colab-df-convert:hover {\n",
              "      background-color: #434B5C;\n",
              "      box-shadow: 0px 1px 3px 1px rgba(0, 0, 0, 0.15);\n",
              "      filter: drop-shadow(0px 1px 2px rgba(0, 0, 0, 0.3));\n",
              "      fill: #FFFFFF;\n",
              "    }\n",
              "  </style>\n",
              "\n",
              "      <script>\n",
              "        const buttonEl =\n",
              "          document.querySelector('#df-41366090-1a7e-43c5-acb1-eccb5b94362b button.colab-df-convert');\n",
              "        buttonEl.style.display =\n",
              "          google.colab.kernel.accessAllowed ? 'block' : 'none';\n",
              "\n",
              "        async function convertToInteractive(key) {\n",
              "          const element = document.querySelector('#df-41366090-1a7e-43c5-acb1-eccb5b94362b');\n",
              "          const dataTable =\n",
              "            await google.colab.kernel.invokeFunction('convertToInteractive',\n",
              "                                                     [key], {});\n",
              "          if (!dataTable) return;\n",
              "\n",
              "          const docLinkHtml = 'Like what you see? Visit the ' +\n",
              "            '<a target=\"_blank\" href=https://colab.research.google.com/notebooks/data_table.ipynb>data table notebook</a>'\n",
              "            + ' to learn more about interactive tables.';\n",
              "          element.innerHTML = '';\n",
              "          dataTable['output_type'] = 'display_data';\n",
              "          await google.colab.output.renderOutput(dataTable, element);\n",
              "          const docLink = document.createElement('div');\n",
              "          docLink.innerHTML = docLinkHtml;\n",
              "          element.appendChild(docLink);\n",
              "        }\n",
              "      </script>\n",
              "    </div>\n",
              "  </div>\n",
              "  "
            ]
          },
          "metadata": {},
          "execution_count": 21
        }
      ]
    },
    {
      "cell_type": "code",
      "source": [
        "df_1.text_len.describe()"
      ],
      "metadata": {
        "colab": {
          "base_uri": "https://localhost:8080/"
        },
        "id": "EN-od3PhUbHL",
        "outputId": "7eb4ef21-d821-49e5-a0f7-5bdb9da8b9b9"
      },
      "execution_count": null,
      "outputs": [
        {
          "output_type": "execute_result",
          "data": {
            "text/plain": [
              "count    11000.000000\n",
              "mean      1436.273364\n",
              "std       1248.192073\n",
              "min         41.000000\n",
              "25%        670.000000\n",
              "50%       1090.000000\n",
              "75%       1762.000000\n",
              "max      18734.000000\n",
              "Name: text_len, dtype: float64"
            ]
          },
          "metadata": {},
          "execution_count": 22
        }
      ]
    },
    {
      "cell_type": "code",
      "source": [
        "sns.histplot(data=df_1, x=\"text_len\")\n",
        "plt.title('Гистограмма количества символов в отзыве');"
      ],
      "metadata": {
        "colab": {
          "base_uri": "https://localhost:8080/",
          "height": 472
        },
        "id": "TOBQb3rGU2Jm",
        "outputId": "23bc534a-d39f-40a8-8e29-1b801b5410e3"
      },
      "execution_count": null,
      "outputs": [
        {
          "output_type": "display_data",
          "data": {
            "text/plain": [
              "<Figure size 640x480 with 1 Axes>"
            ],
            "image/png": "[encoded data removed]"
          },
          "metadata": {}
        }
      ]
    },
    {
      "cell_type": "markdown",
      "source": [
        "### гистограмма по количеству слов"
      ],
      "metadata": {
        "id": "wLDpM-ONv-XU"
      }
    },
    {
      "cell_type": "code",
      "source": [
        "import re\n",
        "regex = re.compile(\"[а-я]+\")\n",
        "\n",
        "def words_only(text, regex=regex):\n",
        "    try:\n",
        "        return \" \".join(regex.findall(text))\n",
        "    except:\n",
        "        return \"\""
      ],
      "metadata": {
        "id": "FnN8Ds8HW8zV"
      },
      "execution_count": null,
      "outputs": []
    },
    {
      "cell_type": "code",
      "source": [
        "df_1['text_words'] = df_1['text'].str.lower().progress_apply(words_only)\n",
        "df_1.head()"
      ],
      "metadata": {
        "colab": {
          "base_uri": "https://localhost:8080/",
          "height": 595,
          "referenced_widgets": [
            "7934703711fd4e46ab58b8fb7e583a8b",
            "de9b3a2677834d5a9c92d9b980dce3b1",
            "bc7948ede1d34d508543257fda79608c",
            "59b47517dd4c4f9bb5c20f41d61d1d0e",
            "dd0c541fb21f434cbbba7183ad14beff",
            "168d7bb8635b4ad6984de904dd1857d1",
            "cad64144382a45d3ac15cdbb7723650f",
            "77ad20a7cddc441a99314877c925f675",
            "d8be76e4dbc24892830691aecea5806e",
            "ce7b91111837466485436c5650b99ee2",
            "2a0900762a434d429aeea8a5a12f5a12"
          ]
        },
        "id": "GbZQMpqeXFEH",
        "outputId": "5eb66120-410c-4271-ec0c-4d7855d4f5a6"
      },
      "execution_count": null,
      "outputs": [
        {
          "output_type": "display_data",
          "data": {
            "text/plain": [
              "  0%|          | 0/11000 [00:00<?, ?it/s]"
            ],
            "application/vnd.jupyter.widget-view+json": {
              "version_major": 2,
              "version_minor": 0,
              "model_id": "7934703711fd4e46ab58b8fb7e583a8b"
            }
          },
          "metadata": {}
        },
        {
          "output_type": "execute_result",
          "data": {
            "text/plain": [
              "   rating_not_checked                                          title  \\\n",
              "0               False                                         Жалоба   \n",
              "1               False  Не могу пользоваться услугой Сбербанк он-лайн   \n",
              "2               False                Двойное списание за один товар.   \n",
              "3               False                              Не тут-то было...   \n",
              "4               False                               Вот так поворот!   \n",
              "\n",
              "   num_comments     bank_license      author        bank_name  \\\n",
              "0             0  лицензия № 2562      uhnov1          Бинбанк   \n",
              "1             0  лицензия № 1481      Foryou  Сбербанк России   \n",
              "2             1  лицензия № 2562  Vladimir84          Бинбанк   \n",
              "3             0   лицензия № 606    bankir76      Гагаринский   \n",
              "4             0  лицензия № 2673   Altairseg    Тинькофф Банк   \n",
              "\n",
              "              datetime                                               text  \\\n",
              "0  2015-06-08 12:50:54  Добрый день! Я не являюсь клиентом банка и пор...   \n",
              "1  2015-06-08 11:09:57  Доброго дня! Являюсь держателем зарплатной кар...   \n",
              "2  2015-06-05 20:14:28  Здравствуйте!  Дублирую свое заявление от 03.0...   \n",
              "3  2015-06-05 11:37:31  Я, как и многие вкладчики открыл на 1000 руб. ...   \n",
              "4  2015-06-05 11:59:01  Был крайне удивлён новостью от 27/28 мая - об ...   \n",
              "\n",
              "   rating_grade  city_copy_1  text_len  \\\n",
              "0           NaN       москва      1523   \n",
              "1           NaN  новосибирск      1026   \n",
              "2           NaN       москва       588   \n",
              "3           NaN       москва       555   \n",
              "4           NaN       москва       726   \n",
              "\n",
              "                                          text_words  \n",
              "0  добрый день я не являюсь клиентом банка и пору...  \n",
              "1  доброго дня являюсь держателем зарплатной карт...  \n",
              "2  здравствуйте дублирую свое заявление от в до м...  \n",
              "3  я как и многие вкладчики открыл на руб со счас...  \n",
              "4  был крайне удивл н новостью от мая об унификац...  "
            ],
            "text/html": [
              "\n",
              "  <div id=\"df-a90b6942-5884-4ce9-be2e-f2741425e5ad\">\n",
              "    <div class=\"colab-df-container\">\n",
              "      <div>\n",
              "<style scoped>\n",
              "    .dataframe tbody tr th:only-of-type {\n",
              "        vertical-align: middle;\n",
              "    }\n",
              "\n",
              "    .dataframe tbody tr th {\n",
              "        vertical-align: top;\n",
              "    }\n",
              "\n",
              "    .dataframe thead th {\n",
              "        text-align: right;\n",
              "    }\n",
              "</style>\n",
              "<table border=\"1\" class=\"dataframe\">\n",
              "  <thead>\n",
              "    <tr style=\"text-align: right;\">\n",
              "      <th></th>\n",
              "      <th>rating_not_checked</th>\n",
              "      <th>title</th>\n",
              "      <th>num_comments</th>\n",
              "      <th>bank_license</th>\n",
              "      <th>author</th>\n",
              "      <th>bank_name</th>\n",
              "      <th>datetime</th>\n",
              "      <th>text</th>\n",
              "      <th>rating_grade</th>\n",
              "      <th>city_copy_1</th>\n",
              "      <th>text_len</th>\n",
              "      <th>text_words</th>\n",
              "    </tr>\n",
              "  </thead>\n",
              "  <tbody>\n",
              "    <tr>\n",
              "      <th>0</th>\n",
              "      <td>False</td>\n",
              "      <td>Жалоба</td>\n",
              "      <td>0</td>\n",
              "      <td>лицензия № 2562</td>\n",
              "      <td>uhnov1</td>\n",
              "      <td>Бинбанк</td>\n",
              "      <td>2015-06-08 12:50:54</td>\n",
              "      <td>Добрый день! Я не являюсь клиентом банка и пор...</td>\n",
              "      <td>NaN</td>\n",
              "      <td>москва</td>\n",
              "      <td>1523</td>\n",
              "      <td>добрый день я не являюсь клиентом банка и пору...</td>\n",
              "    </tr>\n",
              "    <tr>\n",
              "      <th>1</th>\n",
              "      <td>False</td>\n",
              "      <td>Не могу пользоваться услугой Сбербанк он-лайн</td>\n",
              "      <td>0</td>\n",
              "      <td>лицензия № 1481</td>\n",
              "      <td>Foryou</td>\n",
              "      <td>Сбербанк России</td>\n",
              "      <td>2015-06-08 11:09:57</td>\n",
              "      <td>Доброго дня! Являюсь держателем зарплатной кар...</td>\n",
              "      <td>NaN</td>\n",
              "      <td>новосибирск</td>\n",
              "      <td>1026</td>\n",
              "      <td>доброго дня являюсь держателем зарплатной карт...</td>\n",
              "    </tr>\n",
              "    <tr>\n",
              "      <th>2</th>\n",
              "      <td>False</td>\n",
              "      <td>Двойное списание за один товар.</td>\n",
              "      <td>1</td>\n",
              "      <td>лицензия № 2562</td>\n",
              "      <td>Vladimir84</td>\n",
              "      <td>Бинбанк</td>\n",
              "      <td>2015-06-05 20:14:28</td>\n",
              "      <td>Здравствуйте!  Дублирую свое заявление от 03.0...</td>\n",
              "      <td>NaN</td>\n",
              "      <td>москва</td>\n",
              "      <td>588</td>\n",
              "      <td>здравствуйте дублирую свое заявление от в до м...</td>\n",
              "    </tr>\n",
              "    <tr>\n",
              "      <th>3</th>\n",
              "      <td>False</td>\n",
              "      <td>Не тут-то было...</td>\n",
              "      <td>0</td>\n",
              "      <td>лицензия № 606</td>\n",
              "      <td>bankir76</td>\n",
              "      <td>Гагаринский</td>\n",
              "      <td>2015-06-05 11:37:31</td>\n",
              "      <td>Я, как и многие вкладчики открыл на 1000 руб. ...</td>\n",
              "      <td>NaN</td>\n",
              "      <td>москва</td>\n",
              "      <td>555</td>\n",
              "      <td>я как и многие вкладчики открыл на руб со счас...</td>\n",
              "    </tr>\n",
              "    <tr>\n",
              "      <th>4</th>\n",
              "      <td>False</td>\n",
              "      <td>Вот так поворот!</td>\n",
              "      <td>0</td>\n",
              "      <td>лицензия № 2673</td>\n",
              "      <td>Altairseg</td>\n",
              "      <td>Тинькофф Банк</td>\n",
              "      <td>2015-06-05 11:59:01</td>\n",
              "      <td>Был крайне удивлён новостью от 27/28 мая - об ...</td>\n",
              "      <td>NaN</td>\n",
              "      <td>москва</td>\n",
              "      <td>726</td>\n",
              "      <td>был крайне удивл н новостью от мая об унификац...</td>\n",
              "    </tr>\n",
              "  </tbody>\n",
              "</table>\n",
              "</div>\n",
              "      <button class=\"colab-df-convert\" onclick=\"convertToInteractive('df-a90b6942-5884-4ce9-be2e-f2741425e5ad')\"\n",
              "              title=\"Convert this dataframe to an interactive table.\"\n",
              "              style=\"display:none;\">\n",
              "        \n",
              "  <svg xmlns=\"http://www.w3.org/2000/svg\" height=\"24px\"viewBox=\"0 0 24 24\"\n",
              "       width=\"24px\">\n",
              "    <path d=\"M0 0h24v24H0V0z\" fill=\"none\"/>\n",
              "    <path d=\"M18.56 5.44l.94 2.06.94-2.06 2.06-.94-2.06-.94-.94-2.06-.94 2.06-2.06.94zm-11 1L8.5 8.5l.94-2.06 2.06-.94-2.06-.94L8.5 2.5l-.94 2.06-2.06.94zm10 10l.94 2.06.94-2.06 2.06-.94-2.06-.94-.94-2.06-.94 2.06-2.06.94z\"/><path d=\"M17.41 7.96l-1.37-1.37c-.4-.4-.92-.59-1.43-.59-.52 0-1.04.2-1.43.59L10.3 9.45l-7.72 7.72c-.78.78-.78 2.05 0 2.83L4 21.41c.39.39.9.59 1.41.59.51 0 1.02-.2 1.41-.59l7.78-7.78 2.81-2.81c.8-.78.8-2.07 0-2.86zM5.41 20L4 18.59l7.72-7.72 1.47 1.35L5.41 20z\"/>\n",
              "  </svg>\n",
              "      </button>\n",
              "      \n",
              "  <style>\n",
              "    .colab-df-container {\n",
              "      display:flex;\n",
              "      flex-wrap:wrap;\n",
              "      gap: 12px;\n",
              "    }\n",
              "\n",
              "    .colab-df-convert {\n",
              "      background-color: #E8F0FE;\n",
              "      border: none;\n",
              "      border-radius: 50%;\n",
              "      cursor: pointer;\n",
              "      display: none;\n",
              "      fill: #1967D2;\n",
              "      height: 32px;\n",
              "      padding: 0 0 0 0;\n",
              "      width: 32px;\n",
              "    }\n",
              "\n",
              "    .colab-df-convert:hover {\n",
              "      background-color: #E2EBFA;\n",
              "      box-shadow: 0px 1px 2px rgba(60, 64, 67, 0.3), 0px 1px 3px 1px rgba(60, 64, 67, 0.15);\n",
              "      fill: #174EA6;\n",
              "    }\n",
              "\n",
              "    [theme=dark] .colab-df-convert {\n",
              "      background-color: #3B4455;\n",
              "      fill: #D2E3FC;\n",
              "    }\n",
              "\n",
              "    [theme=dark] .colab-df-convert:hover {\n",
              "      background-color: #434B5C;\n",
              "      box-shadow: 0px 1px 3px 1px rgba(0, 0, 0, 0.15);\n",
              "      filter: drop-shadow(0px 1px 2px rgba(0, 0, 0, 0.3));\n",
              "      fill: #FFFFFF;\n",
              "    }\n",
              "  </style>\n",
              "\n",
              "      <script>\n",
              "        const buttonEl =\n",
              "          document.querySelector('#df-a90b6942-5884-4ce9-be2e-f2741425e5ad button.colab-df-convert');\n",
              "        buttonEl.style.display =\n",
              "          google.colab.kernel.accessAllowed ? 'block' : 'none';\n",
              "\n",
              "        async function convertToInteractive(key) {\n",
              "          const element = document.querySelector('#df-a90b6942-5884-4ce9-be2e-f2741425e5ad');\n",
              "          const dataTable =\n",
              "            await google.colab.kernel.invokeFunction('convertToInteractive',\n",
              "                                                     [key], {});\n",
              "          if (!dataTable) return;\n",
              "\n",
              "          const docLinkHtml = 'Like what you see? Visit the ' +\n",
              "            '<a target=\"_blank\" href=https://colab.research.google.com/notebooks/data_table.ipynb>data table notebook</a>'\n",
              "            + ' to learn more about interactive tables.';\n",
              "          element.innerHTML = '';\n",
              "          dataTable['output_type'] = 'display_data';\n",
              "          await google.colab.output.renderOutput(dataTable, element);\n",
              "          const docLink = document.createElement('div');\n",
              "          docLink.innerHTML = docLinkHtml;\n",
              "          element.appendChild(docLink);\n",
              "        }\n",
              "      </script>\n",
              "    </div>\n",
              "  </div>\n",
              "  "
            ]
          },
          "metadata": {},
          "execution_count": 25
        }
      ]
    },
    {
      "cell_type": "code",
      "source": [
        "df_1['words_count'] = df_1['text_words'].progress_apply(lambda x: len(x.split()))\n",
        "df_1.head(1)"
      ],
      "metadata": {
        "colab": {
          "base_uri": "https://localhost:8080/",
          "height": 244,
          "referenced_widgets": [
            "e1d90acde7674da69891289c6573d716",
            "44a79f01fb3a48358f8de6edfdd60c63",
            "52be590abbf04fe8bc25c5bc14c774b1",
            "38c35f71cf8c4dcda6bb584c2f93bcaa",
            "c52ff04cd2924d578ac6eb2f773b72c8",
            "12a59e96b1db4d788ca48d1b8b41b814",
            "8a5d1b44a3d9490c9e9cb961e005543c",
            "e2daa13e35d446c5869a1c4ca68925be",
            "92f6832350b04ab49a22a9f5efa8ec41",
            "bf46a53d750b4f889332083a42486b33",
            "5d48182413e74aed94bc032f4222c64d"
          ]
        },
        "id": "G4AKhM7HXp_e",
        "outputId": "e622854f-85fe-4cfb-c660-bc56ae9baf50"
      },
      "execution_count": null,
      "outputs": [
        {
          "output_type": "display_data",
          "data": {
            "text/plain": [
              "  0%|          | 0/11000 [00:00<?, ?it/s]"
            ],
            "application/vnd.jupyter.widget-view+json": {
              "version_major": 2,
              "version_minor": 0,
              "model_id": "e1d90acde7674da69891289c6573d716"
            }
          },
          "metadata": {}
        },
        {
          "output_type": "execute_result",
          "data": {
            "text/plain": [
              "   rating_not_checked   title  num_comments     bank_license  author  \\\n",
              "0               False  Жалоба             0  лицензия № 2562  uhnov1   \n",
              "\n",
              "  bank_name             datetime  \\\n",
              "0   Бинбанк  2015-06-08 12:50:54   \n",
              "\n",
              "                                                text  rating_grade  \\\n",
              "0  Добрый день! Я не являюсь клиентом банка и пор...           NaN   \n",
              "\n",
              "  city_copy_1  text_len                                         text_words  \\\n",
              "0      москва      1523  добрый день я не являюсь клиентом банка и пору...   \n",
              "\n",
              "   words_count  \n",
              "0          213  "
            ],
            "text/html": [
              "\n",
              "  <div id=\"df-9cc08873-c1a8-4ffd-b75a-31a531b65ff3\">\n",
              "    <div class=\"colab-df-container\">\n",
              "      <div>\n",
              "<style scoped>\n",
              "    .dataframe tbody tr th:only-of-type {\n",
              "        vertical-align: middle;\n",
              "    }\n",
              "\n",
              "    .dataframe tbody tr th {\n",
              "        vertical-align: top;\n",
              "    }\n",
              "\n",
              "    .dataframe thead th {\n",
              "        text-align: right;\n",
              "    }\n",
              "</style>\n",
              "<table border=\"1\" class=\"dataframe\">\n",
              "  <thead>\n",
              "    <tr style=\"text-align: right;\">\n",
              "      <th></th>\n",
              "      <th>rating_not_checked</th>\n",
              "      <th>title</th>\n",
              "      <th>num_comments</th>\n",
              "      <th>bank_license</th>\n",
              "      <th>author</th>\n",
              "      <th>bank_name</th>\n",
              "      <th>datetime</th>\n",
              "      <th>text</th>\n",
              "      <th>rating_grade</th>\n",
              "      <th>city_copy_1</th>\n",
              "      <th>text_len</th>\n",
              "      <th>text_words</th>\n",
              "      <th>words_count</th>\n",
              "    </tr>\n",
              "  </thead>\n",
              "  <tbody>\n",
              "    <tr>\n",
              "      <th>0</th>\n",
              "      <td>False</td>\n",
              "      <td>Жалоба</td>\n",
              "      <td>0</td>\n",
              "      <td>лицензия № 2562</td>\n",
              "      <td>uhnov1</td>\n",
              "      <td>Бинбанк</td>\n",
              "      <td>2015-06-08 12:50:54</td>\n",
              "      <td>Добрый день! Я не являюсь клиентом банка и пор...</td>\n",
              "      <td>NaN</td>\n",
              "      <td>москва</td>\n",
              "      <td>1523</td>\n",
              "      <td>добрый день я не являюсь клиентом банка и пору...</td>\n",
              "      <td>213</td>\n",
              "    </tr>\n",
              "  </tbody>\n",
              "</table>\n",
              "</div>\n",
              "      <button class=\"colab-df-convert\" onclick=\"convertToInteractive('df-9cc08873-c1a8-4ffd-b75a-31a531b65ff3')\"\n",
              "              title=\"Convert this dataframe to an interactive table.\"\n",
              "              style=\"display:none;\">\n",
              "        \n",
              "  <svg xmlns=\"http://www.w3.org/2000/svg\" height=\"24px\"viewBox=\"0 0 24 24\"\n",
              "       width=\"24px\">\n",
              "    <path d=\"M0 0h24v24H0V0z\" fill=\"none\"/>\n",
              "    <path d=\"M18.56 5.44l.94 2.06.94-2.06 2.06-.94-2.06-.94-.94-2.06-.94 2.06-2.06.94zm-11 1L8.5 8.5l.94-2.06 2.06-.94-2.06-.94L8.5 2.5l-.94 2.06-2.06.94zm10 10l.94 2.06.94-2.06 2.06-.94-2.06-.94-.94-2.06-.94 2.06-2.06.94z\"/><path d=\"M17.41 7.96l-1.37-1.37c-.4-.4-.92-.59-1.43-.59-.52 0-1.04.2-1.43.59L10.3 9.45l-7.72 7.72c-.78.78-.78 2.05 0 2.83L4 21.41c.39.39.9.59 1.41.59.51 0 1.02-.2 1.41-.59l7.78-7.78 2.81-2.81c.8-.78.8-2.07 0-2.86zM5.41 20L4 18.59l7.72-7.72 1.47 1.35L5.41 20z\"/>\n",
              "  </svg>\n",
              "      </button>\n",
              "      \n",
              "  <style>\n",
              "    .colab-df-container {\n",
              "      display:flex;\n",
              "      flex-wrap:wrap;\n",
              "      gap: 12px;\n",
              "    }\n",
              "\n",
              "    .colab-df-convert {\n",
              "      background-color: #E8F0FE;\n",
              "      border: none;\n",
              "      border-radius: 50%;\n",
              "      cursor: pointer;\n",
              "      display: none;\n",
              "      fill: #1967D2;\n",
              "      height: 32px;\n",
              "      padding: 0 0 0 0;\n",
              "      width: 32px;\n",
              "    }\n",
              "\n",
              "    .colab-df-convert:hover {\n",
              "      background-color: #E2EBFA;\n",
              "      box-shadow: 0px 1px 2px rgba(60, 64, 67, 0.3), 0px 1px 3px 1px rgba(60, 64, 67, 0.15);\n",
              "      fill: #174EA6;\n",
              "    }\n",
              "\n",
              "    [theme=dark] .colab-df-convert {\n",
              "      background-color: #3B4455;\n",
              "      fill: #D2E3FC;\n",
              "    }\n",
              "\n",
              "    [theme=dark] .colab-df-convert:hover {\n",
              "      background-color: #434B5C;\n",
              "      box-shadow: 0px 1px 3px 1px rgba(0, 0, 0, 0.15);\n",
              "      filter: drop-shadow(0px 1px 2px rgba(0, 0, 0, 0.3));\n",
              "      fill: #FFFFFF;\n",
              "    }\n",
              "  </style>\n",
              "\n",
              "      <script>\n",
              "        const buttonEl =\n",
              "          document.querySelector('#df-9cc08873-c1a8-4ffd-b75a-31a531b65ff3 button.colab-df-convert');\n",
              "        buttonEl.style.display =\n",
              "          google.colab.kernel.accessAllowed ? 'block' : 'none';\n",
              "\n",
              "        async function convertToInteractive(key) {\n",
              "          const element = document.querySelector('#df-9cc08873-c1a8-4ffd-b75a-31a531b65ff3');\n",
              "          const dataTable =\n",
              "            await google.colab.kernel.invokeFunction('convertToInteractive',\n",
              "                                                     [key], {});\n",
              "          if (!dataTable) return;\n",
              "\n",
              "          const docLinkHtml = 'Like what you see? Visit the ' +\n",
              "            '<a target=\"_blank\" href=https://colab.research.google.com/notebooks/data_table.ipynb>data table notebook</a>'\n",
              "            + ' to learn more about interactive tables.';\n",
              "          element.innerHTML = '';\n",
              "          dataTable['output_type'] = 'display_data';\n",
              "          await google.colab.output.renderOutput(dataTable, element);\n",
              "          const docLink = document.createElement('div');\n",
              "          docLink.innerHTML = docLinkHtml;\n",
              "          element.appendChild(docLink);\n",
              "        }\n",
              "      </script>\n",
              "    </div>\n",
              "  </div>\n",
              "  "
            ]
          },
          "metadata": {},
          "execution_count": 28
        }
      ]
    },
    {
      "cell_type": "code",
      "source": [
        "df_1.words_count.describe()"
      ],
      "metadata": {
        "colab": {
          "base_uri": "https://localhost:8080/"
        },
        "outputId": "ae09cc47-7f58-498c-b145-e87b45f0e785",
        "id": "nByDaAMHX_6R"
      },
      "execution_count": null,
      "outputs": [
        {
          "output_type": "execute_result",
          "data": {
            "text/plain": [
              "count    11000.000000\n",
              "mean       211.878000\n",
              "std        183.100779\n",
              "min          4.000000\n",
              "25%         98.000000\n",
              "50%        161.000000\n",
              "75%        262.000000\n",
              "max       2494.000000\n",
              "Name: words_count, dtype: float64"
            ]
          },
          "metadata": {},
          "execution_count": 29
        }
      ]
    },
    {
      "cell_type": "code",
      "source": [
        "sns.histplot(data=df_1, x='words_count')\n",
        "plt.title('Гистограмма количества слов в отзыве');"
      ],
      "metadata": {
        "colab": {
          "base_uri": "https://localhost:8080/",
          "height": 472
        },
        "outputId": "c1c91d3c-7c51-4b2e-92b4-12fe032fcf5b",
        "id": "DQxR9sHCX_6S"
      },
      "execution_count": null,
      "outputs": [
        {
          "output_type": "display_data",
          "data": {
            "text/plain": [
              "<Figure size 640x480 with 1 Axes>"
            ],
            "image/png": "[encoded data removed]"
          },
          "metadata": {}
        }
      ]
    },
    {
      "cell_type": "markdown",
      "source": [
        "## 3. Найдите 10 самых частых:\n",
        "\n",
        "*   слов\n",
        "*   слов без стоп-слов\n",
        "*   лемм\n",
        "*   существительных\n",
        "\n"
      ],
      "metadata": {
        "id": "4X3Qyc5gwYpc"
      }
    },
    {
      "cell_type": "markdown",
      "source": [
        "### слова"
      ],
      "metadata": {
        "id": "DQ4-XTS8sqg4"
      }
    },
    {
      "cell_type": "code",
      "source": [
        "from nltk.tokenize import word_tokenize"
      ],
      "metadata": {
        "id": "gmhQfRo_Z53b"
      },
      "execution_count": null,
      "outputs": []
    },
    {
      "cell_type": "code",
      "source": [
        "import nltk\n",
        "nltk.download('punkt')"
      ],
      "metadata": {
        "colab": {
          "base_uri": "https://localhost:8080/"
        },
        "id": "zyhrYRmvaFMw",
        "outputId": "f646fca1-e697-4d91-f27a-1931fb05a46c"
      },
      "execution_count": null,
      "outputs": [
        {
          "output_type": "stream",
          "name": "stderr",
          "text": [
            "[nltk_data] Downloading package punkt to /root/nltk_data...\n",
            "[nltk_data]   Unzipping tokenizers/punkt.zip.\n"
          ]
        },
        {
          "output_type": "execute_result",
          "data": {
            "text/plain": [
              "True"
            ]
          },
          "metadata": {},
          "execution_count": 27
        }
      ]
    },
    {
      "cell_type": "code",
      "execution_count": null,
      "metadata": {
        "id": "HyhF13B1T4my",
        "outputId": "673b1d9b-65cc-40bc-e047-289b015c7c16",
        "colab": {
          "base_uri": "https://localhost:8080/",
          "height": 35
        }
      },
      "outputs": [
        {
          "output_type": "execute_result",
          "data": {
            "text/plain": [
              "'!\"#$%&\\'()*+,-./:;<=>?@[\\\\]^_`{|}~'"
            ],
            "application/vnd.google.colaboratory.intrinsic+json": {
              "type": "string"
            }
          },
          "metadata": {},
          "execution_count": 28
        }
      ],
      "source": [
        "from string import punctuation\n",
        "punctuation"
      ]
    },
    {
      "cell_type": "code",
      "execution_count": null,
      "metadata": {
        "id": "mBt8AbAyT4my"
      },
      "outputs": [],
      "source": [
        "from collections import Counter\n",
        "corpus = [token for tweet in df_1.text for token in word_tokenize(tweet) if token not in punctuation]"
      ]
    },
    {
      "cell_type": "code",
      "execution_count": null,
      "metadata": {
        "id": "0U1M4eu1T4mz",
        "outputId": "5adcf998-ed29-4042-ae3d-9f1d381a357f",
        "colab": {
          "base_uri": "https://localhost:8080/"
        }
      },
      "outputs": [
        {
          "output_type": "execute_result",
          "data": {
            "text/plain": [
              "[('в', 76763),\n",
              " ('и', 64906),\n",
              " ('не', 54172),\n",
              " ('на', 42657),\n",
              " ('что', 38969),\n",
              " ('с', 29941),\n",
              " ('я', 28803),\n",
              " ('по', 23930),\n",
              " ('мне', 18650),\n",
              " ('банка', 16498)]"
            ]
          },
          "metadata": {},
          "execution_count": 30
        }
      ],
      "source": [
        "freq_dict = Counter(corpus) #составляем частотный словарь\n",
        "\n",
        "freq_dict.most_common(10) # 10 самых частых слов"
      ]
    },
    {
      "cell_type": "markdown",
      "source": [
        "### слова без стоп-слов"
      ],
      "metadata": {
        "id": "4S4iLOv9s2De"
      }
    },
    {
      "cell_type": "code",
      "source": [
        "import nltk\n",
        "nltk.download('stopwords')"
      ],
      "metadata": {
        "colab": {
          "base_uri": "https://localhost:8080/"
        },
        "id": "2H-Pcz69rSD3",
        "outputId": "92925c08-62ca-460c-e108-2c6344020f9b"
      },
      "execution_count": null,
      "outputs": [
        {
          "output_type": "stream",
          "name": "stderr",
          "text": [
            "[nltk_data] Downloading package stopwords to /root/nltk_data...\n",
            "[nltk_data]   Unzipping corpora/stopwords.zip.\n"
          ]
        },
        {
          "output_type": "execute_result",
          "data": {
            "text/plain": [
              "True"
            ]
          },
          "metadata": {},
          "execution_count": 31
        }
      ]
    },
    {
      "cell_type": "code",
      "source": [
        "from nltk.corpus import stopwords\n",
        "print(stopwords.words('russian'))"
      ],
      "metadata": {
        "colab": {
          "base_uri": "https://localhost:8080/"
        },
        "id": "9X9nMmvsrcxm",
        "outputId": "c62e0b0e-0810-4e5d-d5a9-829c9bef2f75"
      },
      "execution_count": null,
      "outputs": [
        {
          "output_type": "stream",
          "name": "stdout",
          "text": [
            "['и', 'в', 'во', 'не', 'что', 'он', 'на', 'я', 'с', 'со', 'как', 'а', 'то', 'все', 'она', 'так', 'его', 'но', 'да', 'ты', 'к', 'у', 'же', 'вы', 'за', 'бы', 'по', 'только', 'ее', 'мне', 'было', 'вот', 'от', 'меня', 'еще', 'нет', 'о', 'из', 'ему', 'теперь', 'когда', 'даже', 'ну', 'вдруг', 'ли', 'если', 'уже', 'или', 'ни', 'быть', 'был', 'него', 'до', 'вас', 'нибудь', 'опять', 'уж', 'вам', 'ведь', 'там', 'потом', 'себя', 'ничего', 'ей', 'может', 'они', 'тут', 'где', 'есть', 'надо', 'ней', 'для', 'мы', 'тебя', 'их', 'чем', 'была', 'сам', 'чтоб', 'без', 'будто', 'чего', 'раз', 'тоже', 'себе', 'под', 'будет', 'ж', 'тогда', 'кто', 'этот', 'того', 'потому', 'этого', 'какой', 'совсем', 'ним', 'здесь', 'этом', 'один', 'почти', 'мой', 'тем', 'чтобы', 'нее', 'сейчас', 'были', 'куда', 'зачем', 'всех', 'никогда', 'можно', 'при', 'наконец', 'два', 'об', 'другой', 'хоть', 'после', 'над', 'больше', 'тот', 'через', 'эти', 'нас', 'про', 'всего', 'них', 'какая', 'много', 'разве', 'три', 'эту', 'моя', 'впрочем', 'хорошо', 'свою', 'этой', 'перед', 'иногда', 'лучше', 'чуть', 'том', 'нельзя', 'такой', 'им', 'более', 'всегда', 'конечно', 'всю', 'между']\n"
          ]
        }
      ]
    },
    {
      "cell_type": "code",
      "source": [
        "freq_dict.most_common(60) # просматриваю свои частотные слова, чтобы добавить в стопы"
      ],
      "metadata": {
        "colab": {
          "base_uri": "https://localhost:8080/"
        },
        "id": "_FqWLZHAd0W5",
        "outputId": "a6a92c3d-58a2-4c54-f17a-d8038af0774c"
      },
      "execution_count": null,
      "outputs": [
        {
          "output_type": "execute_result",
          "data": {
            "text/plain": [
              "[('в', 76763),\n",
              " ('и', 64906),\n",
              " ('не', 54172),\n",
              " ('на', 42657),\n",
              " ('что', 38969),\n",
              " ('с', 29941),\n",
              " ('я', 28803),\n",
              " ('по', 23930),\n",
              " ('мне', 18650),\n",
              " ('банка', 16498),\n",
              " ('``', 13923),\n",
              " (\"''\", 13754),\n",
              " ('меня', 11675),\n",
              " ('банк', 11480),\n",
              " ('как', 10977),\n",
              " ('за', 10860),\n",
              " ('а', 10595),\n",
              " ('это', 10306),\n",
              " ('В', 10009),\n",
              " ('о', 9898),\n",
              " ('у', 9595),\n",
              " ('но', 9036),\n",
              " ('все', 8626),\n",
              " ('Я', 8516),\n",
              " ('к', 8015),\n",
              " ('от', 7874),\n",
              " ('деньги', 7691),\n",
              " ('так', 7669),\n",
              " ('было', 7279),\n",
              " ('же', 7272),\n",
              " ('для', 7265),\n",
              " ('карты', 6420),\n",
              " ('уже', 6383),\n",
              " ('карту', 5887),\n",
              " ('из', 5726),\n",
              " ('то', 5725),\n",
              " ('...', 5616),\n",
              " ('до', 5604),\n",
              " ('день', 5203),\n",
              " ('только', 5189),\n",
              " ('нет', 5058),\n",
              " ('через', 5017),\n",
              " ('раз', 4607),\n",
              " ('при', 4560),\n",
              " ('еще', 4543),\n",
              " ('был', 4498),\n",
              " ('И', 4447),\n",
              " ('бы', 4291),\n",
              " ('На', 4177),\n",
              " ('время', 4076),\n",
              " ('банке', 4016),\n",
              " ('года', 4005),\n",
              " ('отделение', 4004),\n",
              " ('заявление', 3946),\n",
              " ('со', 3920),\n",
              " ('этом', 3842),\n",
              " ('или', 3814),\n",
              " ('чтобы', 3785),\n",
              " ('была', 3774),\n",
              " ('«', 3772)]"
            ]
          },
          "metadata": {},
          "execution_count": 14
        }
      ]
    },
    {
      "cell_type": "markdown",
      "source": [
        "На 60-ти самых частых словах видно, что исключение пунктуации плохо сработало."
      ],
      "metadata": {
        "id": "XgPSiic31bu8"
      }
    },
    {
      "cell_type": "code",
      "source": [
        "noise = stopwords.words('russian') + list(punctuation)+['«','``',\"''\",'...','ст','м','руб','очень','это','наш','тыс','млн','млрд','также','т','д']"
      ],
      "metadata": {
        "id": "KtSRPakziJVb"
      },
      "execution_count": null,
      "outputs": []
    },
    {
      "cell_type": "code",
      "source": [
        "corpus_1 = [token for tweet in df_1.text for token in word_tokenize(tweet) if token not in noise]"
      ],
      "metadata": {
        "id": "G_1WvkL1jcZ_"
      },
      "execution_count": null,
      "outputs": []
    },
    {
      "cell_type": "code",
      "execution_count": null,
      "metadata": {
        "outputId": "aa60f124-32a3-4ee0-8d8a-b2d3da1c0754",
        "colab": {
          "base_uri": "https://localhost:8080/"
        },
        "id": "VW9DZHNflScY"
      },
      "outputs": [
        {
          "output_type": "execute_result",
          "data": {
            "text/plain": [
              "[('банка', 16498),\n",
              " ('банк', 11480),\n",
              " ('В', 10009),\n",
              " ('Я', 8516),\n",
              " ('деньги', 7691),\n",
              " ('карты', 6420),\n",
              " ('карту', 5887),\n",
              " ('день', 5203),\n",
              " ('И', 4447),\n",
              " ('На', 4177),\n",
              " ('время', 4076),\n",
              " ('банке', 4016),\n",
              " ('года', 4005),\n",
              " ('отделение', 4004),\n",
              " ('заявление', 3946),\n",
              " ('2', 3756),\n",
              " ('»', 3738),\n",
              " ('кредит', 3620),\n",
              " ('счет', 3593),\n",
              " ('Но', 3489),\n",
              " ('дней', 3487),\n",
              " ('рублей', 3337),\n",
              " ('А', 3072),\n",
              " ('Банк', 3031),\n",
              " ('сумму', 3017),\n",
              " ('номер', 2963),\n",
              " ('средств', 2895),\n",
              " ('вклад', 2860),\n",
              " ('ответ', 2858),\n",
              " ('вопрос', 2801),\n",
              " ('1', 2708),\n",
              " ('3', 2693),\n",
              " ('счета', 2592),\n",
              " ('карта', 2574),\n",
              " ('карте', 2465),\n",
              " ('денег', 2439),\n",
              " ('просто', 2429),\n",
              " ('отделении', 2426),\n",
              " ('могу', 2365),\n",
              " ('банком', 2332),\n",
              " ('вклада', 2326),\n",
              " ('Банка', 2308),\n",
              " ('кредита', 2285),\n",
              " ('сотрудники', 2283),\n",
              " ('который', 2249),\n",
              " ('моей', 2248),\n",
              " ('средства', 2222),\n",
              " ('которые', 2138),\n",
              " ('мои', 2129),\n",
              " ('клиентов', 2123),\n",
              " ('т.к', 2103),\n",
              " ('сотрудников', 2031),\n",
              " ('сказали', 2011),\n",
              " ('офис', 2008),\n",
              " ('нужно', 2007),\n",
              " ('5', 1978),\n",
              " ('г.', 1972),\n",
              " ('смс', 1971),\n",
              " ('телефону', 1970),\n",
              " ('При', 1916)]"
            ]
          },
          "metadata": {},
          "execution_count": 18
        }
      ],
      "source": [
        "freq_dict_1 = Counter(corpus_1) #составляем частотный словарь\n",
        "\n",
        "freq_dict_1.most_common(60)"
      ]
    },
    {
      "cell_type": "markdown",
      "source": [
        "Мне не нравится результат. Поэтому для дальнейшей работы буду использовать столбец 'text_words',предобработанный через регулярку."
      ],
      "metadata": {
        "id": "q3Pef5Ex0e9r"
      }
    },
    {
      "cell_type": "code",
      "source": [
        "def remove_stopwords(text, mystopwords = noise):\n",
        "    try:\n",
        "        return \" \".join([token for token in text.split() if not token in mystopwords])\n",
        "    except:\n",
        "        return \"\""
      ],
      "metadata": {
        "id": "V9pjVjQXrC8W"
      },
      "execution_count": null,
      "outputs": []
    },
    {
      "cell_type": "code",
      "source": [
        "df_1['text_without_stop_words'] = df_1['text_words'].progress_apply(remove_stopwords)"
      ],
      "metadata": {
        "colab": {
          "base_uri": "https://localhost:8080/",
          "height": 49,
          "referenced_widgets": [
            "f3851ac5b53e4412b9a8428d9c4cbc67",
            "56739c6bdcf84de990e08572caf23b3d",
            "94fe94babd8243eb97834d65710e7bf1",
            "51a9eeba33834c948d318ce267a2764c",
            "1fd4099d9c5243cc95ba67338a2c8321",
            "18309378c83f47a0bf66b9d03113f6d2",
            "acbfa31c547c483886237a56c4b9f7bc",
            "84b1a5c30bbb44a6b2476b0e79e9ec13",
            "0e9b648a2dbe4e1fb5cd98a9d0d6869b",
            "042b338da9e044178c3194c8ca994545",
            "c1e79a74c75a40448b304695ea3e6926"
          ]
        },
        "id": "mT9UNsYk3hsZ",
        "outputId": "761b90b3-257b-42ef-84fb-380bc4665e7a"
      },
      "execution_count": null,
      "outputs": [
        {
          "output_type": "display_data",
          "data": {
            "text/plain": [
              "  0%|          | 0/11000 [00:00<?, ?it/s]"
            ],
            "application/vnd.jupyter.widget-view+json": {
              "version_major": 2,
              "version_minor": 0,
              "model_id": "f3851ac5b53e4412b9a8428d9c4cbc67"
            }
          },
          "metadata": {}
        }
      ]
    },
    {
      "cell_type": "code",
      "source": [
        "cnt_stop = Counter()\n",
        "n_types_stop = []\n",
        "n_tokens_stop = []\n",
        "tokens_stop = []\n",
        "for index, row in tqdm(df_1.iterrows(), total = len(df_1)):\n",
        "    tokens_stop = row['text_without_stop_words'].split()\n",
        "    cnt_stop.update(tokens_stop)\n",
        "    n_types_stop.append(len(cnt_stop))\n",
        "    n_tokens_stop.append(sum(list(cnt_stop.values())))\n",
        "for i in cnt_stop.most_common(10):\n",
        "    print(i) # 10 самых частых слов без стоп-слов"
      ],
      "metadata": {
        "colab": {
          "base_uri": "https://localhost:8080/"
        },
        "id": "NOWlYg1Y4Zk8",
        "outputId": "cdb2a3ee-07d4-4533-f8a0-f374a7b61398"
      },
      "execution_count": null,
      "outputs": [
        {
          "output_type": "stream",
          "name": "stderr",
          "text": [
            "100%|██████████| 11000/11000 [00:57<00:00, 189.85it/s]"
          ]
        },
        {
          "output_type": "stream",
          "name": "stdout",
          "text": [
            "('банка', 19691)\n",
            "('банк', 16115)\n",
            "('деньги', 8281)\n",
            "('карты', 6627)\n",
            "('карту', 6152)\n",
            "('день', 5322)\n",
            "('банке', 4962)\n",
            "('заявление', 4318)\n",
            "('время', 4215)\n",
            "('отделение', 4164)\n"
          ]
        },
        {
          "output_type": "stream",
          "name": "stderr",
          "text": [
            "\n"
          ]
        }
      ]
    },
    {
      "cell_type": "code",
      "source": [
        "cnt_stop.most_common(100) # смотрю \"глазами\", чтобы отредактировать стоп-слова"
      ],
      "metadata": {
        "colab": {
          "base_uri": "https://localhost:8080/"
        },
        "id": "78_-w8jZ4hRX",
        "outputId": "ac8432b1-29de-49d6-e4e5-9c10c12af3cf"
      },
      "execution_count": null,
      "outputs": [
        {
          "output_type": "execute_result",
          "data": {
            "text/plain": [
              "[('банка', 19691),\n",
              " ('банк', 16115),\n",
              " ('деньги', 8281),\n",
              " ('карты', 6627),\n",
              " ('карту', 6152),\n",
              " ('день', 5322),\n",
              " ('банке', 4962),\n",
              " ('заявление', 4318),\n",
              " ('время', 4215),\n",
              " ('отделение', 4164),\n",
              " ('г', 4157),\n",
              " ('кредит', 4124),\n",
              " ('года', 4071),\n",
              " ('счет', 3751),\n",
              " ('смс', 3537),\n",
              " ('дней', 3534),\n",
              " ('почему', 3494),\n",
              " ('рублей', 3400),\n",
              " ('ответ', 3280),\n",
              " ('номер', 3255),\n",
              " ('вопрос', 3237),\n",
              " ('сумму', 3072),\n",
              " ('вклад', 3045),\n",
              " ('банком', 2995),\n",
              " ('средств', 2919),\n",
              " ('карта', 2884),\n",
              " ('сегодня', 2866),\n",
              " ('сотрудники', 2797),\n",
              " ('просто', 2702),\n",
              " ('счета', 2680),\n",
              " ('денег', 2517),\n",
              " ('карте', 2506),\n",
              " ('сотрудник', 2495),\n",
              " ('интернет', 2452),\n",
              " ('отделении', 2447),\n",
              " ('могу', 2445),\n",
              " ('прошу', 2413),\n",
              " ('вклада', 2411),\n",
              " ('кредита', 2334),\n",
              " ('мои', 2310),\n",
              " ('моей', 2290),\n",
              " ('е', 2290),\n",
              " ('который', 2275),\n",
              " ('средства', 2272),\n",
              " ('сумма', 2202),\n",
              " ('сказали', 2192),\n",
              " ('клиентов', 2173),\n",
              " ('которые', 2155),\n",
              " ('офис', 2150),\n",
              " ('нужно', 2084),\n",
              " ('договора', 2076),\n",
              " ('банку', 2069),\n",
              " ('сотрудников', 2058),\n",
              " ('клиентом', 2020),\n",
              " ('хотя', 1999),\n",
              " ('несколько', 1985),\n",
              " ('телефону', 1985),\n",
              " ('минут', 1954),\n",
              " ('мной', 1937),\n",
              " ('дня', 1927),\n",
              " ('сразу', 1899),\n",
              " ('договор', 1897),\n",
              " ('моего', 1876),\n",
              " ('сайте', 1875),\n",
              " ('вообще', 1866),\n",
              " ('звонки', 1802),\n",
              " ('получить', 1766),\n",
              " ('вс', 1764),\n",
              " ('р', 1757),\n",
              " ('документы', 1748),\n",
              " ('сбербанка', 1739),\n",
              " ('операции', 1689),\n",
              " ('информацию', 1677),\n",
              " ('срок', 1662),\n",
              " ('свои', 1661),\n",
              " ('момент', 1661),\n",
              " ('хочу', 1612),\n",
              " ('добрый', 1611),\n",
              " ('получил', 1601),\n",
              " ('времени', 1599),\n",
              " ('клиента', 1593),\n",
              " ('являюсь', 1579),\n",
              " ('отделения', 1572),\n",
              " ('связи', 1555),\n",
              " ('альфа', 1547),\n",
              " ('платеж', 1542),\n",
              " ('спасибо', 1533),\n",
              " ('сбербанк', 1518),\n",
              " ('ситуации', 1518),\n",
              " ('суммы', 1518),\n",
              " ('решил', 1512),\n",
              " ('лет', 1510),\n",
              " ('буду', 1507),\n",
              " ('либо', 1502),\n",
              " ('данные', 1496),\n",
              " ('пока', 1471),\n",
              " ('телефон', 1467),\n",
              " ('месяц', 1460),\n",
              " ('случае', 1457),\n",
              " ('месяца', 1441)]"
            ]
          },
          "metadata": {},
          "execution_count": 35
        }
      ]
    },
    {
      "cell_type": "code",
      "source": [
        "noise = noise+['г','с','е','р','вс','хотя','моей','нужно','мои','сразу','вообще','буду','либо','пока','мной']"
      ],
      "metadata": {
        "id": "CE1co5Xf5nn0"
      },
      "execution_count": null,
      "outputs": []
    },
    {
      "cell_type": "code",
      "source": [
        "def remove_stopwords(text, mystopwords = noise):\n",
        "    try:\n",
        "        return \" \".join([token for token in text.split() if not token in mystopwords])\n",
        "    except:\n",
        "        return \"\""
      ],
      "metadata": {
        "id": "_xaRrPy3_UmI"
      },
      "execution_count": null,
      "outputs": []
    },
    {
      "cell_type": "code",
      "source": [
        "df_1['кор_text_without_stop_words'] = df_1['text_words'].progress_apply(remove_stopwords)"
      ],
      "metadata": {
        "colab": {
          "base_uri": "https://localhost:8080/",
          "height": 49,
          "referenced_widgets": [
            "3caad2feb2fd4da3937068bce7c294d4",
            "4e6d135db2f742318e06ddc67f03bf67",
            "9bf8b9cedb4c4f4bbcd46c113a80d3ce",
            "224f81f339ee42349985e1133be124be",
            "fe0785bef1a74ba58518018093c34865",
            "54050cf982ac4c90b45e14f07a90d8ad",
            "8a5825079cb840b99a4544a9c013606e",
            "19c31432bb5343fd99501e7555cb416a",
            "1e0d386ce5ad4cc79383445f333d94ec",
            "b42d4eef83804a58accbb2098c538b8d",
            "6998cf57fbbe46b18c34d7ecbd3f9041"
          ]
        },
        "outputId": "ed712c57-12c6-4649-c502-98f5d96f946e",
        "id": "sYjawAqx6ZRe"
      },
      "execution_count": null,
      "outputs": [
        {
          "output_type": "display_data",
          "data": {
            "text/plain": [
              "  0%|          | 0/11000 [00:00<?, ?it/s]"
            ],
            "application/vnd.jupyter.widget-view+json": {
              "version_major": 2,
              "version_minor": 0,
              "model_id": "3caad2feb2fd4da3937068bce7c294d4"
            }
          },
          "metadata": {}
        }
      ]
    },
    {
      "cell_type": "code",
      "source": [
        "cnt_stop = Counter()\n",
        "n_types_stop = []\n",
        "n_tokens_stop = []\n",
        "tokens_stop = []\n",
        "for index, row in tqdm(df_1.iterrows(), total = len(df_1)):\n",
        "    tokens_stop = row['кор_text_without_stop_words'].split()\n",
        "    cnt_stop.update(tokens_stop)\n",
        "    n_types_stop.append(len(cnt_stop))\n",
        "    n_tokens_stop.append(sum(list(cnt_stop.values())))\n",
        "for i in cnt_stop.most_common(10):\n",
        "    print(i) # 10 самых частых слов без стоп-слов (обновлено)"
      ],
      "metadata": {
        "colab": {
          "base_uri": "https://localhost:8080/"
        },
        "outputId": "d8f9cf1e-3117-4190-8f74-6d4b8c8c37c6",
        "id": "QxpM5pNV6ZRg"
      },
      "execution_count": null,
      "outputs": [
        {
          "output_type": "stream",
          "name": "stderr",
          "text": [
            "100%|██████████| 11000/11000 [00:58<00:00, 189.43it/s]\n"
          ]
        },
        {
          "output_type": "stream",
          "name": "stdout",
          "text": [
            "('банка', 19691)\n",
            "('банк', 16115)\n",
            "('деньги', 8281)\n",
            "('карты', 6627)\n",
            "('карту', 6152)\n",
            "('день', 5322)\n",
            "('банке', 4962)\n",
            "('заявление', 4318)\n",
            "('время', 4215)\n",
            "('отделение', 4164)\n"
          ]
        }
      ]
    },
    {
      "cell_type": "code",
      "source": [
        "cnt_stop.most_common(100) # проверяю результат \"глазами\""
      ],
      "metadata": {
        "colab": {
          "base_uri": "https://localhost:8080/"
        },
        "outputId": "efc0469f-a99e-4943-eefb-1a2a0f583c55",
        "id": "XN36JQ6Q6ZRh"
      },
      "execution_count": null,
      "outputs": [
        {
          "output_type": "execute_result",
          "data": {
            "text/plain": [
              "[('банка', 19691),\n",
              " ('банк', 16115),\n",
              " ('деньги', 8281),\n",
              " ('карты', 6627),\n",
              " ('карту', 6152),\n",
              " ('день', 5322),\n",
              " ('банке', 4962),\n",
              " ('заявление', 4318),\n",
              " ('время', 4215),\n",
              " ('отделение', 4164),\n",
              " ('кредит', 4124),\n",
              " ('года', 4071),\n",
              " ('счет', 3751),\n",
              " ('смс', 3537),\n",
              " ('дней', 3534),\n",
              " ('почему', 3494),\n",
              " ('рублей', 3400),\n",
              " ('ответ', 3280),\n",
              " ('номер', 3255),\n",
              " ('вопрос', 3237),\n",
              " ('сумму', 3072),\n",
              " ('вклад', 3045),\n",
              " ('банком', 2995),\n",
              " ('средств', 2919),\n",
              " ('карта', 2884),\n",
              " ('сегодня', 2866),\n",
              " ('сотрудники', 2797),\n",
              " ('просто', 2702),\n",
              " ('счета', 2680),\n",
              " ('денег', 2517),\n",
              " ('карте', 2506),\n",
              " ('сотрудник', 2495),\n",
              " ('интернет', 2452),\n",
              " ('отделении', 2447),\n",
              " ('могу', 2445),\n",
              " ('прошу', 2413),\n",
              " ('вклада', 2411),\n",
              " ('кредита', 2334),\n",
              " ('который', 2275),\n",
              " ('средства', 2272),\n",
              " ('сумма', 2202),\n",
              " ('сказали', 2192),\n",
              " ('клиентов', 2173),\n",
              " ('которые', 2155),\n",
              " ('офис', 2150),\n",
              " ('договора', 2076),\n",
              " ('банку', 2069),\n",
              " ('сотрудников', 2058),\n",
              " ('клиентом', 2020),\n",
              " ('несколько', 1985),\n",
              " ('телефону', 1985),\n",
              " ('минут', 1954),\n",
              " ('дня', 1927),\n",
              " ('договор', 1897),\n",
              " ('моего', 1876),\n",
              " ('сайте', 1875),\n",
              " ('звонки', 1802),\n",
              " ('получить', 1766),\n",
              " ('документы', 1748),\n",
              " ('сбербанка', 1739),\n",
              " ('операции', 1689),\n",
              " ('информацию', 1677),\n",
              " ('срок', 1662),\n",
              " ('свои', 1661),\n",
              " ('момент', 1661),\n",
              " ('хочу', 1612),\n",
              " ('добрый', 1611),\n",
              " ('получил', 1601),\n",
              " ('времени', 1599),\n",
              " ('клиента', 1593),\n",
              " ('являюсь', 1579),\n",
              " ('отделения', 1572),\n",
              " ('связи', 1555),\n",
              " ('альфа', 1547),\n",
              " ('платеж', 1542),\n",
              " ('спасибо', 1533),\n",
              " ('сбербанк', 1518),\n",
              " ('ситуации', 1518),\n",
              " ('суммы', 1518),\n",
              " ('решил', 1512),\n",
              " ('лет', 1510),\n",
              " ('данные', 1496),\n",
              " ('телефон', 1467),\n",
              " ('месяц', 1460),\n",
              " ('случае', 1457),\n",
              " ('месяца', 1441),\n",
              " ('работы', 1435),\n",
              " ('очереди', 1434),\n",
              " ('сделать', 1417),\n",
              " ('ответа', 1403),\n",
              " ('никто', 1403),\n",
              " ('обслуживание', 1378),\n",
              " ('течение', 1377),\n",
              " ('итоге', 1375),\n",
              " ('денежных', 1375),\n",
              " ('сказала', 1362),\n",
              " ('девушка', 1359),\n",
              " ('платежа', 1354),\n",
              " ('должен', 1351),\n",
              " ('проблемы', 1349)]"
            ]
          },
          "metadata": {},
          "execution_count": 45
        }
      ]
    },
    {
      "cell_type": "markdown",
      "source": [
        "Получился, конечно, не идеальный результат. Но, в целом, можно оставить)"
      ],
      "metadata": {
        "id": "3ieniEfz76vF"
      }
    },
    {
      "cell_type": "code",
      "source": [
        "df_1.info()"
      ],
      "metadata": {
        "colab": {
          "base_uri": "https://localhost:8080/"
        },
        "id": "nC9zCSWm9NDa",
        "outputId": "a767ea5b-efcd-45b4-ebbe-84af9deeda6b"
      },
      "execution_count": null,
      "outputs": [
        {
          "output_type": "stream",
          "name": "stdout",
          "text": [
            "<class 'pandas.core.frame.DataFrame'>\n",
            "RangeIndex: 11000 entries, 0 to 10999\n",
            "Data columns (total 14 columns):\n",
            " #   Column                       Non-Null Count  Dtype  \n",
            "---  ------                       --------------  -----  \n",
            " 0   rating_not_checked           11000 non-null  bool   \n",
            " 1   title                        10970 non-null  object \n",
            " 2   num_comments                 11000 non-null  int64  \n",
            " 3   bank_license                 11000 non-null  object \n",
            " 4   author                       11000 non-null  object \n",
            " 5   bank_name                    11000 non-null  object \n",
            " 6   datetime                     11000 non-null  object \n",
            " 7   text                         11000 non-null  object \n",
            " 8   rating_grade                 5080 non-null   float64\n",
            " 9   city_copy_1                  11000 non-null  object \n",
            " 10  text_len                     11000 non-null  int64  \n",
            " 11  text_words                   11000 non-null  object \n",
            " 12  text_without_stop_words      11000 non-null  object \n",
            " 13  кор_text_without_stop_words  11000 non-null  object \n",
            "dtypes: bool(1), float64(1), int64(2), object(10)\n",
            "memory usage: 1.1+ MB\n"
          ]
        }
      ]
    },
    {
      "cell_type": "code",
      "source": [
        "df_2=df_1.drop(['text_len','text_words','text_without_stop_words'], axis=1) # удалили не нужные далее столбцы"
      ],
      "metadata": {
        "id": "RaLa5nf-89if"
      },
      "execution_count": null,
      "outputs": []
    },
    {
      "cell_type": "code",
      "source": [
        "df_2.head(1)"
      ],
      "metadata": {
        "colab": {
          "base_uri": "https://localhost:8080/",
          "height": 177
        },
        "id": "2wekV_ka-D-f",
        "outputId": "eb9fc1fd-013b-4372-d2bc-13011230e5a9"
      },
      "execution_count": null,
      "outputs": [
        {
          "output_type": "execute_result",
          "data": {
            "text/plain": [
              "   rating_not_checked   title  num_comments     bank_license  author  \\\n",
              "0               False  Жалоба             0  лицензия № 2562  uhnov1   \n",
              "\n",
              "  bank_name             datetime  \\\n",
              "0   Бинбанк  2015-06-08 12:50:54   \n",
              "\n",
              "                                                text  rating_grade  \\\n",
              "0  Добрый день! Я не являюсь клиентом банка и пор...           NaN   \n",
              "\n",
              "  city_copy_1                        кор_text_without_stop_words  \n",
              "0      москва  добрый день являюсь клиентом банка поручителем...  "
            ],
            "text/html": [
              "\n",
              "  <div id=\"df-3e886b48-58e9-4c69-a8c8-c280a1c32cd6\">\n",
              "    <div class=\"colab-df-container\">\n",
              "      <div>\n",
              "<style scoped>\n",
              "    .dataframe tbody tr th:only-of-type {\n",
              "        vertical-align: middle;\n",
              "    }\n",
              "\n",
              "    .dataframe tbody tr th {\n",
              "        vertical-align: top;\n",
              "    }\n",
              "\n",
              "    .dataframe thead th {\n",
              "        text-align: right;\n",
              "    }\n",
              "</style>\n",
              "<table border=\"1\" class=\"dataframe\">\n",
              "  <thead>\n",
              "    <tr style=\"text-align: right;\">\n",
              "      <th></th>\n",
              "      <th>rating_not_checked</th>\n",
              "      <th>title</th>\n",
              "      <th>num_comments</th>\n",
              "      <th>bank_license</th>\n",
              "      <th>author</th>\n",
              "      <th>bank_name</th>\n",
              "      <th>datetime</th>\n",
              "      <th>text</th>\n",
              "      <th>rating_grade</th>\n",
              "      <th>city_copy_1</th>\n",
              "      <th>кор_text_without_stop_words</th>\n",
              "    </tr>\n",
              "  </thead>\n",
              "  <tbody>\n",
              "    <tr>\n",
              "      <th>0</th>\n",
              "      <td>False</td>\n",
              "      <td>Жалоба</td>\n",
              "      <td>0</td>\n",
              "      <td>лицензия № 2562</td>\n",
              "      <td>uhnov1</td>\n",
              "      <td>Бинбанк</td>\n",
              "      <td>2015-06-08 12:50:54</td>\n",
              "      <td>Добрый день! Я не являюсь клиентом банка и пор...</td>\n",
              "      <td>NaN</td>\n",
              "      <td>москва</td>\n",
              "      <td>добрый день являюсь клиентом банка поручителем...</td>\n",
              "    </tr>\n",
              "  </tbody>\n",
              "</table>\n",
              "</div>\n",
              "      <button class=\"colab-df-convert\" onclick=\"convertToInteractive('df-3e886b48-58e9-4c69-a8c8-c280a1c32cd6')\"\n",
              "              title=\"Convert this dataframe to an interactive table.\"\n",
              "              style=\"display:none;\">\n",
              "        \n",
              "  <svg xmlns=\"http://www.w3.org/2000/svg\" height=\"24px\"viewBox=\"0 0 24 24\"\n",
              "       width=\"24px\">\n",
              "    <path d=\"M0 0h24v24H0V0z\" fill=\"none\"/>\n",
              "    <path d=\"M18.56 5.44l.94 2.06.94-2.06 2.06-.94-2.06-.94-.94-2.06-.94 2.06-2.06.94zm-11 1L8.5 8.5l.94-2.06 2.06-.94-2.06-.94L8.5 2.5l-.94 2.06-2.06.94zm10 10l.94 2.06.94-2.06 2.06-.94-2.06-.94-.94-2.06-.94 2.06-2.06.94z\"/><path d=\"M17.41 7.96l-1.37-1.37c-.4-.4-.92-.59-1.43-.59-.52 0-1.04.2-1.43.59L10.3 9.45l-7.72 7.72c-.78.78-.78 2.05 0 2.83L4 21.41c.39.39.9.59 1.41.59.51 0 1.02-.2 1.41-.59l7.78-7.78 2.81-2.81c.8-.78.8-2.07 0-2.86zM5.41 20L4 18.59l7.72-7.72 1.47 1.35L5.41 20z\"/>\n",
              "  </svg>\n",
              "      </button>\n",
              "      \n",
              "  <style>\n",
              "    .colab-df-container {\n",
              "      display:flex;\n",
              "      flex-wrap:wrap;\n",
              "      gap: 12px;\n",
              "    }\n",
              "\n",
              "    .colab-df-convert {\n",
              "      background-color: #E8F0FE;\n",
              "      border: none;\n",
              "      border-radius: 50%;\n",
              "      cursor: pointer;\n",
              "      display: none;\n",
              "      fill: #1967D2;\n",
              "      height: 32px;\n",
              "      padding: 0 0 0 0;\n",
              "      width: 32px;\n",
              "    }\n",
              "\n",
              "    .colab-df-convert:hover {\n",
              "      background-color: #E2EBFA;\n",
              "      box-shadow: 0px 1px 2px rgba(60, 64, 67, 0.3), 0px 1px 3px 1px rgba(60, 64, 67, 0.15);\n",
              "      fill: #174EA6;\n",
              "    }\n",
              "\n",
              "    [theme=dark] .colab-df-convert {\n",
              "      background-color: #3B4455;\n",
              "      fill: #D2E3FC;\n",
              "    }\n",
              "\n",
              "    [theme=dark] .colab-df-convert:hover {\n",
              "      background-color: #434B5C;\n",
              "      box-shadow: 0px 1px 3px 1px rgba(0, 0, 0, 0.15);\n",
              "      filter: drop-shadow(0px 1px 2px rgba(0, 0, 0, 0.3));\n",
              "      fill: #FFFFFF;\n",
              "    }\n",
              "  </style>\n",
              "\n",
              "      <script>\n",
              "        const buttonEl =\n",
              "          document.querySelector('#df-3e886b48-58e9-4c69-a8c8-c280a1c32cd6 button.colab-df-convert');\n",
              "        buttonEl.style.display =\n",
              "          google.colab.kernel.accessAllowed ? 'block' : 'none';\n",
              "\n",
              "        async function convertToInteractive(key) {\n",
              "          const element = document.querySelector('#df-3e886b48-58e9-4c69-a8c8-c280a1c32cd6');\n",
              "          const dataTable =\n",
              "            await google.colab.kernel.invokeFunction('convertToInteractive',\n",
              "                                                     [key], {});\n",
              "          if (!dataTable) return;\n",
              "\n",
              "          const docLinkHtml = 'Like what you see? Visit the ' +\n",
              "            '<a target=\"_blank\" href=https://colab.research.google.com/notebooks/data_table.ipynb>data table notebook</a>'\n",
              "            + ' to learn more about interactive tables.';\n",
              "          element.innerHTML = '';\n",
              "          dataTable['output_type'] = 'display_data';\n",
              "          await google.colab.output.renderOutput(dataTable, element);\n",
              "          const docLink = document.createElement('div');\n",
              "          docLink.innerHTML = docLinkHtml;\n",
              "          element.appendChild(docLink);\n",
              "        }\n",
              "      </script>\n",
              "    </div>\n",
              "  </div>\n",
              "  "
            ]
          },
          "metadata": {},
          "execution_count": 44
        }
      ]
    },
    {
      "cell_type": "code",
      "source": [
        "df_1.to_csv (r'1_new_export_dataframe.csv', index = None, header=True)"
      ],
      "metadata": {
        "id": "tJ60CDoLWilY"
      },
      "execution_count": null,
      "outputs": []
    },
    {
      "cell_type": "code",
      "source": [
        "df_2.to_csv (r'2_new_export_dataframe.csv', index = None, header=True)"
      ],
      "metadata": {
        "id": "dRZfBtzG96vQ"
      },
      "execution_count": null,
      "outputs": []
    },
    {
      "cell_type": "markdown",
      "source": [
        "### леммы"
      ],
      "metadata": {
        "id": "qxNS98Wm7RUm"
      }
    },
    {
      "cell_type": "code",
      "source": [
        "df_2 = pd.read_csv('2_new_export_dataframe.csv')"
      ],
      "metadata": {
        "id": "K3fzqZ03m38r"
      },
      "execution_count": null,
      "outputs": []
    },
    {
      "cell_type": "code",
      "source": [
        "!pip install pymorphy2"
      ],
      "metadata": {
        "id": "Z61Qrl31VFyD"
      },
      "execution_count": null,
      "outputs": []
    },
    {
      "cell_type": "code",
      "source": [
        "import pymorphy2\n",
        "m = pymorphy2.MorphAnalyzer()\n",
        "# pymorphy2 работает с отдельными словами. Если дать ему на вход предложение - он его просто не лемматизирует, т.к. не понимает"
      ],
      "metadata": {
        "id": "wkw1WCjIVFuc"
      },
      "execution_count": null,
      "outputs": []
    },
    {
      "cell_type": "code",
      "source": [
        "def lemmatize(text, morph=m):\n",
        "    try:\n",
        "        return ' '.join([morph.parse(word)[0].normal_form for word in text.split()])\n",
        "    except:\n",
        "        return \" \"\n"
      ],
      "metadata": {
        "id": "lx72w2SyQpCZ"
      },
      "execution_count": null,
      "outputs": []
    },
    {
      "cell_type": "code",
      "source": [
        "df_2['lemma'] = df_2['кор_text_without_stop_words'].progress_apply(lemmatize)"
      ],
      "metadata": {
        "id": "Loyf8DtMUAkA",
        "colab": {
          "base_uri": "https://localhost:8080/",
          "height": 49,
          "referenced_widgets": [
            "ee59292295e5412ab3dfe8b150438c7d",
            "d7ee2271254a414b87134613005e71b5",
            "d2c49c5223dd419a9311e69b8ba1a70f",
            "544bfb3fbd184e8abe75122bac3908dd",
            "18d1490643154c9fa160e32e01bad2bd",
            "54c8c9616edf437fb87b0f78763c9caf",
            "974df30173d3409090e64444097fcb4f",
            "a3957591e8fd4c4286d51672b0401ba2",
            "30abd6d29eab47989cc86fd75133d1cf",
            "b65de4cf27b04594afea1ed10fb6171d",
            "52997739430c48479a824eab7b6674dc"
          ]
        },
        "outputId": "934e7401-7ae0-47fc-bdbb-35f4d118da1f"
      },
      "execution_count": null,
      "outputs": [
        {
          "output_type": "display_data",
          "data": {
            "text/plain": [
              "  0%|          | 0/11000 [00:00<?, ?it/s]"
            ],
            "application/vnd.jupyter.widget-view+json": {
              "version_major": 2,
              "version_minor": 0,
              "model_id": "ee59292295e5412ab3dfe8b150438c7d"
            }
          },
          "metadata": {}
        }
      ]
    },
    {
      "cell_type": "code",
      "source": [
        "cnt_lemmas = Counter()\n",
        "n_types_lemmas = []\n",
        "n_tokens_lemmas = []\n",
        "tokens_lemmas = []\n",
        "for index, row in tqdm(df_2.iterrows(), total = len(df_2)):\n",
        "    tokens_lemmas = row['lemma'].split()\n",
        "    cnt_lemmas.update(tokens_lemmas)\n",
        "    n_types_lemmas.append(len(cnt_lemmas))\n",
        "    n_tokens_lemmas.append(sum(list(cnt_lemmas.values())))\n",
        "for i in cnt_lemmas.most_common(10): # 10 самых частых лемм\n",
        "    print(i)"
      ],
      "metadata": {
        "id": "ktWLTk1eUO_-",
        "colab": {
          "base_uri": "https://localhost:8080/"
        },
        "outputId": "cc46a84d-c16c-4360-e77e-a627aad1a179"
      },
      "execution_count": null,
      "outputs": [
        {
          "output_type": "stream",
          "name": "stderr",
          "text": [
            "100%|██████████| 11000/11000 [00:22<00:00, 498.07it/s]"
          ]
        },
        {
          "output_type": "stream",
          "name": "stdout",
          "text": [
            "('банк', 48331)\n",
            "('карта', 20782)\n",
            "('день', 11446)\n",
            "('деньга', 11232)\n",
            "('который', 10503)\n",
            "('сотрудник', 10356)\n",
            "('клиент', 9821)\n",
            "('отделение', 8956)\n",
            "('кредит', 8784)\n",
            "('счёт', 8506)\n"
          ]
        },
        {
          "output_type": "stream",
          "name": "stderr",
          "text": [
            "\n"
          ]
        }
      ]
    },
    {
      "cell_type": "markdown",
      "source": [
        "вроде бы нормально отработано, если не считать 'деньгА')))))"
      ],
      "metadata": {
        "id": "XJ1hJEnOfUUQ"
      }
    },
    {
      "cell_type": "code",
      "source": [
        "cnt_lemmas.most_common(60) # визуальная проверка)"
      ],
      "metadata": {
        "colab": {
          "base_uri": "https://localhost:8080/"
        },
        "id": "cee9l2LKDWyn",
        "outputId": "cd35f2b8-420e-44a7-eecd-7685a769d7d3"
      },
      "execution_count": null,
      "outputs": [
        {
          "output_type": "execute_result",
          "data": {
            "text/plain": [
              "[('банк', 48331),\n",
              " ('карта', 20782),\n",
              " ('день', 11446),\n",
              " ('деньга', 11232),\n",
              " ('который', 10503),\n",
              " ('сотрудник', 10356),\n",
              " ('клиент', 9821),\n",
              " ('отделение', 8956),\n",
              " ('кредит', 8784),\n",
              " ('счёт', 8506),\n",
              " ('вклад', 7812),\n",
              " ('сумма', 7634),\n",
              " ('год', 7489),\n",
              " ('свой', 7189),\n",
              " ('мой', 7085),\n",
              " ('заявление', 6619),\n",
              " ('сказать', 6475),\n",
              " ('вопрос', 6393),\n",
              " ('время', 6004),\n",
              " ('договор', 5764),\n",
              " ('мочь', 5658),\n",
              " ('средство', 5504),\n",
              " ('получить', 5478),\n",
              " ('кредитный', 5380),\n",
              " ('ответ', 5352),\n",
              " ('такой', 5342),\n",
              " ('номер', 5259),\n",
              " ('телефон', 5246),\n",
              " ('ваш', 5165),\n",
              " ('дать', 4888),\n",
              " ('платёж', 4864),\n",
              " ('офис', 4592),\n",
              " ('звонок', 4584),\n",
              " ('звонить', 4300),\n",
              " ('рубль', 4261),\n",
              " ('проблема', 4239),\n",
              " ('ситуация', 3940),\n",
              " ('месяц', 3886),\n",
              " ('операция', 3877),\n",
              " ('какой', 3848),\n",
              " ('сбербанк', 3843),\n",
              " ('информация', 3838),\n",
              " ('работа', 3769),\n",
              " ('написать', 3764),\n",
              " ('позвонить', 3690),\n",
              " ('данный', 3596),\n",
              " ('человек', 3595),\n",
              " ('документ', 3543),\n",
              " ('смс', 3537),\n",
              " ('работать', 3524),\n",
              " ('услуга', 3513),\n",
              " ('должный', 3502),\n",
              " ('решить', 3499),\n",
              " ('почему', 3494),\n",
              " ('другой', 3341),\n",
              " ('просить', 3294),\n",
              " ('хотеть', 3271),\n",
              " ('срок', 3254),\n",
              " ('прийти', 3208),\n",
              " ('один', 3170)]"
            ]
          },
          "metadata": {},
          "execution_count": 53
        }
      ]
    },
    {
      "cell_type": "code",
      "source": [
        "df_2.to_csv (r'3_new_export_dataframe.csv', index = None, header=True)"
      ],
      "metadata": {
        "id": "pQVxsaWyeYPj"
      },
      "execution_count": null,
      "outputs": []
    },
    {
      "cell_type": "markdown",
      "source": [
        "### существительные"
      ],
      "metadata": {
        "id": "GrblxDR_7WCS"
      }
    },
    {
      "cell_type": "code",
      "source": [
        "df_2 = pd.read_csv('3_new_export_dataframe.csv')"
      ],
      "metadata": {
        "id": "WXkU0JXyYwzd"
      },
      "execution_count": null,
      "outputs": []
    },
    {
      "cell_type": "code",
      "source": [
        "# pymorphy2 Часть речи можно получить через атрибут POS"
      ],
      "metadata": {
        "id": "SIkTUHeQVUeX"
      },
      "execution_count": null,
      "outputs": []
    },
    {
      "cell_type": "code",
      "source": [
        "p = m.parse('жена')[0]\n",
        "p.tag.POS"
      ],
      "metadata": {
        "colab": {
          "base_uri": "https://localhost:8080/",
          "height": 35
        },
        "id": "V2JJtAVZj5S8",
        "outputId": "f28379b5-f2e0-499a-93bf-ea9657a303d2"
      },
      "execution_count": null,
      "outputs": [
        {
          "output_type": "execute_result",
          "data": {
            "text/plain": [
              "'NOUN'"
            ],
            "application/vnd.google.colaboratory.intrinsic+json": {
              "type": "string"
            }
          },
          "metadata": {},
          "execution_count": 72
        }
      ]
    },
    {
      "cell_type": "code",
      "source": [
        "cnt_noun = Counter()\n",
        "n_types_noun = []\n",
        "n_tokens_noun = []\n",
        "tokens_noun = []\n",
        "for index, row in tqdm(df_2.iterrows(), total = len(df_2)):\n",
        "    tokens_noun = [m.parse(word)[0].normal_form for word in row['lemma'].split() if m.parse(word)[0].tag.POS == 'NOUN'] # NOUN -существительное (список граммем)\n",
        "    cnt_noun.update(tokens_noun)\n",
        "    n_types_noun.append(len(cnt_noun))\n",
        "    n_tokens_noun.append(sum(list(cnt_noun.values())))\n",
        "for i in cnt_noun.most_common(10): # 10 самых частых существительных\n",
        "    print(i)"
      ],
      "metadata": {
        "colab": {
          "base_uri": "https://localhost:8080/"
        },
        "id": "PVEO6Wc4UnOl",
        "outputId": "c3d1e82f-89ed-4fcc-b495-57202b83d729"
      },
      "execution_count": null,
      "outputs": [
        {
          "output_type": "stream",
          "name": "stderr",
          "text": [
            "100%|██████████| 11000/11000 [06:02<00:00, 30.34it/s]"
          ]
        },
        {
          "output_type": "stream",
          "name": "stdout",
          "text": [
            "('банк', 48331)\n",
            "('карта', 20782)\n",
            "('день', 11446)\n",
            "('деньга', 11232)\n",
            "('сотрудник', 10356)\n",
            "('клиент', 9821)\n",
            "('отделение', 8956)\n",
            "('кредит', 8784)\n",
            "('счёт', 8506)\n",
            "('вклад', 7812)\n"
          ]
        },
        {
          "output_type": "stream",
          "name": "stderr",
          "text": [
            "\n"
          ]
        }
      ]
    },
    {
      "cell_type": "markdown",
      "source": [
        "Надо бы исправить 'деньгУ'..."
      ],
      "metadata": {
        "id": "cEKEeJ2mrHnO"
      }
    },
    {
      "cell_type": "code",
      "source": [
        "m.parse('деньги')[0].normal_form"
      ],
      "metadata": {
        "colab": {
          "base_uri": "https://localhost:8080/",
          "height": 35
        },
        "id": "_-hhaaTFsgqg",
        "outputId": "91e666d8-1b04-4761-d5c4-6cb6711e900f"
      },
      "execution_count": null,
      "outputs": [
        {
          "output_type": "execute_result",
          "data": {
            "text/plain": [
              "'деньга'"
            ],
            "application/vnd.google.colaboratory.intrinsic+json": {
              "type": "string"
            }
          },
          "metadata": {},
          "execution_count": 85
        }
      ]
    },
    {
      "cell_type": "code",
      "source": [
        "m.parse('денег')[0].normal_form"
      ],
      "metadata": {
        "colab": {
          "base_uri": "https://localhost:8080/",
          "height": 35
        },
        "id": "ylotuQY9sm7b",
        "outputId": "7b73236e-a157-49c4-8057-eea4cefc2055"
      },
      "execution_count": null,
      "outputs": [
        {
          "output_type": "execute_result",
          "data": {
            "text/plain": [
              "'деньга'"
            ],
            "application/vnd.google.colaboratory.intrinsic+json": {
              "type": "string"
            }
          },
          "metadata": {},
          "execution_count": 86
        }
      ]
    },
    {
      "cell_type": "code",
      "source": [
        "m.parse('деньга')[0].inflect({'plur', 'nomn'}).word"
      ],
      "metadata": {
        "colab": {
          "base_uri": "https://localhost:8080/",
          "height": 35
        },
        "id": "iyfKPc_ftc6z",
        "outputId": "80a613bb-4427-4b19-ec72-f38c950e18d5"
      },
      "execution_count": null,
      "outputs": [
        {
          "output_type": "execute_result",
          "data": {
            "text/plain": [
              "'деньги'"
            ],
            "application/vnd.google.colaboratory.intrinsic+json": {
              "type": "string"
            }
          },
          "metadata": {},
          "execution_count": 87
        }
      ]
    },
    {
      "cell_type": "markdown",
      "source": [
        "Вычитала, что в pymorphy2 имена существительные употребляемые только во множественном числе должны быть с пометкой Pltm (\"Pluralia tantum\")"
      ],
      "metadata": {
        "id": "ycIsPA8zuYfO"
      }
    },
    {
      "cell_type": "code",
      "source": [
        "m.parse('деньги')"
      ],
      "metadata": {
        "colab": {
          "base_uri": "https://localhost:8080/"
        },
        "id": "tZtycK0ou-vF",
        "outputId": "6e2ed3ff-650d-4490-ec65-091bf0ceed6b"
      },
      "execution_count": null,
      "outputs": [
        {
          "output_type": "execute_result",
          "data": {
            "text/plain": [
              "[Parse(word='деньги', tag=OpencorporaTag('NOUN,inan,femn plur,accs'), normal_form='деньга', score=0.632398, methods_stack=((DictionaryAnalyzer(), 'деньги', 1328, 10),)),\n",
              " Parse(word='деньги', tag=OpencorporaTag('NOUN,inan,femn plur,nomn'), normal_form='деньга', score=0.36137, methods_stack=((DictionaryAnalyzer(), 'деньги', 1328, 7),)),\n",
              " Parse(word='деньги', tag=OpencorporaTag('NOUN,inan,femn sing,gent,Infr'), normal_form='деньга', score=0.00623, methods_stack=((DictionaryAnalyzer(), 'деньги', 1328, 1),))]"
            ]
          },
          "metadata": {},
          "execution_count": 92
        }
      ]
    },
    {
      "cell_type": "markdown",
      "source": [
        "Пометки нет. Надо в словарь изменение вносить?"
      ],
      "metadata": {
        "id": "66fHzCIhYMx4"
      }
    },
    {
      "cell_type": "markdown",
      "source": [
        "## 4. Постройте кривые Ципфа и Хипса"
      ],
      "metadata": {
        "id": "lmUPvCZgxyUI"
      }
    },
    {
      "cell_type": "markdown",
      "source": [
        "Кривые буду строить на лемматизированных данных с учётом всех частей речи"
      ],
      "metadata": {
        "id": "Q7StnU5PB6Vw"
      }
    },
    {
      "cell_type": "markdown",
      "source": [
        "### кривая Ципфа"
      ],
      "metadata": {
        "id": "9I6U86o294lV"
      }
    },
    {
      "cell_type": "code",
      "source": [
        "freqs = list(cnt_lemmas.values())\n",
        "freqs = sorted(freqs, reverse = True)\n",
        "\n",
        "fig, ax = plt.subplots()\n",
        "ax.plot(freqs[:300], range(300))\n",
        "plt.grid()\n",
        "plt.title('Кривая Ципфа')\n",
        "plt.ylabel('частота слова')\n",
        "plt.xlabel('ранг слова');"
      ],
      "metadata": {
        "colab": {
          "base_uri": "https://localhost:8080/",
          "height": 472
        },
        "id": "kU0euevqLH7W",
        "outputId": "e3dfef51-094d-4a5f-fdfb-d7bb8b3dc855"
      },
      "execution_count": null,
      "outputs": [
        {
          "output_type": "display_data",
          "data": {
            "text/plain": [
              "<Figure size 640x480 with 1 Axes>"
            ],
            "image/png": "[encoded data removed]"
          },
          "metadata": {}
        }
      ]
    },
    {
      "cell_type": "markdown",
      "source": [
        "### кривая Хипса"
      ],
      "metadata": {
        "id": "qHKBnnUdOGZ9"
      }
    },
    {
      "cell_type": "code",
      "source": [
        "fig, ax = plt.subplots()\n",
        "ax.plot(n_tokens_lemmas, n_types_lemmas)\n",
        "plt.grid()\n",
        "plt.title('Кривая Хипса')\n",
        "plt.ylabel('число уникальных слов в тексте')\n",
        "plt.xlabel('размер текста');"
      ],
      "metadata": {
        "colab": {
          "base_uri": "https://localhost:8080/",
          "height": 472
        },
        "id": "i9Nx98_SOOdW",
        "outputId": "47ba1caf-c764-4ad8-e588-8109c208d6dc"
      },
      "execution_count": null,
      "outputs": [
        {
          "output_type": "display_data",
          "data": {
            "text/plain": [
              "<Figure size 640x480 with 1 Axes>"
            ],
            "image/png": "[encoded data removed]"
          },
          "metadata": {}
        }
      ]
    },
    {
      "cell_type": "markdown",
      "source": [
        "## 5. Ответьте на следующие вопросы:\n",
        "*   какое слово встречается чаще, \"сотрудник\" или \"клиент\"?\n",
        "*   сколько раз встречается слова \"мошенничество\" и \"доверие\"?\n",
        "\n"
      ],
      "metadata": {
        "id": "edF8ChnVyPUv"
      }
    },
    {
      "cell_type": "markdown",
      "source": [
        "### \"сотрудник\" или \"клиент\"?"
      ],
      "metadata": {
        "id": "_6zn9awdVnI5"
      }
    },
    {
      "cell_type": "code",
      "source": [
        "print('слово \"сотрудник\" встречается', cnt_lemmas['сотрудник'], 'раз')\n",
        "print('слово \"клиент\" встречается', cnt_lemmas['клиент'], 'раз')"
      ],
      "metadata": {
        "colab": {
          "base_uri": "https://localhost:8080/"
        },
        "id": "JhqJdcORcbXO",
        "outputId": "b13a01f2-73d1-4ed8-c3b3-6550b48bb222"
      },
      "execution_count": null,
      "outputs": [
        {
          "output_type": "stream",
          "name": "stdout",
          "text": [
            "слово \"сотрудник\" встречается 10356 раз\n",
            "слово \"клиент\" встречается 9821 раз\n"
          ]
        }
      ]
    },
    {
      "cell_type": "code",
      "source": [
        "if cnt_lemmas['сотрудник'] > cnt_lemmas['клиент']:\n",
        "      print('слово \"сотрудник\" встречается в', round(cnt_lemmas['сотрудник']/cnt_lemmas['клиент'],3), 'раз чаще, чем слово \"клиент\"')\n",
        "else:\n",
        "      print('слово \"клиент\" встречается в', round(cnt_lemmas['клиент']/cnt_lemmas['сотрудник'],3), 'раз чаще, чем слово \"сотрудник\"')"
      ],
      "metadata": {
        "colab": {
          "base_uri": "https://localhost:8080/"
        },
        "outputId": "4c213286-051c-4afc-f23b-54b9f8c1814d",
        "id": "crg2GEYsbu2u"
      },
      "execution_count": null,
      "outputs": [
        {
          "output_type": "stream",
          "name": "stdout",
          "text": [
            "слово \"сотрудник\" встречается в 1.054 раз чаще, чем слово \"клиент\"\n"
          ]
        }
      ]
    },
    {
      "cell_type": "markdown",
      "source": [
        "### \"мошенничество\" и \"доверие\"?"
      ],
      "metadata": {
        "id": "ctYLxyWCVsoO"
      }
    },
    {
      "cell_type": "code",
      "source": [
        "print('слово \"мошенничество\" встречается', cnt_lemmas['мошенничество'], 'раз')\n",
        "print('слово \"доверие\" встречается', cnt_lemmas['доверие'], 'раз')"
      ],
      "metadata": {
        "colab": {
          "base_uri": "https://localhost:8080/"
        },
        "id": "OAFuqhZFa55D",
        "outputId": "5fefba15-aa20-4447-c707-311d9c38d52d"
      },
      "execution_count": null,
      "outputs": [
        {
          "output_type": "stream",
          "name": "stdout",
          "text": [
            "слово \"мошенничество\" встречается 256 раз\n",
            "слово \"доверие\" встречается 177 раз\n"
          ]
        }
      ]
    },
    {
      "cell_type": "markdown",
      "source": [
        "##  6. В поле \"rating_grade\" записана оценка отзыва по шкале от 1 до 5. Используйте меру tf−idf, для того, чтобы найти ключевые слова и биграмы для положительных отзывов (с оценкой 5) и отрицательных отзывов (с оценкой 1)"
      ],
      "metadata": {
        "id": "ZmDJcQSdyiMF"
      }
    },
    {
      "cell_type": "code",
      "source": [
        "df_2['rating_grade'].unique()"
      ],
      "metadata": {
        "colab": {
          "base_uri": "https://localhost:8080/"
        },
        "id": "8gHs80Dhd3lz",
        "outputId": "678d25c6-fc53-4ed0-ffd9-619398bb48b8"
      },
      "execution_count": null,
      "outputs": [
        {
          "output_type": "execute_result",
          "data": {
            "text/plain": [
              "array([nan,  2.,  1.,  5.,  4.,  3.])"
            ]
          },
          "metadata": {},
          "execution_count": 129
        }
      ]
    },
    {
      "cell_type": "code",
      "source": [
        "df_2['rating_grade'].fillna(0, inplace=True) #заменили nan на 0"
      ],
      "metadata": {
        "id": "dXzwAtVweEzm"
      },
      "execution_count": null,
      "outputs": []
    },
    {
      "cell_type": "code",
      "source": [
        "df_2.rating_grade.value_counts() # распределение оценок"
      ],
      "metadata": {
        "colab": {
          "base_uri": "https://localhost:8080/"
        },
        "id": "Nt3v6O7peuYY",
        "outputId": "1dbbc2a8-5e27-4e09-dcf9-b961cf86ac18"
      },
      "execution_count": null,
      "outputs": [
        {
          "output_type": "execute_result",
          "data": {
            "text/plain": [
              "0.0    5920\n",
              "1.0    2999\n",
              "2.0     812\n",
              "5.0     660\n",
              "3.0     440\n",
              "4.0     169\n",
              "Name: rating_grade, dtype: int64"
            ]
          },
          "metadata": {},
          "execution_count": 132
        }
      ]
    },
    {
      "cell_type": "code",
      "source": [
        "from sklearn.feature_extraction.text import TfidfVectorizer"
      ],
      "metadata": {
        "id": "JZTI047mdOBl"
      },
      "execution_count": null,
      "outputs": []
    },
    {
      "cell_type": "code",
      "source": [
        "tokens_by_rating = []\n",
        "for rating in range(6):\n",
        "    print(rating)\n",
        "    tokens = []\n",
        "    sample = df_2[df_2['rating_grade']==rating]['lemma']\n",
        "\n",
        "    for i in range(len(sample)):\n",
        "        tokens += sample.iloc[i].split()\n",
        "    tokens_by_rating.append(tokens)"
      ],
      "metadata": {
        "colab": {
          "base_uri": "https://localhost:8080/"
        },
        "id": "bOLDrj7vd-QT",
        "outputId": "fbf73261-596c-4045-989b-e79f590cabcd"
      },
      "execution_count": null,
      "outputs": [
        {
          "output_type": "stream",
          "name": "stdout",
          "text": [
            "0\n",
            "1\n",
            "2\n",
            "3\n",
            "4\n",
            "5\n"
          ]
        }
      ]
    },
    {
      "cell_type": "markdown",
      "source": [
        "### ключевые слова и биграмы для положительных отзывов"
      ],
      "metadata": {
        "id": "FuXycu7-jP3r"
      }
    },
    {
      "cell_type": "code",
      "source": [
        "tfidf = TfidfVectorizer(analyzer='word', ngram_range=(1,1), min_df = 0)\n",
        "tfidf_matrix =  tfidf.fit_transform([' '.join(tokens) for tokens in tokens_by_rating])\n",
        "feature_names = tfidf.get_feature_names_out()\n",
        "tfidf_ranking5_uni = []\n",
        "dense = tfidf_matrix.todense()\n",
        "\n",
        "text = dense[5].tolist()[0]\n",
        "phrase_scores = [pair for pair in zip(range(0, len(text)), text) if pair[1] > 0]\n",
        "sorted_phrase_scores = sorted(phrase_scores, key=lambda t: t[1] * -1)\n",
        "phrases = []\n",
        "for phrase, score in [(feature_names[word_id], score) for (word_id, score) in sorted_phrase_scores][:40]:\n",
        "    tfidf_ranking5_uni.append(phrase)"
      ],
      "metadata": {
        "id": "TS_fqcvmjUOk"
      },
      "execution_count": null,
      "outputs": []
    },
    {
      "cell_type": "code",
      "source": [
        "tfidf = TfidfVectorizer(analyzer='word', ngram_range=(2,2), min_df = 0)\n",
        "tfidf_matrix =  tfidf.fit_transform([' '.join(tokens) for tokens in tokens_by_rating])\n",
        "feature_names = tfidf.get_feature_names_out()\n",
        "tfidf_ranking5_bi = []\n",
        "dense = tfidf_matrix.todense()\n",
        "\n",
        "text = dense[5].tolist()[0]\n",
        "phrase_scores = [pair for pair in zip(range(0, len(text)), text) if pair[1] > 0]\n",
        "sorted_phrase_scores = sorted(phrase_scores, key=lambda t: t[1] * -1)\n",
        "phrases = []\n",
        "for phrase, score in [(feature_names[word_id], score) for (word_id, score) in sorted_phrase_scores][:40]:\n",
        "    tfidf_ranking5_bi.append(phrase)"
      ],
      "metadata": {
        "id": "mE0KHFy8jw1i"
      },
      "execution_count": null,
      "outputs": []
    },
    {
      "cell_type": "code",
      "source": [
        "rankings5 = pd.DataFrame({'ключевые слова положительных отзывов': tfidf_ranking5_uni, 'биграмы положительных отзывов': tfidf_ranking5_bi})\n",
        "rankings5.head(20)"
      ],
      "metadata": {
        "colab": {
          "base_uri": "https://localhost:8080/",
          "height": 677
        },
        "id": "hFHSRjxikBAS",
        "outputId": "e9075831-5f42-448b-df8f-a3e0d6e63483"
      },
      "execution_count": null,
      "outputs": [
        {
          "output_type": "execute_result",
          "data": {
            "text/plain": [
              "   ключевые слова положительных отзывов биграмы положительных отзывов\n",
              "0                                  банк                 интернет банк\n",
              "1                                 карта               кредитный карта\n",
              "2                                клиент                сотрудник банк\n",
              "3                                 вклад                   другой банк\n",
              "4                             сотрудник                   клиент банк\n",
              "5                                  день               дебетовый карта\n",
              "6                             отделение                   добрый день\n",
              "7                               который                отделение банк\n",
              "8                                вопрос                  банк который\n",
              "9                                   год                 открыть вклад\n",
              "10                                время                следующий день\n",
              "11                                 офис               хотеть выразить\n",
              "12                               деньга                    альфа банк\n",
              "13                                 свой               являться клиент\n",
              "14                               работа                   банк москва\n",
              "15                              спасибо        выразить благодарность\n",
              "16                                 счёт                   данный банк\n",
              "17                               решить               открывать вклад\n",
              "18                         обслуживание             денежный средство\n",
              "19                               кредит                открытие вклад"
            ],
            "text/html": [
              "\n",
              "  <div id=\"df-79046ed6-f86b-44c8-a21e-637ba4e1b0df\">\n",
              "    <div class=\"colab-df-container\">\n",
              "      <div>\n",
              "<style scoped>\n",
              "    .dataframe tbody tr th:only-of-type {\n",
              "        vertical-align: middle;\n",
              "    }\n",
              "\n",
              "    .dataframe tbody tr th {\n",
              "        vertical-align: top;\n",
              "    }\n",
              "\n",
              "    .dataframe thead th {\n",
              "        text-align: right;\n",
              "    }\n",
              "</style>\n",
              "<table border=\"1\" class=\"dataframe\">\n",
              "  <thead>\n",
              "    <tr style=\"text-align: right;\">\n",
              "      <th></th>\n",
              "      <th>ключевые слова положительных отзывов</th>\n",
              "      <th>биграмы положительных отзывов</th>\n",
              "    </tr>\n",
              "  </thead>\n",
              "  <tbody>\n",
              "    <tr>\n",
              "      <th>0</th>\n",
              "      <td>банк</td>\n",
              "      <td>интернет банк</td>\n",
              "    </tr>\n",
              "    <tr>\n",
              "      <th>1</th>\n",
              "      <td>карта</td>\n",
              "      <td>кредитный карта</td>\n",
              "    </tr>\n",
              "    <tr>\n",
              "      <th>2</th>\n",
              "      <td>клиент</td>\n",
              "      <td>сотрудник банк</td>\n",
              "    </tr>\n",
              "    <tr>\n",
              "      <th>3</th>\n",
              "      <td>вклад</td>\n",
              "      <td>другой банк</td>\n",
              "    </tr>\n",
              "    <tr>\n",
              "      <th>4</th>\n",
              "      <td>сотрудник</td>\n",
              "      <td>клиент банк</td>\n",
              "    </tr>\n",
              "    <tr>\n",
              "      <th>5</th>\n",
              "      <td>день</td>\n",
              "      <td>дебетовый карта</td>\n",
              "    </tr>\n",
              "    <tr>\n",
              "      <th>6</th>\n",
              "      <td>отделение</td>\n",
              "      <td>добрый день</td>\n",
              "    </tr>\n",
              "    <tr>\n",
              "      <th>7</th>\n",
              "      <td>который</td>\n",
              "      <td>отделение банк</td>\n",
              "    </tr>\n",
              "    <tr>\n",
              "      <th>8</th>\n",
              "      <td>вопрос</td>\n",
              "      <td>банк который</td>\n",
              "    </tr>\n",
              "    <tr>\n",
              "      <th>9</th>\n",
              "      <td>год</td>\n",
              "      <td>открыть вклад</td>\n",
              "    </tr>\n",
              "    <tr>\n",
              "      <th>10</th>\n",
              "      <td>время</td>\n",
              "      <td>следующий день</td>\n",
              "    </tr>\n",
              "    <tr>\n",
              "      <th>11</th>\n",
              "      <td>офис</td>\n",
              "      <td>хотеть выразить</td>\n",
              "    </tr>\n",
              "    <tr>\n",
              "      <th>12</th>\n",
              "      <td>деньга</td>\n",
              "      <td>альфа банк</td>\n",
              "    </tr>\n",
              "    <tr>\n",
              "      <th>13</th>\n",
              "      <td>свой</td>\n",
              "      <td>являться клиент</td>\n",
              "    </tr>\n",
              "    <tr>\n",
              "      <th>14</th>\n",
              "      <td>работа</td>\n",
              "      <td>банк москва</td>\n",
              "    </tr>\n",
              "    <tr>\n",
              "      <th>15</th>\n",
              "      <td>спасибо</td>\n",
              "      <td>выразить благодарность</td>\n",
              "    </tr>\n",
              "    <tr>\n",
              "      <th>16</th>\n",
              "      <td>счёт</td>\n",
              "      <td>данный банк</td>\n",
              "    </tr>\n",
              "    <tr>\n",
              "      <th>17</th>\n",
              "      <td>решить</td>\n",
              "      <td>открывать вклад</td>\n",
              "    </tr>\n",
              "    <tr>\n",
              "      <th>18</th>\n",
              "      <td>обслуживание</td>\n",
              "      <td>денежный средство</td>\n",
              "    </tr>\n",
              "    <tr>\n",
              "      <th>19</th>\n",
              "      <td>кредит</td>\n",
              "      <td>открытие вклад</td>\n",
              "    </tr>\n",
              "  </tbody>\n",
              "</table>\n",
              "</div>\n",
              "      <button class=\"colab-df-convert\" onclick=\"convertToInteractive('df-79046ed6-f86b-44c8-a21e-637ba4e1b0df')\"\n",
              "              title=\"Convert this dataframe to an interactive table.\"\n",
              "              style=\"display:none;\">\n",
              "        \n",
              "  <svg xmlns=\"http://www.w3.org/2000/svg\" height=\"24px\"viewBox=\"0 0 24 24\"\n",
              "       width=\"24px\">\n",
              "    <path d=\"M0 0h24v24H0V0z\" fill=\"none\"/>\n",
              "    <path d=\"M18.56 5.44l.94 2.06.94-2.06 2.06-.94-2.06-.94-.94-2.06-.94 2.06-2.06.94zm-11 1L8.5 8.5l.94-2.06 2.06-.94-2.06-.94L8.5 2.5l-.94 2.06-2.06.94zm10 10l.94 2.06.94-2.06 2.06-.94-2.06-.94-.94-2.06-.94 2.06-2.06.94z\"/><path d=\"M17.41 7.96l-1.37-1.37c-.4-.4-.92-.59-1.43-.59-.52 0-1.04.2-1.43.59L10.3 9.45l-7.72 7.72c-.78.78-.78 2.05 0 2.83L4 21.41c.39.39.9.59 1.41.59.51 0 1.02-.2 1.41-.59l7.78-7.78 2.81-2.81c.8-.78.8-2.07 0-2.86zM5.41 20L4 18.59l7.72-7.72 1.47 1.35L5.41 20z\"/>\n",
              "  </svg>\n",
              "      </button>\n",
              "      \n",
              "  <style>\n",
              "    .colab-df-container {\n",
              "      display:flex;\n",
              "      flex-wrap:wrap;\n",
              "      gap: 12px;\n",
              "    }\n",
              "\n",
              "    .colab-df-convert {\n",
              "      background-color: #E8F0FE;\n",
              "      border: none;\n",
              "      border-radius: 50%;\n",
              "      cursor: pointer;\n",
              "      display: none;\n",
              "      fill: #1967D2;\n",
              "      height: 32px;\n",
              "      padding: 0 0 0 0;\n",
              "      width: 32px;\n",
              "    }\n",
              "\n",
              "    .colab-df-convert:hover {\n",
              "      background-color: #E2EBFA;\n",
              "      box-shadow: 0px 1px 2px rgba(60, 64, 67, 0.3), 0px 1px 3px 1px rgba(60, 64, 67, 0.15);\n",
              "      fill: #174EA6;\n",
              "    }\n",
              "\n",
              "    [theme=dark] .colab-df-convert {\n",
              "      background-color: #3B4455;\n",
              "      fill: #D2E3FC;\n",
              "    }\n",
              "\n",
              "    [theme=dark] .colab-df-convert:hover {\n",
              "      background-color: #434B5C;\n",
              "      box-shadow: 0px 1px 3px 1px rgba(0, 0, 0, 0.15);\n",
              "      filter: drop-shadow(0px 1px 2px rgba(0, 0, 0, 0.3));\n",
              "      fill: #FFFFFF;\n",
              "    }\n",
              "  </style>\n",
              "\n",
              "      <script>\n",
              "        const buttonEl =\n",
              "          document.querySelector('#df-79046ed6-f86b-44c8-a21e-637ba4e1b0df button.colab-df-convert');\n",
              "        buttonEl.style.display =\n",
              "          google.colab.kernel.accessAllowed ? 'block' : 'none';\n",
              "\n",
              "        async function convertToInteractive(key) {\n",
              "          const element = document.querySelector('#df-79046ed6-f86b-44c8-a21e-637ba4e1b0df');\n",
              "          const dataTable =\n",
              "            await google.colab.kernel.invokeFunction('convertToInteractive',\n",
              "                                                     [key], {});\n",
              "          if (!dataTable) return;\n",
              "\n",
              "          const docLinkHtml = 'Like what you see? Visit the ' +\n",
              "            '<a target=\"_blank\" href=https://colab.research.google.com/notebooks/data_table.ipynb>data table notebook</a>'\n",
              "            + ' to learn more about interactive tables.';\n",
              "          element.innerHTML = '';\n",
              "          dataTable['output_type'] = 'display_data';\n",
              "          await google.colab.output.renderOutput(dataTable, element);\n",
              "          const docLink = document.createElement('div');\n",
              "          docLink.innerHTML = docLinkHtml;\n",
              "          element.appendChild(docLink);\n",
              "        }\n",
              "      </script>\n",
              "    </div>\n",
              "  </div>\n",
              "  "
            ]
          },
          "metadata": {},
          "execution_count": 18
        }
      ]
    },
    {
      "cell_type": "markdown",
      "source": [
        "### ключевые слова и биграмы для отрицательных отзывов"
      ],
      "metadata": {
        "id": "rf3YJLlzh3QR"
      }
    },
    {
      "cell_type": "code",
      "source": [
        "tfidf = TfidfVectorizer(analyzer='word', ngram_range=(1,1), min_df = 0)\n",
        "tfidf_matrix =  tfidf.fit_transform([' '.join(tokens) for tokens in tokens_by_rating])\n",
        "feature_names = tfidf.get_feature_names_out()\n",
        "tfidf_ranking1_uni = []\n",
        "dense = tfidf_matrix.todense()\n",
        "\n",
        "text = dense[1].tolist()[0]\n",
        "phrase_scores = [pair for pair in zip(range(0, len(text)), text) if pair[1] > 0]\n",
        "sorted_phrase_scores = sorted(phrase_scores, key=lambda t: t[1] * -1)\n",
        "phrases = []\n",
        "for phrase, score in [(feature_names[word_id], score) for (word_id, score) in sorted_phrase_scores][:40]:\n",
        "    tfidf_ranking1_uni.append(phrase)\n"
      ],
      "metadata": {
        "id": "RuuRsiZndbn3"
      },
      "execution_count": null,
      "outputs": []
    },
    {
      "cell_type": "code",
      "source": [
        "tfidf = TfidfVectorizer(analyzer='word', ngram_range=(2,2), min_df = 0)\n",
        "tfidf_matrix =  tfidf.fit_transform([' '.join(tokens) for tokens in tokens_by_rating])\n",
        "feature_names = tfidf.get_feature_names_out()\n",
        "tfidf_ranking1_bi = []\n",
        "dense = tfidf_matrix.todense()\n",
        "\n",
        "text = dense[1].tolist()[0]\n",
        "phrase_scores = [pair for pair in zip(range(0, len(text)), text) if pair[1] > 0]\n",
        "sorted_phrase_scores = sorted(phrase_scores, key=lambda t: t[1] * -1)\n",
        "phrases = []\n",
        "for phrase, score in [(feature_names[word_id], score) for (word_id, score) in sorted_phrase_scores][:40]:\n",
        "    tfidf_ranking1_bi.append(phrase)"
      ],
      "metadata": {
        "id": "QBnEuZMPgbLp"
      },
      "execution_count": null,
      "outputs": []
    },
    {
      "cell_type": "code",
      "source": [
        "rankings1 = pd.DataFrame({'ключевые слова отрицательных отзывов': tfidf_ranking1_uni, 'биграмы отрицательных отзывов': tfidf_ranking1_bi})\n",
        "rankings1.head(20)"
      ],
      "metadata": {
        "colab": {
          "base_uri": "https://localhost:8080/",
          "height": 677
        },
        "id": "BZDcXwLygzgk",
        "outputId": "fef8ee44-25e4-457f-a437-3c5f99c900e6"
      },
      "execution_count": null,
      "outputs": [
        {
          "output_type": "execute_result",
          "data": {
            "text/plain": [
              "   ключевые слова отрицательных отзывов биграмы отрицательных отзывов\n",
              "0                                  банк                сотрудник банк\n",
              "1                                 карта             денежный средство\n",
              "2                                деньга                отделение банк\n",
              "3                                  день               кредитный карта\n",
              "4                             сотрудник            написать заявление\n",
              "5                             отделение                 горячий линия\n",
              "6                               который                    колл центр\n",
              "7                                клиент                 интернет банк\n",
              "8                                  счёт                   добрый день\n",
              "9                                кредит                  рабочий день\n",
              "10                              сказать                   клиент банк\n",
              "11                            заявление                      ваш банк\n",
              "12                                сумма                    альфа банк\n",
              "13                                  мой           досрочный погашение\n",
              "14                                  год              служба поддержка\n",
              "15                                 свой               дебетовый карта\n",
              "16                                вклад                      сей пора\n",
              "17                               вопрос                следующий день\n",
              "18                             получить          обратиться отделение\n",
              "19                                 мочь                 номер телефон"
            ],
            "text/html": [
              "\n",
              "  <div id=\"df-b03217aa-3e9e-4209-91c2-d72dfd95c737\">\n",
              "    <div class=\"colab-df-container\">\n",
              "      <div>\n",
              "<style scoped>\n",
              "    .dataframe tbody tr th:only-of-type {\n",
              "        vertical-align: middle;\n",
              "    }\n",
              "\n",
              "    .dataframe tbody tr th {\n",
              "        vertical-align: top;\n",
              "    }\n",
              "\n",
              "    .dataframe thead th {\n",
              "        text-align: right;\n",
              "    }\n",
              "</style>\n",
              "<table border=\"1\" class=\"dataframe\">\n",
              "  <thead>\n",
              "    <tr style=\"text-align: right;\">\n",
              "      <th></th>\n",
              "      <th>ключевые слова отрицательных отзывов</th>\n",
              "      <th>биграмы отрицательных отзывов</th>\n",
              "    </tr>\n",
              "  </thead>\n",
              "  <tbody>\n",
              "    <tr>\n",
              "      <th>0</th>\n",
              "      <td>банк</td>\n",
              "      <td>сотрудник банк</td>\n",
              "    </tr>\n",
              "    <tr>\n",
              "      <th>1</th>\n",
              "      <td>карта</td>\n",
              "      <td>денежный средство</td>\n",
              "    </tr>\n",
              "    <tr>\n",
              "      <th>2</th>\n",
              "      <td>деньга</td>\n",
              "      <td>отделение банк</td>\n",
              "    </tr>\n",
              "    <tr>\n",
              "      <th>3</th>\n",
              "      <td>день</td>\n",
              "      <td>кредитный карта</td>\n",
              "    </tr>\n",
              "    <tr>\n",
              "      <th>4</th>\n",
              "      <td>сотрудник</td>\n",
              "      <td>написать заявление</td>\n",
              "    </tr>\n",
              "    <tr>\n",
              "      <th>5</th>\n",
              "      <td>отделение</td>\n",
              "      <td>горячий линия</td>\n",
              "    </tr>\n",
              "    <tr>\n",
              "      <th>6</th>\n",
              "      <td>который</td>\n",
              "      <td>колл центр</td>\n",
              "    </tr>\n",
              "    <tr>\n",
              "      <th>7</th>\n",
              "      <td>клиент</td>\n",
              "      <td>интернет банк</td>\n",
              "    </tr>\n",
              "    <tr>\n",
              "      <th>8</th>\n",
              "      <td>счёт</td>\n",
              "      <td>добрый день</td>\n",
              "    </tr>\n",
              "    <tr>\n",
              "      <th>9</th>\n",
              "      <td>кредит</td>\n",
              "      <td>рабочий день</td>\n",
              "    </tr>\n",
              "    <tr>\n",
              "      <th>10</th>\n",
              "      <td>сказать</td>\n",
              "      <td>клиент банк</td>\n",
              "    </tr>\n",
              "    <tr>\n",
              "      <th>11</th>\n",
              "      <td>заявление</td>\n",
              "      <td>ваш банк</td>\n",
              "    </tr>\n",
              "    <tr>\n",
              "      <th>12</th>\n",
              "      <td>сумма</td>\n",
              "      <td>альфа банк</td>\n",
              "    </tr>\n",
              "    <tr>\n",
              "      <th>13</th>\n",
              "      <td>мой</td>\n",
              "      <td>досрочный погашение</td>\n",
              "    </tr>\n",
              "    <tr>\n",
              "      <th>14</th>\n",
              "      <td>год</td>\n",
              "      <td>служба поддержка</td>\n",
              "    </tr>\n",
              "    <tr>\n",
              "      <th>15</th>\n",
              "      <td>свой</td>\n",
              "      <td>дебетовый карта</td>\n",
              "    </tr>\n",
              "    <tr>\n",
              "      <th>16</th>\n",
              "      <td>вклад</td>\n",
              "      <td>сей пора</td>\n",
              "    </tr>\n",
              "    <tr>\n",
              "      <th>17</th>\n",
              "      <td>вопрос</td>\n",
              "      <td>следующий день</td>\n",
              "    </tr>\n",
              "    <tr>\n",
              "      <th>18</th>\n",
              "      <td>получить</td>\n",
              "      <td>обратиться отделение</td>\n",
              "    </tr>\n",
              "    <tr>\n",
              "      <th>19</th>\n",
              "      <td>мочь</td>\n",
              "      <td>номер телефон</td>\n",
              "    </tr>\n",
              "  </tbody>\n",
              "</table>\n",
              "</div>\n",
              "      <button class=\"colab-df-convert\" onclick=\"convertToInteractive('df-b03217aa-3e9e-4209-91c2-d72dfd95c737')\"\n",
              "              title=\"Convert this dataframe to an interactive table.\"\n",
              "              style=\"display:none;\">\n",
              "        \n",
              "  <svg xmlns=\"http://www.w3.org/2000/svg\" height=\"24px\"viewBox=\"0 0 24 24\"\n",
              "       width=\"24px\">\n",
              "    <path d=\"M0 0h24v24H0V0z\" fill=\"none\"/>\n",
              "    <path d=\"M18.56 5.44l.94 2.06.94-2.06 2.06-.94-2.06-.94-.94-2.06-.94 2.06-2.06.94zm-11 1L8.5 8.5l.94-2.06 2.06-.94-2.06-.94L8.5 2.5l-.94 2.06-2.06.94zm10 10l.94 2.06.94-2.06 2.06-.94-2.06-.94-.94-2.06-.94 2.06-2.06.94z\"/><path d=\"M17.41 7.96l-1.37-1.37c-.4-.4-.92-.59-1.43-.59-.52 0-1.04.2-1.43.59L10.3 9.45l-7.72 7.72c-.78.78-.78 2.05 0 2.83L4 21.41c.39.39.9.59 1.41.59.51 0 1.02-.2 1.41-.59l7.78-7.78 2.81-2.81c.8-.78.8-2.07 0-2.86zM5.41 20L4 18.59l7.72-7.72 1.47 1.35L5.41 20z\"/>\n",
              "  </svg>\n",
              "      </button>\n",
              "      \n",
              "  <style>\n",
              "    .colab-df-container {\n",
              "      display:flex;\n",
              "      flex-wrap:wrap;\n",
              "      gap: 12px;\n",
              "    }\n",
              "\n",
              "    .colab-df-convert {\n",
              "      background-color: #E8F0FE;\n",
              "      border: none;\n",
              "      border-radius: 50%;\n",
              "      cursor: pointer;\n",
              "      display: none;\n",
              "      fill: #1967D2;\n",
              "      height: 32px;\n",
              "      padding: 0 0 0 0;\n",
              "      width: 32px;\n",
              "    }\n",
              "\n",
              "    .colab-df-convert:hover {\n",
              "      background-color: #E2EBFA;\n",
              "      box-shadow: 0px 1px 2px rgba(60, 64, 67, 0.3), 0px 1px 3px 1px rgba(60, 64, 67, 0.15);\n",
              "      fill: #174EA6;\n",
              "    }\n",
              "\n",
              "    [theme=dark] .colab-df-convert {\n",
              "      background-color: #3B4455;\n",
              "      fill: #D2E3FC;\n",
              "    }\n",
              "\n",
              "    [theme=dark] .colab-df-convert:hover {\n",
              "      background-color: #434B5C;\n",
              "      box-shadow: 0px 1px 3px 1px rgba(0, 0, 0, 0.15);\n",
              "      filter: drop-shadow(0px 1px 2px rgba(0, 0, 0, 0.3));\n",
              "      fill: #FFFFFF;\n",
              "    }\n",
              "  </style>\n",
              "\n",
              "      <script>\n",
              "        const buttonEl =\n",
              "          document.querySelector('#df-b03217aa-3e9e-4209-91c2-d72dfd95c737 button.colab-df-convert');\n",
              "        buttonEl.style.display =\n",
              "          google.colab.kernel.accessAllowed ? 'block' : 'none';\n",
              "\n",
              "        async function convertToInteractive(key) {\n",
              "          const element = document.querySelector('#df-b03217aa-3e9e-4209-91c2-d72dfd95c737');\n",
              "          const dataTable =\n",
              "            await google.colab.kernel.invokeFunction('convertToInteractive',\n",
              "                                                     [key], {});\n",
              "          if (!dataTable) return;\n",
              "\n",
              "          const docLinkHtml = 'Like what you see? Visit the ' +\n",
              "            '<a target=\"_blank\" href=https://colab.research.google.com/notebooks/data_table.ipynb>data table notebook</a>'\n",
              "            + ' to learn more about interactive tables.';\n",
              "          element.innerHTML = '';\n",
              "          dataTable['output_type'] = 'display_data';\n",
              "          await google.colab.output.renderOutput(dataTable, element);\n",
              "          const docLink = document.createElement('div');\n",
              "          docLink.innerHTML = docLinkHtml;\n",
              "          element.appendChild(docLink);\n",
              "        }\n",
              "      </script>\n",
              "    </div>\n",
              "  </div>\n",
              "  "
            ]
          },
          "metadata": {},
          "execution_count": 19
        }
      ]
    },
    {
      "cell_type": "markdown",
      "source": [
        "# Часть 2. Тематическое моделирование"
      ],
      "metadata": {
        "id": "xy_uiooryyYh"
      }
    },
    {
      "cell_type": "markdown",
      "source": [
        "## 1. Постройте несколько тематических моделей коллекции документов с разным числом тем. Приведите примеры понятных (интерпретируемых) тем."
      ],
      "metadata": {
        "id": "-VuCtglsy1En"
      }
    },
    {
      "cell_type": "code",
      "source": [
        "import gensim.corpora as corpora\n",
        "from gensim.models import *"
      ],
      "metadata": {
        "id": "-fOptgU-0aqp"
      },
      "execution_count": null,
      "outputs": []
    },
    {
      "cell_type": "code",
      "source": [
        "from sklearn.metrics import *\n",
        "from sklearn.pipeline import *\n",
        "from sklearn.feature_extraction.text import *\n",
        "from sklearn.decomposition import TruncatedSVD, PCA\n",
        "from sklearn.preprocessing import Normalizer, LabelEncoder"
      ],
      "metadata": {
        "id": "4SwP7GDA9KAT"
      },
      "execution_count": null,
      "outputs": []
    },
    {
      "cell_type": "code",
      "source": [
        "import warnings\n",
        "warnings.filterwarnings('ignore')"
      ],
      "metadata": {
        "id": "q875Hpti9jRk"
      },
      "execution_count": null,
      "outputs": []
    },
    {
      "cell_type": "code",
      "source": [
        "texts = [df_2['lemma'].iloc[i].split() for i in range(len(df_2))]\n",
        "dictionary = corpora.Dictionary(texts)\n",
        "corpus = [dictionary.doc2bow(text) for text in texts]"
      ],
      "metadata": {
        "colab": {
          "base_uri": "https://localhost:8080/"
        },
        "id": "PvDZTH7V0fSr",
        "outputId": "76e518dd-f689-45b6-f11a-ab2272ea36ae"
      },
      "execution_count": null,
      "outputs": [
        {
          "output_type": "stream",
          "name": "stderr",
          "text": [
            "/usr/local/lib/python3.10/dist-packages/ipykernel/ipkernel.py:283: DeprecationWarning: `should_run_async` will not call `transform_cell` automatically in the future. Please pass the result to `transformed_cell` argument and any exception that happen during thetransform in `preprocessing_exc_tuple` in IPython 7.17 and above.\n",
            "  and should_run_async(code)\n"
          ]
        }
      ]
    },
    {
      "cell_type": "code",
      "execution_count": null,
      "metadata": {
        "id": "dq8ccspW277x",
        "outputId": "c9129243-6073-415b-b08a-45554ca8925a",
        "colab": {
          "base_uri": "https://localhost:8080/"
        }
      },
      "outputs": [
        {
          "output_type": "stream",
          "name": "stderr",
          "text": [
            "/usr/local/lib/python3.10/dist-packages/ipykernel/ipkernel.py:283: DeprecationWarning: `should_run_async` will not call `transform_cell` automatically in the future. Please pass the result to `transformed_cell` argument and any exception that happen during thetransform in `preprocessing_exc_tuple` in IPython 7.17 and above.\n",
            "  and should_run_async(code)\n"
          ]
        },
        {
          "output_type": "stream",
          "name": "stdout",
          "text": [
            "Тематическая модель с 10 темами\n",
            "CPU times: user 4 µs, sys: 1e+03 ns, total: 5 µs\n",
            "Wall time: 8.82 µs\n"
          ]
        }
      ],
      "source": [
        "print(\"Тематическая модель с 10 темами\")\n",
        "\n",
        "%time\n",
        "lda_10 = ldamodel.LdaModel(corpus=corpus, id2word=dictionary, num_topics=10, chunksize=50, update_every=1, passes=2, random_state=42, alpha='auto', eta='auto')\n",
        "# num_topics ( int , необязательный ) — количество запрошенных скрытых тем, которые необходимо извлечь из учебного корпуса.\n",
        "# chunksize ( int , необязательный ) — количество документов, которые будут использоваться в каждом обучающем фрагменте.\n",
        "# update_every ( int , необязательный ) — количество документов, которые необходимо перебирать для каждого обновления. Установите 0 для пакетного обучения, > 1 для интерактивного итеративного обучения.\n",
        "# pass ( int , необязательный ) — количество проходов по корпусу во время обучения.\n",
        "# alpha – Априорное убеждение в распространении темы документа. 'auto': изучает асимметричный априор из корпуса (недоступно, если Distributed==True ).\n",
        "# eta - Априорное убеждение в распределении слов по теме.'auto': изучает асимметричный априор из корпуса."
      ]
    },
    {
      "cell_type": "code",
      "execution_count": null,
      "metadata": {
        "id": "fxFlf46H277y",
        "outputId": "93ffe83e-f287-4287-d92f-25a33329399b",
        "colab": {
          "base_uri": "https://localhost:8080/"
        }
      },
      "outputs": [
        {
          "output_type": "stream",
          "name": "stderr",
          "text": [
            "/usr/local/lib/python3.10/dist-packages/ipykernel/ipkernel.py:283: DeprecationWarning: `should_run_async` will not call `transform_cell` automatically in the future. Please pass the result to `transformed_cell` argument and any exception that happen during thetransform in `preprocessing_exc_tuple` in IPython 7.17 and above.\n",
            "  and should_run_async(code)\n"
          ]
        },
        {
          "output_type": "execute_result",
          "data": {
            "text/plain": [
              "[(7,\n",
              "  [('снять', 0.05840827),\n",
              "   ('кошелёк', 0.034749188),\n",
              "   ('доступ', 0.024603607),\n",
              "   ('мобильный', 0.021761017),\n",
              "   ('возникать', 0.019857455),\n",
              "   ('мошенник', 0.014493859),\n",
              "   ('регистрация', 0.014425025),\n",
              "   ('статус', 0.0139903715),\n",
              "   ('кодовый', 0.013636678),\n",
              "   ('интересный', 0.01329025),\n",
              "   ('получатель', 0.013215681),\n",
              "   ('безопасность', 0.012384046),\n",
              "   ('успешно', 0.011242444),\n",
              "   ('владелец', 0.0107587045),\n",
              "   ('середина', 0.01014018),\n",
              "   ('телебанк', 0.00973647),\n",
              "   ('система', 0.009120459),\n",
              "   ('впервые', 0.008969583),\n",
              "   ('граница', 0.008808394),\n",
              "   ('постоянный', 0.008645346)]),\n",
              " (0,\n",
              "  [('деньга', 0.029645747),\n",
              "   ('день', 0.027838657),\n",
              "   ('счёт', 0.027525183),\n",
              "   ('банк', 0.025371982),\n",
              "   ('заявление', 0.02062054),\n",
              "   ('средство', 0.016811566),\n",
              "   ('сбербанк', 0.015382165),\n",
              "   ('ответ', 0.014870037),\n",
              "   ('перевод', 0.013433118),\n",
              "   ('карта', 0.01272535),\n",
              "   ('мой', 0.011304831),\n",
              "   ('написать', 0.010765735),\n",
              "   ('отделение', 0.010746887),\n",
              "   ('платёж', 0.010681489),\n",
              "   ('банкомат', 0.010563949),\n",
              "   ('получить', 0.01010299),\n",
              "   ('претензия', 0.0098526245),\n",
              "   ('ситуация', 0.0091233095),\n",
              "   ('система', 0.008582013),\n",
              "   ('оператор', 0.008524729)]),\n",
              " (3,\n",
              "  [('банк', 0.036699764),\n",
              "   ('вклад', 0.016117267),\n",
              "   ('отделение', 0.016043877),\n",
              "   ('очередь', 0.014982731),\n",
              "   ('деньга', 0.013721763),\n",
              "   ('работать', 0.01310612),\n",
              "   ('клиент', 0.012331407),\n",
              "   ('офис', 0.011982585),\n",
              "   ('время', 0.010871687),\n",
              "   ('свой', 0.010311029),\n",
              "   ('январь', 0.009905259),\n",
              "   ('такой', 0.009332841),\n",
              "   ('сказать', 0.0088226525),\n",
              "   ('декабрь', 0.008190134),\n",
              "   ('открыть', 0.0073762587),\n",
              "   ('день', 0.0073284484),\n",
              "   ('минута', 0.00731117),\n",
              "   ('час', 0.0071662185),\n",
              "   ('один', 0.0071193557),\n",
              "   ('человек', 0.006894325)])]"
            ]
          },
          "metadata": {},
          "execution_count": 67
        }
      ],
      "source": [
        "lda_10.show_topics(num_topics=3, num_words=20, formatted=False)\n",
        "# num_topics ( int , необязательный ) — количество возвращаемых тем. В отличие от LSA, в LDA нет естественного порядка между темами. Таким образом, возвращаемое подмножество тем для всех тем является произвольным и может измениться между двумя прогонами обучения LDA.\n",
        "# num_words ( int , необязательный ) — количество слов, которые будут представлены для каждой темы.\n",
        "# formatted ( bool , необязательный ) — должны ли представления темы быть отформатированы как строки. Если False, они возвращаются как 2 кортежа (слово, вероятность)."
      ]
    },
    {
      "cell_type": "markdown",
      "source": [
        "По темам __модели lda_10__ мысли такие:\n",
        "\n",
        "тема №0. затрудняюсь...\n",
        "\n",
        "тема №3. новогодние вклады в отделении банка?\n",
        "\n",
        "тема №7. услуги онлайн-банка?"
      ],
      "metadata": {
        "id": "Mh2VWuzjpoBA"
      }
    },
    {
      "cell_type": "code",
      "source": [
        "print(\"Тематическая модель с 20 темами\")\n",
        "\n",
        "%time\n",
        "lda_20 = ldamodel.LdaModel(corpus=corpus, id2word=dictionary, num_topics=20, chunksize=50, update_every=1, passes=2, random_state=42, alpha='auto', eta='auto')"
      ],
      "metadata": {
        "colab": {
          "base_uri": "https://localhost:8080/"
        },
        "id": "ctL-FtlPwvD_",
        "outputId": "989e59ab-9de1-45fb-e6e4-47e8c6e4bb02"
      },
      "execution_count": null,
      "outputs": [
        {
          "output_type": "stream",
          "name": "stdout",
          "text": [
            "Тематическая модель с 20 темами\n",
            "CPU times: user 5 µs, sys: 0 ns, total: 5 µs\n",
            "Wall time: 11.2 µs\n"
          ]
        }
      ]
    },
    {
      "cell_type": "code",
      "source": [
        "lda_20.show_topics(num_topics=3, num_words=20, formatted=False)"
      ],
      "metadata": {
        "colab": {
          "base_uri": "https://localhost:8080/"
        },
        "id": "RFUixJAkxTvI",
        "outputId": "15eadf10-c4e0-4b34-81db-6f6689d05190"
      },
      "execution_count": null,
      "outputs": [
        {
          "output_type": "execute_result",
          "data": {
            "text/plain": [
              "[(5,\n",
              "  [('страховка', 0.1390002),\n",
              "   ('страхование', 0.103005104),\n",
              "   ('запись', 0.09286817),\n",
              "   ('страховой', 0.08487857),\n",
              "   ('программа', 0.06290451),\n",
              "   ('кредит', 0.034983322),\n",
              "   ('организовать', 0.033896185),\n",
              "   ('менеджер', 0.030776339),\n",
              "   ('транспортный', 0.03003735),\n",
              "   ('участие', 0.024629548),\n",
              "   ('обязательный', 0.02393729),\n",
              "   ('вернуть', 0.02221561),\n",
              "   ('одобрить', 0.016205126),\n",
              "   ('полис', 0.012499566),\n",
              "   ('оформление', 0.011738019),\n",
              "   ('сходненский', 0.009767123),\n",
              "   ('оформить', 0.008787359),\n",
              "   ('услуга', 0.008054018),\n",
              "   ('оформлять', 0.005478502),\n",
              "   ('согласиться', 0.005315959)]),\n",
              " (2,\n",
              "  [('банк', 0.12357158),\n",
              "   ('сотрудник', 0.046877895),\n",
              "   ('который', 0.027709771),\n",
              "   ('год', 0.018466482),\n",
              "   ('мой', 0.018086175),\n",
              "   ('клиент', 0.016955286),\n",
              "   ('документ', 0.015944613),\n",
              "   ('свой', 0.014942972),\n",
              "   ('дать', 0.014551382),\n",
              "   ('получить', 0.013166121),\n",
              "   ('вопрос', 0.01284492),\n",
              "   ('иметь', 0.012826461),\n",
              "   ('какой', 0.012356128),\n",
              "   ('принять', 0.011215732),\n",
              "   ('являться', 0.011140662),\n",
              "   ('никакой', 0.010615256),\n",
              "   ('информация', 0.009705727),\n",
              "   ('данный', 0.009045628),\n",
              "   ('заявление', 0.009033499),\n",
              "   ('обратиться', 0.008691842)]),\n",
              " (18,\n",
              "  [('отделение', 0.026745),\n",
              "   ('банк', 0.02302326),\n",
              "   ('сказать', 0.020128615),\n",
              "   ('очередь', 0.018989036),\n",
              "   ('время', 0.018523136),\n",
              "   ('день', 0.018112192),\n",
              "   ('офис', 0.018025959),\n",
              "   ('работать', 0.01662875),\n",
              "   ('мочь', 0.012655618),\n",
              "   ('клиент', 0.010802418),\n",
              "   ('такой', 0.010534246),\n",
              "   ('решить', 0.010441151),\n",
              "   ('человек', 0.010257003),\n",
              "   ('который', 0.0099913515),\n",
              "   ('позвонить', 0.009839655),\n",
              "   ('час', 0.009399091),\n",
              "   ('один', 0.009376015),\n",
              "   ('минута', 0.009358489),\n",
              "   ('сделать', 0.009121985),\n",
              "   ('говорить', 0.009084072)])]"
            ]
          },
          "metadata": {},
          "execution_count": 48
        }
      ]
    },
    {
      "cell_type": "markdown",
      "source": [
        "По __модели lda_20__ понятная тема:\n",
        "\n",
        "тема №18. долгое обслуживание в отделениях банка"
      ],
      "metadata": {
        "id": "a-VuszGDxvxz"
      }
    },
    {
      "cell_type": "code",
      "source": [
        "print(\"Тематическая модель с 30 темами\")\n",
        "\n",
        "%time\n",
        "lda_30 = ldamodel.LdaModel(corpus=corpus, id2word=dictionary, num_topics=30, chunksize=50, update_every=1, passes=2, random_state=42, alpha='auto', eta='auto')"
      ],
      "metadata": {
        "colab": {
          "base_uri": "https://localhost:8080/"
        },
        "id": "ALSfsUH6yMAS",
        "outputId": "1dd05ca3-7e61-414a-e7cc-ecaf70370ad2"
      },
      "execution_count": null,
      "outputs": [
        {
          "output_type": "stream",
          "name": "stdout",
          "text": [
            "Тематическая модель с 30 темами\n",
            "CPU times: user 6 µs, sys: 0 ns, total: 6 µs\n",
            "Wall time: 12.4 µs\n"
          ]
        }
      ]
    },
    {
      "cell_type": "code",
      "source": [
        "lda_30.show_topics(num_topics=3, num_words=30, formatted=False)"
      ],
      "metadata": {
        "colab": {
          "base_uri": "https://localhost:8080/"
        },
        "outputId": "aef6401f-99d8-4ae4-bf11-c67a4b8260c5",
        "id": "T162ERi_-tS0"
      },
      "execution_count": null,
      "outputs": [
        {
          "output_type": "execute_result",
          "data": {
            "text/plain": [
              "[(27,\n",
              "  [('исполнить', 0.17766395),\n",
              "   ('поручение', 0.17678915),\n",
              "   ('преступление', 0.006053201),\n",
              "   ('перетащить', 2.3496976e-05),\n",
              "   ('ренессанскредит', 2.3496976e-05),\n",
              "   ('нижесказанный', 2.3496976e-05),\n",
              "   ('монополист', 2.3496976e-05),\n",
              "   ('многозначительный', 2.3496976e-05),\n",
              "   ('кукуевск', 2.3496976e-05),\n",
              "   ('колбасить', 2.3496976e-05),\n",
              "   ('кашлять', 2.3496976e-05),\n",
              "   ('вязанка', 2.3496976e-05),\n",
              "   ('выхватывать', 2.3496976e-05),\n",
              "   ('брючки', 2.3496976e-05),\n",
              "   ('паспортистка', 2.3496976e-05),\n",
              "   ('агрегат', 2.3496976e-05),\n",
              "   ('сюрреализм', 2.3496976e-05),\n",
              "   ('своеобразно', 2.3496976e-05),\n",
              "   ('ругательный', 2.3496976e-05),\n",
              "   ('путаный', 2.3496976e-05),\n",
              "   ('посм', 2.3496976e-05),\n",
              "   ('закипать', 2.3496976e-05),\n",
              "   ('ахинея', 2.3496976e-05),\n",
              "   ('привнесение', 2.3496976e-05),\n",
              "   ('парадокс', 2.3496976e-05),\n",
              "   ('дыбом', 2.3496976e-05),\n",
              "   ('выдчау', 2.3496976e-05),\n",
              "   ('порасти', 2.3496976e-05),\n",
              "   ('извилистый', 2.3496976e-05),\n",
              "   ('шейнкмана', 2.3496976e-05)]),\n",
              " (29,\n",
              "  [('банк', 0.11920485),\n",
              "   ('карта', 0.08994982),\n",
              "   ('год', 0.03830761),\n",
              "   ('который', 0.021912105),\n",
              "   ('новый', 0.020422425),\n",
              "   ('обслуживание', 0.0144363055),\n",
              "   ('несколько', 0.010688453),\n",
              "   ('месяц', 0.010155839),\n",
              "   ('пользоваться', 0.009522165),\n",
              "   ('конец', 0.009086319),\n",
              "   ('оформить', 0.0090425415),\n",
              "   ('итог', 0.00899265),\n",
              "   ('оказаться', 0.008938504),\n",
              "   ('неделя', 0.00851698),\n",
              "   ('общий', 0.008341655),\n",
              "   ('получить', 0.008322651),\n",
              "   ('момент', 0.008155051),\n",
              "   ('никакой', 0.00813724),\n",
              "   ('какой', 0.0076985513),\n",
              "   ('кредитный', 0.0075201206),\n",
              "   ('стать', 0.0073832446),\n",
              "   ('один', 0.006973846),\n",
              "   ('клиент', 0.0068831504),\n",
              "   ('время', 0.0068261474),\n",
              "   ('этот', 0.006799918),\n",
              "   ('получать', 0.0067670187),\n",
              "   ('другой', 0.0067487),\n",
              "   ('такой', 0.006690857),\n",
              "   ('поэтому', 0.0066676135),\n",
              "   ('закрыть', 0.006609045)]),\n",
              " (3,\n",
              "  [('банк', 0.060482338),\n",
              "   ('клиент', 0.03791576),\n",
              "   ('очередь', 0.025711115),\n",
              "   ('офис', 0.024034914),\n",
              "   ('свой', 0.023303954),\n",
              "   ('работать', 0.02256763),\n",
              "   ('отделение', 0.019614136),\n",
              "   ('время', 0.01783986),\n",
              "   ('такой', 0.017353566),\n",
              "   ('работа', 0.017312085),\n",
              "   ('человек', 0.015855318),\n",
              "   ('хотеть', 0.014907016),\n",
              "   ('который', 0.012741021),\n",
              "   ('мочь', 0.012549437),\n",
              "   ('минута', 0.012350822),\n",
              "   ('вопрос', 0.012140514),\n",
              "   ('сотрудник', 0.0111927),\n",
              "   ('час', 0.011066834),\n",
              "   ('просто', 0.010504693),\n",
              "   ('сказать', 0.010401793),\n",
              "   ('весь', 0.010348937),\n",
              "   ('другой', 0.009779678),\n",
              "   ('один', 0.00948503),\n",
              "   ('решить', 0.009449381),\n",
              "   ('проблема', 0.0089473445),\n",
              "   ('спасибо', 0.008808829),\n",
              "   ('операционист', 0.008691821),\n",
              "   ('касса', 0.008366602),\n",
              "   ('ждать', 0.007862912),\n",
              "   ('сегодня', 0.007860597)])]"
            ]
          },
          "metadata": {},
          "execution_count": 51
        }
      ]
    },
    {
      "cell_type": "markdown",
      "source": [
        "По __модели lda_30__ интересная тема №27 - какой-то скандал в реннесансе из кукуевска?)))"
      ],
      "metadata": {
        "id": "Api_ExyW_Zoj"
      }
    },
    {
      "cell_type": "code",
      "source": [
        "print(\"Тематическая модель со 100 темами\")\n",
        "\n",
        "%time\n",
        "lda_100 = ldamodel.LdaModel(corpus=corpus, id2word=dictionary, num_topics=100, chunksize=50, update_every=1, passes=2, random_state=42, alpha='auto', eta='auto')"
      ],
      "metadata": {
        "colab": {
          "base_uri": "https://localhost:8080/"
        },
        "id": "9oCiAzMtzgCI",
        "outputId": "6693d347-5c17-4ae6-ab9f-cf82a0a3d0db"
      },
      "execution_count": null,
      "outputs": [
        {
          "output_type": "stream",
          "name": "stderr",
          "text": [
            "/usr/local/lib/python3.10/dist-packages/ipykernel/ipkernel.py:283: DeprecationWarning: `should_run_async` will not call `transform_cell` automatically in the future. Please pass the result to `transformed_cell` argument and any exception that happen during thetransform in `preprocessing_exc_tuple` in IPython 7.17 and above.\n",
            "  and should_run_async(code)\n"
          ]
        },
        {
          "output_type": "stream",
          "name": "stdout",
          "text": [
            "Тематическая модель со 100 темами\n",
            "CPU times: user 4 µs, sys: 1 µs, total: 5 µs\n",
            "Wall time: 10.7 µs\n"
          ]
        }
      ]
    },
    {
      "cell_type": "code",
      "source": [
        "lda_100.show_topics(num_topics=3, num_words=30, formatted=False)"
      ],
      "metadata": {
        "colab": {
          "base_uri": "https://localhost:8080/"
        },
        "id": "z0v8YfKc07BQ",
        "outputId": "4fb9312f-fe3a-474c-c7fe-fc8dd7c3fc12"
      },
      "execution_count": null,
      "outputs": [
        {
          "output_type": "stream",
          "name": "stderr",
          "text": [
            "/usr/local/lib/python3.10/dist-packages/ipykernel/ipkernel.py:283: DeprecationWarning: `should_run_async` will not call `transform_cell` automatically in the future. Please pass the result to `transformed_cell` argument and any exception that happen during thetransform in `preprocessing_exc_tuple` in IPython 7.17 and above.\n",
            "  and should_run_async(code)\n"
          ]
        },
        {
          "output_type": "execute_result",
          "data": {
            "text/plain": [
              "[(30,\n",
              "  [('паспортистка', 3.6739042e-05),\n",
              "   ('извилистый', 3.6739042e-05),\n",
              "   ('перетащить', 3.6739042e-05),\n",
              "   ('отпбанк', 3.6739042e-05),\n",
              "   ('нижесказанный', 3.6739042e-05),\n",
              "   ('монополист', 3.6739042e-05),\n",
              "   ('многозначительный', 3.6739042e-05),\n",
              "   ('кукуевск', 3.6739042e-05),\n",
              "   ('колбасить', 3.6739042e-05),\n",
              "   ('кашлять', 3.6739042e-05),\n",
              "   ('вязанка', 3.6739042e-05),\n",
              "   ('выхватывать', 3.6739042e-05),\n",
              "   ('брючки', 3.6739042e-05),\n",
              "   ('агрегат', 3.6739042e-05),\n",
              "   ('сюрреализм', 3.6739042e-05),\n",
              "   ('своеобразно', 3.6739042e-05),\n",
              "   ('ругательный', 3.6739042e-05),\n",
              "   ('путаный', 3.6739042e-05),\n",
              "   ('посм', 3.6739042e-05),\n",
              "   ('закипать', 3.6739042e-05),\n",
              "   ('ахинея', 3.6739042e-05),\n",
              "   ('привнесение', 3.6739042e-05),\n",
              "   ('парадокс', 3.6739042e-05),\n",
              "   ('дыбом', 3.6739042e-05),\n",
              "   ('выдчау', 3.6739042e-05),\n",
              "   ('татфонбанк', 3.6739042e-05),\n",
              "   ('ренессанскредит', 3.6739042e-05),\n",
              "   ('петепетелькин', 3.6739042e-05),\n",
              "   ('шейнкмана', 3.6739042e-05),\n",
              "   ('алфёров', 3.6739042e-05)]),\n",
              " (66,\n",
              "  [('банк', 0.16182813),\n",
              "   ('карта', 0.16051339),\n",
              "   ('год', 0.062062487),\n",
              "   ('новый', 0.025949057),\n",
              "   ('обслуживание', 0.024609895),\n",
              "   ('пользоваться', 0.016606685),\n",
              "   ('момент', 0.01500417),\n",
              "   ('последний', 0.014781271),\n",
              "   ('клиент', 0.014730808),\n",
              "   ('возможность', 0.014248695),\n",
              "   ('получить', 0.01391683),\n",
              "   ('закрыть', 0.012773172),\n",
              "   ('свой', 0.012376976),\n",
              "   ('который', 0.012309634),\n",
              "   ('друг', 0.012109639),\n",
              "   ('делать', 0.011696245),\n",
              "   ('спасибо', 0.010961469),\n",
              "   ('предложить', 0.010852859),\n",
              "   ('причина', 0.010798295),\n",
              "   ('узнать', 0.010452653),\n",
              "   ('мочь', 0.00959275),\n",
              "   ('вопрос', 0.009430586),\n",
              "   ('однако', 0.0087112915),\n",
              "   ('образ', 0.0083354665),\n",
              "   ('оформить', 0.008227781),\n",
              "   ('получение', 0.007871475),\n",
              "   ('сервис', 0.0075607565),\n",
              "   ('именно', 0.0073677995),\n",
              "   ('назад', 0.0072715497),\n",
              "   ('никакой', 0.0069048004)]),\n",
              " (81,\n",
              "  [('банк', 0.086531356),\n",
              "   ('клиент', 0.036381114),\n",
              "   ('который', 0.030206773),\n",
              "   ('время', 0.028678438),\n",
              "   ('сказать', 0.027874589),\n",
              "   ('такой', 0.026953395),\n",
              "   ('работать', 0.025504833),\n",
              "   ('мочь', 0.023904258),\n",
              "   ('вопрос', 0.020927163),\n",
              "   ('работа', 0.020785296),\n",
              "   ('человек', 0.019273354),\n",
              "   ('решить', 0.016552636),\n",
              "   ('хотеть', 0.016406838),\n",
              "   ('один', 0.016180813),\n",
              "   ('свой', 0.015355871),\n",
              "   ('говорить', 0.014845251),\n",
              "   ('проблема', 0.014831077),\n",
              "   ('позвонить', 0.014757933),\n",
              "   ('другой', 0.014756821),\n",
              "   ('первый', 0.014159034),\n",
              "   ('знать', 0.014151064),\n",
              "   ('сегодня', 0.013754342),\n",
              "   ('просто', 0.013717921),\n",
              "   ('почему', 0.01322886),\n",
              "   ('весь', 0.01297647),\n",
              "   ('ждать', 0.012947165),\n",
              "   ('сам', 0.011158189),\n",
              "   ('стать', 0.010948539),\n",
              "   ('какой', 0.010787393),\n",
              "   ('никто', 0.01043446)])]"
            ]
          },
          "metadata": {},
          "execution_count": 111
        }
      ]
    },
    {
      "cell_type": "markdown",
      "source": [
        "## 2. Найдите темы, в которых упомянуты конкретные банки (Сбербанк, ВТБ, другой банк). Можете ли вы их прокомментировать / объяснить? Эта часть задания может быть сделана с использованием gensim."
      ],
      "metadata": {
        "id": "WK6BPqYCy7Cu"
      }
    },
    {
      "cell_type": "code",
      "source": [
        "lda_10.get_term_topics('сбербанк') # Получить наиболее релевантные темы для данного слова.\n",
        "# word_id ( int ) — слово, для которого будет вычислено распределение тем.\n",
        "# Minimum_probability ( float , необязательный ) — Темы с назначенной вероятностью ниже этого порога будут отброшены.\n",
        "# Возвращает: Релевантные темы представлены в виде пар их идентификаторов и назначенных им вероятностей, отсортированных по релевантности данному слову."
      ],
      "metadata": {
        "colab": {
          "base_uri": "https://localhost:8080/"
        },
        "id": "yJbNEliDvbpw",
        "outputId": "46af1c0f-afac-42d0-c75f-9ab35d044d4b"
      },
      "execution_count": null,
      "outputs": [
        {
          "output_type": "stream",
          "name": "stderr",
          "text": [
            "/usr/local/lib/python3.10/dist-packages/ipykernel/ipkernel.py:283: DeprecationWarning: `should_run_async` will not call `transform_cell` automatically in the future. Please pass the result to `transformed_cell` argument and any exception that happen during thetransform in `preprocessing_exc_tuple` in IPython 7.17 and above.\n",
            "  and should_run_async(code)\n"
          ]
        },
        {
          "output_type": "execute_result",
          "data": {
            "text/plain": [
              "[(0, 0.01538892)]"
            ]
          },
          "metadata": {},
          "execution_count": 96
        }
      ]
    },
    {
      "cell_type": "code",
      "source": [
        "lda_100.get_term_topics('сбербанк')"
      ],
      "metadata": {
        "colab": {
          "base_uri": "https://localhost:8080/"
        },
        "id": "Sl_zcNzh1MqA",
        "outputId": "2d0766cb-f99f-4cd5-a4f1-cf81c381a134"
      },
      "execution_count": null,
      "outputs": [
        {
          "output_type": "stream",
          "name": "stderr",
          "text": [
            "/usr/local/lib/python3.10/dist-packages/ipykernel/ipkernel.py:283: DeprecationWarning: `should_run_async` will not call `transform_cell` automatically in the future. Please pass the result to `transformed_cell` argument and any exception that happen during thetransform in `preprocessing_exc_tuple` in IPython 7.17 and above.\n",
            "  and should_run_async(code)\n"
          ]
        },
        {
          "output_type": "execute_result",
          "data": {
            "text/plain": [
              "[(10, 0.52659374)]"
            ]
          },
          "metadata": {},
          "execution_count": 112
        }
      ]
    },
    {
      "cell_type": "code",
      "source": [
        "lda_100.print_topic(10, topn=30) # Получить одну тему в виде форматированной строки."
      ],
      "metadata": {
        "colab": {
          "base_uri": "https://localhost:8080/",
          "height": 142
        },
        "id": "pS2JaKRV5hMm",
        "outputId": "bb461559-e5e4-43a8-ab2d-64eb4e31cae6"
      },
      "execution_count": null,
      "outputs": [
        {
          "output_type": "stream",
          "name": "stderr",
          "text": [
            "/usr/local/lib/python3.10/dist-packages/ipykernel/ipkernel.py:283: DeprecationWarning: `should_run_async` will not call `transform_cell` automatically in the future. Please pass the result to `transformed_cell` argument and any exception that happen during thetransform in `preprocessing_exc_tuple` in IPython 7.17 and above.\n",
            "  and should_run_async(code)\n"
          ]
        },
        {
          "output_type": "execute_result",
          "data": {
            "text/plain": [
              "'0.526*\"сбербанк\" + 0.176*\"онлайн\" + 0.108*\"россия\" + 0.039*\"выслать\" + 0.037*\"муж\" + 0.022*\"сменить\" + 0.020*\"ощущение\" + 0.012*\"скан\" + 0.012*\"рано\" + 0.007*\"высылать\" + 0.001*\"фамилия\" + 0.000*\"адрес\" + 0.000*\"результат\" + 0.000*\"паспорт\" + 0.000*\"почему\" + 0.000*\"который\" + 0.000*\"мочь\" + 0.000*\"выдать\" + 0.000*\"ситуация\" + 0.000*\"сотрудник\" + 0.000*\"разобраться\" + 0.000*\"другой\" + 0.000*\"главный\" + 0.000*\"просить\" + 0.000*\"смочь\" + 0.000*\"информация\" + 0.000*\"отделение\" + 0.000*\"сообщить\" + 0.000*\"должный\" + 0.000*\"день\"'"
            ],
            "application/vnd.google.colaboratory.intrinsic+json": {
              "type": "string"
            }
          },
          "metadata": {},
          "execution_count": 117
        }
      ]
    },
    {
      "cell_type": "markdown",
      "source": [
        "тема №10 из lda_100, в которой упомянут сбербанк, скорее всего о перебоях в онлайн-банке"
      ],
      "metadata": {
        "id": "0MijeTtW6YNe"
      }
    },
    {
      "cell_type": "code",
      "source": [
        "lda_100.get_term_topics('втб')"
      ],
      "metadata": {
        "colab": {
          "base_uri": "https://localhost:8080/"
        },
        "id": "sDrkp6wX2QzY",
        "outputId": "3fc0457b-8650-4bab-896c-7a7cec079051"
      },
      "execution_count": null,
      "outputs": [
        {
          "output_type": "stream",
          "name": "stderr",
          "text": [
            "/usr/local/lib/python3.10/dist-packages/ipykernel/ipkernel.py:283: DeprecationWarning: `should_run_async` will not call `transform_cell` automatically in the future. Please pass the result to `transformed_cell` argument and any exception that happen during thetransform in `preprocessing_exc_tuple` in IPython 7.17 and above.\n",
            "  and should_run_async(code)\n"
          ]
        },
        {
          "output_type": "execute_result",
          "data": {
            "text/plain": [
              "[(5, 0.2356805)]"
            ]
          },
          "metadata": {},
          "execution_count": 113
        }
      ]
    },
    {
      "cell_type": "code",
      "source": [
        "lda_100.print_topic(5, topn=30)"
      ],
      "metadata": {
        "colab": {
          "base_uri": "https://localhost:8080/",
          "height": 142
        },
        "id": "JPLys9Ib7QIo",
        "outputId": "78b6105d-c1c5-4a58-de97-87159d19a155"
      },
      "execution_count": null,
      "outputs": [
        {
          "output_type": "stream",
          "name": "stderr",
          "text": [
            "/usr/local/lib/python3.10/dist-packages/ipykernel/ipkernel.py:283: DeprecationWarning: `should_run_async` will not call `transform_cell` automatically in the future. Please pass the result to `transformed_cell` argument and any exception that happen during thetransform in `preprocessing_exc_tuple` in IPython 7.17 and above.\n",
            "  and should_run_async(code)\n"
          ]
        },
        {
          "output_type": "execute_result",
          "data": {
            "text/plain": [
              "'0.236*\"втб\" + 0.228*\"руководство\" + 0.157*\"запись\" + 0.112*\"количество\" + 0.057*\"организовать\" + 0.051*\"транспортный\" + 0.042*\"возмещение\" + 0.042*\"участие\" + 0.000*\"клиент\" + 0.000*\"работа\" + 0.000*\"сотрудник\" + 0.000*\"банк\" + 0.000*\"выполнять\" + 0.000*\"который\" + 0.000*\"вопрос\" + 0.000*\"являться\" + 0.000*\"соответственно\" + 0.000*\"получить\" + 0.000*\"информация\" + 0.000*\"время\" + 0.000*\"поэтому\" + 0.000*\"вчера\" + 0.000*\"порасти\" + 0.000*\"брючки\" + 0.000*\"агрегат\" + 0.000*\"паспортистка\" + 0.000*\"перетащить\" + 0.000*\"петепетелькин\" + 0.000*\"потряхивать\" + 0.000*\"вязанка\"'"
            ],
            "application/vnd.google.colaboratory.intrinsic+json": {
              "type": "string"
            }
          },
          "metadata": {},
          "execution_count": 118
        }
      ]
    },
    {
      "cell_type": "markdown",
      "source": [
        "тема №5 из lda_100, в которой упомянут ВТБ, затрудняюсь... как записаться к руководству ВТБ?"
      ],
      "metadata": {
        "id": "P8T64s8z7ltD"
      }
    },
    {
      "cell_type": "code",
      "source": [
        "lda_100.get_term_topics('банк')"
      ],
      "metadata": {
        "colab": {
          "base_uri": "https://localhost:8080/"
        },
        "id": "WghtLKtt4oIk",
        "outputId": "87030aab-0646-4cb6-917d-a955e91811fe"
      },
      "execution_count": null,
      "outputs": [
        {
          "output_type": "stream",
          "name": "stderr",
          "text": [
            "/usr/local/lib/python3.10/dist-packages/ipykernel/ipkernel.py:283: DeprecationWarning: `should_run_async` will not call `transform_cell` automatically in the future. Please pass the result to `transformed_cell` argument and any exception that happen during thetransform in `preprocessing_exc_tuple` in IPython 7.17 and above.\n",
            "  and should_run_async(code)\n"
          ]
        },
        {
          "output_type": "execute_result",
          "data": {
            "text/plain": [
              "[(3, 0.014300499),\n",
              " (23, 0.01224816),\n",
              " (60, 0.113255255),\n",
              " (61, 0.042187802),\n",
              " (66, 0.16191305),\n",
              " (81, 0.08645984),\n",
              " (83, 0.021782773)]"
            ]
          },
          "metadata": {},
          "execution_count": 114
        }
      ]
    },
    {
      "cell_type": "markdown",
      "source": [
        "# Часть 3. Классификация текстов\n",
        "\n",
        "Сформулируем для простоты задачу бинарной классификации: будем классифицировать на два класса, то есть, различать резко отрицательные отзывы (с оценкой 1) и положительные отзывы (с оценкой 5)."
      ],
      "metadata": {
        "id": "vXKo9kbmzGQm"
      }
    },
    {
      "cell_type": "markdown",
      "source": [
        "## 1. Составьте обучающее и тестовое множество: выберите из всего набора данных N1 отзывов с оценкой 1 и N2 отзывов с оценкой 5 (значение N1 и N2 – на ваше усмотрение). Используйте sklearn.model_selection.train_test_split для разделения множества отобранных документов на обучающее и тестовое."
      ],
      "metadata": {
        "id": "vbsmyojhzKId"
      }
    },
    {
      "cell_type": "code",
      "source": [
        "df_2.info()"
      ],
      "metadata": {
        "colab": {
          "base_uri": "https://localhost:8080/"
        },
        "id": "q83w51SWDREc",
        "outputId": "3c52df2d-dde6-4c69-d3d7-23bb57ca0ad3"
      },
      "execution_count": null,
      "outputs": [
        {
          "output_type": "stream",
          "name": "stdout",
          "text": [
            "<class 'pandas.core.frame.DataFrame'>\n",
            "RangeIndex: 11000 entries, 0 to 10999\n",
            "Data columns (total 12 columns):\n",
            " #   Column                       Non-Null Count  Dtype  \n",
            "---  ------                       --------------  -----  \n",
            " 0   rating_not_checked           11000 non-null  bool   \n",
            " 1   title                        10970 non-null  object \n",
            " 2   num_comments                 11000 non-null  int64  \n",
            " 3   bank_license                 11000 non-null  object \n",
            " 4   author                       11000 non-null  object \n",
            " 5   bank_name                    11000 non-null  object \n",
            " 6   datetime                     11000 non-null  object \n",
            " 7   text                         11000 non-null  object \n",
            " 8   rating_grade                 5080 non-null   float64\n",
            " 9   city_copy_1                  11000 non-null  object \n",
            " 10  кор_text_without_stop_words  11000 non-null  object \n",
            " 11  lemma                        11000 non-null  object \n",
            "dtypes: bool(1), float64(1), int64(1), object(9)\n",
            "memory usage: 956.2+ KB\n"
          ]
        }
      ]
    },
    {
      "cell_type": "code",
      "source": [
        "df_N1_N2=df_2.loc[df_2.rating_grade.isin([1,5])]"
      ],
      "metadata": {
        "id": "zGE4Uj2PEWo_"
      },
      "execution_count": null,
      "outputs": []
    },
    {
      "cell_type": "code",
      "source": [
        "df_N1_N2.rating_grade.value_counts(dropna=False) # смотрим сбалансированность данных"
      ],
      "metadata": {
        "colab": {
          "base_uri": "https://localhost:8080/"
        },
        "outputId": "297ae566-eeee-4ac8-ee34-7ab682f9662b",
        "id": "frAlDbV8F2e-"
      },
      "execution_count": null,
      "outputs": [
        {
          "output_type": "execute_result",
          "data": {
            "text/plain": [
              "1.0    2999\n",
              "5.0     660\n",
              "Name: rating_grade, dtype: int64"
            ]
          },
          "metadata": {},
          "execution_count": 6
        }
      ]
    },
    {
      "cell_type": "code",
      "source": [
        "from sklearn.preprocessing import LabelEncoder\n",
        "le = LabelEncoder()"
      ],
      "metadata": {
        "id": "8lA9oIoK_7jd"
      },
      "execution_count": null,
      "outputs": []
    },
    {
      "cell_type": "code",
      "source": [
        "le.fit(df_N1_N2.rating_grade)"
      ],
      "metadata": {
        "colab": {
          "base_uri": "https://localhost:8080/",
          "height": 75
        },
        "id": "XkxS8alAjcTB",
        "outputId": "a9041939-2ec2-42cd-c42c-5264e5d9aa70"
      },
      "execution_count": null,
      "outputs": [
        {
          "output_type": "execute_result",
          "data": {
            "text/plain": [
              "LabelEncoder()"
            ],
            "text/html": [
              "<style>#sk-container-id-1 {color: black;background-color: white;}#sk-container-id-1 pre{padding: 0;}#sk-container-id-1 div.sk-toggleable {background-color: white;}#sk-container-id-1 label.sk-toggleable__label {cursor: pointer;display: block;width: 100%;margin-bottom: 0;padding: 0.3em;box-sizing: border-box;text-align: center;}#sk-container-id-1 label.sk-toggleable__label-arrow:before {content: \"▸\";float: left;margin-right: 0.25em;color: #696969;}#sk-container-id-1 label.sk-toggleable__label-arrow:hover:before {color: black;}#sk-container-id-1 div.sk-estimator:hover label.sk-toggleable__label-arrow:before {color: black;}#sk-container-id-1 div.sk-toggleable__content {max-height: 0;max-width: 0;overflow: hidden;text-align: left;background-color: #f0f8ff;}#sk-container-id-1 div.sk-toggleable__content pre {margin: 0.2em;color: black;border-radius: 0.25em;background-color: #f0f8ff;}#sk-container-id-1 input.sk-toggleable__control:checked~div.sk-toggleable__content {max-height: 200px;max-width: 100%;overflow: auto;}#sk-container-id-1 input.sk-toggleable__control:checked~label.sk-toggleable__label-arrow:before {content: \"▾\";}#sk-container-id-1 div.sk-estimator input.sk-toggleable__control:checked~label.sk-toggleable__label {background-color: #d4ebff;}#sk-container-id-1 div.sk-label input.sk-toggleable__control:checked~label.sk-toggleable__label {background-color: #d4ebff;}#sk-container-id-1 input.sk-hidden--visually {border: 0;clip: rect(1px 1px 1px 1px);clip: rect(1px, 1px, 1px, 1px);height: 1px;margin: -1px;overflow: hidden;padding: 0;position: absolute;width: 1px;}#sk-container-id-1 div.sk-estimator {font-family: monospace;background-color: #f0f8ff;border: 1px dotted black;border-radius: 0.25em;box-sizing: border-box;margin-bottom: 0.5em;}#sk-container-id-1 div.sk-estimator:hover {background-color: #d4ebff;}#sk-container-id-1 div.sk-parallel-item::after {content: \"\";width: 100%;border-bottom: 1px solid gray;flex-grow: 1;}#sk-container-id-1 div.sk-label:hover label.sk-toggleable__label {background-color: #d4ebff;}#sk-container-id-1 div.sk-serial::before {content: \"\";position: absolute;border-left: 1px solid gray;box-sizing: border-box;top: 0;bottom: 0;left: 50%;z-index: 0;}#sk-container-id-1 div.sk-serial {display: flex;flex-direction: column;align-items: center;background-color: white;padding-right: 0.2em;padding-left: 0.2em;position: relative;}#sk-container-id-1 div.sk-item {position: relative;z-index: 1;}#sk-container-id-1 div.sk-parallel {display: flex;align-items: stretch;justify-content: center;background-color: white;position: relative;}#sk-container-id-1 div.sk-item::before, #sk-container-id-1 div.sk-parallel-item::before {content: \"\";position: absolute;border-left: 1px solid gray;box-sizing: border-box;top: 0;bottom: 0;left: 50%;z-index: -1;}#sk-container-id-1 div.sk-parallel-item {display: flex;flex-direction: column;z-index: 1;position: relative;background-color: white;}#sk-container-id-1 div.sk-parallel-item:first-child::after {align-self: flex-end;width: 50%;}#sk-container-id-1 div.sk-parallel-item:last-child::after {align-self: flex-start;width: 50%;}#sk-container-id-1 div.sk-parallel-item:only-child::after {width: 0;}#sk-container-id-1 div.sk-dashed-wrapped {border: 1px dashed gray;margin: 0 0.4em 0.5em 0.4em;box-sizing: border-box;padding-bottom: 0.4em;background-color: white;}#sk-container-id-1 div.sk-label label {font-family: monospace;font-weight: bold;display: inline-block;line-height: 1.2em;}#sk-container-id-1 div.sk-label-container {text-align: center;}#sk-container-id-1 div.sk-container {/* jupyter's `normalize.less` sets `[hidden] { display: none; }` but bootstrap.min.css set `[hidden] { display: none !important; }` so we also need the `!important` here to be able to override the default hidden behavior on the sphinx rendered scikit-learn.org. See: https://github.com/scikit-learn/scikit-learn/issues/21755 */display: inline-block !important;position: relative;}#sk-container-id-1 div.sk-text-repr-fallback {display: none;}</style><div id=\"sk-container-id-1\" class=\"sk-top-container\"><div class=\"sk-text-repr-fallback\"><pre>LabelEncoder()</pre><b>In a Jupyter environment, please rerun this cell to show the HTML representation or trust the notebook. <br />On GitHub, the HTML representation is unable to render, please try loading this page with nbviewer.org.</b></div><div class=\"sk-container\" hidden><div class=\"sk-item\"><div class=\"sk-estimator sk-toggleable\"><input class=\"sk-toggleable__control sk-hidden--visually\" id=\"sk-estimator-id-1\" type=\"checkbox\" checked><label for=\"sk-estimator-id-1\" class=\"sk-toggleable__label sk-toggleable__label-arrow\">LabelEncoder</label><div class=\"sk-toggleable__content\"><pre>LabelEncoder()</pre></div></div></div></div></div>"
            ]
          },
          "metadata": {},
          "execution_count": 9
        }
      ]
    },
    {
      "cell_type": "code",
      "source": [
        "le.transform( ['1', '5']) # пример расшифровки"
      ],
      "metadata": {
        "colab": {
          "base_uri": "https://localhost:8080/"
        },
        "id": "Tn26w8unE-Lt",
        "outputId": "51d6c1b3-4aa1-40e1-db56-1574c3dc8758"
      },
      "execution_count": null,
      "outputs": [
        {
          "output_type": "execute_result",
          "data": {
            "text/plain": [
              "array([0, 1])"
            ]
          },
          "metadata": {},
          "execution_count": 22
        }
      ]
    },
    {
      "cell_type": "code",
      "metadata": {
        "colab": {
          "base_uri": "https://localhost:8080/"
        },
        "id": "BV9Klc1XG8ms",
        "outputId": "5c58842e-db8f-43cb-b830-075a909d0aaf"
      },
      "source": [
        "y = pd.Series (le.transform(df_N1_N2.rating_grade))\n",
        "y.head(10)"
      ],
      "execution_count": null,
      "outputs": [
        {
          "output_type": "execute_result",
          "data": {
            "text/plain": [
              "0    0\n",
              "1    0\n",
              "2    0\n",
              "3    0\n",
              "4    1\n",
              "5    0\n",
              "6    0\n",
              "7    0\n",
              "8    0\n",
              "9    0\n",
              "dtype: int64"
            ]
          },
          "metadata": {},
          "execution_count": 10
        }
      ]
    },
    {
      "cell_type": "code",
      "source": [
        "X=df_N1_N2.lemma"
      ],
      "metadata": {
        "id": "YSn3d1TpAsXK"
      },
      "execution_count": null,
      "outputs": []
    },
    {
      "cell_type": "code",
      "source": [
        "from sklearn.model_selection import train_test_split\n",
        "X_train, X_test, y_train, y_test = train_test_split(X, y, test_size=0.2, random_state=42)"
      ],
      "metadata": {
        "id": "2UlgAcIgHUuy"
      },
      "execution_count": null,
      "outputs": []
    },
    {
      "cell_type": "code",
      "source": [
        "print(df_N1_N2.shape[0])\n",
        "print(X_train.shape)\n",
        "print(X_test.shape)"
      ],
      "metadata": {
        "colab": {
          "base_uri": "https://localhost:8080/"
        },
        "id": "ax8iNLNtBNJX",
        "outputId": "66450fd8-b955-4ed7-e0c0-1cf184899005"
      },
      "execution_count": null,
      "outputs": [
        {
          "output_type": "stream",
          "name": "stdout",
          "text": [
            "3659\n",
            "(2927,)\n",
            "(732,)\n"
          ]
        }
      ]
    },
    {
      "cell_type": "markdown",
      "source": [
        "## 2. Используйте любой известный вам алгоритм классификации текстов для решения задачи и получите baseline. Сравните разные варианты векторизации текста: использование только униграм, пар или троек слов или с использованием символьных -грам."
      ],
      "metadata": {
        "id": "_NdP1RR9zgYe"
      }
    },
    {
      "cell_type": "code",
      "source": [
        "from sklearn.linear_model import LogisticRegression\n",
        "from sklearn.feature_extraction.text import CountVectorizer"
      ],
      "metadata": {
        "id": "PouzxTNXBHhu"
      },
      "execution_count": null,
      "outputs": []
    },
    {
      "cell_type": "code",
      "source": [
        "from sklearn.metrics import precision_score, recall_score, f1_score, accuracy_score, classification_report, confusion_matrix"
      ],
      "metadata": {
        "id": "cx4Dxqv5CcrV"
      },
      "execution_count": null,
      "outputs": []
    },
    {
      "cell_type": "code",
      "source": [
        "vec_1 = CountVectorizer(ngram_range=(1, 1)) # униграмы\n",
        "bow_1 = vec_1.fit_transform(X_train) # bow -- bag of words (мешок слов)"
      ],
      "metadata": {
        "id": "ycs9Cn69B6F9"
      },
      "execution_count": null,
      "outputs": []
    },
    {
      "cell_type": "code",
      "source": [
        "clf_1 = LogisticRegression(random_state=42, solver='liblinear')\n",
        "clf_1.fit(bow_1, y_train)"
      ],
      "metadata": {
        "colab": {
          "base_uri": "https://localhost:8080/",
          "height": 75
        },
        "id": "LmG_y8hmCLwt",
        "outputId": "b0912a95-3470-4fda-e177-cf8ca4a7e79c"
      },
      "execution_count": null,
      "outputs": [
        {
          "output_type": "execute_result",
          "data": {
            "text/plain": [
              "LogisticRegression(random_state=42, solver='liblinear')"
            ],
            "text/html": [
              "<style>#sk-container-id-3 {color: black;background-color: white;}#sk-container-id-3 pre{padding: 0;}#sk-container-id-3 div.sk-toggleable {background-color: white;}#sk-container-id-3 label.sk-toggleable__label {cursor: pointer;display: block;width: 100%;margin-bottom: 0;padding: 0.3em;box-sizing: border-box;text-align: center;}#sk-container-id-3 label.sk-toggleable__label-arrow:before {content: \"▸\";float: left;margin-right: 0.25em;color: #696969;}#sk-container-id-3 label.sk-toggleable__label-arrow:hover:before {color: black;}#sk-container-id-3 div.sk-estimator:hover label.sk-toggleable__label-arrow:before {color: black;}#sk-container-id-3 div.sk-toggleable__content {max-height: 0;max-width: 0;overflow: hidden;text-align: left;background-color: #f0f8ff;}#sk-container-id-3 div.sk-toggleable__content pre {margin: 0.2em;color: black;border-radius: 0.25em;background-color: #f0f8ff;}#sk-container-id-3 input.sk-toggleable__control:checked~div.sk-toggleable__content {max-height: 200px;max-width: 100%;overflow: auto;}#sk-container-id-3 input.sk-toggleable__control:checked~label.sk-toggleable__label-arrow:before {content: \"▾\";}#sk-container-id-3 div.sk-estimator input.sk-toggleable__control:checked~label.sk-toggleable__label {background-color: #d4ebff;}#sk-container-id-3 div.sk-label input.sk-toggleable__control:checked~label.sk-toggleable__label {background-color: #d4ebff;}#sk-container-id-3 input.sk-hidden--visually {border: 0;clip: rect(1px 1px 1px 1px);clip: rect(1px, 1px, 1px, 1px);height: 1px;margin: -1px;overflow: hidden;padding: 0;position: absolute;width: 1px;}#sk-container-id-3 div.sk-estimator {font-family: monospace;background-color: #f0f8ff;border: 1px dotted black;border-radius: 0.25em;box-sizing: border-box;margin-bottom: 0.5em;}#sk-container-id-3 div.sk-estimator:hover {background-color: #d4ebff;}#sk-container-id-3 div.sk-parallel-item::after {content: \"\";width: 100%;border-bottom: 1px solid gray;flex-grow: 1;}#sk-container-id-3 div.sk-label:hover label.sk-toggleable__label {background-color: #d4ebff;}#sk-container-id-3 div.sk-serial::before {content: \"\";position: absolute;border-left: 1px solid gray;box-sizing: border-box;top: 0;bottom: 0;left: 50%;z-index: 0;}#sk-container-id-3 div.sk-serial {display: flex;flex-direction: column;align-items: center;background-color: white;padding-right: 0.2em;padding-left: 0.2em;position: relative;}#sk-container-id-3 div.sk-item {position: relative;z-index: 1;}#sk-container-id-3 div.sk-parallel {display: flex;align-items: stretch;justify-content: center;background-color: white;position: relative;}#sk-container-id-3 div.sk-item::before, #sk-container-id-3 div.sk-parallel-item::before {content: \"\";position: absolute;border-left: 1px solid gray;box-sizing: border-box;top: 0;bottom: 0;left: 50%;z-index: -1;}#sk-container-id-3 div.sk-parallel-item {display: flex;flex-direction: column;z-index: 1;position: relative;background-color: white;}#sk-container-id-3 div.sk-parallel-item:first-child::after {align-self: flex-end;width: 50%;}#sk-container-id-3 div.sk-parallel-item:last-child::after {align-self: flex-start;width: 50%;}#sk-container-id-3 div.sk-parallel-item:only-child::after {width: 0;}#sk-container-id-3 div.sk-dashed-wrapped {border: 1px dashed gray;margin: 0 0.4em 0.5em 0.4em;box-sizing: border-box;padding-bottom: 0.4em;background-color: white;}#sk-container-id-3 div.sk-label label {font-family: monospace;font-weight: bold;display: inline-block;line-height: 1.2em;}#sk-container-id-3 div.sk-label-container {text-align: center;}#sk-container-id-3 div.sk-container {/* jupyter's `normalize.less` sets `[hidden] { display: none; }` but bootstrap.min.css set `[hidden] { display: none !important; }` so we also need the `!important` here to be able to override the default hidden behavior on the sphinx rendered scikit-learn.org. See: https://github.com/scikit-learn/scikit-learn/issues/21755 */display: inline-block !important;position: relative;}#sk-container-id-3 div.sk-text-repr-fallback {display: none;}</style><div id=\"sk-container-id-3\" class=\"sk-top-container\"><div class=\"sk-text-repr-fallback\"><pre>LogisticRegression(random_state=42, solver=&#x27;liblinear&#x27;)</pre><b>In a Jupyter environment, please rerun this cell to show the HTML representation or trust the notebook. <br />On GitHub, the HTML representation is unable to render, please try loading this page with nbviewer.org.</b></div><div class=\"sk-container\" hidden><div class=\"sk-item\"><div class=\"sk-estimator sk-toggleable\"><input class=\"sk-toggleable__control sk-hidden--visually\" id=\"sk-estimator-id-3\" type=\"checkbox\" checked><label for=\"sk-estimator-id-3\" class=\"sk-toggleable__label sk-toggleable__label-arrow\">LogisticRegression</label><div class=\"sk-toggleable__content\"><pre>LogisticRegression(random_state=42, solver=&#x27;liblinear&#x27;)</pre></div></div></div></div></div>"
            ]
          },
          "metadata": {},
          "execution_count": 28
        }
      ]
    },
    {
      "cell_type": "code",
      "source": [
        "pred_1 = clf_1.predict(vec_1.transform(X_test))\n",
        "print(classification_report(pred_1, y_test, target_names=['негатив (оценка 1)', 'позитив (оценка 5)']))"
      ],
      "metadata": {
        "colab": {
          "base_uri": "https://localhost:8080/"
        },
        "id": "oYSUfs9QCRoL",
        "outputId": "0b1148df-c3da-4ffc-8fc1-3c707505e04e"
      },
      "execution_count": null,
      "outputs": [
        {
          "output_type": "stream",
          "name": "stdout",
          "text": [
            "                    precision    recall  f1-score   support\n",
            "\n",
            "негатив (оценка 1)       0.99      0.98      0.98       606\n",
            "позитив (оценка 5)       0.90      0.94      0.92       126\n",
            "\n",
            "          accuracy                           0.97       732\n",
            "         macro avg       0.94      0.96      0.95       732\n",
            "      weighted avg       0.97      0.97      0.97       732\n",
            "\n"
          ]
        }
      ]
    },
    {
      "cell_type": "code",
      "source": [
        "vec_2 = CountVectorizer(ngram_range=(2, 2)) # биграмы\n",
        "bow_2 = vec_2.fit_transform(X_train)\n",
        "clf_2 = LogisticRegression(random_state=42)\n",
        "clf_2.fit(bow_2, y_train)\n",
        "pred_2 = clf_2.predict(vec_2.transform(X_test))\n",
        "print(classification_report(pred_2, y_test, target_names=['негатив (оценка 1)', 'позитив (оценка 5)']))"
      ],
      "metadata": {
        "colab": {
          "base_uri": "https://localhost:8080/"
        },
        "id": "xBgHp3pmFhVr",
        "outputId": "3a9218b1-ba42-4caf-c60d-2310a9e8122c"
      },
      "execution_count": null,
      "outputs": [
        {
          "output_type": "stream",
          "name": "stdout",
          "text": [
            "                    precision    recall  f1-score   support\n",
            "\n",
            "негатив (оценка 1)       1.00      0.87      0.93       686\n",
            "позитив (оценка 5)       0.34      0.98      0.51        46\n",
            "\n",
            "          accuracy                           0.88       732\n",
            "         macro avg       0.67      0.93      0.72       732\n",
            "      weighted avg       0.96      0.88      0.90       732\n",
            "\n"
          ]
        }
      ]
    },
    {
      "cell_type": "code",
      "source": [
        "vec_3 = CountVectorizer(ngram_range=(3, 3)) # триграмы\n",
        "bow_3 = vec_3.fit_transform(X_train)\n",
        "clf_3 = LogisticRegression(random_state=42)\n",
        "clf_3.fit(bow_3, y_train)\n",
        "pred_3 = clf_3.predict(vec_3.transform(X_test))\n",
        "print(classification_report(pred_3, y_test, target_names=['негатив (оценка 1)', 'позитив (оценка 5)']))"
      ],
      "metadata": {
        "colab": {
          "base_uri": "https://localhost:8080/"
        },
        "id": "4lGzohXxGXru",
        "outputId": "d72f2cf3-ce4e-4067-d49d-655854ade1cd"
      },
      "execution_count": null,
      "outputs": [
        {
          "output_type": "stream",
          "name": "stdout",
          "text": [
            "                    precision    recall  f1-score   support\n",
            "\n",
            "негатив (оценка 1)       1.00      0.82      0.90       732\n",
            "позитив (оценка 5)       0.00      0.00      0.00         0\n",
            "\n",
            "          accuracy                           0.82       732\n",
            "         macro avg       0.50      0.41      0.45       732\n",
            "      weighted avg       1.00      0.82      0.90       732\n",
            "\n"
          ]
        },
        {
          "output_type": "stream",
          "name": "stderr",
          "text": [
            "/usr/local/lib/python3.10/dist-packages/sklearn/metrics/_classification.py:1344: UndefinedMetricWarning: Recall and F-score are ill-defined and being set to 0.0 in labels with no true samples. Use `zero_division` parameter to control this behavior.\n",
            "  _warn_prf(average, modifier, msg_start, len(result))\n",
            "/usr/local/lib/python3.10/dist-packages/sklearn/metrics/_classification.py:1344: UndefinedMetricWarning: Recall and F-score are ill-defined and being set to 0.0 in labels with no true samples. Use `zero_division` parameter to control this behavior.\n",
            "  _warn_prf(average, modifier, msg_start, len(result))\n",
            "/usr/local/lib/python3.10/dist-packages/sklearn/metrics/_classification.py:1344: UndefinedMetricWarning: Recall and F-score are ill-defined and being set to 0.0 in labels with no true samples. Use `zero_division` parameter to control this behavior.\n",
            "  _warn_prf(average, modifier, msg_start, len(result))\n"
          ]
        }
      ]
    },
    {
      "cell_type": "code",
      "source": [
        "report_1 = classification_report(y_test, pred_1, output_dict=True)\n",
        "df_r_1 = pd.DataFrame(report_1)\n",
        "report_2 = classification_report(y_test, pred_2, output_dict=True)\n",
        "df_r_2 = pd.DataFrame(report_2)\n",
        "report_3 = classification_report(y_test, pred_3, output_dict=True)\n",
        "df_r_3 = pd.DataFrame(report_3)"
      ],
      "metadata": {
        "id": "gIVUjrQiS8h0"
      },
      "execution_count": null,
      "outputs": []
    },
    {
      "cell_type": "code",
      "source": [
        "test_1=pd.Series(df_r_1[2:3]['macro avg'], name='униграмы')\n",
        "test_1=pd.DataFrame(test_1)\n",
        "test_2=pd.Series(df_r_2[2:3]['macro avg'], name='биграмы')\n",
        "test_2=pd.DataFrame(test_2)\n",
        "test_3=pd.Series(df_r_3[2:3]['macro avg'], name='триграмы')\n",
        "test_3=pd.DataFrame(test_3)\n",
        "test_concat = pd.concat([test_1, test_2,test_3], axis=1)"
      ],
      "metadata": {
        "id": "ZAD-PrsPSm2b"
      },
      "execution_count": null,
      "outputs": []
    },
    {
      "cell_type": "code",
      "source": [
        "test_concat"
      ],
      "metadata": {
        "colab": {
          "base_uri": "https://localhost:8080/",
          "height": 81
        },
        "outputId": "676c170c-5866-4b84-9481-e3adb87ed5b1",
        "id": "ufMTdoifSm2d"
      },
      "execution_count": null,
      "outputs": [
        {
          "output_type": "execute_result",
          "data": {
            "text/plain": [
              "          униграмы   биграмы  триграмы\n",
              "f1-score  0.952948  0.718594   0.45045"
            ],
            "text/html": [
              "\n",
              "  <div id=\"df-91805301-95ab-426d-8b6f-1d1eff1f1905\">\n",
              "    <div class=\"colab-df-container\">\n",
              "      <div>\n",
              "<style scoped>\n",
              "    .dataframe tbody tr th:only-of-type {\n",
              "        vertical-align: middle;\n",
              "    }\n",
              "\n",
              "    .dataframe tbody tr th {\n",
              "        vertical-align: top;\n",
              "    }\n",
              "\n",
              "    .dataframe thead th {\n",
              "        text-align: right;\n",
              "    }\n",
              "</style>\n",
              "<table border=\"1\" class=\"dataframe\">\n",
              "  <thead>\n",
              "    <tr style=\"text-align: right;\">\n",
              "      <th></th>\n",
              "      <th>униграмы</th>\n",
              "      <th>биграмы</th>\n",
              "      <th>триграмы</th>\n",
              "    </tr>\n",
              "  </thead>\n",
              "  <tbody>\n",
              "    <tr>\n",
              "      <th>f1-score</th>\n",
              "      <td>0.952948</td>\n",
              "      <td>0.718594</td>\n",
              "      <td>0.45045</td>\n",
              "    </tr>\n",
              "  </tbody>\n",
              "</table>\n",
              "</div>\n",
              "      <button class=\"colab-df-convert\" onclick=\"convertToInteractive('df-91805301-95ab-426d-8b6f-1d1eff1f1905')\"\n",
              "              title=\"Convert this dataframe to an interactive table.\"\n",
              "              style=\"display:none;\">\n",
              "        \n",
              "  <svg xmlns=\"http://www.w3.org/2000/svg\" height=\"24px\"viewBox=\"0 0 24 24\"\n",
              "       width=\"24px\">\n",
              "    <path d=\"M0 0h24v24H0V0z\" fill=\"none\"/>\n",
              "    <path d=\"M18.56 5.44l.94 2.06.94-2.06 2.06-.94-2.06-.94-.94-2.06-.94 2.06-2.06.94zm-11 1L8.5 8.5l.94-2.06 2.06-.94-2.06-.94L8.5 2.5l-.94 2.06-2.06.94zm10 10l.94 2.06.94-2.06 2.06-.94-2.06-.94-.94-2.06-.94 2.06-2.06.94z\"/><path d=\"M17.41 7.96l-1.37-1.37c-.4-.4-.92-.59-1.43-.59-.52 0-1.04.2-1.43.59L10.3 9.45l-7.72 7.72c-.78.78-.78 2.05 0 2.83L4 21.41c.39.39.9.59 1.41.59.51 0 1.02-.2 1.41-.59l7.78-7.78 2.81-2.81c.8-.78.8-2.07 0-2.86zM5.41 20L4 18.59l7.72-7.72 1.47 1.35L5.41 20z\"/>\n",
              "  </svg>\n",
              "      </button>\n",
              "      \n",
              "  <style>\n",
              "    .colab-df-container {\n",
              "      display:flex;\n",
              "      flex-wrap:wrap;\n",
              "      gap: 12px;\n",
              "    }\n",
              "\n",
              "    .colab-df-convert {\n",
              "      background-color: #E8F0FE;\n",
              "      border: none;\n",
              "      border-radius: 50%;\n",
              "      cursor: pointer;\n",
              "      display: none;\n",
              "      fill: #1967D2;\n",
              "      height: 32px;\n",
              "      padding: 0 0 0 0;\n",
              "      width: 32px;\n",
              "    }\n",
              "\n",
              "    .colab-df-convert:hover {\n",
              "      background-color: #E2EBFA;\n",
              "      box-shadow: 0px 1px 2px rgba(60, 64, 67, 0.3), 0px 1px 3px 1px rgba(60, 64, 67, 0.15);\n",
              "      fill: #174EA6;\n",
              "    }\n",
              "\n",
              "    [theme=dark] .colab-df-convert {\n",
              "      background-color: #3B4455;\n",
              "      fill: #D2E3FC;\n",
              "    }\n",
              "\n",
              "    [theme=dark] .colab-df-convert:hover {\n",
              "      background-color: #434B5C;\n",
              "      box-shadow: 0px 1px 3px 1px rgba(0, 0, 0, 0.15);\n",
              "      filter: drop-shadow(0px 1px 2px rgba(0, 0, 0, 0.3));\n",
              "      fill: #FFFFFF;\n",
              "    }\n",
              "  </style>\n",
              "\n",
              "      <script>\n",
              "        const buttonEl =\n",
              "          document.querySelector('#df-91805301-95ab-426d-8b6f-1d1eff1f1905 button.colab-df-convert');\n",
              "        buttonEl.style.display =\n",
              "          google.colab.kernel.accessAllowed ? 'block' : 'none';\n",
              "\n",
              "        async function convertToInteractive(key) {\n",
              "          const element = document.querySelector('#df-91805301-95ab-426d-8b6f-1d1eff1f1905');\n",
              "          const dataTable =\n",
              "            await google.colab.kernel.invokeFunction('convertToInteractive',\n",
              "                                                     [key], {});\n",
              "          if (!dataTable) return;\n",
              "\n",
              "          const docLinkHtml = 'Like what you see? Visit the ' +\n",
              "            '<a target=\"_blank\" href=https://colab.research.google.com/notebooks/data_table.ipynb>data table notebook</a>'\n",
              "            + ' to learn more about interactive tables.';\n",
              "          element.innerHTML = '';\n",
              "          dataTable['output_type'] = 'display_data';\n",
              "          await google.colab.output.renderOutput(dataTable, element);\n",
              "          const docLink = document.createElement('div');\n",
              "          docLink.innerHTML = docLinkHtml;\n",
              "          element.appendChild(docLink);\n",
              "        }\n",
              "      </script>\n",
              "    </div>\n",
              "  </div>\n",
              "  "
            ]
          },
          "metadata": {},
          "execution_count": 57
        }
      ]
    },
    {
      "cell_type": "markdown",
      "source": [
        "Лучший результат показали униграмы. Это может быть связано с тем, что я использовала сильно уменьшенный объем данных."
      ],
      "metadata": {
        "id": "xh0sAJOVVyWS"
      }
    },
    {
      "cell_type": "markdown",
      "source": [
        "## 3. Сравните, как изменяется качество решения задачи при использовании скрытых тем в качестве признаков:\n",
        "\n",
        "\n",
        "*   1-ый вариант: tf−idf преобразование (sklearn.feature_extraction.text.TfidfTransformer) и сингулярное разложение (оно же – латентый семантический анализ) (sklearn.decomposition.TruncatedSVD),\n",
        "*   2-ой вариант: тематические модели LDA (sklearn.decomposition.LatentDirichletAllocation). Используйте accuracy и F-measure для оценки качества классификации.\n",
        "\n",
        "\n",
        "В ноутбуке, размещенном в папке репозитория. написан примерный Pipeline для классификации текстов.\n",
        "\n",
        "Эта часть задания может быть сделана с использованием sklearn.\n",
        "\n"
      ],
      "metadata": {
        "id": "VO4lppaHzlK3"
      }
    },
    {
      "cell_type": "code",
      "source": [
        "from sklearn.pipeline import Pipeline # pipeline позволяет объединить в один блок трансформер и модель, что упрощает написание кода и улучшает его читаемость\n",
        "from sklearn.feature_extraction.text import TfidfVectorizer # TfidfVectorizer преобразует тексты в числовые вектора, отражающие важность использования каждого слова из некоторого набора слов (количество слов набора определяет размерность вектора) в каждом тексте\n",
        "from sklearn.model_selection import RandomizedSearchCV\n",
        "from sklearn import metrics\n",
        "from sklearn.model_selection import GridSearchCV # модуль поиска по сетке параметров\n",
        "from sklearn.feature_extraction.text import CountVectorizer, TfidfTransformer\n",
        "from sklearn.decomposition import TruncatedSVD, LatentDirichletAllocation\n",
        "from sklearn.ensemble import RandomForestClassifier"
      ],
      "metadata": {
        "id": "DPrjRUgHYUYX"
      },
      "execution_count": null,
      "outputs": []
    },
    {
      "cell_type": "markdown",
      "source": [
        "### c класификатором из п.3.2"
      ],
      "metadata": {
        "id": "9LAr57jbzCgK"
      }
    },
    {
      "cell_type": "markdown",
      "source": [
        "Чтобы создать конвейер, нам нужен список пар (ключ, значение), где ключ — это строка, содержащая то, что вы хотите назвать шагом, а значение — это объект оценки. Каждый шаг этого конвейера должен быть преобразователем, за исключением последнего шага, который может быть оценочного типа."
      ],
      "metadata": {
        "id": "WKTKRZ97kIxV"
      }
    },
    {
      "cell_type": "code",
      "source": [
        "ppl_clf_1 = Pipeline([\n",
        "    ('vect', CountVectorizer()),\n",
        "    ('tfidf', TfidfTransformer()),\n",
        "    ('tm', TruncatedSVD()),\n",
        "    ('clf', LogisticRegression(random_state=42))])\n",
        "ppl_clf_2 = Pipeline([\n",
        "    ('vect', CountVectorizer()),\n",
        "    ('lda', LatentDirichletAllocation()),\n",
        "    ('clf', LogisticRegression(random_state=42))])"
      ],
      "metadata": {
        "id": "0xdeJkS-lw1d"
      },
      "execution_count": null,
      "outputs": []
    },
    {
      "cell_type": "code",
      "source": [
        "ppl_clf_1.fit(X_train, y_train)\n",
        "ppl_clf_2.fit(X_train, y_train)"
      ],
      "metadata": {
        "id": "iuYzFsqtuZ2K"
      },
      "execution_count": null,
      "outputs": []
    },
    {
      "cell_type": "code",
      "source": [
        "pred_ppl_clf_1 = ppl_clf_1.predict(X_test)\n",
        "print(classification_report(pred_ppl_clf_1, y_test, target_names=['негатив (оценка 1)', 'позитив (оценка 5)']))"
      ],
      "metadata": {
        "colab": {
          "base_uri": "https://localhost:8080/"
        },
        "id": "s9724W2yvuwN",
        "outputId": "921a9da3-177b-4bf5-de80-2597231d1855"
      },
      "execution_count": null,
      "outputs": [
        {
          "output_type": "stream",
          "name": "stdout",
          "text": [
            "                    precision    recall  f1-score   support\n",
            "\n",
            "негатив (оценка 1)       1.00      0.82      0.90       732\n",
            "позитив (оценка 5)       0.00      0.00      0.00         0\n",
            "\n",
            "          accuracy                           0.82       732\n",
            "         macro avg       0.50      0.41      0.45       732\n",
            "      weighted avg       1.00      0.82      0.90       732\n",
            "\n"
          ]
        },
        {
          "output_type": "stream",
          "name": "stderr",
          "text": [
            "/usr/local/lib/python3.10/dist-packages/sklearn/metrics/_classification.py:1344: UndefinedMetricWarning: Recall and F-score are ill-defined and being set to 0.0 in labels with no true samples. Use `zero_division` parameter to control this behavior.\n",
            "  _warn_prf(average, modifier, msg_start, len(result))\n",
            "/usr/local/lib/python3.10/dist-packages/sklearn/metrics/_classification.py:1344: UndefinedMetricWarning: Recall and F-score are ill-defined and being set to 0.0 in labels with no true samples. Use `zero_division` parameter to control this behavior.\n",
            "  _warn_prf(average, modifier, msg_start, len(result))\n",
            "/usr/local/lib/python3.10/dist-packages/sklearn/metrics/_classification.py:1344: UndefinedMetricWarning: Recall and F-score are ill-defined and being set to 0.0 in labels with no true samples. Use `zero_division` parameter to control this behavior.\n",
            "  _warn_prf(average, modifier, msg_start, len(result))\n"
          ]
        }
      ]
    },
    {
      "cell_type": "code",
      "source": [
        "pred_ppl_clf_2 = ppl_clf_2.predict(X_test)\n",
        "print(classification_report(pred_ppl_clf_2, y_test, target_names=['негатив (оценка 1)', 'позитив (оценка 5)']))"
      ],
      "metadata": {
        "colab": {
          "base_uri": "https://localhost:8080/"
        },
        "id": "25vKiZ0zwKJd",
        "outputId": "83c59924-e3e2-4a07-8320-ce4545c23779"
      },
      "execution_count": null,
      "outputs": [
        {
          "output_type": "stream",
          "name": "stdout",
          "text": [
            "                    precision    recall  f1-score   support\n",
            "\n",
            "негатив (оценка 1)       1.00      0.85      0.92       704\n",
            "позитив (оценка 5)       0.20      0.93      0.32        28\n",
            "\n",
            "          accuracy                           0.85       732\n",
            "         macro avg       0.60      0.89      0.62       732\n",
            "      weighted avg       0.97      0.85      0.89       732\n",
            "\n"
          ]
        }
      ]
    },
    {
      "cell_type": "markdown",
      "source": [
        "В связи с тем, что датасет не сбалансирован, метрику «accuracy» (доля верных ответов) использовать нельзя, так как это приведет к завышенной оценке качества работы классификатора.\n",
        "\n",
        "Для сравнения двух классификаторов использую «macro-avg» (точность, полнота и f-мера).\n",
        "\n",
        "Лучший результат показал классификатор с использованием LDA (0,62 против 0,45)."
      ],
      "metadata": {
        "id": "eCBjYc7-xIzj"
      }
    },
    {
      "cell_type": "markdown",
      "source": [
        "Теперь сравним результаты с вариантами векторизации текста."
      ],
      "metadata": {
        "id": "mJaqsFwD03sG"
      }
    },
    {
      "cell_type": "code",
      "source": [
        "report_4 = classification_report(y_test, pred_ppl_clf_1, output_dict=True)\n",
        "df_r_4 = pd.DataFrame(report_4)\n",
        "report_5 = classification_report(y_test, pred_ppl_clf_2, output_dict=True)\n",
        "df_r_5 = pd.DataFrame(report_5)"
      ],
      "metadata": {
        "id": "KBgcfuP30wz-"
      },
      "execution_count": null,
      "outputs": []
    },
    {
      "cell_type": "code",
      "source": [
        "test_4=pd.Series(df_r_4[2:3]['macro avg'], name='tf-idf + LSI')\n",
        "test_4=pd.DataFrame(test_4)\n",
        "test_5=pd.Series(df_r_5[2:3]['macro avg'], name='LDA')\n",
        "test_5=pd.DataFrame(test_5)\n",
        "test_concat_1 = pd.concat([test_concat, test_4,test_5], axis=1)"
      ],
      "metadata": {
        "id": "JSl25mZi0w0A"
      },
      "execution_count": null,
      "outputs": []
    },
    {
      "cell_type": "code",
      "source": [
        "test_concat_1"
      ],
      "metadata": {
        "colab": {
          "base_uri": "https://localhost:8080/",
          "height": 81
        },
        "id": "mvvFfklV1_zm",
        "outputId": "eae7efe8-e4cc-4d77-a0b7-9003195738b0"
      },
      "execution_count": null,
      "outputs": [
        {
          "output_type": "execute_result",
          "data": {
            "text/plain": [
              "          униграмы   биграмы  триграмы  tf-idf + LSI       LDA\n",
              "f1-score  0.952948  0.718594   0.45045       0.45045  0.621089"
            ],
            "text/html": [
              "\n",
              "  <div id=\"df-b74bb63e-d495-43df-967c-663c60da5557\">\n",
              "    <div class=\"colab-df-container\">\n",
              "      <div>\n",
              "<style scoped>\n",
              "    .dataframe tbody tr th:only-of-type {\n",
              "        vertical-align: middle;\n",
              "    }\n",
              "\n",
              "    .dataframe tbody tr th {\n",
              "        vertical-align: top;\n",
              "    }\n",
              "\n",
              "    .dataframe thead th {\n",
              "        text-align: right;\n",
              "    }\n",
              "</style>\n",
              "<table border=\"1\" class=\"dataframe\">\n",
              "  <thead>\n",
              "    <tr style=\"text-align: right;\">\n",
              "      <th></th>\n",
              "      <th>униграмы</th>\n",
              "      <th>биграмы</th>\n",
              "      <th>триграмы</th>\n",
              "      <th>tf-idf + LSI</th>\n",
              "      <th>LDA</th>\n",
              "    </tr>\n",
              "  </thead>\n",
              "  <tbody>\n",
              "    <tr>\n",
              "      <th>f1-score</th>\n",
              "      <td>0.952948</td>\n",
              "      <td>0.718594</td>\n",
              "      <td>0.45045</td>\n",
              "      <td>0.45045</td>\n",
              "      <td>0.621089</td>\n",
              "    </tr>\n",
              "  </tbody>\n",
              "</table>\n",
              "</div>\n",
              "      <button class=\"colab-df-convert\" onclick=\"convertToInteractive('df-b74bb63e-d495-43df-967c-663c60da5557')\"\n",
              "              title=\"Convert this dataframe to an interactive table.\"\n",
              "              style=\"display:none;\">\n",
              "        \n",
              "  <svg xmlns=\"http://www.w3.org/2000/svg\" height=\"24px\"viewBox=\"0 0 24 24\"\n",
              "       width=\"24px\">\n",
              "    <path d=\"M0 0h24v24H0V0z\" fill=\"none\"/>\n",
              "    <path d=\"M18.56 5.44l.94 2.06.94-2.06 2.06-.94-2.06-.94-.94-2.06-.94 2.06-2.06.94zm-11 1L8.5 8.5l.94-2.06 2.06-.94-2.06-.94L8.5 2.5l-.94 2.06-2.06.94zm10 10l.94 2.06.94-2.06 2.06-.94-2.06-.94-.94-2.06-.94 2.06-2.06.94z\"/><path d=\"M17.41 7.96l-1.37-1.37c-.4-.4-.92-.59-1.43-.59-.52 0-1.04.2-1.43.59L10.3 9.45l-7.72 7.72c-.78.78-.78 2.05 0 2.83L4 21.41c.39.39.9.59 1.41.59.51 0 1.02-.2 1.41-.59l7.78-7.78 2.81-2.81c.8-.78.8-2.07 0-2.86zM5.41 20L4 18.59l7.72-7.72 1.47 1.35L5.41 20z\"/>\n",
              "  </svg>\n",
              "      </button>\n",
              "      \n",
              "  <style>\n",
              "    .colab-df-container {\n",
              "      display:flex;\n",
              "      flex-wrap:wrap;\n",
              "      gap: 12px;\n",
              "    }\n",
              "\n",
              "    .colab-df-convert {\n",
              "      background-color: #E8F0FE;\n",
              "      border: none;\n",
              "      border-radius: 50%;\n",
              "      cursor: pointer;\n",
              "      display: none;\n",
              "      fill: #1967D2;\n",
              "      height: 32px;\n",
              "      padding: 0 0 0 0;\n",
              "      width: 32px;\n",
              "    }\n",
              "\n",
              "    .colab-df-convert:hover {\n",
              "      background-color: #E2EBFA;\n",
              "      box-shadow: 0px 1px 2px rgba(60, 64, 67, 0.3), 0px 1px 3px 1px rgba(60, 64, 67, 0.15);\n",
              "      fill: #174EA6;\n",
              "    }\n",
              "\n",
              "    [theme=dark] .colab-df-convert {\n",
              "      background-color: #3B4455;\n",
              "      fill: #D2E3FC;\n",
              "    }\n",
              "\n",
              "    [theme=dark] .colab-df-convert:hover {\n",
              "      background-color: #434B5C;\n",
              "      box-shadow: 0px 1px 3px 1px rgba(0, 0, 0, 0.15);\n",
              "      filter: drop-shadow(0px 1px 2px rgba(0, 0, 0, 0.3));\n",
              "      fill: #FFFFFF;\n",
              "    }\n",
              "  </style>\n",
              "\n",
              "      <script>\n",
              "        const buttonEl =\n",
              "          document.querySelector('#df-b74bb63e-d495-43df-967c-663c60da5557 button.colab-df-convert');\n",
              "        buttonEl.style.display =\n",
              "          google.colab.kernel.accessAllowed ? 'block' : 'none';\n",
              "\n",
              "        async function convertToInteractive(key) {\n",
              "          const element = document.querySelector('#df-b74bb63e-d495-43df-967c-663c60da5557');\n",
              "          const dataTable =\n",
              "            await google.colab.kernel.invokeFunction('convertToInteractive',\n",
              "                                                     [key], {});\n",
              "          if (!dataTable) return;\n",
              "\n",
              "          const docLinkHtml = 'Like what you see? Visit the ' +\n",
              "            '<a target=\"_blank\" href=https://colab.research.google.com/notebooks/data_table.ipynb>data table notebook</a>'\n",
              "            + ' to learn more about interactive tables.';\n",
              "          element.innerHTML = '';\n",
              "          dataTable['output_type'] = 'display_data';\n",
              "          await google.colab.output.renderOutput(dataTable, element);\n",
              "          const docLink = document.createElement('div');\n",
              "          docLink.innerHTML = docLinkHtml;\n",
              "          element.appendChild(docLink);\n",
              "        }\n",
              "      </script>\n",
              "    </div>\n",
              "  </div>\n",
              "  "
            ]
          },
          "metadata": {},
          "execution_count": 84
        }
      ]
    },
    {
      "cell_type": "markdown",
      "source": [
        "Качество решения задачи ухудшилось"
      ],
      "metadata": {
        "id": "NjM6zuCh2Jxt"
      }
    },
    {
      "cell_type": "markdown",
      "source": [
        "### c класификатором SGDClassifier"
      ],
      "metadata": {
        "id": "Cy8o607nzgaP"
      }
    },
    {
      "cell_type": "code",
      "source": [
        "from sklearn.linear_model import SGDClassifier"
      ],
      "metadata": {
        "id": "1kAToeX02tLR"
      },
      "execution_count": null,
      "outputs": []
    },
    {
      "cell_type": "code",
      "source": [
        "sgd_ppl_clf_1 = Pipeline([\n",
        "    ('vect', CountVectorizer()),\n",
        "    ('tfidf', TfidfTransformer()),\n",
        "    ('tm', TruncatedSVD()),\n",
        "    ('sgd_clf', SGDClassifier(random_state=42))])\n",
        "sgd_ppl_clf_2 = Pipeline([\n",
        "    ('vect', CountVectorizer()),\n",
        "    ('lda', LatentDirichletAllocation()),\n",
        "    ('sgd_clf', SGDClassifier(random_state=42))])"
      ],
      "metadata": {
        "id": "jNBSoRV7zgaR"
      },
      "execution_count": null,
      "outputs": []
    },
    {
      "cell_type": "code",
      "source": [
        "sgd_ppl_clf_1.fit(X_train, y_train)\n",
        "sgd_ppl_clf_2.fit(X_train, y_train)"
      ],
      "metadata": {
        "id": "2TCqUSbbzgaS"
      },
      "execution_count": null,
      "outputs": []
    },
    {
      "cell_type": "code",
      "source": [
        "pred_sgd_ppl_clf_1 = sgd_ppl_clf_1.predict(X_test)\n",
        "print(classification_report(pred_sgd_ppl_clf_1, y_test, target_names=['негатив (оценка 1)', 'позитив (оценка 5)']))"
      ],
      "metadata": {
        "colab": {
          "base_uri": "https://localhost:8080/"
        },
        "outputId": "a10ca365-de25-4d2e-ec5d-8ea8d46e3866",
        "id": "bP-aEHjWzgaT"
      },
      "execution_count": null,
      "outputs": [
        {
          "output_type": "stream",
          "name": "stdout",
          "text": [
            "                    precision    recall  f1-score   support\n",
            "\n",
            "негатив (оценка 1)       1.00      0.82      0.90       732\n",
            "позитив (оценка 5)       0.00      0.00      0.00         0\n",
            "\n",
            "          accuracy                           0.82       732\n",
            "         macro avg       0.50      0.41      0.45       732\n",
            "      weighted avg       1.00      0.82      0.90       732\n",
            "\n"
          ]
        },
        {
          "output_type": "stream",
          "name": "stderr",
          "text": [
            "/usr/local/lib/python3.10/dist-packages/sklearn/metrics/_classification.py:1344: UndefinedMetricWarning: Recall and F-score are ill-defined and being set to 0.0 in labels with no true samples. Use `zero_division` parameter to control this behavior.\n",
            "  _warn_prf(average, modifier, msg_start, len(result))\n",
            "/usr/local/lib/python3.10/dist-packages/sklearn/metrics/_classification.py:1344: UndefinedMetricWarning: Recall and F-score are ill-defined and being set to 0.0 in labels with no true samples. Use `zero_division` parameter to control this behavior.\n",
            "  _warn_prf(average, modifier, msg_start, len(result))\n",
            "/usr/local/lib/python3.10/dist-packages/sklearn/metrics/_classification.py:1344: UndefinedMetricWarning: Recall and F-score are ill-defined and being set to 0.0 in labels with no true samples. Use `zero_division` parameter to control this behavior.\n",
            "  _warn_prf(average, modifier, msg_start, len(result))\n"
          ]
        }
      ]
    },
    {
      "cell_type": "code",
      "source": [
        "pred_sgd_ppl_clf_2 = sgd_ppl_clf_2.predict(X_test)\n",
        "print(classification_report(pred_sgd_ppl_clf_2, y_test, target_names=['негатив (оценка 1)', 'позитив (оценка 5)']))"
      ],
      "metadata": {
        "colab": {
          "base_uri": "https://localhost:8080/"
        },
        "outputId": "e4e8a6ad-5b1b-49de-f690-df2114cf00c2",
        "id": "RG_XodhczgaU"
      },
      "execution_count": null,
      "outputs": [
        {
          "output_type": "stream",
          "name": "stdout",
          "text": [
            "                    precision    recall  f1-score   support\n",
            "\n",
            "негатив (оценка 1)       0.97      0.86      0.91       676\n",
            "позитив (оценка 5)       0.29      0.68      0.40        56\n",
            "\n",
            "          accuracy                           0.85       732\n",
            "         macro avg       0.63      0.77      0.66       732\n",
            "      weighted avg       0.92      0.85      0.87       732\n",
            "\n"
          ]
        }
      ]
    },
    {
      "cell_type": "markdown",
      "source": [
        "Лучший результат показал классификатор с использованием LDA (0,69 против 0,54)."
      ],
      "metadata": {
        "id": "e_x1M_8MzgaV"
      }
    },
    {
      "cell_type": "markdown",
      "source": [
        "Классификатор был обучен с параметрами по умолчанию. Попробуем подобрать оптимальные параметры модели через GridSearchCV. Для доступа к параметрам объекта pipeline необходимо указывать их в виде «название объекта»__«название параметра»."
      ],
      "metadata": {
        "id": "TngVAhrb329O"
      }
    },
    {
      "cell_type": "code",
      "source": [
        "parameters = {\n",
        "              'sgd_clf__loss':['hinge', 'log', 'modified_huber', 'squared_hinge', 'perceptron'],\n",
        "              'sgd_clf__class_weight':[None, 'balanced'],\n",
        "              'sgd_clf__penalty':[None, 'l2', 'l1', 'elasticnet']\n",
        "              #'tfidf__strip_accents':['ascii', 'unicode', None]\n",
        "              #'tfidf__ngram_range':[(1,2), (2,3), (3,4)]\n",
        "              }\n",
        "model_1 = GridSearchCV(sgd_ppl_clf_1, parameters, cv=4, n_jobs=-1).fit(X_train, y_train)\n",
        "model_2 = GridSearchCV(sgd_ppl_clf_2, parameters, cv=4, n_jobs=-1).fit(X_train, y_train)\n",
        "print('Оптимальные параметры для sgd_ppl_clf_1:')\n",
        "print(model_1.best_score_, model_1.best_params_)\n",
        "print('Оптимальные параметры для sgd_ppl_clf_2:')\n",
        "print(model_2.best_score_, model_2.best_params_)"
      ],
      "metadata": {
        "colab": {
          "base_uri": "https://localhost:8080/"
        },
        "id": "IdX9Z1Fb2Tm7",
        "outputId": "f772e25b-f005-4d53-b763-b370d7f0d714"
      },
      "execution_count": null,
      "outputs": [
        {
          "output_type": "stream",
          "name": "stdout",
          "text": [
            "Оптимальные параметры для sgd_ppl_clf_1:\n",
            "0.8196104595097665 {'sgd_clf__class_weight': None, 'sgd_clf__loss': 'hinge', 'sgd_clf__penalty': None}\n",
            "Оптимальные параметры для sgd_ppl_clf_2:\n",
            "0.8684684129084344 {'sgd_clf__class_weight': None, 'sgd_clf__loss': 'log', 'sgd_clf__penalty': 'elasticnet'}\n"
          ]
        },
        {
          "output_type": "stream",
          "name": "stderr",
          "text": [
            "/usr/local/lib/python3.10/dist-packages/sklearn/linear_model/_stochastic_gradient.py:163: FutureWarning: The loss 'log' was deprecated in v1.1 and will be removed in version 1.3. Use `loss='log_loss'` which is equivalent.\n",
            "  warnings.warn(\n"
          ]
        }
      ]
    },
    {
      "cell_type": "code",
      "source": [
        "sgd_ppl_clf_1 = Pipeline([\n",
        "    ('vect', CountVectorizer()),\n",
        "    ('tfidf', TfidfTransformer()),\n",
        "    ('tm', TruncatedSVD()),\n",
        "    ('sgd_clf', SGDClassifier(random_state=42, class_weight=None, loss='hinge', penalty=None))])\n",
        "sgd_ppl_clf_2 = Pipeline([\n",
        "    ('vect', CountVectorizer()),\n",
        "    ('lda', LatentDirichletAllocation()),\n",
        "    ('sgd_clf', SGDClassifier(random_state=42, class_weight=None, loss='log', penalty='elasticnet'))])"
      ],
      "metadata": {
        "id": "uns6ae2YHnxx"
      },
      "execution_count": null,
      "outputs": []
    },
    {
      "cell_type": "code",
      "source": [
        "sgd_ppl_clf_1.fit(X_train, y_train)\n",
        "sgd_ppl_clf_2.fit(X_train, y_train)"
      ],
      "metadata": {
        "id": "mRDM9yoCIiwq"
      },
      "execution_count": null,
      "outputs": []
    },
    {
      "cell_type": "code",
      "source": [
        "pred_sgd_ppl_clf_1 = sgd_ppl_clf_1.predict(X_test)\n",
        "print(classification_report(pred_sgd_ppl_clf_1, y_test, target_names=['негатив (оценка 1)', 'позитив (оценка 5)']))"
      ],
      "metadata": {
        "colab": {
          "base_uri": "https://localhost:8080/"
        },
        "outputId": "6817e025-6a98-407d-c0f8-e4920a047a75",
        "id": "g7UYv3DqIiwr"
      },
      "execution_count": null,
      "outputs": [
        {
          "output_type": "stream",
          "name": "stdout",
          "text": [
            "                    precision    recall  f1-score   support\n",
            "\n",
            "негатив (оценка 1)       1.00      0.82      0.90       732\n",
            "позитив (оценка 5)       0.00      0.00      0.00         0\n",
            "\n",
            "          accuracy                           0.82       732\n",
            "         macro avg       0.50      0.41      0.45       732\n",
            "      weighted avg       1.00      0.82      0.90       732\n",
            "\n"
          ]
        },
        {
          "output_type": "stream",
          "name": "stderr",
          "text": [
            "/usr/local/lib/python3.10/dist-packages/sklearn/metrics/_classification.py:1344: UndefinedMetricWarning: Recall and F-score are ill-defined and being set to 0.0 in labels with no true samples. Use `zero_division` parameter to control this behavior.\n",
            "  _warn_prf(average, modifier, msg_start, len(result))\n",
            "/usr/local/lib/python3.10/dist-packages/sklearn/metrics/_classification.py:1344: UndefinedMetricWarning: Recall and F-score are ill-defined and being set to 0.0 in labels with no true samples. Use `zero_division` parameter to control this behavior.\n",
            "  _warn_prf(average, modifier, msg_start, len(result))\n",
            "/usr/local/lib/python3.10/dist-packages/sklearn/metrics/_classification.py:1344: UndefinedMetricWarning: Recall and F-score are ill-defined and being set to 0.0 in labels with no true samples. Use `zero_division` parameter to control this behavior.\n",
            "  _warn_prf(average, modifier, msg_start, len(result))\n"
          ]
        }
      ]
    },
    {
      "cell_type": "code",
      "source": [
        "pred_sgd_ppl_clf_2 = sgd_ppl_clf_2.predict(X_test)\n",
        "print(classification_report(pred_sgd_ppl_clf_2, y_test, target_names=['негатив (оценка 1)', 'позитив (оценка 5)']))"
      ],
      "metadata": {
        "colab": {
          "base_uri": "https://localhost:8080/"
        },
        "outputId": "c6154556-1ccb-43bf-a1bf-c498c154bbd6",
        "id": "4ZEd_qZ8Iiwt"
      },
      "execution_count": null,
      "outputs": [
        {
          "output_type": "stream",
          "name": "stdout",
          "text": [
            "                    precision    recall  f1-score   support\n",
            "\n",
            "негатив (оценка 1)       0.96      0.86      0.91       674\n",
            "позитив (оценка 5)       0.28      0.64      0.39        58\n",
            "\n",
            "          accuracy                           0.84       732\n",
            "         macro avg       0.62      0.75      0.65       732\n",
            "      weighted avg       0.91      0.84      0.87       732\n",
            "\n"
          ]
        }
      ]
    },
    {
      "cell_type": "markdown",
      "source": [
        "Показатели стали хуже"
      ],
      "metadata": {
        "id": "_Yz45mZFJPLz"
      }
    },
    {
      "cell_type": "markdown",
      "source": [
        "### c класификатором RandomForestClassifier"
      ],
      "metadata": {
        "id": "rkU42rWQ2UVT"
      }
    },
    {
      "cell_type": "code",
      "source": [
        "ppl_clf_1 = Pipeline([\n",
        "    ('vect', CountVectorizer()),\n",
        "    ('tfidf', TfidfTransformer()),\n",
        "    ('tm', TruncatedSVD()),\n",
        "    ('clf', RandomForestClassifier())])\n",
        "ppl_clf_2 = Pipeline([\n",
        "    ('vect', CountVectorizer()),\n",
        "    ('lda', LatentDirichletAllocation()),\n",
        "    ('clf', RandomForestClassifier())])"
      ],
      "metadata": {
        "id": "b1WMgV3i2UVV"
      },
      "execution_count": null,
      "outputs": []
    },
    {
      "cell_type": "code",
      "source": [
        "ppl_clf_1.fit(X_train, y_train)\n",
        "ppl_clf_2.fit(X_train, y_train)"
      ],
      "metadata": {
        "id": "4T7wDcLi2UVW"
      },
      "execution_count": null,
      "outputs": []
    },
    {
      "cell_type": "code",
      "source": [
        "pred_ppl_clf_1 = ppl_clf_1.predict(X_test)\n",
        "print(classification_report(pred_ppl_clf_1, y_test, target_names=['негатив (оценка 1)', 'позитив (оценка 5)']))"
      ],
      "metadata": {
        "colab": {
          "base_uri": "https://localhost:8080/"
        },
        "outputId": "4ce8be1a-97b8-44b7-e560-843fee750063",
        "id": "7YcIHNQ92UVX"
      },
      "execution_count": null,
      "outputs": [
        {
          "output_type": "stream",
          "name": "stdout",
          "text": [
            "                    precision    recall  f1-score   support\n",
            "\n",
            "негатив (оценка 1)       0.94      0.83      0.88       676\n",
            "позитив (оценка 5)       0.14      0.32      0.19        56\n",
            "\n",
            "          accuracy                           0.79       732\n",
            "         macro avg       0.54      0.58      0.54       732\n",
            "      weighted avg       0.88      0.79      0.83       732\n",
            "\n"
          ]
        }
      ]
    },
    {
      "cell_type": "code",
      "source": [
        "pred_ppl_clf_2 = ppl_clf_2.predict(X_test)\n",
        "print(classification_report(pred_ppl_clf_2, y_test, target_names=['негатив (оценка 1)', 'позитив (оценка 5)']))"
      ],
      "metadata": {
        "colab": {
          "base_uri": "https://localhost:8080/"
        },
        "outputId": "8f581e7f-e87b-4742-d2fd-94b3da3d650a",
        "id": "OEruH2xV2UVY"
      },
      "execution_count": null,
      "outputs": [
        {
          "output_type": "stream",
          "name": "stdout",
          "text": [
            "                    precision    recall  f1-score   support\n",
            "\n",
            "негатив (оценка 1)       0.95      0.87      0.91       656\n",
            "позитив (оценка 5)       0.37      0.64      0.47        76\n",
            "\n",
            "          accuracy                           0.85       732\n",
            "         macro avg       0.66      0.76      0.69       732\n",
            "      weighted avg       0.89      0.85      0.87       732\n",
            "\n"
          ]
        }
      ]
    },
    {
      "cell_type": "markdown",
      "source": [
        "Лучший результат показал классификатор с использованием LDA (0,69 против 0,54)."
      ],
      "metadata": {
        "id": "aSZ2nZJT2UVZ"
      }
    }
  ]
}