{
  "nbformat": 4,
  "nbformat_minor": 0,
  "metadata": {
    "kernelspec": {
      "display_name": "Python 3",
      "language": "python",
      "name": "python3"
    },
    "language_info": {
      "codemirror_mode": {
        "name": "ipython",
        "version": 3
      },
      "file_extension": ".py",
      "mimetype": "text/x-python",
      "name": "python",
      "nbconvert_exporter": "python",
      "pygments_lexer": "ipython3",
      "version": "3.7.9"
    },
    "colab": {
      "provenance": [],
      "toc_visible": true
    }
  },
  "cells": [
    {
      "cell_type": "markdown",
      "metadata": {
        "id": "nXOA4pGqoi7p"
      },
      "source": [
        "# Случайные события. Случайные величины\n",
        "\n",
        "Смоделировать игру против лотерейного автомата типа “777”. Игрок платит 1 руб., после чего выпадает случайное целое число, равномерно распределенное от 0 до 999. При некоторых значениях числа игрок получает выигрыш.\n",
        "*   777: 200 руб.\n",
        "*   999: 100 руб.\n",
        "*   555: 50 руб.\n",
        "*   333: 15 руб.\n",
        "*   111: 10 руб.\n",
        "*   *77: 5 руб.\n",
        "*   **7: 3 руб.\n",
        "*   *00: 2 руб.\n",
        "*   **0: 1 руб.\n",
        "\n",
        "звездочка * – любая цифра"
      ]
    },
    {
      "cell_type": "code",
      "metadata": {
        "id": "PGZL3xvVoeTM"
      },
      "source": [
        "import numpy as np"
      ],
      "execution_count": null,
      "outputs": []
    },
    {
      "cell_type": "markdown",
      "metadata": {
        "id": "HKqYmkjsoeTT"
      },
      "source": [
        "## **Выгодна ли игра игроку?**"
      ]
    },
    {
      "cell_type": "code",
      "source": [
        "trials = int(input('Одна попытка стоит 1 руб. Сколько раз планируете играть? Введите количество попыток = '))    # Количество попыток\n",
        "successes = 0       # Количество успехов\n",
        "results = []\n",
        "\n",
        "for i in range(trials):\n",
        "    random_ = np.random.randint(0, 1000)    # Случайное число от 0 до 999\n",
        "    if random_ == 777:\n",
        "        results.append(200)\n",
        "    elif random_ == 999:\n",
        "        results.append(100)\n",
        "    elif random_ == 555:\n",
        "        results.append(50)\n",
        "    elif random_ == 333:\n",
        "        results.append(15)\n",
        "    elif random_ == 111:\n",
        "        results.append(10)\n",
        "    elif random_ % 100 == 77:\n",
        "        results.append(5)\n",
        "    elif random_ % 10 == 7:\n",
        "        results.append(3)\n",
        "    elif random_ % 100 == 00:\n",
        "        results.append(2)\n",
        "    elif random_ % 10 == 0:\n",
        "        results.append(1)\n",
        "    else:\n",
        "        results.append(0)\n",
        "        successes += 1\n",
        "\n",
        "total_res = sum(results) - trials\n",
        "if total_res > 0:\n",
        "    print('Игра выгодна. Выигрыш составит:', total_res, 'руб.')\n",
        "else:\n",
        "    print('Игра не выгодна. Проигрыш составит:', (-total_res), 'руб.')"
      ],
      "metadata": {
        "colab": {
          "base_uri": "https://localhost:8080/"
        },
        "outputId": "ae017d21-8da5-436e-acf2-a51f505951ec",
        "id": "1NcLXDHRHIfw"
      },
      "execution_count": null,
      "outputs": [
        {
          "output_type": "stream",
          "name": "stdout",
          "text": [
            "Одна попытка стоит 1 руб. Сколько раз планируете играть? Введите количество попыток = 1000\n",
            "Игра не выгодна. Проигрыш составит: 442 руб.\n"
          ]
        }
      ]
    },
    {
      "cell_type": "markdown",
      "metadata": {
        "id": "vdLwTuotQkqR"
      },
      "source": [
        "## **Сколько в среднем приобретает или теряет игрок за одну игру?**"
      ]
    },
    {
      "cell_type": "code",
      "source": [
        "games = 30      # Количество игр\n",
        "profit = 0      # Количество прибыли от игры\n",
        "profit_list = []\n",
        "\n",
        "for x in range(games):\n",
        "    trials = 1000000    # Количество попыток в одной игре\n",
        "    successes = 0       # Количество успехов\n",
        "    results = []\n",
        "    for i in range(trials):\n",
        "        random_ = np.random.randint(0, 1000)    # Случайное число от 0 до 999\n",
        "        if random_ == 999:\n",
        "            results.append(100)\n",
        "        elif random_ == 777:\n",
        "            results.append(200)\n",
        "        elif random_ == 555:\n",
        "            results.append(50)\n",
        "        elif random_ == 333:\n",
        "            results.append(15)\n",
        "        elif random_ == 111:\n",
        "            results.append(10)\n",
        "        elif random_ % 100 == 77:\n",
        "            results.append(5)\n",
        "        elif random_ % 10 == 7:\n",
        "            results.append(3)\n",
        "        elif random_ % 100 == 0:\n",
        "            results.append(2)\n",
        "        elif random_ % 10 == 0:\n",
        "            results.append(1)\n",
        "        else:\n",
        "            results.append(0)\n",
        "            successes += 1\n",
        "    profit = sum(results) - trials\n",
        "    profit_list.append(profit)\n",
        "    profit += 1\n",
        "avarage_profit = round(sum(profit_list) / games)\n",
        "if avarage_profit > 0:\n",
        "    print('За одну игру игрок в среднем приобретает:', avarage_profit, 'руб. c', trials, 'руб.')\n",
        "else:\n",
        "    print('За одну игру игрок в среднем теряет:', (-avarage_profit), 'руб. c', trials, 'руб.')"
      ],
      "metadata": {
        "colab": {
          "base_uri": "https://localhost:8080/"
        },
        "outputId": "8abb6e77-43fb-4022-d0a2-878afea26a02",
        "id": "PFeH6Ca2XLq8"
      },
      "execution_count": null,
      "outputs": [
        {
          "output_type": "stream",
          "name": "stdout",
          "text": [
            "За одну игру игрок в среднем теряет: 200921 руб. c 1000000 руб.\n"
          ]
        }
      ]
    },
    {
      "cell_type": "markdown",
      "metadata": {
        "id": "Wp_K6okaop5H"
      },
      "source": [
        "## **Теоретически рассчитать средний выигрыш (проигрыш) и сравнить с результатами моделирования**"
      ]
    },
    {
      "cell_type": "code",
      "source": [
        "# теоретическую вероятность считаем по формуле полной вероятности  P1X1 + P2X2 + … + PnXn (P-вероятность, X-размер выигрыша)\n",
        "# для каждого из выигрышей 200,100,50,15,10 рублей вероятность составит: 1/1000=0.001\n",
        "# для выигрыша 5 рублей вероятность составит (комбинации 177,277,377,477,577,677,777,877,977): 9/1000=0.009\n",
        "# для выигрыша 3 рубля вероятность составит: (99-9)/1000=0.09\n",
        "# для выигрыша 2 рубля вероятность составит (комбинации 00,100,200,300,400,500,600,700,800,900): 10/1000=0.01\n",
        "# для выигрыша 1 рубль вероятность составит: (100-10)/1000=0.09\n",
        "res = 0.001*(200 + 100 + 50 + 15 + 10) + 0.009*5 + 0.09*3 + 0.01*2 + 0.09*1\n",
        "\n",
        "p_monte_carlo = successes / trials    # Вероятность из моделирования = количество успехов / количество попыток\n",
        "\n",
        "print(successes, trials, p_monte_carlo, res)"
      ],
      "metadata": {
        "colab": {
          "base_uri": "https://localhost:8080/"
        },
        "id": "tndJen02Axma",
        "outputId": "4e178786-f506-46d8-e088-d8f89fac0a98"
      },
      "execution_count": null,
      "outputs": [
        {
          "output_type": "stream",
          "name": "stdout",
          "text": [
            "795724 1000000 0.795724 0.7999999999999999\n"
          ]
        }
      ]
    }
  ]
}