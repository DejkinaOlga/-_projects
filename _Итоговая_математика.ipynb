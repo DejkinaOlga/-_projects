{
  "nbformat": 4,
  "nbformat_minor": 0,
  "metadata": {
    "colab": {
      "provenance": [],
      "toc_visible": true,
      "collapsed_sections": [
        "oqkNh7vxF-CW",
        "ZkXOvzyQDyFW",
        "tw_RI88mWiBA",
        "tLrK2j-UKu1E"
      ]
    },
    "kernelspec": {
      "name": "python3",
      "display_name": "Python 3"
    },
    "language_info": {
      "name": "python"
    }
  },
  "cells": [
    {
      "cell_type": "code",
      "execution_count": null,
      "metadata": {
        "id": "y2KhN23bFPFn"
      },
      "outputs": [],
      "source": [
        "import matplotlib.pyplot as plt\n",
        "import numpy as np\n",
        "import pandas as pd\n",
        "from scipy.optimize import differential_evolution\n",
        "from scipy.optimize import minimize\n",
        "from scipy.stats import norm\n",
        "from scipy.optimize import curve_fit\n",
        "from numpy import linalg as LA\n",
        "%matplotlib inline"
      ]
    },
    {
      "cell_type": "markdown",
      "source": [
        "# Задание 1\n",
        "\n"
      ],
      "metadata": {
        "id": "oqkNh7vxF-CW"
      }
    },
    {
      "cell_type": "markdown",
      "source": [
        "Вычислите производную функции:\n",
        "![image.png](data:image/png;base64,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)\n",
        "![image (1).png](data:image/png;base64,iVBORw0KGgoAAAANSUhEUgAAAHQAAAAfCAYAAAA2qem+AAAAAXNSR0IArs4c6QAAAARnQU1BAACxjwv8YQUAAAAJcEhZcwAADsMAAA7DAcdvqGQAAAQQSURBVGhD7ZpRaFtVGMf/OkHwITIhZYMGvKFsYPJiBEPKwIGwjGD3YIsg6RT1wcZMVwhsdcxGhgYEw+KWWFH3oKswRyY0xbmAugclJUhuQRKxrBYlgRYLSvcgDSjH79x7bpp7m9aMWroezg8u93zfOfc7N/3f+78nN72HEVBIw71ir5AEJahkKEElQwkqGUpQyVCCSoYSVDKUoHcBzaUZfHxqDIWGSGwBJegOUvtkGMPRYUSfjSKVb2D1H9GxBZSgO4jv+UlMfjaJM0+LxP+AElQy/kPQZRROeOH1tm0nCpRdz/J0zD7ONtZZJ4bCktFhoF/0IjbdXlVHrjXGPDY3a3QASwXEqMbaeEfti7rId6KJ+ek0Rs8kMRY9gtiHV+nZFUPy1It44rxOvbuf+8R+UxLXFhB/lLf4Hy+I8ekQJgbcRp+Fe2ACCwPUmM3Be8mDcvYYzBHmMaMH81jIBoyMMaY/h96FOESmO7iY/aPwO87nq3CZavPZzDg3a/Xbuf1NCm/+fBTvp0JwzaThjabR88EEfFeGcPmnx1B7JQAfzZF8qwrfIeDmrAeJd47Dd78o0KKJ2pUkLv8owk1x4+hrCRzeJ8Lthv/asjG/s6m4xrK6CNfFHdCzTItP0UjB4hQb0bKsIkITe53KBY2NFFpHEBWW1UbY1CJvW2N5zjF3p9p8/gv22SxuffkpK9XNdvXSU0zTTrMbfzC2MldipbkVyppzjX/N2yvs5lnneW0P/PNrWpR9/qtIbIGunqHpQcvSgqi/1Pnq35DFOooRDzwiNHGj9yBQbZi26Xk4jGJxhu4vwVIDVdG0SA8Oofpe2T43r400hiy75dtgGphrrNVqoy9yHKFe3lrGL3oNOBzAI3sB14EQQgdcdOPNo3od6HmI2nDB1QMUa/O7yorv0HLN5533e7LPV7s0y/0ehK/XUaem3aQBf6+ZcQ+cQ6YYRNA7asSIhBE2Wy0S1/LAYBAxlNfsnteOZHCuZe+b02zo0P/qQ2hfDRUSrv+sD6QZ8KeOq7obz/iWjfN8kOcs6KK7TTt7fWkslzKFkQ0tzcBpuaKG7Rg+Zp0Nt9PJcq18uw2afV3Z4t8V9u7jdB4vkO1+cZrm19jb361SxypZXpSNF8lmDQu3Pwrsn2V72EHL9SJ40o98t3engRvHsmVk5obabBHI3+mCyCCAeCkDnAyKFTSvnYefx1Zt2lor4nb2eOB/sg+BPSV89IMPmTGy+fNJpN5I4sb+15E4Qja71+14NBDkItyAtwPjxcJzwxib5FEJ6Zd5vLU3RupfUGyYq+RvI3QBRtBaQTtX9HczSlAHzd8cX1tS9LXlAdG5C1CCSoZ69ScZSlDJUIJKhhJUMpSgkqEElQwlqGQoQSVDCSoVwL/pLWZ2htoSDgAAAABJRU5ErkJggg==)"
      ],
      "metadata": {
        "id": "JIIJZ7iLGDes"
      }
    },
    {
      "cell_type": "code",
      "source": [
        "import sympy as sym"
      ],
      "metadata": {
        "id": "GQUEggRLPo1T"
      },
      "execution_count": null,
      "outputs": []
    },
    {
      "cell_type": "code",
      "source": [
        "# определяем аналитические параметры\n",
        "x=sym.Symbol('x')"
      ],
      "metadata": {
        "id": "bVtmIzHKPzkR"
      },
      "execution_count": null,
      "outputs": []
    },
    {
      "cell_type": "code",
      "source": [
        "# задаём функцию\n",
        "def function (x):\n",
        "  return sym.tan(sym.sin(x)+sym.cos(2*x+3))**2"
      ],
      "metadata": {
        "id": "-ZaBgmpsHH_g"
      },
      "execution_count": null,
      "outputs": []
    },
    {
      "cell_type": "code",
      "source": [
        "# первая производная в точке х=1\n",
        "sym.diff(function(x),x).evalf(subs={x:1})"
      ],
      "metadata": {
        "colab": {
          "base_uri": "https://localhost:8080/"
        },
        "id": "2KMTeIZdVBf-",
        "outputId": "b495a4d0-4223-4e28-b5fb-6d9c9578f3b3"
      },
      "execution_count": null,
      "outputs": [
        {
          "output_type": "execute_result",
          "data": {
            "text/plain": [
              "55.3859176353379"
            ],
            "text/latex": "$\\displaystyle 55.3859176353379$"
          },
          "metadata": {},
          "execution_count": 5
        }
      ]
    },
    {
      "cell_type": "markdown",
      "source": [
        "# Задание 2"
      ],
      "metadata": {
        "id": "RL6vp6wjGbkC"
      }
    },
    {
      "cell_type": "markdown",
      "source": [
        "Дан объект в 2D пространстве"
      ],
      "metadata": {
        "id": "l8YkS25_yiNX"
      }
    },
    {
      "cell_type": "code",
      "source": [
        "import numpy as np\n",
        "import matplotlib.pyplot as plt\n",
        "\n",
        "A = [\n",
        "[-100, -100, 1],\n",
        "[0, 100, 1],\n",
        "[100, -100, 1],\n",
        "[-100, -100, 1]\n",
        "]\n",
        "\n",
        "A = np.array(A)\n",
        "\n",
        "x = A[:,0]\n",
        "y = A[:,1]\n",
        "plt.plot(x, y)\n",
        "plt.ylim([-200, 200])\n",
        "plt.xlim([-200, 200])"
      ],
      "metadata": {
        "colab": {
          "base_uri": "https://localhost:8080/",
          "height": 286
        },
        "id": "EORNNC3wynqH",
        "outputId": "9113646d-f060-41c1-d452-a6d4331f01fe"
      },
      "execution_count": null,
      "outputs": [
        {
          "output_type": "execute_result",
          "data": {
            "text/plain": [
              "(-200.0, 200.0)"
            ]
          },
          "metadata": {},
          "execution_count": 6
        },
        {
          "output_type": "display_data",
          "data": {
            "text/plain": [
              "<Figure size 432x288 with 1 Axes>"
            ],
            "image/png": "[encoded data removed]"
          },
          "metadata": {
            "needs_background": "light"
          }
        }
      ]
    },
    {
      "cell_type": "markdown",
      "source": [
        "При помощи матричных операций выполните:\n",
        "\n",
        "Смещение объекта и масштабирование (применить 2 матрицы трансформаций). Смещение на (200, 300) и масштабирование на (0.5, 1.2)"
      ],
      "metadata": {
        "id": "kD3-7PDwy0rO"
      }
    },
    {
      "cell_type": "markdown",
      "source": [
        "Операции преобразования выполняются вместе, так как указаны значения изменения по измерения объекта, соответсвенно, для смещения на (200, 300) можно просто A + [200, 300, 0] или матрица [[1, 0, 200],[0, 1, 300], [0, 0, 0]], а для масштабирования на (0.5, 1.2) поможет [[0.5, 0, 0], [0, 1.2, 0], [0, 0, 1]], засчитано."
      ],
      "metadata": {
        "id": "UE1ha-MMIIrg"
      }
    },
    {
      "cell_type": "code",
      "source": [
        "# матрица переноса\n",
        "A1 = [\n",
        "[1, 0, 200],\n",
        "[0, 1, 300],\n",
        "[0, 0, 0],\n",
        "]\n",
        "\n",
        "A1 = np.array(A1)"
      ],
      "metadata": {
        "id": "tDBEf4jSI43p"
      },
      "execution_count": null,
      "outputs": []
    },
    {
      "cell_type": "code",
      "source": [
        "tt1=A@A1\n",
        "tt1"
      ],
      "metadata": {
        "colab": {
          "base_uri": "https://localhost:8080/"
        },
        "id": "phR5PKoH-dVZ",
        "outputId": "ece39431-662c-4958-edcb-45364c31ef0f"
      },
      "execution_count": null,
      "outputs": [
        {
          "output_type": "execute_result",
          "data": {
            "text/plain": [
              "array([[  -100,   -100, -50000],\n",
              "       [     0,    100,  30000],\n",
              "       [   100,   -100, -10000],\n",
              "       [  -100,   -100, -50000]])"
            ]
          },
          "metadata": {},
          "execution_count": 8
        }
      ]
    },
    {
      "cell_type": "code",
      "source": [
        "x = tt1[:,0]\n",
        "y = tt1[:,1]\n",
        "plt.plot(x, y)\n",
        "plt.grid()\n",
        "plt.ylim([-500, 500])\n",
        "plt.xlim([-500, 500])\n"
      ],
      "metadata": {
        "colab": {
          "base_uri": "https://localhost:8080/",
          "height": 282
        },
        "id": "ZXiSxkFY-y8I",
        "outputId": "c5656375-13c1-4267-f402-da04aa61f883"
      },
      "execution_count": null,
      "outputs": [
        {
          "output_type": "execute_result",
          "data": {
            "text/plain": [
              "(-500.0, 500.0)"
            ]
          },
          "metadata": {},
          "execution_count": 9
        },
        {
          "output_type": "display_data",
          "data": {
            "text/plain": [
              "<Figure size 432x288 with 1 Axes>"
            ],
            "image/png": "[encoded data removed]"
          },
          "metadata": {
            "needs_background": "light"
          }
        }
      ]
    },
    {
      "cell_type": "code",
      "source": [
        "# матрица масштабирования\n",
        "A2 = [\n",
        "[0.5, 0, 0],\n",
        "[0, 1.2, 0],\n",
        "[0, 0, 1],\n",
        "]\n",
        "\n",
        "A2 = np.array(A2)\n"
      ],
      "metadata": {
        "id": "7VoGSlJwBjIP"
      },
      "execution_count": null,
      "outputs": []
    },
    {
      "cell_type": "code",
      "source": [
        "tt2=tt1@A2\n",
        "tt2"
      ],
      "metadata": {
        "colab": {
          "base_uri": "https://localhost:8080/"
        },
        "id": "7ehj7QhOCTkF",
        "outputId": "1a8be8d8-faa5-406e-ff38-41caa9104c46"
      },
      "execution_count": null,
      "outputs": [
        {
          "output_type": "execute_result",
          "data": {
            "text/plain": [
              "array([[   -50.,   -120., -50000.],\n",
              "       [     0.,    120.,  30000.],\n",
              "       [    50.,   -120., -10000.],\n",
              "       [   -50.,   -120., -50000.]])"
            ]
          },
          "metadata": {},
          "execution_count": 11
        }
      ]
    },
    {
      "cell_type": "code",
      "source": [
        "x = tt2[:,0]\n",
        "y = tt2[:,1]\n",
        "plt.plot(x, y)\n",
        "plt.grid()\n",
        "plt.ylim([-500, 500])\n",
        "plt.xlim([-500, 500])"
      ],
      "metadata": {
        "colab": {
          "base_uri": "https://localhost:8080/",
          "height": 282
        },
        "id": "uNBVCN3RCvTZ",
        "outputId": "3f25df7a-51fb-46b7-c405-892019540ec1"
      },
      "execution_count": null,
      "outputs": [
        {
          "output_type": "execute_result",
          "data": {
            "text/plain": [
              "(-500.0, 500.0)"
            ]
          },
          "metadata": {},
          "execution_count": 12
        },
        {
          "output_type": "display_data",
          "data": {
            "text/plain": [
              "<Figure size 432x288 with 1 Axes>"
            ],
            "image/png": "[encoded data removed]"
          },
          "metadata": {
            "needs_background": "light"
          }
        }
      ]
    },
    {
      "cell_type": "markdown",
      "source": [
        "# Задание 3"
      ],
      "metadata": {
        "id": "ZkXOvzyQDyFW"
      }
    },
    {
      "cell_type": "markdown",
      "source": [
        "Найдите собственные значения и собственные вектора матрицы:"
      ],
      "metadata": {
        "id": "ypsvqtUFD1H0"
      }
    },
    {
      "cell_type": "code",
      "source": [
        "m = np.array([[1, 4],\n",
        "              [1, 1]])\n",
        "print(m)"
      ],
      "metadata": {
        "colab": {
          "base_uri": "https://localhost:8080/"
        },
        "id": "NYysi0B1D-1y",
        "outputId": "13a9840b-2491-4e3a-b7f1-0b806dbd42fd"
      },
      "execution_count": null,
      "outputs": [
        {
          "output_type": "stream",
          "name": "stdout",
          "text": [
            "[[1 4]\n",
            " [1 1]]\n"
          ]
        }
      ]
    },
    {
      "cell_type": "code",
      "source": [
        "# находим собственные значения матрицы\n",
        "np.linalg.eigvals(m)"
      ],
      "metadata": {
        "colab": {
          "base_uri": "https://localhost:8080/"
        },
        "id": "1G4zA-QfVg7x",
        "outputId": "21188664-8e8e-4358-e866-f05a24d572d8"
      },
      "execution_count": null,
      "outputs": [
        {
          "output_type": "execute_result",
          "data": {
            "text/plain": [
              "array([ 3., -1.])"
            ]
          },
          "metadata": {},
          "execution_count": 14
        }
      ]
    },
    {
      "cell_type": "code",
      "source": [
        "# находим собственные вектора матрицы (вторая позиция)\n",
        "np.linalg.eig(m)"
      ],
      "metadata": {
        "colab": {
          "base_uri": "https://localhost:8080/"
        },
        "id": "D5QqJ15aV-uy",
        "outputId": "fe014008-9553-4aea-f4a9-297c3451fcdf"
      },
      "execution_count": null,
      "outputs": [
        {
          "output_type": "execute_result",
          "data": {
            "text/plain": [
              "(array([ 3., -1.]), array([[ 0.89442719, -0.89442719],\n",
              "        [ 0.4472136 ,  0.4472136 ]]))"
            ]
          },
          "metadata": {},
          "execution_count": 15
        }
      ]
    },
    {
      "cell_type": "code",
      "source": [
        "# переводим нормализованный вид вектора к удобному виду\n",
        "res=np.linalg.eig(m)\n",
        "res1=res[1]\n",
        "res2=np.transpose(res1)"
      ],
      "metadata": {
        "id": "x1cO2_8DqAMX"
      },
      "execution_count": null,
      "outputs": []
    },
    {
      "cell_type": "code",
      "source": [
        "res2[0], res2[1]"
      ],
      "metadata": {
        "colab": {
          "base_uri": "https://localhost:8080/"
        },
        "id": "9Z08RSEMshwS",
        "outputId": "c7979387-c0e9-4ee5-cbe4-c7d3ed2c66dd"
      },
      "execution_count": null,
      "outputs": [
        {
          "output_type": "execute_result",
          "data": {
            "text/plain": [
              "(array([0.89442719, 0.4472136 ]), array([-0.89442719,  0.4472136 ]))"
            ]
          },
          "metadata": {},
          "execution_count": 17
        }
      ]
    },
    {
      "cell_type": "code",
      "source": [
        "# каждый элемент вектора делим на одно из его значений\n",
        "np.round(res2[0]/0.4472136,0)"
      ],
      "metadata": {
        "colab": {
          "base_uri": "https://localhost:8080/"
        },
        "id": "J3eFUJw4qrQ0",
        "outputId": "0ed9d745-b722-4526-fbfc-0fd1a500d4f4"
      },
      "execution_count": null,
      "outputs": [
        {
          "output_type": "execute_result",
          "data": {
            "text/plain": [
              "array([2., 1.])"
            ]
          },
          "metadata": {},
          "execution_count": 18
        }
      ]
    },
    {
      "cell_type": "code",
      "source": [
        "np.round(res2[1]/0.4472136,0)"
      ],
      "metadata": {
        "colab": {
          "base_uri": "https://localhost:8080/"
        },
        "id": "trNV37DBr5C0",
        "outputId": "3b7d7a21-9f2b-467d-da58-1cf78bdbc93a"
      },
      "execution_count": null,
      "outputs": [
        {
          "output_type": "execute_result",
          "data": {
            "text/plain": [
              "array([-2.,  1.])"
            ]
          },
          "metadata": {},
          "execution_count": 19
        }
      ]
    },
    {
      "cell_type": "markdown",
      "source": [
        "# Задание 4"
      ],
      "metadata": {
        "id": "tw_RI88mWiBA"
      }
    },
    {
      "cell_type": "markdown",
      "source": [
        "Дана функция с неизвестными параметрами a и b, вам также известны значения функции fx в точках x.\n",
        "\n",
        "Найдите оптимальные параметры a, b, минимизирующие абсолютную ошибку error."
      ],
      "metadata": {
        "id": "d61jiULwWnR4"
      }
    },
    {
      "cell_type": "code",
      "source": [
        "def f(x, a, b):\n",
        "    return np.e**a * np.sin(b*x) + x"
      ],
      "metadata": {
        "id": "9wWpepQYWuSf"
      },
      "execution_count": null,
      "outputs": []
    },
    {
      "cell_type": "code",
      "source": [
        "x = np.array([0.        , 0.26315789, 0.52631579, 0.78947368, 1.05263158,\n",
        "              1.31578947, 1.57894737, 1.84210526, 2.10526316, 2.36842105,\n",
        "              2.63157895, 2.89473684, 3.15789474, 3.42105263, 3.68421053,\n",
        "              3.94736842, 4.21052632, 4.47368421, 4.73684211, 5.        ])\n",
        "\n",
        "fx = np.array([  0.        , -12.01819092, -18.90968634, -17.68786571,\n",
        "                -8.7529108 ,   4.27524517,  16.06801336,  21.81250213,\n",
        "                19.22059845,   9.48411207,  -3.22273056, -13.48576488,\n",
        "               -16.91096359, -11.95866834,  -0.58630088,  12.56873816,\n",
        "                22.12489421,  24.20292139,  18.04522521,   6.33211092])"
      ],
      "metadata": {
        "id": "cQUMmeKzXGzx"
      },
      "execution_count": null,
      "outputs": []
    },
    {
      "cell_type": "code",
      "source": [
        "plt.plot(x, fx)\n",
        "plt.show()"
      ],
      "metadata": {
        "colab": {
          "base_uri": "https://localhost:8080/"
        },
        "id": "SmXtt0fmXMgS",
        "outputId": "0ffd7b94-f24e-4081-89f9-f21e0f313979"
      },
      "execution_count": null,
      "outputs": [
        {
          "output_type": "display_data",
          "data": {
            "text/plain": [
              "<Figure size 432x288 with 1 Axes>"
            ],
            "image/png": "[encoded data removed]"
          },
          "metadata": {
            "needs_background": "light"
          }
        }
      ]
    },
    {
      "cell_type": "code",
      "source": [
        "def error(params):\n",
        "    return np.sum(np.abs(fx - f(x, params[0], params[1])))"
      ],
      "metadata": {
        "id": "24v_yUDBXNzp"
      },
      "execution_count": null,
      "outputs": []
    },
    {
      "cell_type": "code",
      "source": [
        "x0=np.array([0,0])\n",
        "res=minimize(error, x0, method='COBYLA', options={'xtol':1e-8, 'disp':True})\n",
        "res"
      ],
      "metadata": {
        "colab": {
          "base_uri": "https://localhost:8080/"
        },
        "id": "_NzoNN78LK8J",
        "outputId": "279c036b-8941-4a93-e69d-c3038a135940"
      },
      "execution_count": null,
      "outputs": [
        {
          "output_type": "stream",
          "name": "stderr",
          "text": [
            "/usr/local/lib/python3.8/dist-packages/scipy/optimize/_minimize.py:629: OptimizeWarning: Unknown solver options: xtol\n",
            "  return _minimize_cobyla(fun, x0, args, constraints, **options)\n"
          ]
        },
        {
          "output_type": "execute_result",
          "data": {
            "text/plain": [
              "     fun: 0.043631576926070004\n",
              "   maxcv: 0.0\n",
              " message: 'Optimization terminated successfully.'\n",
              "    nfev: 152\n",
              "  status: 1\n",
              " success: True\n",
              "       x: array([ 3.0000271 , -2.49993557])"
            ]
          },
          "metadata": {},
          "execution_count": 24
        }
      ]
    },
    {
      "cell_type": "code",
      "source": [
        "params, params_covariance = curve_fit(f, x, fx, p0=([3.0000271 , -2.49993557]), method='trf')\n",
        "a=params[0]\n",
        "b=params[1]\n",
        "a,b"
      ],
      "metadata": {
        "colab": {
          "base_uri": "https://localhost:8080/"
        },
        "id": "P4_OWcNXXqxz",
        "outputId": "2632d7a9-3f78-4367-c3bc-0f69cdfc592c"
      },
      "execution_count": null,
      "outputs": [
        {
          "output_type": "execute_result",
          "data": {
            "text/plain": [
              "(3.0000000005121903, -2.49999999948058)"
            ]
          },
          "metadata": {},
          "execution_count": 25
        }
      ]
    },
    {
      "cell_type": "code",
      "source": [
        "plt.figure(figsize=(12, 8))\n",
        "plt.plot(x, fx, label='неизвестные параметры a и b')\n",
        "plt.plot(x, f(x, a, b), '*', label='оптимальные параметры a и b')\n",
        "plt.legend()\n",
        "plt.show()"
      ],
      "metadata": {
        "colab": {
          "base_uri": "https://localhost:8080/"
        },
        "id": "CUhgRhDpYsCS",
        "outputId": "e3462c01-72f8-4e42-db79-686ff5ab713d"
      },
      "execution_count": null,
      "outputs": [
        {
          "output_type": "display_data",
          "data": {
            "text/plain": [
              "<Figure size 864x576 with 1 Axes>"
            ],
            "image/png": "[encoded data removed]"
          },
          "metadata": {
            "needs_background": "light"
          }
        }
      ]
    },
    {
      "cell_type": "markdown",
      "source": [
        "# Задание 5"
      ],
      "metadata": {
        "id": "z_VBgk9fqWIS"
      }
    },
    {
      "cell_type": "markdown",
      "source": [
        "Дана матрица рейтингов фильмов (строки - пользователи (10 человек), столбцы - фильмы (15 фильмов))"
      ],
      "metadata": {
        "id": "xH5gaCuUqaix"
      }
    },
    {
      "cell_type": "code",
      "source": [
        "raitings = np.array([[ 4,  4,  9,  4,  1,  6, 10,  7,  9,  6,  9,  2,  8,  6,  6],\n",
        "                     [ 9,  2,  5, 10,  7,  8, 10,  5,  6,  2,  1,  6,  8,  9,  7],\n",
        "                     [ 1,  6,  8,  8,  4,  9,  3,  8, 10,  5,  2,  6,  8,  1,  6],\n",
        "                     [ 6,  1,  9,  7,  7,  9,  2,  3,  5,  1,  6,  6,  3,  2,  7],\n",
        "                     [ 3,  7,  3,  5,  7,  9,  9,  6,  2,  9,  1,  2,  8, 10,  6],\n",
        "                     [ 8,  3,  7,  3,  8,  6,  1,  8,  8,  6,  1,  9,  4, 10,  1],\n",
        "                     [ 9,  8,  4,  8,  8, 10,  6,  1,  1,  2,  9,  5,  2,  7,  2],\n",
        "                     [ 4,  1,  6,  4,  3, 10,  4,  4,  2,  8,  7,  9,  3,  8,  3],\n",
        "                     [ 2,  7,  7,  6, 10,  6,  8,  9,  8,  6, 10,  1,  7, 10,  4],\n",
        "                     [ 5, 10,  8,  8,  9,  7,  2,  9,  9, 10,  8,  8,  8,  6, 10]])"
      ],
      "metadata": {
        "id": "3GkPi8OqqfJZ"
      },
      "execution_count": null,
      "outputs": []
    },
    {
      "cell_type": "markdown",
      "source": [
        "Необходимо найти наиболее похожего пользователя по косинусной метрике для каждого из пользователей (ответ: 10 пар вида (x, y), где y - наиболее похожий пользователь на пользователя x)."
      ],
      "metadata": {
        "id": "TOwshhteqtIr"
      }
    },
    {
      "cell_type": "markdown",
      "source": [
        "Подход к решению это формула по которой мы находим косинусную меру np.dot(a, b) / (len_a * len_b), через два цикла, мы можем найти косинусную меру для каждой пары векторов и вывести в качестве результата, пары индекс к индексу, ниже пример реализации:"
      ],
      "metadata": {
        "id": "NXz00YGFKJKc"
      }
    },
    {
      "cell_type": "code",
      "source": [
        "def get_cos(a, b):\n",
        "    len_a = np.linalg.norm(a)\n",
        "    len_b = np.linalg.norm(b)\n",
        "    return np.dot(a, b) / (len_a * len_b)\n",
        "\n",
        "for i in range(len(raitings)):\n",
        "    target = 0\n",
        "    for j in range(len(raitings)):\n",
        "        if i != j:\n",
        "            cos = get_cos(raitings[i], raitings[j])\n",
        "            if cos > target:\n",
        "                target = cos\n",
        "                user = j\n",
        "    print(i, user)"
      ],
      "metadata": {
        "colab": {
          "base_uri": "https://localhost:8080/"
        },
        "id": "-j0ojHuVKRUz",
        "outputId": "351490f9-8bf2-44db-998e-cd55baaf89a4"
      },
      "execution_count": null,
      "outputs": [
        {
          "output_type": "stream",
          "name": "stdout",
          "text": [
            "0 8\n",
            "1 4\n",
            "2 9\n",
            "3 9\n",
            "4 8\n",
            "5 9\n",
            "6 3\n",
            "7 5\n",
            "8 0\n",
            "9 2\n"
          ]
        }
      ]
    }
  ]
}